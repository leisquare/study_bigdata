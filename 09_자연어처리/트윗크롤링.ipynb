{
 "cells": [
  {
   "cell_type": "code",
   "execution_count": 2,
   "metadata": {},
   "outputs": [
    {
     "name": "stdout",
     "output_type": "stream",
     "text": [
      "Collecting twitterscraper\n",
      "  Downloading twitterscraper-1.6.1.tar.gz (14 kB)\n",
      "Collecting coala-utils~=0.5.0\n",
      "  Downloading coala_utils-0.5.1-py3-none-any.whl (20 kB)\n",
      "Collecting bs4\n",
      "  Downloading bs4-0.0.1.tar.gz (1.1 kB)\n",
      "Requirement already satisfied: lxml in c:\\users\\tjoeun\\anaconda3\\lib\\site-packages (from twitterscraper) (4.6.1)\n",
      "Requirement already satisfied: requests in c:\\users\\tjoeun\\anaconda3\\lib\\site-packages (from twitterscraper) (2.24.0)\n",
      "Collecting billiard\n",
      "  Downloading billiard-3.6.3.0-py3-none-any.whl (89 kB)\n",
      "Requirement already satisfied: beautifulsoup4 in c:\\users\\tjoeun\\anaconda3\\lib\\site-packages (from bs4->twitterscraper) (4.6.0)\n",
      "Requirement already satisfied: idna<3,>=2.5 in c:\\users\\tjoeun\\anaconda3\\lib\\site-packages (from requests->twitterscraper) (2.10)\n",
      "Requirement already satisfied: chardet<4,>=3.0.2 in c:\\users\\tjoeun\\anaconda3\\lib\\site-packages (from requests->twitterscraper) (3.0.4)\n",
      "Requirement already satisfied: certifi>=2017.4.17 in c:\\users\\tjoeun\\anaconda3\\lib\\site-packages (from requests->twitterscraper) (2020.6.20)\n",
      "Requirement already satisfied: urllib3!=1.25.0,!=1.25.1,<1.26,>=1.21.1 in c:\\users\\tjoeun\\anaconda3\\lib\\site-packages (from requests->twitterscraper) (1.25.11)\n",
      "Building wheels for collected packages: twitterscraper, bs4\n",
      "  Building wheel for twitterscraper (setup.py): started\n",
      "  Building wheel for twitterscraper (setup.py): finished with status 'done'\n",
      "  Created wheel for twitterscraper: filename=twitterscraper-1.6.1-py3-none-any.whl size=11352 sha256=7886ec77b172c4340d03ae13e6d8772d8eaad7885f8cd1235bf4fc9f99996046\n",
      "  Stored in directory: c:\\users\\tjoeun\\appdata\\local\\pip\\cache\\wheels\\da\\4d\\ce\\0c0e093d6bff5b80e982788d854084121e90e74183a82c1aee\n",
      "  Building wheel for bs4 (setup.py): started\n",
      "  Building wheel for bs4 (setup.py): finished with status 'done'\n",
      "  Created wheel for bs4: filename=bs4-0.0.1-py3-none-any.whl size=1277 sha256=8d67a5d03768068cac6f4136c4f4e9ade98e212df9947062ff73f0e504d0dde0\n",
      "  Stored in directory: c:\\users\\tjoeun\\appdata\\local\\pip\\cache\\wheels\\75\\78\\21\\68b124549c9bdc94f822c02fb9aa3578a669843f9767776bca\n",
      "Successfully built twitterscraper bs4\n",
      "Installing collected packages: coala-utils, bs4, billiard, twitterscraper\n",
      "Successfully installed billiard-3.6.3.0 bs4-0.0.1 coala-utils-0.5.1 twitterscraper-1.6.1\n",
      "Note: you may need to restart the kernel to use updated packages.\n"
     ]
    }
   ],
   "source": [
    "pip install twitterscraper"
   ]
  },
  {
   "cell_type": "code",
   "execution_count": 5,
   "metadata": {},
   "outputs": [],
   "source": [
    "from twitterscraper.query import query_user_info"
   ]
  },
  {
   "cell_type": "code",
   "execution_count": 8,
   "metadata": {},
   "outputs": [
    {
     "ename": "AttributeError",
     "evalue": "'NoneType' object has no attribute 'user'",
     "output_type": "error",
     "traceback": [
      "\u001b[1;31m---------------------------------------------------------------------------\u001b[0m",
      "\u001b[1;31mAttributeError\u001b[0m                            Traceback (most recent call last)",
      "\u001b[1;32m<ipython-input-8-22cf35594ce6>\u001b[0m in \u001b[0;36m<module>\u001b[1;34m\u001b[0m\n\u001b[0;32m      2\u001b[0m \u001b[0muser_info\u001b[0m \u001b[1;33m=\u001b[0m \u001b[0mquery_user_info\u001b[0m\u001b[1;33m(\u001b[0m\u001b[0muser\u001b[0m\u001b[1;33m=\u001b[0m \u001b[0mtwitter_user\u001b[0m\u001b[1;33m)\u001b[0m\u001b[1;33m\u001b[0m\u001b[1;33m\u001b[0m\u001b[0m\n\u001b[0;32m      3\u001b[0m \u001b[1;33m\u001b[0m\u001b[0m\n\u001b[1;32m----> 4\u001b[1;33m \u001b[0mprint\u001b[0m\u001b[1;33m(\u001b[0m\u001b[1;34m\"user : \"\u001b[0m\u001b[1;33m+\u001b[0m\u001b[0muser_info\u001b[0m\u001b[1;33m.\u001b[0m\u001b[0muser\u001b[0m\u001b[1;33m)\u001b[0m\u001b[1;33m\u001b[0m\u001b[1;33m\u001b[0m\u001b[0m\n\u001b[0m\u001b[0;32m      5\u001b[0m \u001b[0mprint\u001b[0m\u001b[1;33m(\u001b[0m\u001b[1;34m\"fullname : \"\u001b[0m\u001b[1;33m+\u001b[0m\u001b[0muser_info\u001b[0m\u001b[1;33m.\u001b[0m\u001b[0mfull_name\u001b[0m\u001b[1;33m)\u001b[0m\u001b[1;33m\u001b[0m\u001b[1;33m\u001b[0m\u001b[0m\n\u001b[0;32m      6\u001b[0m \u001b[0mprint\u001b[0m\u001b[1;33m(\u001b[0m\u001b[1;34m\"location : \"\u001b[0m\u001b[1;33m+\u001b[0m\u001b[0muser_info\u001b[0m\u001b[1;33m.\u001b[0m\u001b[0mlocation\u001b[0m\u001b[1;33m)\u001b[0m\u001b[1;33m\u001b[0m\u001b[1;33m\u001b[0m\u001b[0m\n",
      "\u001b[1;31mAttributeError\u001b[0m: 'NoneType' object has no attribute 'user'"
     ]
    }
   ],
   "source": [
    "\n",
    "twitter_user = \"BTS_twt\"\n",
    "user_info = query_user_info(user= twitter_user)\n",
    "\n",
    "print(\"user : \"+user_info.user)\n",
    "print(\"fullname : \"+user_info.full_name)\n",
    "print(\"location : \"+user_info.location)\n",
    "print(\"blog : \"+user_info.location)\n",
    "print(\"date_joined : \"+user_info.date_joined)\n",
    "print(\"id : \"+user_info.id)\n",
    "print(\"num_of_tweets : \"+str(user_info.tweets))\n",
    "print(\"following : \"+str(user_info.following))\n",
    "print(\"follower : \"+str(user_info.followers))\n",
    "print(\"likes : \"+str(user_info.likes))\n",
    "print(\"lists : \"+str(user_info.lists))"
   ]
  },
  {
   "cell_type": "code",
   "execution_count": 9,
   "metadata": {},
   "outputs": [],
   "source": [
    "from twitterscraper.query import query_tweets_from_user\n",
    "\n",
    "twitter_user = \"BTS_twt\"\n",
    "\n",
    "list_of_tweets = query_tweets_from_user(twitter_user, limit=10)\n",
    "for tweet in list_of_tweets:\n",
    "    print(\"timestamp: \"+str(tweet.timestamp))\n",
    "    print(\"text: \"+tweet.text)"
   ]
  },
  {
   "cell_type": "code",
   "execution_count": 10,
   "metadata": {},
   "outputs": [],
   "source": [
    "import datetime\n",
    "from twitterscraper import query_tweets\n",
    "\n",
    "list_of_tweets = query_tweets('코로나바이러스', begindate=datetime.date(2020,2,1), enddate=datetime.date(2020,2,2), limit=10)\n",
    "\n",
    "for tweet in list_of_tweets:\n",
    "    print(\"screen_name: \"+tweet.screen_name) #사용자아이디\n",
    "    print(\"username: \"+tweet.username) #닉네임\n",
    "    print(\"timestamp: \"+str(tweet.timestamp)) #날짜\n",
    "    print(\"text: \"+tweet.text) #트윗내용"
   ]
  },
  {
   "cell_type": "code",
   "execution_count": null,
   "metadata": {},
   "outputs": [],
   "source": []
  }
 ],
 "metadata": {
  "kernelspec": {
   "display_name": "Python 3",
   "language": "python",
   "name": "python3"
  },
  "language_info": {
   "codemirror_mode": {
    "name": "ipython",
    "version": 3
   },
   "file_extension": ".py",
   "mimetype": "text/x-python",
   "name": "python",
   "nbconvert_exporter": "python",
   "pygments_lexer": "ipython3",
   "version": "3.8.5"
  },
  "toc": {
   "base_numbering": 1,
   "nav_menu": {},
   "number_sections": true,
   "sideBar": true,
   "skip_h1_title": false,
   "title_cell": "Table of Contents",
   "title_sidebar": "Contents",
   "toc_cell": false,
   "toc_position": {},
   "toc_section_display": true,
   "toc_window_display": false
  },
  "varInspector": {
   "cols": {
    "lenName": 16,
    "lenType": 16,
    "lenVar": 40
   },
   "kernels_config": {
    "python": {
     "delete_cmd_postfix": "",
     "delete_cmd_prefix": "del ",
     "library": "var_list.py",
     "varRefreshCmd": "print(var_dic_list())"
    },
    "r": {
     "delete_cmd_postfix": ") ",
     "delete_cmd_prefix": "rm(",
     "library": "var_list.r",
     "varRefreshCmd": "cat(var_dic_list()) "
    }
   },
   "types_to_exclude": [
    "module",
    "function",
    "builtin_function_or_method",
    "instance",
    "_Feature"
   ],
   "window_display": false
  }
 },
 "nbformat": 4,
 "nbformat_minor": 4
}
