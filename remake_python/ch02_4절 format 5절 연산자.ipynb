{
 "cells": [
  {
   "cell_type": "markdown",
   "metadata": {},
   "source": [
    "# 4절. 포맷팅\n",
    "-포맷팅이란 문자, 숫자, 날짜 데이터의 형식을 지정하는 것. <br>\n",
    "-변수와 텍스트를 결합해서 보기 좋은 형식의 새로운 텍스트를 만들 때 사용<br>"
   ]
  },
  {
   "cell_type": "markdown",
   "metadata": {},
   "source": [
    "## 4.1 문자열에 형식 지정"
   ]
  },
  {
   "cell_type": "code",
   "execution_count": 3,
   "metadata": {},
   "outputs": [
    {
     "name": "stdout",
     "output_type": "stream",
     "text": [
      "홍길동 님의 나이는 30 살입니다\n",
      "홍길동 님의 나이는  30 살입니다.\n"
     ]
    }
   ],
   "source": [
    "name = \"홍길동\"\n",
    "age = 30\n",
    "print(name,'님의 나이는',age,'살입니다')\n",
    "print(name,'님의 나이는 ',age,'살입니다.', sep=' ')\n",
    "#변수와 텍스트를 번갈아 사용해 형식을 지정하는 것은 가독성이 떨어지고 코드 작성이 불편."
   ]
  },
  {
   "cell_type": "code",
   "execution_count": 4,
   "metadata": {},
   "outputs": [
    {
     "data": {
      "text/plain": [
       "'홍길동님의 나이는 30살입니다'"
      ]
     },
     "execution_count": 4,
     "metadata": {},
     "output_type": "execute_result"
    }
   ],
   "source": [
    "# 이전 스타일\n",
    "# %s 문자열, %c 문자, %d 정수, %f 실수, %x 16진수, %o 8진수, %% 문자 %\n",
    "\"%s님의 나이는 %d살입니다\"%(name,age)"
   ]
  },
  {
   "cell_type": "code",
   "execution_count": 5,
   "metadata": {},
   "outputs": [
    {
     "data": {
      "text/plain": [
       "'홍길동님의 나이는 30살입니다.'"
      ]
     },
     "execution_count": 5,
     "metadata": {},
     "output_type": "execute_result"
    }
   ],
   "source": [
    "# 새로운 스타일\n",
    "\"{}님의 나이는 {}살입니다.\".format(name,age)"
   ]
  },
  {
   "cell_type": "code",
   "execution_count": 6,
   "metadata": {},
   "outputs": [
    {
     "data": {
      "text/plain": [
       "'홍길동님의 나이는 30살입니다.'"
      ]
     },
     "execution_count": 6,
     "metadata": {},
     "output_type": "execute_result"
    }
   ],
   "source": [
    "\"{1}님의 나이는 {0}살입니다.\".format(age,name)"
   ]
  },
  {
   "cell_type": "markdown",
   "metadata": {},
   "source": [
    "## 4.2 format()함수 문법\n",
    "'{[인덱스]:[공백대체문자][정렬 방법][자릿수][타입]}'.format(변수명)"
   ]
  },
  {
   "cell_type": "code",
   "execution_count": 8,
   "metadata": {},
   "outputs": [],
   "source": [
    "# 인덱스: 출력할 인수의 인덱스(순서)\n",
    "# 정렬방법: <기호 왼쪽정렬, >기호 오른쪽정렬, ^기호: 가운데 정렬\n",
    "# 자릿수: 출력할 자릿수 지정. 변수보다 적은 자릿수가 지정될 경우 무시되고 변수가 다 출력.\n",
    "# 타입: d는 10진수, f는 실수, s는 문자, b는 2진수, a는 8진수, x는 16진수"
   ]
  },
  {
   "cell_type": "code",
   "execution_count": 10,
   "metadata": {},
   "outputs": [
    {
     "name": "stdout",
     "output_type": "stream",
     "text": [
      "이름은?홍길동\n",
      "나이는?23\n",
      "홍길동님의 나이는 23입니다.\n",
      "홍길동님의 나이는 23입니다.\n"
     ]
    }
   ],
   "source": [
    "naem=input('이름은?')\n",
    "age=int(input('나이는?'))\n",
    "print(\"{}님의 나이는 {}입니다.\".format(name,age))\n",
    "print(\"{1}님의 나이는 {0}입니다.\".format(age,name))"
   ]
  },
  {
   "cell_type": "code",
   "execution_count": 11,
   "metadata": {},
   "outputs": [
    {
     "name": "stdout",
     "output_type": "stream",
     "text": [
      "23살 홍길동님은 23살이 참 좋은 걸 알려나.\n"
     ]
    }
   ],
   "source": [
    "print(\"{0}살 {1}님은 {0}살이 참 좋은 걸 알려나.\".format(age,name))"
   ]
  },
  {
   "cell_type": "code",
   "execution_count": 12,
   "metadata": {},
   "outputs": [
    {
     "name": "stdout",
     "output_type": "stream",
     "text": [
      "출력:10,20,10\n"
     ]
    }
   ],
   "source": [
    "#{}만 쓸 경우 변수의 수와 갯수가 맞지 않으면 오류가 발생한다.\n",
    "a,b=10,20\n",
    "print(\"출력:{},{},{}\".format(a,b,a,b)) #많으면 괜찮음, 적으면 오류"
   ]
  },
  {
   "cell_type": "code",
   "execution_count": 13,
   "metadata": {},
   "outputs": [
    {
     "name": "stdout",
     "output_type": "stream",
     "text": [
      "출력: [12345].[     12345],[12345]\n",
      "출력: [Hello].[Hello     ],[Hello]\n"
     ]
    }
   ],
   "source": [
    "# 자릿수 지정: 숫자의 경우 출력할 변수보다 큰 자리수를 지정하면 오른쪽 정렬이 됨.\n",
    "# 문자의 경우 출력할 변수보다 큰 자리수를 지정하면 왼쪽 정렬이 됨.\n",
    "a=12345\n",
    "s=\"Hello\"\n",
    "print(\"출력: [{}].[{:10}],[{:3}]\".format(a,a,a))\n",
    "print(\"출력: [{}].[{:10}],[{:3}]\".format(s,s,s))"
   ]
  },
  {
   "cell_type": "code",
   "execution_count": 14,
   "metadata": {},
   "outputs": [
    {
     "name": "stdout",
     "output_type": "stream",
     "text": [
      "출력\n",
      "10진수-12345,실수 - 12345.000000,2진수-11000000111001, 8진수-30071,16진수-3039,\n"
     ]
    }
   ],
   "source": [
    "a=12345 #숫자의 경우 다양한 진수로 표현\n",
    "print(\"\"\"출력\n",
    "10진수-{:d},실수 - {:f},2진수-{:b}, 8진수-{:o},16진수-{:x},\"\"\".format(a,a,a,a,a))"
   ]
  },
  {
   "cell_type": "code",
   "execution_count": 15,
   "metadata": {},
   "outputs": [
    {
     "name": "stdout",
     "output_type": "stream",
     "text": [
      "출력:[    10],[20    ],[  30  ],\n"
     ]
    }
   ],
   "source": [
    "#정렬방법<>^ \n",
    "#정가운데출력이 안되면 한 칸 왼쪽에서 출력된다.\n",
    "a,b,c=10,20,30 \n",
    "print(\"출력:[{:>6d}],[{:<6d}],[{:^6d}],\".format(a,b,c))"
   ]
  },
  {
   "cell_type": "code",
   "execution_count": 16,
   "metadata": {},
   "outputs": [
    {
     "name": "stdout",
     "output_type": "stream",
     "text": [
      "출력: [$$$$$$$$10],[Hello***************],[Hel_______]\n"
     ]
    }
   ],
   "source": [
    "#인덱스: 공백대체문자 정렬방법 자릿수 타입\n",
    "a=10\n",
    "s=\"Hello\"\n",
    "print(\"출력: [{0:$>10}],[{1:*<20}],[{1:_<10.3}]\".format(a,s))\n",
    "#10.3은 전체 10자리 확보하고, 변수는 3자리만 출력하라는 뜻"
   ]
  },
  {
   "cell_type": "code",
   "execution_count": 18,
   "metadata": {},
   "outputs": [
    {
     "ename": "ValueError",
     "evalue": "Invalid format specifier",
     "output_type": "error",
     "traceback": [
      "\u001b[1;31m---------------------------------------------------------------------------\u001b[0m",
      "\u001b[1;31mValueError\u001b[0m                                Traceback (most recent call last)",
      "\u001b[1;32m<ipython-input-18-e1c56b201345>\u001b[0m in \u001b[0;36m<module>\u001b[1;34m\u001b[0m\n\u001b[0;32m      1\u001b[0m \u001b[1;31m#주의점: 공백대체문자를 지정할 때는 반드시 정렬기호, 자릿수를 표현해야 한다.\u001b[0m\u001b[1;33m\u001b[0m\u001b[1;33m\u001b[0m\u001b[1;33m\u001b[0m\u001b[0m\n\u001b[1;32m----> 2\u001b[1;33m \u001b[0mprint\u001b[0m\u001b[1;33m(\u001b[0m\u001b[1;34m\"{0:$10}/{1:*20}\"\u001b[0m\u001b[1;33m.\u001b[0m\u001b[0mformat\u001b[0m\u001b[1;33m(\u001b[0m\u001b[0ma\u001b[0m\u001b[1;33m,\u001b[0m\u001b[0ms\u001b[0m\u001b[1;33m)\u001b[0m\u001b[1;33m)\u001b[0m \u001b[1;31m#방향지정이 없어서 오류가 뜰 것.\u001b[0m\u001b[1;33m\u001b[0m\u001b[1;33m\u001b[0m\u001b[0m\n\u001b[0m",
      "\u001b[1;31mValueError\u001b[0m: Invalid format specifier"
     ]
    }
   ],
   "source": [
    "#주의점: 공백대체문자를 지정할 때는 반드시 정렬기호, 자릿수를 표현해야 한다.\n",
    "print(\"{0:$10}/{1:*20}\".format(a,s)) #방향지정이 없어서 오류가 뜰 것."
   ]
  },
  {
   "cell_type": "code",
   "execution_count": 19,
   "metadata": {},
   "outputs": [
    {
     "name": "stdout",
     "output_type": "stream",
     "text": [
      "출력: [ -123],[ +123],[  123]\n",
      "출력: [-      123],[+      123],[  123]\n",
      "출력: [-******123],[+000000123],[  123]\n",
      "출력 : [-      123] [+      123] [+000000123]\n",
      "출력 : [-******123] [+$$$$$$123] [+______123]\n"
     ]
    }
   ],
   "source": [
    "#+를 붙이면 양수의 경우 숫자 앞에 부호를 붙여줌.\n",
    "#=를 붙이면 전체 자릿수만큼 출력하는 문자의 맨 앞에 부호가 붙는다.(양수는 부호 나타나지 않음)\n",
    "#나타나게 하려면 =+를 붙인다.\n",
    "#자리수 앞에 0을 채우면 빈자리에 0을 채워준다.(이것은 공백대체문자와는 다름.)\n",
    "#공백대체문자는 =앞에.\n",
    "#공백대체문자와 자리수 앞의 0은 동시사용 불가능. 동시에 쓰면 공백대체문자가 들어간다.\n",
    "a,b=123,-123\n",
    "print(\"출력: [{:5}],[{:+5}],[{:5}]\".format(b,a,a))\n",
    "print(\"출력: [{:=10}],[{:=+10}],[{:=5}]\".format(b,a,a))\n",
    "print(\"출력: [{:*=10}],[{:=+010}],[{:=5}]\".format(b,a,a))\n",
    "print(\"출력 : [{:=+10}] [{:=+10}] [{:=+010}]\".format(b, a, a))\n",
    "\n",
    "print(\"출력 : [{:*=+10}] [{:$=+10}] [{:_=+010}]\".format(b, a, a))"
   ]
  },
  {
   "cell_type": "code",
   "execution_count": 20,
   "metadata": {},
   "outputs": [
    {
     "name": "stdout",
     "output_type": "stream",
     "text": [
      "  [0123456789]\n",
      "a=[       2.8]\n",
      "s=[        he]\n"
     ]
    }
   ],
   "source": [
    "# 전체 자리수, 표현될 자리수\n",
    "a=2.785\n",
    "s=\"hello\"\n",
    "print(\"  [0123456789]\")\n",
    "print(\"a=[{:>10.2}]\".format(a))\n",
    "print(\"s=[{:>10.2}]\".format(s))"
   ]
  },
  {
   "cell_type": "code",
   "execution_count": 21,
   "metadata": {},
   "outputs": [
    {
     "name": "stdout",
     "output_type": "stream",
     "text": [
      "a=[   2.8]\n"
     ]
    }
   ],
   "source": [
    "#전체 자리수, 소수점자리수 f __._(전체 자리수에는 소수점 포함)\n",
    "print(\"a=[{:6.1f}]\".format(a))"
   ]
  },
  {
   "cell_type": "code",
   "execution_count": 23,
   "metadata": {},
   "outputs": [
    {
     "name": "stdout",
     "output_type": "stream",
     "text": [
      "출력: [01234567889]\n",
      "출력:[      2.79]\n",
      "출력:[      2.79]\n"
     ]
    }
   ],
   "source": [
    "#format함수의 매개변수에 출력포맷 넣기\n",
    "a=2.785\n",
    "print(\"출력: [01234567889]\")\n",
    "print(\"출력:[{:>10.3}]\".format(a))\n",
    "print(\"출력:[{:{}{}.{}}]\".format(a,'>',10,3))"
   ]
  },
  {
   "cell_type": "code",
   "execution_count": 24,
   "metadata": {},
   "outputs": [
    {
     "name": "stdout",
     "output_type": "stream",
     "text": [
      "출력: [01234567889]\n",
      "출력:[      2.79]\n",
      "출력:[      2.79]\n",
      "출력:[     +2.79]\n"
     ]
    }
   ],
   "source": [
    "#가독성을 높이고자 포맷인자에 이름을 부여\n",
    "a=2.785\n",
    "print(\"출력: [01234567889]\")\n",
    "print(\"출력:[{:>10.3}]\".format(a))\n",
    "print(\"출력:[{:>10.3}]\".format(a))\n",
    "print(\"출력:[{:{dir}{sign}{width}.{precision}}]\".format(a,dir='>',sign='+',width=10,precision=3))"
   ]
  },
  {
   "cell_type": "code",
   "execution_count": 25,
   "metadata": {},
   "outputs": [
    {
     "name": "stdout",
     "output_type": "stream",
     "text": [
      "10진수:[      15]\n",
      "2진수:[00001111]\n",
      "8진수:[00000017]\n",
      "16진수:[0f]\n"
     ]
    }
   ],
   "source": [
    "a=15\n",
    "print(\"10진수:[{:8}]\".format(a))\n",
    "print(\"2진수:[{:08b}]\".format(a))\n",
    "print(\"8진수:[{:08o}]\".format(a))\n",
    "print(\"16진수:[{:02x}]\".format(a))"
   ]
  },
  {
   "cell_type": "markdown",
   "metadata": {},
   "source": [
    "## 4.3 날짜 출력"
   ]
  },
  {
   "cell_type": "code",
   "execution_count": null,
   "metadata": {},
   "outputs": [],
   "source": []
  },
  {
   "cell_type": "code",
   "execution_count": null,
   "metadata": {},
   "outputs": [],
   "source": []
  },
  {
   "cell_type": "code",
   "execution_count": null,
   "metadata": {},
   "outputs": [],
   "source": []
  },
  {
   "cell_type": "code",
   "execution_count": null,
   "metadata": {},
   "outputs": [],
   "source": []
  }
 ],
 "metadata": {
  "kernelspec": {
   "display_name": "Python 3",
   "language": "python",
   "name": "python3"
  },
  "language_info": {
   "codemirror_mode": {
    "name": "ipython",
    "version": 3
   },
   "file_extension": ".py",
   "mimetype": "text/x-python",
   "name": "python",
   "nbconvert_exporter": "python",
   "pygments_lexer": "ipython3",
   "version": "3.8.5"
  }
 },
 "nbformat": 4,
 "nbformat_minor": 4
}
