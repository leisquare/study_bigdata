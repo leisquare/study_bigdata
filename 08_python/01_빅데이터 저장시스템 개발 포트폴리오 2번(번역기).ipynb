{
 "cells": [
  {
   "cell_type": "code",
   "execution_count": 3,
   "metadata": {},
   "outputs": [
    {
     "name": "stdout",
     "output_type": "stream",
     "text": [
      "When the plane crashed in the Sahara six years ago, I met a young prince, who initially asked me to paint a sheep painting, and also understood the earlier picture of a boa snake.\n",
      "I was troubled to draw the picture of the box because I did not like the sheep, and I was surprised to find that there was a sheep in the box.\n",
      "The little prince came from a house-sized star whose name was -612 - always given by a number-loving adult.\n",
      "But those who understand life don’t think of numbers as a big deal.\n",
      "Six years later, I picture him again to avoid forgetting him.\n",
      "On the third day of the crash, I spoke of the baobab tree.\n",
      "When the baobab tree is as big as the cathedral, perhaps a group of elephants can not get the tree, he tells me that the baobab tree comes out small when he is young.\n",
      "On the fourth day he said: “Go see it go, I want to see it go when it’s lonely.” I asked to wait for the sun to set, but he thought strangely of me.\n",
      "It turned out that the star he lived in was so small that he could see the sun setting when he was bitten a few steps back, and he had once seen it forty-three times a day.\n",
      "The little prince’s star had a very simple flower, which he had carefully examined, and which he bluffed to be able to be clawed with four of his thorns, without being humble.\n",
      "So the prince was distressed.\n",
      "The morning he left the star, he kept his star clean.\n",
      "When he tried to put a cone on the flower, it was arrogant to avoid seeing his crying.\n",
      "The little prince went out to find various timidities for the purpose of finding work and learning something.\n",
      "The first star was covered with otters, and the king had the power to rule all the stars, but he could only make a command that made sense.\n",
      "The second star had a vanity, and she thought the little prince had come to worship her, and she wanted to be recognized as the smartest in a star that lived alone.\n",
      "The next star was a drunken whale, who said he was embarrassed to drink and drank to forget his shame.\n",
      "He was counting stars, and he thought they were all his.\n",
      "It was simply meaningful to have .\n",
      "The fifth was a very small star, and there was only one streetlight and a place to allow only the lighter, the star that had been the most wanted to stay.\n",
      "It was sad to leave the star, but there was no room for him to stay; the sixth star was very large, but there was an old scholar who only did geography as a story and evidence of explorers in his study.\n",
      "The seventh was Earth.\n",
      "The first time I met was a yellow snake.\n",
      "It taught me it was the Sahara.\n",
      "The little prince had long wandered around the sand, rocks and snow, and found a path, with a garden at the end of it, and thousands of flowers similar to his own.\n",
      "As we walked down the street, the little prince reached a station, and saw the people on and off the express train, and humans, though they were on the express train, did not know what they were going to do.\n",
      "Only the children know what they’re looking for, and they spend two hours looking for the doll, and that’s why the doll is important.\n",
      "With the little prince, I went out looking for Sam, and I saw the stars: \"The stars are beautiful because of the invisible flowers.\n",
      "The desert is beautiful because there is a well somewhere.\n",
      "\"This made me understand the mysterious light of this sand.\n",
      "The prince fell asleep.\n",
      "The sleeping prince moved my heart because this child was faithful to a flower.\n",
      "The day when I fell on earth.\n",
      "He was sitting on a wall by the well talking to a yellow snake, who said, lonely that he would go back: \"I can't show my stars because they're small, look at all the stars.\n",
      "I’ll be laughing at one of them, and it’ll make every star look like a smile to you.\n",
      "After all, you have a star who knows how to laugh.” Six years later, I suddenly realized that there was no leather strap on the bridle that I had drawn to the little prince.\n",
      "The whole world depends on whether the sheep ate flowers or not, but adults will not understand the importance.\n",
      "I have had so many serious contacts with so many serious people in my life, and I have lived with adults for a long time and have seen them very closely.\n",
      "That didn’t change my opinion much; I would take out my picture number one, which I always carried, and test him every time I met someone who looked a little smart.\n",
      "He wanted to know if he was really a comprehensible man.\n",
      "But it was always the answer: \"That's a hat.\"I didn’t tell him about Boa Snake, or the virgin forest, or anything, and I told him about Trump, about golf, about politics, about tie, so he could understand.\n",
      "Then the adult was very pleased to know one person who was so sensible.\n",
      "I had been living alone, with no one to speak to, and had met a plane crash in the Sahara six years ago, something had broken in the motor.\n",
      "I had no engineer or passenger, so I was going to handle the difficult repairs alone, and for me it was a question of whether I was dead or alive, and all I had was water for a week.\n",
      "On the first evening, I fell asleep, lying on a desert thousands of miles from where people lived.\n",
      "I was much more lonely than the shipwreck's sailor, who ran on a raft in the middle of the wide sea.\n",
      "So how surprised I was when a strange little voice called me to wake me up at sunrise, the voice said: \"I...\n",
      "just draw a sheep!\" \"What!\"\"I want a sheep....\"\n"
     ]
    }
   ],
   "source": [
    "from selenium import webdriver\n",
    "from selenium.webdriver.common.keys import Keys\n",
    "from bs4 import BeautifulSoup\n",
    "import time\n",
    "\n",
    "#텍스트 읽어오기\n",
    "with open(\"data/한글원본.txt\",\"r\",encoding=\"utf-8\") as f:\n",
    "    text = f.read()\n",
    "len(text)\n",
    "ready_list =[]\n",
    "while len(text)>5000:\n",
    "    temp_str = text [:5000]\n",
    "    last_space_idx=temp_str.rfind(\".\")\n",
    "    ready_list.append(text[:last_space_idx]) #\n",
    "    text = text[last_space_idx:] #ready_list에 append한 앞부분은 날림\n",
    "ready_list.append(text)\n",
    "#print(ready_list)\n",
    "#len(ready_list)\n",
    "\n",
    "#번역\n",
    "driver= webdriver.Chrome()\n",
    "driver.get(\"https://translate.kakao.com/\")\n",
    "\n",
    "button = driver.find_element_by_css_selector(\"a.btn_close\")\n",
    "button.click()\n",
    "\n",
    "results = \"\"\n",
    "textarea = driver.find_element_by_class_name(\"tf_translation\")\n",
    "for ready in ready_list:\n",
    "    textarea.send_keys(Keys.CONTROL,\"a\")\n",
    "    textarea.send_keys(ready)\n",
    "    button = driver.find_element_by_css_selector(\"div.wrap_btn > button.btn_translation.on\")\n",
    "    button.click()\n",
    "    time.sleep(10)\n",
    "    soup = BeautifulSoup(driver.page_source,\"html.parser\")\n",
    "    result = soup.select_one(\"p.desc_translation\").text\n",
    "    results += result.replace(\". \",\".\\n\")\n",
    "print(results)\n",
    "with open('data/complete.txt','w',encoding = 'utf-8')as f:\n",
    "    f.write(results)\n"
   ]
  },
  {
   "cell_type": "code",
   "execution_count": null,
   "metadata": {},
   "outputs": [],
   "source": []
  }
 ],
 "metadata": {
  "kernelspec": {
   "display_name": "Python 3",
   "language": "python",
   "name": "python3"
  },
  "language_info": {
   "codemirror_mode": {
    "name": "ipython",
    "version": 3
   },
   "file_extension": ".py",
   "mimetype": "text/x-python",
   "name": "python",
   "nbconvert_exporter": "python",
   "pygments_lexer": "ipython3",
   "version": "3.8.5"
  },
  "toc": {
   "base_numbering": 1,
   "nav_menu": {},
   "number_sections": true,
   "sideBar": true,
   "skip_h1_title": false,
   "title_cell": "Table of Contents",
   "title_sidebar": "Contents",
   "toc_cell": false,
   "toc_position": {},
   "toc_section_display": true,
   "toc_window_display": false
  },
  "varInspector": {
   "cols": {
    "lenName": 16,
    "lenType": 16,
    "lenVar": 40
   },
   "kernels_config": {
    "python": {
     "delete_cmd_postfix": "",
     "delete_cmd_prefix": "del ",
     "library": "var_list.py",
     "varRefreshCmd": "print(var_dic_list())"
    },
    "r": {
     "delete_cmd_postfix": ") ",
     "delete_cmd_prefix": "rm(",
     "library": "var_list.r",
     "varRefreshCmd": "cat(var_dic_list()) "
    }
   },
   "types_to_exclude": [
    "module",
    "function",
    "builtin_function_or_method",
    "instance",
    "_Feature"
   ],
   "window_display": false
  }
 },
 "nbformat": 4,
 "nbformat_minor": 4
}
