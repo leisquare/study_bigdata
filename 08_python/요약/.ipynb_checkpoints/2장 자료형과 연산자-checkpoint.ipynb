{
 "cells": [
  {
   "cell_type": "markdown",
   "metadata": {},
   "source": [
    "# 변수"
   ]
  },
  {
   "cell_type": "markdown",
   "metadata": {},
   "source": [
    "# 화면 입출력"
   ]
  },
  {
   "cell_type": "markdown",
   "metadata": {},
   "source": [
    "# 기본 자료형"
   ]
  },
  {
   "cell_type": "markdown",
   "metadata": {},
   "source": [
    "# 포맷팅\n",
    "- 문자, 숫자, 날짜 데이터에 형식을 지정하는 것."
   ]
  },
  {
   "cell_type": "markdown",
   "metadata": {},
   "source": []
  },
  {
   "cell_type": "code",
   "execution_count": null,
   "metadata": {},
   "outputs": [],
   "source": []
  },
  {
   "cell_type": "markdown",
   "metadata": {},
   "source": [
    "# 연산자"
   ]
  },
  {
   "cell_type": "markdown",
   "metadata": {},
   "source": [
    "# 문자열 다루기"
   ]
  },
  {
   "cell_type": "markdown",
   "metadata": {},
   "source": [
    "- \"\" 또는 '' : 문자열을 만듬\n",
    "- +: 문자열을 연결\n",
    "- len(\"문자열\") : 문자열의 길이 반환\n",
    "- [start:stop] : 문자열을 start위치부터 stop 위치까지 자르되 stop은 포함하지 않음\n",
    "- [start:stop:step] : 문자열을 start부터 stop 전까지 매 step 마다 반환.\n",
    "- split('delimiter') : 문자를 delimiter로 잘라 리스트로 반환\n",
    "- ‘delimiter’.join([“str1”, ...]) : 문자열 리스트를 delimiter로 연결합니다.\n",
    "- capitalize() : 첫 문자를 대문자로, 나머지 문자를 소문자로 바꿔줍니다.\n",
    "- upper, lower() : 문자열을 모두 대문자(upper) 또는 소문자(lower)로 바꿉니다.\n",
    "- startswith(), endswith(): 특정 문자로 시작하는지, 끝나는지 식별해 논리값 반환\n",
    "- find(),index() : 특정 문자의 인덱스를 반환\n",
    "- isalnum(), isalpha(), isnumeric(),isdecimal() : 문자열의 속성 판별\n",
    "- replace(old,new) : old 문자를 new 문자로 치환합니다.\n",
    "- strip() : 스페이스 제거\n"
   ]
  },
  {
   "cell_type": "markdown",
   "metadata": {},
   "source": [
    "# 날짜 다루기"
   ]
  },
  {
   "cell_type": "code",
   "execution_count": null,
   "metadata": {},
   "outputs": [],
   "source": [
    "datetime.date(year,month,day)\n",
    "datetime.date(hour,minute,second,microsecond,tzinfo)\n",
    "datetime.date(year,month,day,hour,minute,second)"
   ]
  },
  {
   "cell_type": "code",
   "execution_count": 31,
   "metadata": {},
   "outputs": [
    {
     "data": {
      "text/plain": [
       "datetime.date(2021, 2, 21)"
      ]
     },
     "execution_count": 31,
     "metadata": {},
     "output_type": "execute_result"
    }
   ],
   "source": [
    "from datetime import date #datetime 패키지에서 date만 가져와서 사용\n",
    "someday=date(2021,2,21)\n",
    "someday"
   ]
  },
  {
   "cell_type": "code",
   "execution_count": null,
   "metadata": {},
   "outputs": [],
   "source": []
  },
  {
   "cell_type": "code",
   "execution_count": null,
   "metadata": {},
   "outputs": [],
   "source": []
  },
  {
   "cell_type": "code",
   "execution_count": null,
   "metadata": {},
   "outputs": [],
   "source": []
  },
  {
   "cell_type": "code",
   "execution_count": null,
   "metadata": {},
   "outputs": [],
   "source": []
  }
 ],
 "metadata": {
  "kernelspec": {
   "display_name": "Python 3",
   "language": "python",
   "name": "python3"
  },
  "language_info": {
   "codemirror_mode": {
    "name": "ipython",
    "version": 3
   },
   "file_extension": ".py",
   "mimetype": "text/x-python",
   "name": "python",
   "nbconvert_exporter": "python",
   "pygments_lexer": "ipython3",
   "version": "3.8.5"
  },
  "toc": {
   "base_numbering": 1,
   "nav_menu": {},
   "number_sections": true,
   "sideBar": true,
   "skip_h1_title": false,
   "title_cell": "Table of Contents",
   "title_sidebar": "Contents",
   "toc_cell": false,
   "toc_position": {},
   "toc_section_display": true,
   "toc_window_display": false
  },
  "varInspector": {
   "cols": {
    "lenName": 16,
    "lenType": 16,
    "lenVar": 40
   },
   "kernels_config": {
    "python": {
     "delete_cmd_postfix": "",
     "delete_cmd_prefix": "del ",
     "library": "var_list.py",
     "varRefreshCmd": "print(var_dic_list())"
    },
    "r": {
     "delete_cmd_postfix": ") ",
     "delete_cmd_prefix": "rm(",
     "library": "var_list.r",
     "varRefreshCmd": "cat(var_dic_list()) "
    }
   },
   "types_to_exclude": [
    "module",
    "function",
    "builtin_function_or_method",
    "instance",
    "_Feature"
   ],
   "window_display": false
  }
 },
 "nbformat": 4,
 "nbformat_minor": 4
}
