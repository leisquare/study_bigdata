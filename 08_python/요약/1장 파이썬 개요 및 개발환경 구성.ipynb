{
 "cells": [
  {
   "cell_type": "markdown",
   "metadata": {},
   "source": [
    "# 파이썬"
   ]
  },
  {
   "cell_type": "markdown",
   "metadata": {},
   "source": [
    "## 파이썬\n",
    "- 1989년 개발 시작, 1991년 발표. 언어의 기본 기능은 작고 부가 기능은 라이브러리, 패키지로 제공.\n",
    "- 교육용 언어. 쉬운 코드 작성 및 실행.\n",
    "- 다양한 분야에 사용됨."
   ]
  },
  {
   "cell_type": "markdown",
   "metadata": {},
   "source": [
    "## 파이썬 용도\n",
    "- 알고리즘 코딩 공부\n",
    "- 윈도우 응용 프로그램 개발\n",
    "- 웹 프로그래밍\n",
    "- 통계 및 수치해설\n",
    "- 데이터 탐색 빛 시각화\n",
    "- IoT 프로그래밍\n",
    "- 머신러닝 데이터 분석\n",
    "- 영상 인식 프로그램\n",
    "- 인공지능 딥러닝\n",
    "- 할 수 없는 것: 시스템 프로그래밍, 모바일 프로그래밍"
   ]
  },
  {
   "cell_type": "markdown",
   "metadata": {},
   "source": [
    "## 파이썬 언어의 특징\n",
    "- 가독성: 문법이 간결. 들여쓰기를 기반으로 하여 가독성이 좋다.\n",
    "- 확장성: 라이브러리가 풍부하여 확장성이 좋다.\n",
    "- 접착성: c, C++로 구현된 모듈을 파이썬에서 사용가능. 그 반대도 가능하다.\n",
    "- 플랫폼 독립적: 작성 코드가 운영체제의 영향을 받지 않는다.\n",
    "- 객체 지향 언어: 객체지향 개념을 적용한 언어\n",
    "- 동적 실행: 인터프리터형 언어이기 때문에 코드를 작성하면서 바로 실행시켜볼 수 있다."
   ]
  },
  {
   "cell_type": "markdown",
   "metadata": {},
   "source": [
    "## 컴파일 언어와 인터프리터 언어\n",
    "- 컴파일 언어(C언어) : 소스코드-컴파일-실행파일-exe파일 실행-실행\n",
    "- 인터프리터 언어(파이썬) : 소스코드-인터프리팅-실행"
   ]
  },
  {
   "cell_type": "markdown",
   "metadata": {},
   "source": [
    "# 파이썬 인터프리터"
   ]
  },
  {
   "cell_type": "markdown",
   "metadata": {},
   "source": [
    "# 아나콘다를 이용한 개발 환경"
   ]
  },
  {
   "cell_type": "markdown",
   "metadata": {},
   "source": [
    "## 파이썬 배포판\n",
    "- 파이썬 배포판\n",
    "- 아나콘다\n",
    "- 아나콘다 네비게이터\n",
    "- 주피터 노트북:데이터 분석 시 주로 사용함\n",
    "- 주피터 노트북에서 소스코드 작성 및 실행: 셀 단위로 실행(Shift+Enter, Ctrl+Enter, Alt+Enter)\n",
    "- 스파이더에서 코드 작성 및 실행: #%%는 셀 구분자. 전체 실행(F5), 셀 단위로 실행(Shift+Enter, Ctrl+Enter), 선택영역 실행(F9)"
   ]
  }
 ],
 "metadata": {
  "kernelspec": {
   "display_name": "Python 3",
   "language": "python",
   "name": "python3"
  },
  "language_info": {
   "codemirror_mode": {
    "name": "ipython",
    "version": 3
   },
   "file_extension": ".py",
   "mimetype": "text/x-python",
   "name": "python",
   "nbconvert_exporter": "python",
   "pygments_lexer": "ipython3",
   "version": "3.8.5"
  },
  "toc": {
   "base_numbering": 1,
   "nav_menu": {},
   "number_sections": true,
   "sideBar": true,
   "skip_h1_title": false,
   "title_cell": "Table of Contents",
   "title_sidebar": "Contents",
   "toc_cell": false,
   "toc_position": {},
   "toc_section_display": true,
   "toc_window_display": false
  },
  "varInspector": {
   "cols": {
    "lenName": 16,
    "lenType": 16,
    "lenVar": 40
   },
   "kernels_config": {
    "python": {
     "delete_cmd_postfix": "",
     "delete_cmd_prefix": "del ",
     "library": "var_list.py",
     "varRefreshCmd": "print(var_dic_list())"
    },
    "r": {
     "delete_cmd_postfix": ") ",
     "delete_cmd_prefix": "rm(",
     "library": "var_list.r",
     "varRefreshCmd": "cat(var_dic_list()) "
    }
   },
   "types_to_exclude": [
    "module",
    "function",
    "builtin_function_or_method",
    "instance",
    "_Feature"
   ],
   "window_display": false
  }
 },
 "nbformat": 4,
 "nbformat_minor": 4
}
