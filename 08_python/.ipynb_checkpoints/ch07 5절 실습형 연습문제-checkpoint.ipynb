{
 "cells": [
  {
   "cell_type": "code",
   "execution_count": 1,
   "metadata": {},
   "outputs": [],
   "source": [
    "class Shape:\n",
    "    def __init__(self,x=0,y=0):\n",
    "        self.x=x\n",
    "        self.y=y\n",
    "    def __del__(self):\n",
    "        print(\"소멸\")\n",
    "        \n",
    "    def move(self, x, y):\n",
    "        self.x+=x\n",
    "        self.y+=y\n",
    "        \n",
    "    def __str__(self):\n",
    "        return \"좌표는 {},{}\".format(self.x,self.y)\n",
    "        \n",
    "    def carc_area(self):\n",
    "        raise exception(\"이 메소드는 반드시 구현되어야 합니다.\")\n",
    "        pass\n",
    "    \n",
    "    @staticmethod\n",
    "    def that_(): \n",
    "        print(\"도형클래스 호출\")"
   ]
  },
  {
   "cell_type": "code",
   "execution_count": 2,
   "metadata": {},
   "outputs": [],
   "source": [
    "class Shape(Shape):\n",
    "    __count=0;\n",
    "    def __init__(self,x=0,y=0,width=0,height=0):\n",
    "        Shape.__init__(self,x,y)\n",
    "        self.width=width\n",
    "        self.height=height\n",
    "        Triangle._Triangle__count += 1\n",
    "    def __del__(self):\n",
    "        Triangle._Triangle__count -= 1 \n",
    "        pass\n",
    "    def carc_area(self):\n",
    "        return \"삼각형의 넓이는 {}\".format(self.width*self.height*(1/2))\n",
    "    def print_info(self):\n",
    "        print(\"좌표는 {},{},길이는 {}, 높이는 {}\".format(self.x,self.y,self.width,self.height))\n",
    "    def __str__(self):\n",
    "        return super().__str__() + \" 길이는 {}, 높이는 {}\".format(self.width,self.height)\n",
    "    @classmethod\n",
    "    def get_count(cls):\n",
    "        return cls__count"
   ]
  },
  {
   "cell_type": "code",
   "execution_count": 3,
   "metadata": {},
   "outputs": [
    {
     "name": "stdout",
     "output_type": "stream",
     "text": [
      "좌표는 0,0 길이는 5, 높이는 4\n",
      "좌표는 0,0 길이는 8, 높이는 2\n"
     ]
    }
   ],
   "source": [
    "t1=Triangle(0,0,5,4)\n",
    "t2=Triangle(0,0,8,2)\n",
    "print(t1)\n",
    "print(t2)"
   ]
  },
  {
   "cell_type": "code",
   "execution_count": 4,
   "metadata": {},
   "outputs": [
    {
     "data": {
      "text/plain": [
       "'삼각형의 넓이는 10.0'"
      ]
     },
     "execution_count": 4,
     "metadata": {},
     "output_type": "execute_result"
    }
   ],
   "source": [
    "t1.carc_area()"
   ]
  },
  {
   "cell_type": "code",
   "execution_count": 5,
   "metadata": {},
   "outputs": [
    {
     "name": "stdout",
     "output_type": "stream",
     "text": [
      "좌표는 0,0,길이는 8, 높이는 2\n"
     ]
    }
   ],
   "source": [
    "t2.print_info()"
   ]
  },
  {
   "cell_type": "code",
   "execution_count": 6,
   "metadata": {},
   "outputs": [
    {
     "name": "stdout",
     "output_type": "stream",
     "text": [
      "객체 갯수: 4\n"
     ]
    }
   ],
   "source": [
    "t1=Triangle(0,0,5,4)\n",
    "t2=Triangle(0,0,8,2)\n",
    "t3=Triangle(0,0,9,10)\n",
    "t4=Triangle(0,0,5,77)\n",
    "print(\"객체 갯수:\",Triangle.get_count())\n",
    "\n"
   ]
  },
  {
   "cell_type": "code",
   "execution_count": null,
   "metadata": {},
   "outputs": [],
   "source": [
    "#연습문제 1번: 1\n",
    "#연습문제 2번: 2\n",
    "#연습문제 3번: 4\n",
    "#연습문제 4번: 1\n",
    "#연습문제 5번: 2\n",
    "#연습문제 6번: 3?\n",
    "#연습문제 7번: 3\n",
    "#연습문제 8번: 3번\n",
    "#연습문제 9번: 2(매개변수 스트링)\n"
   ]
  },
  {
   "cell_type": "code",
   "execution_count": null,
   "metadata": {},
   "outputs": [],
   "source": [
    "\n",
    "class SomeClass:\n",
    "    def method_a(self):\n",
    "        print(\"method_a\")\n",
    "    @classmethod\n",
    "    def method_b(cls):\n",
    "        print(\"method_b\")\n",
    "    \n",
    "obj=SomeClass()\n",
    "\n",
    "\n"
   ]
  },
  {
   "cell_type": "code",
   "execution_count": null,
   "metadata": {},
   "outputs": [],
   "source": [
    "SomeClass.method_b()"
   ]
  },
  {
   "cell_type": "markdown",
   "metadata": {},
   "source": []
  }
 ],
 "metadata": {
  "kernelspec": {
   "display_name": "Python 3",
   "language": "python",
   "name": "python3"
  },
  "language_info": {
   "codemirror_mode": {
    "name": "ipython",
    "version": 3
   },
   "file_extension": ".py",
   "mimetype": "text/x-python",
   "name": "python",
   "nbconvert_exporter": "python",
   "pygments_lexer": "ipython3",
   "version": "3.8.5"
  },
  "toc": {
   "base_numbering": 1,
   "nav_menu": {},
   "number_sections": true,
   "sideBar": true,
   "skip_h1_title": false,
   "title_cell": "Table of Contents",
   "title_sidebar": "Contents",
   "toc_cell": false,
   "toc_position": {},
   "toc_section_display": true,
   "toc_window_display": false
  },
  "varInspector": {
   "cols": {
    "lenName": 16,
    "lenType": 16,
    "lenVar": 40
   },
   "kernels_config": {
    "python": {
     "delete_cmd_postfix": "",
     "delete_cmd_prefix": "del ",
     "library": "var_list.py",
     "varRefreshCmd": "print(var_dic_list())"
    },
    "r": {
     "delete_cmd_postfix": ") ",
     "delete_cmd_prefix": "rm(",
     "library": "var_list.r",
     "varRefreshCmd": "cat(var_dic_list()) "
    }
   },
   "types_to_exclude": [
    "module",
    "function",
    "builtin_function_or_method",
    "instance",
    "_Feature"
   ],
   "window_display": false
  }
 },
 "nbformat": 4,
 "nbformat_minor": 4
}
