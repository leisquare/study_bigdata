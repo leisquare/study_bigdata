{
 "cells": [
  {
   "cell_type": "markdown",
   "metadata": {},
   "source": [
    "# 4절. 포맷팅\n",
    "-포맷팅이란 문자, 숫자, 날짜 데이터의 형식을 지정하는 것. <br>\n",
    "-변수와 텍스트를 결합해서 보기 좋은 형식의 새로운 텍스트를 만들 때 사용<br>"
   ]
  },
  {
   "cell_type": "markdown",
   "metadata": {},
   "source": [
    "## 4.1 문자열에 형식 지정"
   ]
  },
  {
   "cell_type": "code",
   "execution_count": 1,
   "metadata": {},
   "outputs": [],
   "source": [
    "name=\"홍길동\"\n",
    "age=30\n",
    "print(name,'님의 나이는',age,'살입니다.')\n",
    "print(name,'님의 나이는 ',age,'살입니다.',sep='')\n",
    "#변수와 텍스트를 번갈아 사용해 형식을 지정하는 것은 가독성이 떨어지고 코드 작성이 불편."
   ]
  },
  {
   "cell_type": "code",
   "execution_count": 2,
   "metadata": {},
   "outputs": [
    {
     "data": {
      "text/plain": [
       "'홍길동님의 나이는 30살입니다'"
      ]
     },
     "execution_count": 2,
     "metadata": {},
     "output_type": "execute_result"
    }
   ],
   "source": [
    "# 이전 스타일\n",
    "# %s 문자열, %c 문자, %d 정수, %f 실수, %x 16진수, %o 8진수, %% 문자 %\n",
    "\"%s님의 나이는 %d살입니다\"%(name,age)"
   ]
  },
  {
   "cell_type": "code",
   "execution_count": 3,
   "metadata": {},
   "outputs": [
    {
     "data": {
      "text/plain": [
       "'홍길동님의 나이는 30살입니다.'"
      ]
     },
     "execution_count": 3,
     "metadata": {},
     "output_type": "execute_result"
    }
   ],
   "source": [
    "# 새로운 스타일\n",
    "\"{}님의 나이는 {}살입니다.\".format(name,age)"
   ]
  },
  {
   "cell_type": "code",
   "execution_count": 4,
   "metadata": {},
   "outputs": [
    {
     "data": {
      "text/plain": [
       "'홍길동님의 나이는 30살입니다.'"
      ]
     },
     "execution_count": 4,
     "metadata": {},
     "output_type": "execute_result"
    }
   ],
   "source": [
    "\"{1}님의 나이는 {0}살입니다.\".format(age,name)"
   ]
  },
  {
   "cell_type": "markdown",
   "metadata": {},
   "source": [
    "## 4.2 format()함수 문법\n",
    "'{[인덱스]:[공백대체문자][정렬 방법][자릿수][타입]}'.format(변수명)"
   ]
  },
  {
   "cell_type": "code",
   "execution_count": 5,
   "metadata": {},
   "outputs": [],
   "source": [
    "# 인덱스: 출력할 인수의 인덱스(순서)\n",
    "# 정렬방법: <기호 왼쪽정렬, >기호 오른쪽정렬, ^기호: 가운데 정렬\n",
    "# 자릿수: 출력할 자릿수 지정. 변수보다 적은 자릿수가 지정될 경우 무시되고 변수가 다 출력.\n",
    "# 타입: d는 10진수, f는 실수, s는 문자, b는 2진수, a는 8진수, x는 16진수"
   ]
  },
  {
   "cell_type": "code",
   "execution_count": 6,
   "metadata": {},
   "outputs": [
    {
     "name": "stdout",
     "output_type": "stream",
     "text": [
      "이름은?홍길동\n",
      "나이는?23\n",
      "홍길동님의 나이는 23입니다.\n",
      "홍길동님의 나이는 23입니다.\n"
     ]
    }
   ],
   "source": [
    "naem=input('이름은?')\n",
    "age=int(input('나이는?'))\n",
    "print(\"{}님의 나이는 {}입니다.\".format(name,age))\n",
    "print(\"{1}님의 나이는 {0}입니다.\".format(age,name))"
   ]
  },
  {
   "cell_type": "code",
   "execution_count": 7,
   "metadata": {},
   "outputs": [
    {
     "name": "stdout",
     "output_type": "stream",
     "text": [
      "23살 홍길동님은 23살이 참 좋은 걸 알려나.\n"
     ]
    }
   ],
   "source": [
    "print(\"{0}살 {1}님은 {0}살이 참 좋은 걸 알려나.\".format(age,name))"
   ]
  },
  {
   "cell_type": "code",
   "execution_count": 8,
   "metadata": {},
   "outputs": [
    {
     "name": "stdout",
     "output_type": "stream",
     "text": [
      "출력:10,20,10\n"
     ]
    }
   ],
   "source": [
    "#{}만 쓸 경우 벼수의 수와 갯수가 맞지 않으면 요류.\n",
    "a,b=10,20\n",
    "print(\"출력:{},{},{}\".format(a,b,a,b)) #많으면 괜찮음, 적으면 오류"
   ]
  },
  {
   "cell_type": "code",
   "execution_count": 9,
   "metadata": {},
   "outputs": [
    {
     "name": "stdout",
     "output_type": "stream",
     "text": [
      "출력: [12345].[     12345],[12345]\n",
      "출력: [Hello].[Hello     ],[Hello]\n"
     ]
    }
   ],
   "source": [
    "# 자릿수 지정: 숫자의 경우 출력할 변수보다 큰 자리수를 지정하면 오른쪽 정렬이 됨.\n",
    "# 문자의 경우 출력할 변수보다 큰 자리수를 지정하면 왼쪽 정렬이 됨.\n",
    "a=12345\n",
    "s=\"Hello\"\n",
    "print(\"출력: [{}].[{:10}],[{:3}]\".format(a,a,a))\n",
    "print(\"출력: [{}].[{:10}],[{:3}]\".format(s,s,s))"
   ]
  },
  {
   "cell_type": "code",
   "execution_count": 10,
   "metadata": {},
   "outputs": [
    {
     "name": "stdout",
     "output_type": "stream",
     "text": [
      "출력\n",
      "10진수-12345,실수 - 12345.000000,2진수-11000000111001, 8진수-30071,16진수-3039,\n"
     ]
    }
   ],
   "source": [
    "a=12345 #숫자의 경우 다양한 진수로 표현\n",
    "print(\"\"\"출력\n",
    "10진수-{:d},실수 - {:f},2진수-{:b}, 8진수-{:o},16진수-{:x},\"\"\".format(a,a,a,a,a))"
   ]
  },
  {
   "cell_type": "code",
   "execution_count": 11,
   "metadata": {},
   "outputs": [
    {
     "name": "stdout",
     "output_type": "stream",
     "text": [
      "출력:[    10],[20    ],[  30  ],\n"
     ]
    }
   ],
   "source": [
    "#정렬방법<>^ \n",
    "#정가운데출력이 안되면 한 칸 왼쪽에서 출력된다.\n",
    "a,b,c=10,20,30 \n",
    "print(\"출력:[{:>6d}],[{:<6d}],[{:^6d}],\".format(a,b,c))"
   ]
  },
  {
   "cell_type": "code",
   "execution_count": 12,
   "metadata": {},
   "outputs": [
    {
     "name": "stdout",
     "output_type": "stream",
     "text": [
      "출력: [$$$$$$$$10],[Hello***************],[Hel_______]\n"
     ]
    }
   ],
   "source": [
    "#인덱스: 공백대체문자 정렬방법 자릿수 타입\n",
    "a=10\n",
    "s=\"Hello\"\n",
    "print(\"출력: [{0:$>10}],[{1:*<20}],[{1:_<10.3}]\".format(a,s))\n",
    "#10.3은 전체 10자리 확보학 변수는 3자리만 출력하라는 뜻"
   ]
  },
  {
   "cell_type": "code",
   "execution_count": 14,
   "metadata": {},
   "outputs": [
    {
     "ename": "ValueError",
     "evalue": "Invalid format specifier",
     "output_type": "error",
     "traceback": [
      "\u001b[1;31m---------------------------------------------------------------------------\u001b[0m",
      "\u001b[1;31mValueError\u001b[0m                                Traceback (most recent call last)",
      "\u001b[1;32m<ipython-input-14-e1c56b201345>\u001b[0m in \u001b[0;36m<module>\u001b[1;34m\u001b[0m\n\u001b[0;32m      1\u001b[0m \u001b[1;31m#주의점: 공백대체문자를 지정할 때는 반드시 정렬기호, 자릿수를 표현해야 한다.\u001b[0m\u001b[1;33m\u001b[0m\u001b[1;33m\u001b[0m\u001b[1;33m\u001b[0m\u001b[0m\n\u001b[1;32m----> 2\u001b[1;33m \u001b[0mprint\u001b[0m\u001b[1;33m(\u001b[0m\u001b[1;34m\"{0:$10}/{1:*20}\"\u001b[0m\u001b[1;33m.\u001b[0m\u001b[0mformat\u001b[0m\u001b[1;33m(\u001b[0m\u001b[0ma\u001b[0m\u001b[1;33m,\u001b[0m\u001b[0ms\u001b[0m\u001b[1;33m)\u001b[0m\u001b[1;33m)\u001b[0m \u001b[1;31m#방향지정이 없어서 오류가 뜰 것.\u001b[0m\u001b[1;33m\u001b[0m\u001b[1;33m\u001b[0m\u001b[0m\n\u001b[0m",
      "\u001b[1;31mValueError\u001b[0m: Invalid format specifier"
     ]
    }
   ],
   "source": [
    "#주의점: 공백대체문자를 지정할 때는 반드시 정렬기호, 자릿수를 표현해야 한다.\n",
    "print(\"{0:$10}/{1:*20}\".format(a,s)) #방향지정이 없어서 오류가 뜰 것."
   ]
  },
  {
   "cell_type": "code",
   "execution_count": 17,
   "metadata": {},
   "outputs": [
    {
     "name": "stdout",
     "output_type": "stream",
     "text": [
      "출력: [ -123],[ +123],[  123]\n",
      "출력: [-      123],[+      123],[  123]\n",
      "출력: [-******123],[+000000123],[  123]\n",
      "출력 : [-      123] [+      123] [+000000123]\n",
      "출력 : [-******123] [+$$$$$$123] [+______123]\n"
     ]
    }
   ],
   "source": [
    "#+를 붙이면 양수의 경우 숫자 앞에 부호를 붙여줌.\n",
    "#=를 붙이면 전체 자릿수만큼 출력하는 문자의 맨 앞에 부호가 붙는다.(양수는 부호 나타나지 않음)\n",
    "#나타나게 하려면 =+를 붙인다.\n",
    "#자리수 앞에 0을 채우면 빈자리에 0을 채워준다.(이것은 공백대체문자와는 다름.)\n",
    "#공백대체문자는 =앞에.\n",
    "#공백대체문자와 자리수 앞의 0은 동시사용 불가능. 동시에 쓰면 공백대체문자가 들어간다.\n",
    "a,b=123,-123\n",
    "print(\"출력: [{:5}],[{:+5}],[{:5}]\".format(b,a,a))\n",
    "print(\"출력: [{:=10}],[{:=+10}],[{:=5}]\".format(b,a,a))\n",
    "print(\"출력: [{:*=10}],[{:=+010}],[{:=5}]\".format(b,a,a))\n",
    "print(\"출력 : [{:=+10}] [{:=+10}] [{:=+010}]\".format(b, a, a))\n",
    "\n",
    "print(\"출력 : [{:*=+10}] [{:$=+10}] [{:_=+010}]\".format(b, a, a))"
   ]
  },
  {
   "cell_type": "code",
   "execution_count": 18,
   "metadata": {},
   "outputs": [
    {
     "name": "stdout",
     "output_type": "stream",
     "text": [
      "  [0123456789]\n",
      "a=[       2.8]\n",
      "s=[        he]\n"
     ]
    }
   ],
   "source": [
    "# 전체 자리수, 표현될 자리수\n",
    "a=2.785\n",
    "s=\"hello\"\n",
    "print(\"  [0123456789]\")\n",
    "print(\"a=[{:>10.2}]\".format(a))\n",
    "print(\"s=[{:>10.2}]\".format(s))"
   ]
  },
  {
   "cell_type": "code",
   "execution_count": 19,
   "metadata": {},
   "outputs": [
    {
     "name": "stdout",
     "output_type": "stream",
     "text": [
      "a=[   2.8]\n"
     ]
    }
   ],
   "source": [
    "#전체 자리수, 소수점자리수 f __._(전체 자리수에는 소수점 포함)\n",
    "print(\"a=[{:6.1f}]\".format(a))"
   ]
  },
  {
   "cell_type": "code",
   "execution_count": 20,
   "metadata": {},
   "outputs": [
    {
     "name": "stdout",
     "output_type": "stream",
     "text": [
      "출력: [01234567889]\n",
      "출력:[      2.79]\n",
      "출력:[      2.79]\n"
     ]
    }
   ],
   "source": [
    "#format함수의 매개변수에 출력포맷\n",
    "a=2.785\n",
    "print(\"출력: [01234567889]\")\n",
    "print(\"출력:[{:>10.3}]\".format(a))\n",
    "print(\"출력:[{:{}{}.{}}]\".format(a,'>',10,3))"
   ]
  },
  {
   "cell_type": "code",
   "execution_count": 21,
   "metadata": {},
   "outputs": [
    {
     "name": "stdout",
     "output_type": "stream",
     "text": [
      "출력: [01234567889]\n",
      "출력:[      2.79]\n",
      "출력:[      2.79]\n",
      "출력:[     +2.79]\n"
     ]
    }
   ],
   "source": [
    "#가독성을 높이고자 포맷인자에 이름을 부여\n",
    "a=2.785\n",
    "print(\"출력: [01234567889]\")\n",
    "print(\"출력:[{:>10.3}]\".format(a))\n",
    "print(\"출력:[{:>10.3}]\".format(a))\n",
    "print(\"출력:[{:{dir}{sign}{width}.{precision}}]\".format(a,dir='>',sign='+',width=10,precision=3))"
   ]
  },
  {
   "cell_type": "code",
   "execution_count": 22,
   "metadata": {},
   "outputs": [
    {
     "name": "stdout",
     "output_type": "stream",
     "text": [
      "10진수:[      15]\n",
      "2진수:[00001111]\n",
      "8진수:[00000017]\n",
      "16진수:[0f]\n"
     ]
    }
   ],
   "source": [
    "a=15\n",
    "print(\"10진수:[{:8}]\".format(a))\n",
    "print(\"2진수:[{:08b}]\".format(a))\n",
    "print(\"8진수:[{:08o}]\".format(a))\n",
    "print(\"16진수:[{:02x}]\".format(a))"
   ]
  },
  {
   "cell_type": "markdown",
   "metadata": {},
   "source": [
    "## 4.3 날짜 출력"
   ]
  },
  {
   "cell_type": "code",
   "execution_count": 23,
   "metadata": {},
   "outputs": [
    {
     "data": {
      "text/plain": [
       "time.struct_time(tm_year=2021, tm_mon=2, tm_mday=22, tm_hour=18, tm_min=13, tm_sec=49, tm_wday=0, tm_yday=53, tm_isdst=0)"
      ]
     },
     "execution_count": 23,
     "metadata": {},
     "output_type": "execute_result"
    }
   ],
   "source": [
    "# %Y는 연도 4자리, %y는 연도 2자리, %m은 월, %d는 일\n",
    "# %H는 24시간, %I는 12시간, %p는 AMPM, %M은 분, %S는 초\n",
    "from time import localtime # time 패키지에서 Localtime이라는 함수 사용\n",
    "now=localtime()\n",
    "now # 현재날짜와 시간"
   ]
  },
  {
   "cell_type": "code",
   "execution_count": 24,
   "metadata": {},
   "outputs": [
    {
     "name": "stdout",
     "output_type": "stream",
     "text": [
      "2021년 02월 22일 PM 18:13:49\n"
     ]
    }
   ],
   "source": [
    "#날짜를 문자열로 출력하기 위해 format보다 strftime() 함수 이용]\n",
    "from time import strftime\n",
    "print(strftime(\"%Y년 %m월 %d일 %p %H:%M:%S\",now))\n"
   ]
  },
  {
   "cell_type": "code",
   "execution_count": 25,
   "metadata": {},
   "outputs": [
    {
     "data": {
      "text/plain": [
       "datetime.datetime(2021, 4, 30, 18, 20)"
      ]
     },
     "execution_count": 25,
     "metadata": {},
     "output_type": "execute_result"
    }
   ],
   "source": [
    "#format함수 이용\n",
    "from datetime import datetime\n",
    "thatday=datetime(2021,4,30,18,20,0)\n",
    "thatday"
   ]
  },
  {
   "cell_type": "code",
   "execution_count": 26,
   "metadata": {},
   "outputs": [
    {
     "name": "stdout",
     "output_type": "stream",
     "text": [
      "2021년 04 30 18 20:00\n",
      "2021 - 04 - 30 PM 06 20:00\n"
     ]
    }
   ],
   "source": [
    "print(\"{:%Y년 %m %d %H %M:%S}\".format(thatday))\n",
    "print(\"{:%Y - %m - %d %p %I %M:%S}\".format(thatday))\n",
    "      "
   ]
  },
  {
   "cell_type": "code",
   "execution_count": 27,
   "metadata": {},
   "outputs": [
    {
     "name": "stdout",
     "output_type": "stream",
     "text": [
      "Hello,홍길동.you are 30 years old\n",
      "Hello, 홍길동. You are 30 years old\n",
      "Hello, 홍길동. You are 30 years old\n"
     ]
    }
   ],
   "source": [
    "name=\"홍길동\"\n",
    "age=30\n",
    "print(f\"Hello,{name}.you are {age} years old\")\n",
    "print(\"Hello, %s. You are %d years old\" %(name,age))\n",
    "print(\"Hello, {}. You are {} years old\".format(name,age))"
   ]
  },
  {
   "cell_type": "markdown",
   "metadata": {},
   "source": [
    "# 5절 연산자"
   ]
  },
  {
   "cell_type": "markdown",
   "metadata": {},
   "source": [
    "## 5.1 산술연산자"
   ]
  },
  {
   "cell_type": "code",
   "execution_count": 28,
   "metadata": {
    "scrolled": true
   },
   "outputs": [
    {
     "name": "stdout",
     "output_type": "stream",
     "text": [
      "1000\n",
      "3\n",
      "3.3333333333333335\n",
      "3.0\n"
     ]
    }
   ],
   "source": [
    "a=10\n",
    "print(a**3) # a의 3제곱\n",
    "print(a//3) # a나누기 3의 몫\n",
    "print(a/3) # 3.33333333\n",
    "print(9/3) #파이썬에서 /연산의 결과는 실수"
   ]
  },
  {
   "cell_type": "code",
   "execution_count": 29,
   "metadata": {},
   "outputs": [
    {
     "name": "stdout",
     "output_type": "stream",
     "text": [
      "1.0\n"
     ]
    }
   ],
   "source": [
    "print(10.0%3.0) #실수끼리 나머지 연산"
   ]
  },
  {
   "cell_type": "code",
   "execution_count": 30,
   "metadata": {},
   "outputs": [
    {
     "name": "stdout",
     "output_type": "stream",
     "text": [
      "0.19999999999999996\n"
     ]
    }
   ],
   "source": [
    "print(3.8%1.2) #실수끼리 나머지 연산시 결과가 다소 오차가 존재할 수 있음."
   ]
  },
  {
   "cell_type": "markdown",
   "metadata": {},
   "source": [
    "## 5.2 대입(할당) 연산자.\n",
    "- = += -= //= /="
   ]
  },
  {
   "cell_type": "code",
   "execution_count": 31,
   "metadata": {},
   "outputs": [
    {
     "data": {
      "text/plain": [
       "5"
      ]
     },
     "execution_count": 31,
     "metadata": {},
     "output_type": "execute_result"
    }
   ],
   "source": [
    "a=10\n",
    "a//= 2 #a = a//2\n",
    "a"
   ]
  },
  {
   "cell_type": "markdown",
   "metadata": {},
   "source": [
    "## 5.3 논리연산자"
   ]
  },
  {
   "cell_type": "code",
   "execution_count": 33,
   "metadata": {},
   "outputs": [
    {
     "name": "stdout",
     "output_type": "stream",
     "text": [
      "True\n",
      "0\n",
      "True\n"
     ]
    }
   ],
   "source": [
    "print((10>3)&(10>5)) # True\n",
    "print(12&1) # \n",
    "\n",
    "print(5<8<10<100) #논리연산자를 삼항, 사항...가능"
   ]
  },
  {
   "cell_type": "code",
   "execution_count": 36,
   "metadata": {},
   "outputs": [
    {
     "name": "stdout",
     "output_type": "stream",
     "text": [
      "True\n",
      "False\n"
     ]
    }
   ],
   "source": [
    "print((10>3)&(10>5)) \n",
    "print(10>3 & 10>5)\n",
    "# 연산자 우선순위: 비트연산자가 논리비교연산보다 높다\n",
    "# 0011 & 1010=0010(2)\n",
    "#print(10>2>5)\n"
   ]
  },
  {
   "cell_type": "code",
   "execution_count": 44,
   "metadata": {},
   "outputs": [
    {
     "name": "stdout",
     "output_type": "stream",
     "text": [
      "false인가\n"
     ]
    }
   ],
   "source": [
    "#논리연산자에 문자열이 오면\n",
    "# ''(빈스트링)은 fatse로 그외는 true\n",
    "if'':\n",
    "    print('빈스트링은 TRue인가')\n",
    "else:\n",
    "    print(\"false인가\")"
   ]
  },
  {
   "cell_type": "code",
   "execution_count": null,
   "metadata": {},
   "outputs": [],
   "source": [
    "# 논리연산자에 문자열이 오면 에러\n",
    "True | ''\n",
    "True | bool('')"
   ]
  },
  {
   "cell_type": "code",
   "execution_count": 43,
   "metadata": {},
   "outputs": [
    {
     "name": "stdout",
     "output_type": "stream",
     "text": [
      " E 드라이브의 볼륨: 학생방\n",
      " 볼륨 일련 번호: A86E-569B\n",
      "\n",
      " E:\\kim_jiwon\\src\\08_python 디렉터리\n",
      "\n",
      "2021-02-22  오후 06:14    <DIR>          .\n",
      "2021-02-22  오후 06:14    <DIR>          ..\n",
      "2021-02-22  오후 06:03    <DIR>          .ipynb_checkpoints\n",
      "2021-02-19  오후 04:10             3,696 ch01_파이썬 개요 및 개발환경.ipynb\n",
      "2021-02-22  오후 04:11           621,094 ch02 6절 문자열다루기_7절 날짜다루기.html\n",
      "2021-02-22  오후 06:10            22,477 ch02_1절_변수_2절_화면입출력,3절_기본자료형.ipynb\n",
      "2021-02-22  오후 06:14            25,579 ch02_4절 format 5절 연산자.ipynb\n",
      "2021-02-22  오후 04:06            20,985 ch02_6절 문자열다루기_7절 날짜다루기.ipynb\n",
      "2021-02-22  오후 06:01            20,838 Ch03 데이터구조.ipynb\n",
      "2021-02-19  오후 02:55               201 ex01.py\n",
      "               7개 파일             714,870 바이트\n",
      "               3개 디렉터리  412,618,108,928 바이트 남음\n"
     ]
    }
   ],
   "source": [
    "#주피터노트북에서는 ! 명령형을 실행시킬 수 있음.\n",
    "!dir"
   ]
  },
  {
   "cell_type": "code",
   "execution_count": 39,
   "metadata": {},
   "outputs": [],
   "source": [
    "#논리의 반전은 ! 아니라 not"
   ]
  },
  {
   "cell_type": "code",
   "execution_count": 40,
   "metadata": {},
   "outputs": [
    {
     "data": {
      "text/plain": [
       "False"
      ]
     },
     "execution_count": 40,
     "metadata": {},
     "output_type": "execute_result"
    }
   ],
   "source": [
    "not True"
   ]
  },
  {
   "cell_type": "code",
   "execution_count": 45,
   "metadata": {},
   "outputs": [
    {
     "data": {
      "text/plain": [
       "True"
      ]
     },
     "execution_count": 45,
     "metadata": {},
     "output_type": "execute_result"
    }
   ],
   "source": [
    "not 0 # 0 is false. else is true"
   ]
  },
  {
   "cell_type": "code",
   "execution_count": 46,
   "metadata": {},
   "outputs": [
    {
     "data": {
      "text/plain": [
       "False"
      ]
     },
     "execution_count": 46,
     "metadata": {},
     "output_type": "execute_result"
    }
   ],
   "source": [
    "not -999"
   ]
  },
  {
   "cell_type": "code",
   "execution_count": 47,
   "metadata": {},
   "outputs": [
    {
     "name": "stdout",
     "output_type": "stream",
     "text": [
      "False\n"
     ]
    }
   ],
   "source": [
    "a=False\n",
    "if not a:\n",
    "    print(a)"
   ]
  },
  {
   "cell_type": "code",
   "execution_count": 48,
   "metadata": {},
   "outputs": [
    {
     "name": "stdout",
     "output_type": "stream",
     "text": [
      "두수는 다르다\n"
     ]
    }
   ],
   "source": [
    "a, b = 15, 16\n",
    "if a != b :\n",
    "    print('두수는 다르다')"
   ]
  },
  {
   "cell_type": "code",
   "execution_count": 49,
   "metadata": {},
   "outputs": [
    {
     "name": "stdout",
     "output_type": "stream",
     "text": [
      "True\n"
     ]
    }
   ],
   "source": [
    "#and 연산자: 거짓으로 판별되는 첫번째 항의 결과가 반환\n",
    "# 모든 항이 참이면 마지막 항의 결과 반환\n",
    "print(True and 3 and True)"
   ]
  },
  {
   "cell_type": "code",
   "execution_count": 50,
   "metadata": {},
   "outputs": [
    {
     "name": "stdout",
     "output_type": "stream",
     "text": [
      "2\n"
     ]
    }
   ],
   "source": [
    "print(3 and 2)"
   ]
  },
  {
   "cell_type": "code",
   "execution_count": 51,
   "metadata": {},
   "outputs": [
    {
     "name": "stdout",
     "output_type": "stream",
     "text": [
      "0\n"
     ]
    }
   ],
   "source": [
    "print(3 and 5.4 and True and 0 and 'Python')"
   ]
  },
  {
   "cell_type": "code",
   "execution_count": null,
   "metadata": {},
   "outputs": [],
   "source": [
    "# or 연산자: 참으로 판별되는 첫번째 항의 결과가 반환.\n",
    "#모든 항이 거짓이면 마지막 항의 결과 반환.\n",
    "print('' or False or None or 0)"
   ]
  },
  {
   "cell_type": "code",
   "execution_count": null,
   "metadata": {},
   "outputs": [],
   "source": [
    "print('' or 100 or False or None)"
   ]
  },
  {
   "cell_type": "markdown",
   "metadata": {},
   "source": [
    "## 5.4 비교연산자"
   ]
  },
  {
   "cell_type": "code",
   "execution_count": null,
   "metadata": {},
   "outputs": [],
   "source": [
    "# 문자는 ASCII 코드 순으로 비교 : 특수문자 < 숫자문자 < 대문자 < 소문자 < 한글\n",
    "'아' > '하'"
   ]
  },
  {
   "cell_type": "code",
   "execution_count": null,
   "metadata": {},
   "outputs": [],
   "source": [
    "'1'<'a'"
   ]
  },
  {
   "cell_type": "code",
   "execution_count": null,
   "metadata": {},
   "outputs": [],
   "source": [
    "True>False # true는 1로 매핑, false는 0으로 매핑"
   ]
  },
  {
   "cell_type": "code",
   "execution_count": null,
   "metadata": {},
   "outputs": [],
   "source": [
    "int(True),int(False)"
   ]
  },
  {
   "cell_type": "code",
   "execution_count": null,
   "metadata": {},
   "outputs": [],
   "source": [
    "bool(0),bool(-9)"
   ]
  },
  {
   "cell_type": "code",
   "execution_count": null,
   "metadata": {},
   "outputs": [],
   "source": [
    "jumsu=int(input('점수를 입력하세요>')) #입력한 수는 문자로 반환.\n",
    "if jumsu>=60:\n",
    "    print('합격')\n",
    "else:\n",
    "    print('불합격')"
   ]
  },
  {
   "cell_type": "markdown",
   "metadata": {},
   "source": [
    "## 5.5 비트 연산자"
   ]
  },
  {
   "cell_type": "code",
   "execution_count": null,
   "metadata": {},
   "outputs": [],
   "source": [
    "a='''\n",
    "x y x&y x|y x^y(xor)\n",
    "0 0 0   0     0\n",
    "0 1 0   1     1\n",
    "1 0 0   1     1\n",
    "1 1 1   1     0\n",
    "\n",
    "'''"
   ]
  },
  {
   "cell_type": "code",
   "execution_count": null,
   "metadata": {},
   "outputs": [],
   "source": [
    "a= 15 # 0 0 0 0 1 1 1 1 \n",
    "b= 2  # 0 0 0 0 0 0 1 0\n",
    "print(\"{:08b}\".format(a))\n",
    "print(\"{:08b}\".format(b))\n",
    "print(a&b)\n",
    "print(a|b)\n",
    "print(a^b)"
   ]
  },
  {
   "cell_type": "code",
   "execution_count": null,
   "metadata": {},
   "outputs": [],
   "source": [
    "# shift\n",
    "# a>>b ; a를 b비트만큼 오른쪽으로 이동.(=a를 2의 b승으로 나누는 결과.)\n",
    "#a<<b ;a를 b 비트만큼 왼족으로 이동(=a를 2의 b승 곱하는 결과.)\n",
    "#\n",
    "a=15 \n",
    "print(a>>2) #a를 오른쪽으로 2bit 이동\n",
    "print(a<<2)\n",
    "#not 논리연산의 반전. ~비트연산의 반전.\n",
    "print(~a) #0 0 0 0 1 1 1 1-> 11110000 (음수는 2의 보수 취함\n",
    "\n"
   ]
  },
  {
   "cell_type": "markdown",
   "metadata": {},
   "source": [
    "## 5.6 isinstance\n",
    "isinstance (data, type): 스칼라 데이터나 객체의 유형을 확인하는 함수. 어떤 값이 특정 유형인지를 확인."
   ]
  },
  {
   "cell_type": "code",
   "execution_count": 52,
   "metadata": {},
   "outputs": [
    {
     "data": {
      "text/plain": [
       "True"
      ]
     },
     "execution_count": 52,
     "metadata": {},
     "output_type": "execute_result"
    }
   ],
   "source": [
    "isinstance(3.5, float)"
   ]
  },
  {
   "cell_type": "markdown",
   "metadata": {},
   "source": [
    "8절. 연습문제"
   ]
  },
  {
   "cell_type": "code",
   "execution_count": null,
   "metadata": {},
   "outputs": [],
   "source": [
    "#1\n",
    "name=\"홍길동\"\n",
    "age=23\n",
    "print(\"Hello, {}. You are {} years old\".format(name,age))"
   ]
  },
  {
   "cell_type": "code",
   "execution_count": null,
   "metadata": {},
   "outputs": [],
   "source": [
    "#2\n",
    "a=int(input('첫째 수'))\n",
    "b=int(input('첫째 수'))\n",
    "\n",
    "print(a+b)\n",
    "print(a-b)\n",
    "print(a*b)\n",
    "try:\n",
    "    print(a/b)\n",
    "    print(a//b)\n",
    "    print(a%b)\n",
    "except Exception:\n",
    "    print('두번째 수에 0을 입력하여 나누기 연산이 불가합니다.')"
   ]
  },
  {
   "cell_type": "code",
   "execution_count": null,
   "metadata": {},
   "outputs": [],
   "source": [
    "#3\n",
    "a='hello world'\n",
    "a[6:]+a[0:5]"
   ]
  },
  {
   "cell_type": "code",
   "execution_count": null,
   "metadata": {},
   "outputs": [],
   "source": [
    "#4 x = 'abcdef＇를 이용하여 ‘bcdefa’로 출력하세요(문자 슬라이싱이용).\n",
    "x='abcdef'\n",
    "x[1:]+x[0:1]"
   ]
  },
  {
   "cell_type": "code",
   "execution_count": null,
   "metadata": {},
   "outputs": [],
   "source": [
    "#5 x = ‘abcdef’를 이용하여 ‘fedcba’로 출력하세요\n",
    "x='abcdef'\n",
    "x[::-1]"
   ]
  },
  {
   "cell_type": "code",
   "execution_count": null,
   "metadata": {},
   "outputs": [],
   "source": [
    "#오늘의 온도를 섭씨온도로 입력받아 화씨 온도로 변환하는 프로그램을 작성하세요. 화\n",
    "#씨 온도는 소수점 두번째 자리까지 출려되어야 합니다(다음은 섭씨와 화씨의 변환 공\n",
    "#식입니다. C는 섭씨, F는 화씨)\n",
    "#C = (F-32) / 1.8\n",
    "#F = (C*1.8) + 32\n",
    "\n",
    "a=int(input('오늘의 섭씨온도'))\n",
    "f = (a*1.8) + 32\n",
    "print(\"f=[{:.2f}]\".format(f))\n",
    "\n"
   ]
  }
 ],
 "metadata": {
  "kernelspec": {
   "display_name": "Python 3",
   "language": "python",
   "name": "python3"
  },
  "language_info": {
   "codemirror_mode": {
    "name": "ipython",
    "version": 3
   },
   "file_extension": ".py",
   "mimetype": "text/x-python",
   "name": "python",
   "nbconvert_exporter": "python",
   "pygments_lexer": "ipython3",
   "version": "3.8.5"
  },
  "toc": {
   "base_numbering": 1,
   "nav_menu": {},
   "number_sections": false,
   "sideBar": true,
   "skip_h1_title": false,
   "title_cell": "Table of Contents",
   "title_sidebar": "Contents",
   "toc_cell": false,
   "toc_position": {},
   "toc_section_display": true,
   "toc_window_display": true
  },
  "varInspector": {
   "cols": {
    "lenName": 16,
    "lenType": 16,
    "lenVar": 40
   },
   "kernels_config": {
    "python": {
     "delete_cmd_postfix": "",
     "delete_cmd_prefix": "del ",
     "library": "var_list.py",
     "varRefreshCmd": "print(var_dic_list())"
    },
    "r": {
     "delete_cmd_postfix": ") ",
     "delete_cmd_prefix": "rm(",
     "library": "var_list.r",
     "varRefreshCmd": "cat(var_dic_list()) "
    }
   },
   "types_to_exclude": [
    "module",
    "function",
    "builtin_function_or_method",
    "instance",
    "_Feature"
   ],
   "window_display": false
  }
 },
 "nbformat": 4,
 "nbformat_minor": 4
}
