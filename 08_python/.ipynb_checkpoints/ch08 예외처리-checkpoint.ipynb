{
 "cells": [
  {
   "cell_type": "markdown",
   "metadata": {},
   "source": [
    "# 1절 예외처리\n",
    "- 예외가 날 가능성이 있는 부분에 대해 미리 대비하는 프로그래밍\n"
   ]
  },
  {
   "cell_type": "code",
   "execution_count": 9,
   "metadata": {},
   "outputs": [
    {
     "name": "stdout",
     "output_type": "stream",
     "text": [
      "읽을파일이름은?ch08_abc.txt\n",
      "jupyter notebook KR utf-8\n",
      "\n"
     ]
    }
   ],
   "source": [
    "filename=input(\"읽을파일이름은?\")\n",
    "f = open('data/'+filename,'r')\n",
    "firstline = f.readline()\n",
    "print(firstline)\n",
    "f.close()"
   ]
  },
  {
   "cell_type": "code",
   "execution_count": null,
   "metadata": {},
   "outputs": [],
   "source": [
    "num = int(input(\"정수를 입력하세요>\"))"
   ]
  },
  {
   "cell_type": "code",
   "execution_count": 10,
   "metadata": {},
   "outputs": [
    {
     "name": "stdout",
     "output_type": "stream",
     "text": [
      "원하는 인덱스는?\n"
     ]
    },
    {
     "ename": "ValueError",
     "evalue": "invalid literal for int() with base 10: ''",
     "output_type": "error",
     "traceback": [
      "\u001b[1;31m---------------------------------------------------------------------------\u001b[0m",
      "\u001b[1;31mValueError\u001b[0m                                Traceback (most recent call last)",
      "\u001b[1;32m<ipython-input-10-6cb6077b685a>\u001b[0m in \u001b[0;36m<module>\u001b[1;34m\u001b[0m\n\u001b[0;32m      1\u001b[0m \u001b[0mㅣ\u001b[0m\u001b[1;33m=\u001b[0m\u001b[1;33m[\u001b[0m\u001b[1;36m1\u001b[0m\u001b[1;33m,\u001b[0m\u001b[1;36m2\u001b[0m\u001b[1;33m,\u001b[0m\u001b[1;36m3\u001b[0m\u001b[1;33m]\u001b[0m\u001b[1;33m\u001b[0m\u001b[1;33m\u001b[0m\u001b[0m\n\u001b[1;32m----> 2\u001b[1;33m \u001b[0midx\u001b[0m\u001b[1;33m=\u001b[0m\u001b[0mint\u001b[0m\u001b[1;33m(\u001b[0m\u001b[0minput\u001b[0m\u001b[1;33m(\u001b[0m\u001b[1;34m\"원하는 인덱스는?\"\u001b[0m\u001b[1;33m)\u001b[0m\u001b[1;33m)\u001b[0m\u001b[1;33m\u001b[0m\u001b[1;33m\u001b[0m\u001b[0m\n\u001b[0m\u001b[0;32m      3\u001b[0m \u001b[0mprint\u001b[0m\u001b[1;33m(\u001b[0m\u001b[1;34m\"{}번째 값은 {}\"\u001b[0m\u001b[1;33m.\u001b[0m\u001b[0mformat\u001b[0m\u001b[1;33m(\u001b[0m\u001b[0midx\u001b[0m\u001b[1;33m,\u001b[0m\u001b[0ml\u001b[0m\u001b[1;33m[\u001b[0m\u001b[0midx\u001b[0m\u001b[1;33m]\u001b[0m\u001b[1;33m)\u001b[0m\u001b[1;33m)\u001b[0m\u001b[1;33m\u001b[0m\u001b[1;33m\u001b[0m\u001b[0m\n",
      "\u001b[1;31mValueError\u001b[0m: invalid literal for int() with base 10: ''"
     ]
    }
   ],
   "source": [
    "ㅣ=[1,2,3]\n",
    "idx=int(input(\"원하는 인덱스는?\"))\n",
    "print(\"{}번째 값은 {}\".format(idx,l[idx]))"
   ]
  },
  {
   "cell_type": "code",
   "execution_count": 12,
   "metadata": {},
   "outputs": [
    {
     "name": "stdout",
     "output_type": "stream",
     "text": [
      "정수는?ㅎㅎ\n",
      "정수를 입력 안 하셨군\n"
     ]
    }
   ],
   "source": [
    "# 2절. 예외처리하기(try~except)\n",
    "try:\n",
    "    x=int(input(\"정수는?\"))\n",
    "    print(\"입력한 정수는 {}입니다.\".format(x))\n",
    "except Exception:\n",
    "    print(\"정수를 입력 안 하셨군\")"
   ]
  },
  {
   "cell_type": "code",
   "execution_count": 16,
   "metadata": {},
   "outputs": [
    {
     "name": "stdout",
     "output_type": "stream",
     "text": [
      "정수는?d\n",
      "invalid literal for int() with base 10: 'd'\n",
      "정수를 입력 안 하셨군\n"
     ]
    }
   ],
   "source": [
    "try:\n",
    "    x=int(input(\"정수는?\"))\n",
    "    print(\"입력한 정수는 {}입니다.\".format(x))\n",
    "except ValueError as e:\n",
    "    print(e)\n",
    "    print(\"정수를 입력 안 하셨군\")"
   ]
  },
  {
   "cell_type": "code",
   "execution_count": 19,
   "metadata": {},
   "outputs": [
    {
     "name": "stdout",
     "output_type": "stream",
     "text": [
      "정수는?d\n",
      "정수를 입력 안 하셨군\n",
      "정수는?\n",
      "정수를 입력 안 하셨군\n",
      "정수는?6\n",
      "입력한 정수는 6입니다.\n"
     ]
    }
   ],
   "source": [
    "#입력값이 정수가 아닌 경우 예외 메세지를 출력하고 다시 입력한다.\n",
    "while True:\n",
    "    try:\n",
    "        x=int(input(\"정수는?\"))\n",
    "        print(\"입력한 정수는 {}입니다.\".format(x))\n",
    "        break;\n",
    "    except ValueError:\n",
    "        print(\"정수를 입력 안 하셨군\")"
   ]
  },
  {
   "cell_type": "code",
   "execution_count": 22,
   "metadata": {},
   "outputs": [
    {
     "name": "stdout",
     "output_type": "stream",
     "text": [
      "수: 5\n",
      "입력한 정수는 5\n",
      "100/5=20.0\n"
     ]
    }
   ],
   "source": [
    "#100을 입력한 정수값으로 나눔.\n",
    "#두 가지 예외를 따로 처리하는 경우.\n",
    "while True:\n",
    "    try:\n",
    "        x=int(input(\"수: \"))\n",
    "        print(\"입력한 정수는 {}\".format(x))\n",
    "        result=100/x\n",
    "        print(\"100/{}={}\".format(x,result))\n",
    "        break;\n",
    "    except ValueError:\n",
    "        print(\"유효한 정수를 다시 입력할 것.\")\n",
    "    except ZeroDivisionError:\n",
    "        print(\"0으로 나누다뇨.\")\n"
   ]
  },
  {
   "cell_type": "code",
   "execution_count": 23,
   "metadata": {},
   "outputs": [
    {
     "name": "stdout",
     "output_type": "stream",
     "text": [
      "수: o\n",
      "예외이다.\n",
      "수: \n",
      "예외이다.\n",
      "수: 98\n",
      "입력한 정수는 98\n",
      "100/98=1.0204081632653061\n"
     ]
    }
   ],
   "source": [
    "while True:\n",
    "    try:\n",
    "        x=int(input(\"수: \"))\n",
    "        print(\"입력한 정수는 {}\".format(x))\n",
    "        result=100/x\n",
    "        print(\"100/{}={}\".format(x,result))\n",
    "        break;\n",
    "    except Exception:\n",
    "        print(\"예외이다.\")\n",
    "    except ValueError:\n",
    "        print(\"유효한 정수를 다시 입력할 것.\")\n",
    "    except ZeroDivisionError:\n",
    "        print(\"0으로 나누다뇨.\")\n",
    "\n",
    "#상위의 exception을 위에 쓰면 그것만 나와버린다.\n"
   ]
  },
  {
   "cell_type": "code",
   "execution_count": 27,
   "metadata": {},
   "outputs": [
    {
     "name": "stdout",
     "output_type": "stream",
     "text": [
      "수: r\n",
      "문자나 0은 입력 불가. 다시 입력할 것\n",
      "invalid literal for int() with base 10: 'r'\n",
      "수: 5\n",
      "입력한 정수는 5\n",
      "100/5=20.0\n"
     ]
    }
   ],
   "source": [
    "while True:\n",
    "    try:\n",
    "        x=int(input(\"수: \"))\n",
    "        print(\"입력한 정수는 {}\".format(x))\n",
    "        result=100/x\n",
    "        print(\"100/{}={}\".format(x,result))\n",
    "        break;\n",
    "    except (ValueError,ZeroDivisionError) as e: #이런 식으로 묶을 수 있습니다.\n",
    "        print(\"문자나 0은 입력 불가. 다시 입력할 것\")\n",
    "        print(e.__str__())"
   ]
  },
  {
   "cell_type": "code",
   "execution_count": 28,
   "metadata": {},
   "outputs": [
    {
     "name": "stdout",
     "output_type": "stream",
     "text": [
      "수: ㄹ\n",
      "다시 입력하세요.\n",
      "수: ㄴ\n",
      "다시 입력하세요.\n",
      "수: ㅇ\n",
      "다시 입력하세요.\n",
      "수: 0\n",
      "입력한 정수는 0\n",
      "다시 입력하세요.\n",
      "수: #\n",
      "다시 입력하세요.\n",
      "수: 6\n",
      "입력한 정수는 6\n",
      "100/6=16.666666666666668\n"
     ]
    }
   ],
   "source": [
    "while True:\n",
    "    try:\n",
    "        x=int(input(\"수: \"))\n",
    "        print(\"입력한 정수는 {}\".format(x))\n",
    "        result=100/x\n",
    "        print(\"100/{}={}\".format(x,result))\n",
    "        break;\n",
    "    except: #모든 예외를 처리함.\n",
    "        print(\"다시 입력하세요.\")"
   ]
  },
  {
   "cell_type": "code",
   "execution_count": null,
   "metadata": {},
   "outputs": [],
   "source": [
    "1# try-except ~ (else~)finally"
   ]
  },
  {
   "cell_type": "code",
   "execution_count": 29,
   "metadata": {},
   "outputs": [
    {
     "name": "stdout",
     "output_type": "stream",
     "text": [
      "jupyter notebook KR utf-8\n",
      "\n",
      "Hello\n",
      "Python\n"
     ]
    }
   ],
   "source": [
    "try :\n",
    "    f=open(\"data/ch08_abc.txt\",\"r\") #읽기면 R, 쓰기면 w. 덮어쓰기는 W, 추가는 A \n",
    "except FileNotFoundError:\n",
    "    print(\"파일이 없습니다.\")\n",
    "else:\n",
    "    data=f.read()\n",
    "    print(data)\n",
    "    f.close()"
   ]
  },
  {
   "cell_type": "code",
   "execution_count": null,
   "metadata": {},
   "outputs": [],
   "source": [
    "try :\n",
    "    f=open(\"data/ch08_abc.txt\",\"r\") #읽기면 R, 쓰기면 w. 덮어쓰기는 W, 추가는 A \n",
    "    data=f.read()\n",
    "    print(data)\n",
    "except FileNotFoundError:\n",
    "    print(\"파일이 없습니다.\")\n",
    "finally: #try블록에 예외 있든없든 실행\n",
    "    f.close()\n"
   ]
  },
  {
   "cell_type": "code",
   "execution_count": 58,
   "metadata": {},
   "outputs": [
    {
     "name": "stdout",
     "output_type": "stream",
     "text": [
      "수: 0\n",
      "입력한 정수는 0\n",
      "예외 유형 <class 'ZeroDivisionError'>\n",
      "예외 메세지 division by zero\n",
      "예외 division by zero\n",
      "수: hello\n",
      "예외 유형 <class 'ValueError'>\n",
      "예외 메세지 invalid literal for int() with base 10: 'hello'\n",
      "예외 invalid literal for int() with base 10: 'hello'\n",
      "수: 20\n",
      "입력한 정수는 20\n",
      "100/20=5.0\n"
     ]
    }
   ],
   "source": [
    "#예외인수 e\n",
    "# 100을 \n",
    "while True:\n",
    "    try:\n",
    "        x=int(input(\"정수를 입력하세요: \"))\n",
    "        print(\"입력한 정수는 {}\".format(x))\n",
    "        result=100/x\n",
    "        print(\"100/{}={}\".format(x,result))\n",
    "        break;\n",
    "    except (ValueError,ZeroDivisionError) as e: #이런 식으로 묶을 수 있습니다.\n",
    "        print(\"예외 유형\",type(e))\n",
    "        print(\"예외 메세지\",e.args[0]) #e.args 튜플형식이므로 e.args[0] 이용해서 예외메세지 본다.\n",
    "        print(\"예외\",e)"
   ]
  },
  {
   "cell_type": "markdown",
   "metadata": {},
   "source": [
    "# 3절. raise로 예외 발생시키기"
   ]
  },
  {
   "cell_type": "code",
   "execution_count": 59,
   "metadata": {},
   "outputs": [
    {
     "ename": "NameError",
     "evalue": "예외가 발생",
     "output_type": "error",
     "traceback": [
      "\u001b[1;31m---------------------------------------------------------------------------\u001b[0m",
      "\u001b[1;31mNameError\u001b[0m                                 Traceback (most recent call last)",
      "\u001b[1;32m<ipython-input-59-9b870e7e3bc4>\u001b[0m in \u001b[0;36m<module>\u001b[1;34m\u001b[0m\n\u001b[1;32m----> 1\u001b[1;33m \u001b[1;32mraise\u001b[0m \u001b[0mNameError\u001b[0m\u001b[1;33m(\u001b[0m\u001b[1;34m\"예외가 발생\"\u001b[0m\u001b[1;33m)\u001b[0m\u001b[1;33m\u001b[0m\u001b[1;33m\u001b[0m\u001b[0m\n\u001b[0m",
      "\u001b[1;31mNameError\u001b[0m: 예외가 발생"
     ]
    }
   ],
   "source": [
    "raise NameError(\"예외가 발생\")"
   ]
  },
  {
   "cell_type": "code",
   "execution_count": 34,
   "metadata": {},
   "outputs": [],
   "source": [
    "def insert(data):\n",
    "    if len(data)==0:\n",
    "        raise Exception(\"길이 0, 출력할 것 없음\")\n",
    "    print(data,\"를 입력할게요.\")"
   ]
  },
  {
   "cell_type": "code",
   "execution_count": 38,
   "metadata": {},
   "outputs": [
    {
     "name": "stdout",
     "output_type": "stream",
     "text": [
      "길이 0, 출력할 것 없음\n",
      "길이 0, 출력할 것 없음\n"
     ]
    }
   ],
   "source": [
    "try:\n",
    "    insert({})\n",
    "except Exception as e:\n",
    "    print(e)\n",
    "    print(e.args[0])"
   ]
  },
  {
   "cell_type": "markdown",
   "metadata": {},
   "source": [
    "# 4절. raise를 이용하여 추상클래스 정의하기\n",
    "-python은 추상클래스를 생성할 수 없으나 raise를 이용해 추상클래스를 흉내냄"
   ]
  },
  {
   "cell_type": "code",
   "execution_count": 50,
   "metadata": {},
   "outputs": [],
   "source": [
    "class Shape:\n",
    "    def __init__(self):\n",
    "        raise NotImplementedError"
   ]
  },
  {
   "cell_type": "code",
   "execution_count": 52,
   "metadata": {},
   "outputs": [
    {
     "ename": "NotImplementedError",
     "evalue": "",
     "output_type": "error",
     "traceback": [
      "\u001b[1;31m---------------------------------------------------------------------------\u001b[0m",
      "\u001b[1;31mNotImplementedError\u001b[0m                       Traceback (most recent call last)",
      "\u001b[1;32m<ipython-input-52-1fefe59c4cd0>\u001b[0m in \u001b[0;36m<module>\u001b[1;34m\u001b[0m\n\u001b[1;32m----> 1\u001b[1;33m \u001b[0mmyShape\u001b[0m\u001b[1;33m=\u001b[0m\u001b[0mShape\u001b[0m\u001b[1;33m(\u001b[0m\u001b[1;33m)\u001b[0m\u001b[1;33m\u001b[0m\u001b[1;33m\u001b[0m\u001b[0m\n\u001b[0m",
      "\u001b[1;32m<ipython-input-50-5c89b96f6e39>\u001b[0m in \u001b[0;36m__init__\u001b[1;34m(self)\u001b[0m\n\u001b[0;32m      1\u001b[0m \u001b[1;32mclass\u001b[0m \u001b[0mShape\u001b[0m\u001b[1;33m:\u001b[0m\u001b[1;33m\u001b[0m\u001b[1;33m\u001b[0m\u001b[0m\n\u001b[0;32m      2\u001b[0m     \u001b[1;32mdef\u001b[0m \u001b[0m__init__\u001b[0m\u001b[1;33m(\u001b[0m\u001b[0mself\u001b[0m\u001b[1;33m)\u001b[0m\u001b[1;33m:\u001b[0m\u001b[1;33m\u001b[0m\u001b[1;33m\u001b[0m\u001b[0m\n\u001b[1;32m----> 3\u001b[1;33m         \u001b[1;32mraise\u001b[0m \u001b[0mNotImplementedError\u001b[0m\u001b[1;33m\u001b[0m\u001b[1;33m\u001b[0m\u001b[0m\n\u001b[0m",
      "\u001b[1;31mNotImplementedError\u001b[0m: "
     ]
    }
   ],
   "source": [
    "myShape=Shape()"
   ]
  },
  {
   "cell_type": "markdown",
   "metadata": {},
   "source": [
    "# 5절. 사용자 정의 예외"
   ]
  },
  {
   "cell_type": "code",
   "execution_count": 43,
   "metadata": {},
   "outputs": [],
   "source": [
    "class AbstractError(Exception):\n",
    "    \"추상클래스를 이용하여 객체를 생성할 때 나는 오류\"\n",
    "    def __init(self):\n",
    "        Exception.__init__(self, \"shape는 추상클래스여서 객체 생성 불가\")"
   ]
  },
  {
   "cell_type": "code",
   "execution_count": 44,
   "metadata": {},
   "outputs": [],
   "source": [
    "class Shape:\n",
    "    def __init__(self):\n",
    "        raise AbstractError()\n",
    "    def cal_area(self):\n",
    "        raise AbstractError()"
   ]
  },
  {
   "cell_type": "code",
   "execution_count": 45,
   "metadata": {},
   "outputs": [],
   "source": [
    "class Circle(Shape):\n",
    "    def __init__(self,r):\n",
    "        self.r=r\n",
    "    def cal_area(self):\n",
    "        return r*r*3,14"
   ]
  },
  {
   "cell_type": "code",
   "execution_count": 47,
   "metadata": {},
   "outputs": [],
   "source": [
    "c=Circle(3)"
   ]
  },
  {
   "cell_type": "markdown",
   "metadata": {},
   "source": [
    "# 6절 파일정리작업"
   ]
  },
  {
   "cell_type": "code",
   "execution_count": 49,
   "metadata": {},
   "outputs": [
    {
     "name": "stdout",
     "output_type": "stream",
     "text": [
      "파일명은 ?ch08_abc.txt\n",
      "['jupyter notebook KR utf-8\\n', '\\n', 'Hello\\n', 'Python']\n"
     ]
    }
   ],
   "source": [
    "filename = input('파일명은 ?')\n",
    "try:\n",
    "    f=open('data/'+filename,'r')\n",
    "    lines = f.readlines()\n",
    "    print(lines)\n",
    "except:\n",
    "    pass\n",
    "finally:\n",
    "    f.close()"
   ]
  },
  {
   "cell_type": "code",
   "execution_count": null,
   "metadata": {},
   "outputs": [],
   "source": [
    "filename = input('파일명은 ?')\n",
    "\n",
    "f=open('data/'+filename,'r')\n",
    "lines = f.readlines()\n",
    "print(lines)\n",
    "pass\n",
    "f.close()"
   ]
  },
  {
   "cell_type": "code",
   "execution_count": null,
   "metadata": {},
   "outputs": [],
   "source": [
    "#with절 이후에는 자동적으로 close()\n",
    "with open('data/ch08_abc.txt','r')as f:\n",
    "    lines = f.readlines()\n",
    "    print(lines)"
   ]
  },
  {
   "cell_type": "code",
   "execution_count": null,
   "metadata": {},
   "outputs": [],
   "source": [
    "\n",
    "\n",
    "\n"
   ]
  },
  {
   "cell_type": "code",
   "execution_count": 60,
   "metadata": {},
   "outputs": [
    {
     "data": {
      "text/plain": [
       "'\\n연습문제(문풀형)\\n1번은 3번. 나중에 선언해야함\\n2.번.\\n'"
      ]
     },
     "execution_count": 60,
     "metadata": {},
     "output_type": "execute_result"
    }
   ],
   "source": [
    "'''\n",
    "연습문제(문풀형)\n",
    "1번은 3번. 나중에 선언해야함\n",
    "2번 2번\n",
    "3번 4\n",
    "4번 with절 사용 x\n",
    "'''"
   ]
  }
 ],
 "metadata": {
  "kernelspec": {
   "display_name": "Python 3",
   "language": "python",
   "name": "python3"
  },
  "language_info": {
   "codemirror_mode": {
    "name": "ipython",
    "version": 3
   },
   "file_extension": ".py",
   "mimetype": "text/x-python",
   "name": "python",
   "nbconvert_exporter": "python",
   "pygments_lexer": "ipython3",
   "version": "3.8.5"
  },
  "toc": {
   "base_numbering": 1,
   "nav_menu": {},
   "number_sections": false,
   "sideBar": true,
   "skip_h1_title": false,
   "title_cell": "Table of Contents",
   "title_sidebar": "Contents",
   "toc_cell": false,
   "toc_position": {},
   "toc_section_display": true,
   "toc_window_display": false
  },
  "varInspector": {
   "cols": {
    "lenName": 16,
    "lenType": 16,
    "lenVar": 40
   },
   "kernels_config": {
    "python": {
     "delete_cmd_postfix": "",
     "delete_cmd_prefix": "del ",
     "library": "var_list.py",
     "varRefreshCmd": "print(var_dic_list())"
    },
    "r": {
     "delete_cmd_postfix": ") ",
     "delete_cmd_prefix": "rm(",
     "library": "var_list.r",
     "varRefreshCmd": "cat(var_dic_list()) "
    }
   },
   "types_to_exclude": [
    "module",
    "function",
    "builtin_function_or_method",
    "instance",
    "_Feature"
   ],
   "window_display": false
  }
 },
 "nbformat": 4,
 "nbformat_minor": 4
}
