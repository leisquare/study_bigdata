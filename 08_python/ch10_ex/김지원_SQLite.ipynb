{
 "cells": [
  {
   "cell_type": "markdown",
   "metadata": {},
   "source": [
    "# 연습문제"
   ]
  },
  {
   "cell_type": "code",
   "execution_count": 2,
   "metadata": {},
   "outputs": [],
   "source": [
    "# 필요한 클래스나 함수\n",
    "class Customer:\n",
    "    def __init__(self, name, phone, email, age, grade, etc):\n",
    "        self.name = name\n",
    "        self.phone = phone\n",
    "        self.email = email\n",
    "        self.age = age\n",
    "        self.grade = grade\n",
    "        self.etc = etc\n",
    "    def as_dict (self): # csv파일 저장시 필요\n",
    "        return {\"name\":self.name, \"phone\":self.phone,\n",
    "                 \"email\":self.email, \"age\":self.age,\n",
    "                 \"grade\":self.grade, \"etc\":self.etc}"
   ]
  },
  {
   "cell_type": "code",
   "execution_count": 3,
   "metadata": {},
   "outputs": [],
   "source": [
    "# 1. 입력\n",
    "def insert_customer_info():\n",
    "    name = input('이름 : ')\n",
    "    phone = input(\"전화번호 : \")\n",
    "    email = input(\"이메일 : \")\n",
    "    try:\n",
    "        age = int(input(\"나이 : \"))\n",
    "    except ValueError as e:\n",
    "        print('유효하지 않은 나이  입력시 나이는 0으로 초기화')\n",
    "        age = 0\n",
    "    try:\n",
    "        grade = int(input(\"고객등급(1~5) : \"))\n",
    "        if grade < 1 :\n",
    "            grade = 1\n",
    "        if grade > 5 :\n",
    "            greade = 5\n",
    "    except ValueError as e:\n",
    "        print('유효하지 않은 등급을 입력시 등급은 1로 초기화')\n",
    "        grade = 1\n",
    "    etc = input(\"기타 정보 : \")\n",
    "    cursor.execute(\"INSERT INTO member VALUES (:name,:phone,:email,:age,:grade,:etc)\",\n",
    "              {'name':name,'phone':phone,'email':email,'age':age,'grade':grade,'etc':etc})\n",
    "     \n",
    "    conn.commit()"
   ]
  },
  {
   "cell_type": "code",
   "execution_count": 4,
   "metadata": {},
   "outputs": [],
   "source": [
    "#2 전체 출력\n",
    "def print_customers():\n",
    "    print(\"=\"*70)\n",
    "    print(\"{:^70}\".format(\"고객정보\"))\n",
    "    print(\"=\"*70)\n",
    "    print(\"{}\\t\\t{}\\t\\t{}\\t\\t{}\\t{}\\t{}\".format(\"이름\",\"전화\",\"메일\",\"나이\",\"grade\",\"기타\"))\n",
    "    print(\"=\"*70)\n",
    "    cursor.execute(\"SELECT * FROM member\")\n",
    "    members = cursor.fetchall()\n",
    "    if len(members)==0 :\n",
    "        print('해당 데이터가 존재하지 않습니다.')\n",
    "    else:\n",
    "        for m in members:\n",
    "            print(m)\n",
    "    print(\"=\"*70)"
   ]
  },
  {
   "cell_type": "code",
   "execution_count": 12,
   "metadata": {},
   "outputs": [],
   "source": [
    "# 3. 이름찾기(동명이인도 모두 검색)\n",
    "def search_customer():\n",
    "    name = input('검색할 이름은? ')\n",
    "    cursor.execute(\"SELECT * FROM member WHERE NAME=:name\",{'name':name})\n",
    "    members = cursor.fetchall()\n",
    "    if len(members)==0 :\n",
    "          print('해당 이름을 가진 데이터가 없습니다.')\n",
    "    else:\n",
    "        print(members)"
   ]
  },
  {
   "cell_type": "code",
   "execution_count": 7,
   "metadata": {},
   "outputs": [],
   "source": [
    "# 4. 메일로 삭제\n",
    "def delete_customer():\n",
    "    email=input('삭제할 메일?')\n",
    "    cursor.execute(\"DELETE FROM member WHERE EMAIL=:email\",{'email':email})\n",
    "    conn.commit()"
   ]
  },
  {
   "cell_type": "code",
   "execution_count": 19,
   "metadata": {},
   "outputs": [],
   "source": [
    "# 5. 내보내기(CSV)\n",
    "def save_customer_csv():\n",
    "    import csv\n",
    "    cursor.execute(\"SELECT * FROM member\")\n",
    "    members = cursor.fetchall()\n",
    "    try:\n",
    "        with open(\"data.csv\", \"w\", newline='', encoding=\"cp949\") as f:\n",
    "            writer = csv.writer(f)\n",
    "            for member in members:\n",
    "                writer.writerow(member)\n",
    "    except Exception as e:\n",
    "        print('데이터 내보내기 예외 :', e)"
   ]
  },
  {
   "cell_type": "code",
   "execution_count": 15,
   "metadata": {},
   "outputs": [],
   "source": [
    "def main():\n",
    "    while True:\n",
    "        print(\"1:입력\",\"2:전체조회\",\"3:이름찾기\", \"4:메일로 삭제\",\"5:내보내기(CSV)\", \n",
    "              \"0:종료\", sep=\"|\", end=\"\")\n",
    "        menu = int(input(\"메뉴 선택 : \"))\n",
    "        if menu == 1:\n",
    "            customer = insert_customer_info()\n",
    "        elif menu == 2:\n",
    "            print_customers()\n",
    "        elif menu == 3:\n",
    "            search_customer()\n",
    "        elif menu == 4:\n",
    "            delete_customer()\n",
    "        elif menu == 5:\n",
    "            save_customer_csv()\n",
    "        elif menu == 0:\n",
    "            cursor.close()\n",
    "            conn.close()\n",
    "            break"
   ]
  },
  {
   "cell_type": "code",
   "execution_count": 24,
   "metadata": {},
   "outputs": [
    {
     "name": "stdout",
     "output_type": "stream",
     "text": [
      "1:입력|2:전체조회|3:이름찾기|4:메일로 삭제|5:내보내기(CSV)|0:종료메뉴 선택 : 2\n",
      "======================================================================\n",
      "                                 고객정보                                 \n",
      "======================================================================\n",
      "이름\t\t전화\t\t메일\t\t나이\tgrade\t기타\n",
      "======================================================================\n",
      "('독고훈', '010-9287-2922', 'huni@naver.com', 28, 1, '')\n",
      "('최민재', '010-8276-2273', 'minjae@gmail.com', 24, 1, '')\n",
      "('김정길', '010-2736-2988', 'kil@hanmail.com', 33, 2, '')\n",
      "======================================================================\n",
      "1:입력|2:전체조회|3:이름찾기|4:메일로 삭제|5:내보내기(CSV)|0:종료메뉴 선택 : 1\n",
      "이름 : 홍길동\n",
      "전화번호 : 010-9999-9999\n",
      "이메일 : abc@hong.com\n",
      "나이 : 20\n",
      "고객등급(1~5) : 5\n",
      "기타 정보 : abc\n",
      "1:입력|2:전체조회|3:이름찾기|4:메일로 삭제|5:내보내기(CSV)|0:종료메뉴 선택 : 2\n",
      "======================================================================\n",
      "                                 고객정보                                 \n",
      "======================================================================\n",
      "이름\t\t전화\t\t메일\t\t나이\tgrade\t기타\n",
      "======================================================================\n",
      "('독고훈', '010-9287-2922', 'huni@naver.com', 28, 1, '')\n",
      "('최민재', '010-8276-2273', 'minjae@gmail.com', 24, 1, '')\n",
      "('김정길', '010-2736-2988', 'kil@hanmail.com', 33, 2, '')\n",
      "('홍길동', '010-9999-9999', 'abc@hong.com', 20, 5, 'abc')\n",
      "======================================================================\n",
      "1:입력|2:전체조회|3:이름찾기|4:메일로 삭제|5:내보내기(CSV)|0:종료메뉴 선택 : 4\n",
      "삭제할 메일?abc@hong.com\n",
      "1:입력|2:전체조회|3:이름찾기|4:메일로 삭제|5:내보내기(CSV)|0:종료메뉴 선택 : 2\n",
      "======================================================================\n",
      "                                 고객정보                                 \n",
      "======================================================================\n",
      "이름\t\t전화\t\t메일\t\t나이\tgrade\t기타\n",
      "======================================================================\n",
      "('독고훈', '010-9287-2922', 'huni@naver.com', 28, 1, '')\n",
      "('최민재', '010-8276-2273', 'minjae@gmail.com', 24, 1, '')\n",
      "('김정길', '010-2736-2988', 'kil@hanmail.com', 33, 2, '')\n",
      "======================================================================\n",
      "1:입력|2:전체조회|3:이름찾기|4:메일로 삭제|5:내보내기(CSV)|0:종료메뉴 선택 : 0\n"
     ]
    }
   ],
   "source": [
    "#여기가 실행부\n",
    "if __name__=='__main__':\n",
    "    import sqlite3\n",
    "    global conn\n",
    "    global cursor\n",
    "    conn=sqlite3.connect('data.db')\n",
    "    cursor = conn.cursor()\n",
    "    main()"
   ]
  },
  {
   "cell_type": "code",
   "execution_count": null,
   "metadata": {},
   "outputs": [],
   "source": []
  }
 ],
 "metadata": {
  "kernelspec": {
   "display_name": "Python 3",
   "language": "python",
   "name": "python3"
  },
  "language_info": {
   "codemirror_mode": {
    "name": "ipython",
    "version": 3
   },
   "file_extension": ".py",
   "mimetype": "text/x-python",
   "name": "python",
   "nbconvert_exporter": "python",
   "pygments_lexer": "ipython3",
   "version": "3.8.5"
  },
  "toc": {
   "base_numbering": 1,
   "nav_menu": {},
   "number_sections": true,
   "sideBar": true,
   "skip_h1_title": false,
   "title_cell": "Table of Contents",
   "title_sidebar": "Contents",
   "toc_cell": false,
   "toc_position": {},
   "toc_section_display": true,
   "toc_window_display": false
  },
  "varInspector": {
   "cols": {
    "lenName": 16,
    "lenType": 16,
    "lenVar": 40
   },
   "kernels_config": {
    "python": {
     "delete_cmd_postfix": "",
     "delete_cmd_prefix": "del ",
     "library": "var_list.py",
     "varRefreshCmd": "print(var_dic_list())"
    },
    "r": {
     "delete_cmd_postfix": ") ",
     "delete_cmd_prefix": "rm(",
     "library": "var_list.r",
     "varRefreshCmd": "cat(var_dic_list()) "
    }
   },
   "types_to_exclude": [
    "module",
    "function",
    "builtin_function_or_method",
    "instance",
    "_Feature"
   ],
   "window_display": false
  }
 },
 "nbformat": 4,
 "nbformat_minor": 4
}
