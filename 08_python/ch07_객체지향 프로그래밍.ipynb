{
 "cells": [
  {
   "cell_type": "markdown",
   "metadata": {},
   "source": [
    "# 1절. 객체와 클래스\n",
    "<pre>\n",
    "class 클래스명(상속받을 클래스명)\n",
    "- 함수나 변수를 선언\n",
    "</pre>"
   ]
  },
  {
   "cell_type": "code",
   "execution_count": null,
   "metadata": {},
   "outputs": [],
   "source": [
    "class Person:\n",
    "    \"person 클래스\"\n",
    "    pass\n",
    "p1=Person()"
   ]
  },
  {
   "cell_type": "code",
   "execution_count": null,
   "metadata": {},
   "outputs": [],
   "source": [
    "type(p1)"
   ]
  },
  {
   "cell_type": "code",
   "execution_count": null,
   "metadata": {},
   "outputs": [],
   "source": [
    "print(p1)"
   ]
  },
  {
   "cell_type": "code",
   "execution_count": null,
   "metadata": {},
   "outputs": [],
   "source": [
    "isinstance(p1,Person)"
   ]
  },
  {
   "cell_type": "code",
   "execution_count": null,
   "metadata": {},
   "outputs": [],
   "source": [
    "print(p1.__doc__)"
   ]
  },
  {
   "cell_type": "markdown",
   "metadata": {},
   "source": [
    "# 2절. 변수와 메소드"
   ]
  },
  {
   "cell_type": "code",
   "execution_count": null,
   "metadata": {},
   "outputs": [],
   "source": [
    "# 변수 추가\n",
    "class Person:\n",
    "    name=\"홍길동\"\n",
    "    gender=\"남자\"\n",
    "p1 = Person()\n",
    "print(p1.name,p1.gender)"
   ]
  },
  {
   "cell_type": "code",
   "execution_count": null,
   "metadata": {},
   "outputs": [],
   "source": [
    "p2 = Person()\n",
    "p2.name=\"이순신\"\n",
    "print(p2.name,p2.gender)"
   ]
  },
  {
   "cell_type": "code",
   "execution_count": null,
   "metadata": {},
   "outputs": [],
   "source": [
    "Person.name=\"리사\"\n",
    "Person.gender=\"여자\""
   ]
  },
  {
   "cell_type": "code",
   "execution_count": null,
   "metadata": {},
   "outputs": [],
   "source": [
    "print(p1.name,p1.gender)\n",
    "print(p2.name,p2.gender)"
   ]
  },
  {
   "cell_type": "code",
   "execution_count": null,
   "metadata": {},
   "outputs": [],
   "source": [
    "p1.name=\"신길동\"\n",
    "p1.gender=\"남자\"\n",
    "print(Person.name,Person.gender)\n",
    "print(p1.name,p1.gender)\n",
    "print(p2.name,p2.gender)"
   ]
  },
  {
   "cell_type": "code",
   "execution_count": null,
   "metadata": {},
   "outputs": [],
   "source": [
    "# 메소드 추가\n",
    "class Person:\n",
    "    name=\"홍길동\"\n",
    "    gender=\"남자\"\n",
    "    def print_info():\n",
    "        print(\"Person 메소드입니다\")\n",
    "print(Person.name,Person.gender)\n",
    "Person.print_info"
   ]
  },
  {
   "cell_type": "code",
   "execution_count": null,
   "metadata": {},
   "outputs": [],
   "source": [
    "p1=Person()\n",
    "p1.name=\"이순신\"\n",
    "print(p1.name,p1.gender)\n",
    "print(Person.name,Person.gender)"
   ]
  },
  {
   "cell_type": "code",
   "execution_count": null,
   "metadata": {},
   "outputs": [],
   "source": [
    "Person.print_info()"
   ]
  },
  {
   "cell_type": "code",
   "execution_count": null,
   "metadata": {},
   "outputs": [],
   "source": [
    "p1.print_info()"
   ]
  },
  {
   "cell_type": "code",
   "execution_count": null,
   "metadata": {},
   "outputs": [],
   "source": [
    "# 인스턴스 메소드\n",
    "class Person:\n",
    "    name=\"홍길동\"\n",
    "    gender=\"남자\"\n",
    "    age=\"30\"\n",
    "    def print_info(self): #self == 자바에서의 this와 같다. 객체만 실행 가능한 메소드=인스턴스 메소드\n",
    "        print(\"{}는 {}살이고 {}입니다.\". format(self.name,self.age,self.gender))\n",
    "print(Person.name,Person.gender)\n",
    "p1=Person()\n",
    "p1.name=\"리사\"\n",
    "p1.print_info()"
   ]
  },
  {
   "cell_type": "code",
   "execution_count": null,
   "metadata": {},
   "outputs": [],
   "source": [
    "Person.print_info(p1)"
   ]
  },
  {
   "cell_type": "code",
   "execution_count": null,
   "metadata": {},
   "outputs": [],
   "source": [
    "p1.name,p1.gender,p1.age"
   ]
  },
  {
   "cell_type": "code",
   "execution_count": null,
   "metadata": {},
   "outputs": [],
   "source": [
    "<pre>\n",
    "** 파이썬은 클래스와 인스턴스(객체)의 이름공간 분리되어있음.**\n",
    "** 클래스와 인스턴스의 변수명이 다를 수 있다.\n",
    "</pre>"
   ]
  },
  {
   "cell_type": "code",
   "execution_count": null,
   "metadata": {},
   "outputs": [],
   "source": [
    "p1.address='마포구 신촌'\n",
    "p1.nickname='곰돌이 푸'\n",
    "p1.print_info()"
   ]
  },
  {
   "cell_type": "markdown",
   "metadata": {},
   "source": [
    "**클래스 메소드 vs static 메소드**\n",
    "- 인스턴스 메소드: 매개변수 첫 인자에 self. 객체를 통해서 호출할 메소드\n",
    "- 클래스 메소드: 어노테이션 사용 @classmethod를 통해서 선언한 메소드. 인자에 cls나 clazz 등을 삽입.\n",
    "- 스태틱 메소드: @staticmethod를 통해서 선언한 메소드. 필요한 인자가 잇으면 삽입하고 아니면 삽입 안하고... \n"
   ]
  },
  {
   "cell_type": "code",
   "execution_count": null,
   "metadata": {},
   "outputs": [],
   "source": [
    "#인스턴스 메소드\n",
    "#인스턴스에 따라서 다르게 동작해야하는 메소드입니다.\n",
    "#인스턴스 혹은 변수에 따라서 다르게 동작되어야 하는 메소드들은 인스턴스 소속으로 사용합니다.\n",
    "#인스턴스를 통해서만 호출이 됩니다.\n",
    "#첫번째 인자로 'self'를 관습적으로 사용하며 인스턴스 자신을 전달합니다."
   ]
  },
  {
   "cell_type": "code",
   "execution_count": null,
   "metadata": {},
   "outputs": [],
   "source": [
    "#인스턴스 메소드 vs 클래식 메소드 vs static 메소드  뒤의 둘은 주로 클래스 이름으로 접근함.\n",
    "\n",
    "class Person:\n",
    "    name=\"홍길동\"\n",
    "    gender=\"남자\"\n",
    "    age=30\n",
    "    def print_info(self): #인스턴스 메소드는 인자에 self 꼭 넣을 것\n",
    "        print(\"일반(인스턴스=객체)메소드-{}는 {}살 {}입니다.\".format(self.name,self.age,self.gender))\n",
    "    @classmethod\n",
    "    def do_(cls): # 클래스 메소드. 클래스 메소드는 어노테이션이 있다.(인자에 cls, clazz)\n",
    "        cls.name=\"신사임당\" #cls 꼭 붙여야 함\n",
    "        cls.gender='여자'\n",
    "        cls.age=517\n",
    "        print(\"클래스 메소드-{}는 {}살 {}입니다.\".format(cls.name,cls.age,cls.gender))\n",
    "    @staticmethod\n",
    "    def that_(): #static 메소드(인자 없음)\n",
    "        print(\"스태틱 메소드-{}는 {}살 {}입니다.\".format(Person.name,Person.age,Person.gender))\n",
    "        \n"
   ]
  },
  {
   "cell_type": "code",
   "execution_count": null,
   "metadata": {},
   "outputs": [],
   "source": [
    "p1=Person()\n",
    "p2=Person()\n",
    "\n",
    "p1.print_info()\n",
    "p2.print_info()"
   ]
  },
  {
   "cell_type": "code",
   "execution_count": null,
   "metadata": {},
   "outputs": [],
   "source": [
    "p1.name=\"김말동\"\n",
    "p1.age+=1\n",
    "p1.print_info() #인스턴스는 객체 이름으로만 접근 가능,\n",
    "p2.print_info()\n",
    "p2.that_()#스태틱 메소드는 클래스 이름으로 접근할 걸 추천. 객체 이름으로 호출은 가능하지만 추천하지 않음.\n",
    "Person.that_() #스태틱 메소드"
   ]
  },
  {
   "cell_type": "code",
   "execution_count": null,
   "metadata": {},
   "outputs": [],
   "source": [
    "Person.do_() #클래스 메소드"
   ]
  },
  {
   "cell_type": "code",
   "execution_count": null,
   "metadata": {},
   "outputs": [],
   "source": [
    "p1.print_info()\n",
    "p2.print_info()"
   ]
  },
  {
   "cell_type": "code",
   "execution_count": null,
   "metadata": {},
   "outputs": [],
   "source": [
    "Person.name=\"이순신\"\n",
    "Person.gender=\"남자\"\n",
    "Person.age=477"
   ]
  },
  {
   "cell_type": "code",
   "execution_count": null,
   "metadata": {},
   "outputs": [],
   "source": [
    "p1.print_info()\n",
    "p2.print_info()"
   ]
  },
  {
   "cell_type": "markdown",
   "metadata": {},
   "source": [
    "# 3절 생성자 (_ _ init_ _())와 소멸자( _ _ del _ _ ())\n",
    "<pre>\n",
    "- 생성자함수: __init__(self[,매개변수 1,...]) 객체가 생성될 때 자동 실행.\n",
    "            생성시 필요한 코드(객체멤버(변수)의 초기화 등)를 포함.\n",
    "-소멸자 삼수: __del__(self) 객체가 소멸될 때 자동 실행.\n",
    "            소멸시 필요한 코드 포함.\n",
    "            인스턴스 객체의 레퍼런스 카운트가 0이 될 때 실행\n",
    "\n",
    "</pre>"
   ]
  },
  {
   "cell_type": "code",
   "execution_count": null,
   "metadata": {},
   "outputs": [],
   "source": [
    "class Person:\n",
    "    def __init__(self):\n",
    "        print(\"Person 객체를 생성합니다.\")\n",
    "        self.name=\"홍길동\" #일반변수\n",
    "        self.gender=\"남자\"\n",
    "    def __del__(self):\n",
    "        print(\"Person객체를 소멸시킵니다.\")\n",
    "    def print_info(self):\n",
    "        print(\"일반메소드={}님은 {}입니다.\".format(self.name,self.gender))\n",
    "        "
   ]
  },
  {
   "cell_type": "code",
   "execution_count": null,
   "metadata": {},
   "outputs": [],
   "source": [
    "p1=Person()\n",
    "p1.print_info()"
   ]
  },
  {
   "cell_type": "code",
   "execution_count": null,
   "metadata": {},
   "outputs": [],
   "source": [
    "type(p1), isinstance(p1,Person)"
   ]
  },
  {
   "cell_type": "code",
   "execution_count": null,
   "metadata": {},
   "outputs": [],
   "source": [
    "p1=Person()"
   ]
  },
  {
   "cell_type": "code",
   "execution_count": null,
   "metadata": {},
   "outputs": [],
   "source": [
    "p1=Person()"
   ]
  },
  {
   "cell_type": "code",
   "execution_count": null,
   "metadata": {},
   "outputs": [],
   "source": [
    "p2=p1"
   ]
  },
  {
   "cell_type": "code",
   "execution_count": null,
   "metadata": {},
   "outputs": [],
   "source": [
    "del p1"
   ]
  },
  {
   "cell_type": "code",
   "execution_count": null,
   "metadata": {},
   "outputs": [],
   "source": [
    "class Person:\n",
    "    def __init__(self,name,gender):\n",
    "        print(\"Person 객체를 생성합니다.\")\n",
    "        self.name=name \n",
    "        self.gender= gender\n",
    "    def __del__(self):\n",
    "        print(\"Person객체를 소멸시킵니다.\")\n",
    "    def print_info(self):\n",
    "        print(\"일반메소드={}님은 {}입니다.\".format(self.name,self.gender))\n"
   ]
  },
  {
   "cell_type": "code",
   "execution_count": null,
   "metadata": {},
   "outputs": [],
   "source": [
    "p1=Person(\"김길동\",\"남자\")\n",
    "p1.print_info()"
   ]
  },
  {
   "cell_type": "code",
   "execution_count": null,
   "metadata": {},
   "outputs": [],
   "source": [
    "p2.Person()"
   ]
  },
  {
   "cell_type": "markdown",
   "metadata": {},
   "source": [
    "-생성자함수를 통한 멤버변수 초기화 <br>\n",
    "-파이썬은 함수를 중복정의(오버로딩)할수없다. <br>\n",
    "-생성자함수도 중복정의 불가능."
   ]
  },
  {
   "cell_type": "code",
   "execution_count": null,
   "metadata": {},
   "outputs": [],
   "source": [
    "class Person:\n",
    "#     def __init__(self): #매개변수없이호출될 생성자(중복정의불가)\n",
    "#         print(\"Person 객체를 생성합니다.\")\n",
    "#         self.name=\"홍길동\"\n",
    "#         self.gender= \"남자\"\n",
    "#     def __init__(self,name): #매개변수 1개로 생성자(중복정의불가)\n",
    "#         print(\"Person 객체를 생성합니다.\")\n",
    "#         self.name=\"홍길동\"\n",
    "#         self.gender= gender\n",
    "    def __init__(self,name='홍길동',gender='남자'): #매개변수 2개로 생성자\n",
    "        print(\"Person 객체를 생성합니다.\")\n",
    "        self.name=name \n",
    "        self.gender= gender\n",
    "    def __del__(self):\n",
    "        print(\"Person객체를 소멸시킵니다.\")\n",
    "    def print_info(self):\n",
    "        print(\"일반메소드={}님은 {}입니다.\".format(self.name,self.gender))\n",
    "    def __str__(self):\n",
    "        return(\"일반메소드={}님은 {}입니다.\".format(self.name,self.gender))\n"
   ]
  },
  {
   "cell_type": "code",
   "execution_count": null,
   "metadata": {},
   "outputs": [],
   "source": [
    "p1=Person(\"김길동\", \"남자\")\n",
    "p2=Person(\"김길동\")\n",
    "p3=Person()\n",
    "#함수 오버로딩이 안 되기 때문에 오류 발생하게 됨."
   ]
  },
  {
   "cell_type": "code",
   "execution_count": null,
   "metadata": {},
   "outputs": [],
   "source": [
    "print(p1)\n",
    "p1.print_info()"
   ]
  },
  {
   "cell_type": "markdown",
   "metadata": {},
   "source": [
    "# 4절. 상속"
   ]
  },
  {
   "cell_type": "code",
   "execution_count": null,
   "metadata": {},
   "outputs": [],
   "source": []
  },
  {
   "cell_type": "code",
   "execution_count": null,
   "metadata": {},
   "outputs": [],
   "source": [
    "class Person:\n",
    "    def __init__(self,name='홍길동',gender='남자'): #매개변수 2개로 생성자\n",
    "        print(\"Person 객체를 생성합니다.\")\n",
    "        self.name=name \n",
    "        self.gender= gender\n",
    "    def __del__(self):\n",
    "        print(\"Person객체를 소멸시킵니다.\")\n",
    "    def print_info(self):\n",
    "        print(\"일반메소드={}님은 {}입니다.\".format(self.name,self.gender))\n",
    "    def __str__(self):\n",
    "        return(\"일반메소드={}님은 {}입니다.\".format(self.name,self.gender))"
   ]
  },
  {
   "cell_type": "code",
   "execution_count": null,
   "metadata": {},
   "outputs": [],
   "source": [
    "p1=Person(\"홍길동\",\"남자\")"
   ]
  },
  {
   "cell_type": "code",
   "execution_count": null,
   "metadata": {},
   "outputs": [],
   "source": [
    "class Student(Person):\n",
    "    pass"
   ]
  },
  {
   "cell_type": "code",
   "execution_count": null,
   "metadata": {},
   "outputs": [],
   "source": [
    "issubclass(Student,Person)"
   ]
  },
  {
   "cell_type": "code",
   "execution_count": null,
   "metadata": {},
   "outputs": [],
   "source": [
    "s1=Student() #super클래스의 __init__까지 상속\n"
   ]
  },
  {
   "cell_type": "code",
   "execution_count": null,
   "metadata": {},
   "outputs": [],
   "source": [
    "s1=Student(\"이순신\",\"남자\")"
   ]
  },
  {
   "cell_type": "code",
   "execution_count": null,
   "metadata": {},
   "outputs": [],
   "source": [
    "s1.print_info()"
   ]
  },
  {
   "cell_type": "code",
   "execution_count": null,
   "metadata": {},
   "outputs": [],
   "source": [
    "class Person:\n",
    "    def __init__(self,name='홍길동',gender='남자'): #매개변수 2개로 생성자\n",
    "        print(\"Person 객체를 생성합니다.\")\n",
    "        self.name=name \n",
    "        self.gender= gender\n",
    "    def __del__(self):\n",
    "        print(\"Person객체를 소멸시킵니다.\")\n",
    "    def print_info(self):\n",
    "        print(\"일반메소드={}님은 {}입니다.\".format(self.name,self.gender))\n",
    "    def __str__(self):\n",
    "        return(\"일반메소드={}님은 {}입니다.\".format(self.name,self.gender))"
   ]
  },
  {
   "cell_type": "code",
   "execution_count": null,
   "metadata": {},
   "outputs": [],
   "source": [
    "class Student(Person):\n",
    "    \"name과 gender에 major 변수를 갖는 Student 타입\"\n",
    "    def __init__(self,name,gender,major):\n",
    "        self.name=name\n",
    "        self.gender=gender\n",
    "        self.major=major\n",
    "    def print_info(self):\n",
    "        print(\"%s님은 전공 %s에 %s입니다\"%(self.name,self.major,self.gender))\n",
    "    def __str__(self):\n",
    "        return(\"%s님은 전공 %s에 %s입니다\"%(self.name,self.major,self.gender))"
   ]
  },
  {
   "cell_type": "code",
   "execution_count": null,
   "metadata": {},
   "outputs": [],
   "source": [
    "s1=Student(\"홍길동\",\"남자\",\"빅데이터분석\")\n",
    "print(s1)\n",
    "print(s1.__str__())"
   ]
  },
  {
   "cell_type": "code",
   "execution_count": 1,
   "metadata": {},
   "outputs": [],
   "source": [
    "class Person:\n",
    "    def __init__(self,name,gender):\n",
    "        self.name=name\n",
    "        self.gender=gender\n",
    "    def __del__(self):\n",
    "        print(\"Person 객체를 소멸시킵니다.\")\n",
    "    def print_info(self):\n",
    "        print(\"%s님은 %s입니다\"%(self.name,self.gender))\n",
    "    def __str__(self):\n",
    "        return(\"%s님은 %s입니다\"%(self.name,self.gender))"
   ]
  },
  {
   "cell_type": "code",
   "execution_count": null,
   "metadata": {},
   "outputs": [],
   "source": [
    "class Student(Person):\n",
    "    \"name과 gender에 major변수를 갖는 Student 타입\"\n",
    "    def __init__(self,name,gender,major):\n",
    "        Person.__init__(self,name,gender)\n",
    "        self.major=major\n",
    "    def __del__(self):\n",
    "        pass\n",
    "    def print_info(self):\n",
    "        print(\"%s님은 전공 %s에 %s입니다\"%(self.name,self.major,self.gender))\n",
    "    def __str__(self):\n",
    "        return super().__str__() + \" 전공은 {}입니다.\".format(self.major)\n",
    "#        return Person.__str__(self)+\" 전공은 {}입니다.\".format(self.major)"
   ]
  },
  {
   "cell_type": "code",
   "execution_count": null,
   "metadata": {},
   "outputs": [],
   "source": [
    "s1 = Student(\"김철수\",\"남자\",\"통계\")\n",
    "print(s1)"
   ]
  },
  {
   "cell_type": "markdown",
   "metadata": {},
   "source": [
    "**static변수: 여러 객체들 사이에 데이터를 공유하고 싶을 때 사용**\n",
    "-클래스 변수이름 앞에 under score 2개(__)붙이면 내부적으로 클래스명._ 클래스명변수이름으로 참조"
   ]
  },
  {
   "cell_type": "code",
   "execution_count": 2,
   "metadata": {},
   "outputs": [],
   "source": [
    "class Student(Person):\n",
    "    \"name과 gender에 major변수를 갖는 Student 타입(객체 갯수도 포함)\"\n",
    "    __count=0; # static 변수\n",
    "    def __init__(self,name,gender,major):\n",
    "        #부모클래스의 생성자를 호출하여 자식 클래스의 생성자를 쉽게.\n",
    "        Student._Student__count += 1 #객체가 생성될때마다 __count 증가\n",
    "        Person.__init__(self,name,gender)\n",
    "        self.major=major\n",
    "    def __del__(self):\n",
    "        Student._Student__count -= 1 #객체가 소멸될때마다 __count 감소\n",
    "    def print_info(self):\n",
    "        print(\"%s님은 전공 %s에 %s입니다\"%(self.name,self.major,self.gender))\n",
    "    def __str__(self):\n",
    "        return super().__str__() + \" 전공은 {}입니다.\".format(self.major)\n",
    "#        return Person.__str__(self)+\" 전공은 {}입니다.\".format(self.major)\n",
    "    @classmethod\n",
    "    def get_count(cls):\n",
    "        return Student._Student__count"
   ]
  },
  {
   "cell_type": "code",
   "execution_count": 3,
   "metadata": {},
   "outputs": [
    {
     "name": "stdout",
     "output_type": "stream",
     "text": [
      "홍길동님은 남자입니다 전공은 빅데이터입니다.\n",
      "객체 갯수: 1\n"
     ]
    }
   ],
   "source": [
    "s1=Student(\"홍길동\",\"남자\",\"빅데이터\")\n",
    "print(s1)\n",
    "print(\"객체 갯수:\",Student.get_count())"
   ]
  },
  {
   "cell_type": "code",
   "execution_count": 4,
   "metadata": {},
   "outputs": [
    {
     "name": "stdout",
     "output_type": "stream",
     "text": [
      "홍길순님은 전공 통계에 여자입니다\n"
     ]
    },
    {
     "ename": "AttributeError",
     "evalue": "'str' object has no attribute 's2'",
     "output_type": "error",
     "traceback": [
      "\u001b[1;31m---------------------------------------------------------------------------\u001b[0m",
      "\u001b[1;31mAttributeError\u001b[0m                            Traceback (most recent call last)",
      "\u001b[1;32m<ipython-input-4-76221b171b0f>\u001b[0m in \u001b[0;36m<module>\u001b[1;34m\u001b[0m\n\u001b[0;32m      2\u001b[0m \u001b[0ms3\u001b[0m\u001b[1;33m=\u001b[0m\u001b[0mStudent\u001b[0m\u001b[1;33m(\u001b[0m\u001b[1;34m\"홍길순\"\u001b[0m\u001b[1;33m,\u001b[0m\u001b[1;34m\"여자\"\u001b[0m\u001b[1;33m,\u001b[0m\u001b[1;34m\"통계\"\u001b[0m\u001b[1;33m)\u001b[0m\u001b[1;33m\u001b[0m\u001b[1;33m\u001b[0m\u001b[0m\n\u001b[0;32m      3\u001b[0m \u001b[0ms3\u001b[0m\u001b[1;33m.\u001b[0m\u001b[0mprint_info\u001b[0m\u001b[1;33m(\u001b[0m\u001b[1;33m)\u001b[0m\u001b[1;33m\u001b[0m\u001b[1;33m\u001b[0m\u001b[0m\n\u001b[1;32m----> 4\u001b[1;33m \u001b[0mprint\u001b[0m\u001b[1;33m(\u001b[0m\u001b[1;34m\"객체 갯수:\"\u001b[0m\u001b[1;33m.\u001b[0m\u001b[0ms2\u001b[0m\u001b[1;33m.\u001b[0m\u001b[0mget_count\u001b[0m\u001b[1;33m(\u001b[0m\u001b[1;33m)\u001b[0m\u001b[1;33m)\u001b[0m\u001b[1;33m\u001b[0m\u001b[1;33m\u001b[0m\u001b[0m\n\u001b[0m\u001b[0;32m      5\u001b[0m \u001b[0mprint\u001b[0m\u001b[1;33m(\u001b[0m\u001b[1;34m\"객체 갯수:\"\u001b[0m\u001b[1;33m.\u001b[0m\u001b[0ms3\u001b[0m\u001b[1;33m.\u001b[0m\u001b[0mget_count\u001b[0m\u001b[1;33m(\u001b[0m\u001b[1;33m)\u001b[0m\u001b[1;33m)\u001b[0m\u001b[1;33m\u001b[0m\u001b[1;33m\u001b[0m\u001b[0m\n\u001b[0;32m      6\u001b[0m \u001b[0mprint\u001b[0m\u001b[1;33m(\u001b[0m\u001b[1;34m\"객체 갯수:\"\u001b[0m\u001b[1;33m.\u001b[0m\u001b[0mStudent\u001b[0m\u001b[1;33m.\u001b[0m\u001b[0mget_count\u001b[0m\u001b[1;33m(\u001b[0m\u001b[1;33m)\u001b[0m\u001b[1;33m)\u001b[0m\u001b[1;33m\u001b[0m\u001b[1;33m\u001b[0m\u001b[0m\n",
      "\u001b[1;31mAttributeError\u001b[0m: 'str' object has no attribute 's2'"
     ]
    }
   ],
   "source": [
    "s2=Student(\"최민재\",\"남자\",\"건축\")\n",
    "s3=Student(\"홍길순\",\"여자\",\"통계\")\n",
    "s3.print_info()\n",
    "print(\"객체 갯수:\".s2.get_count())\n",
    "print(\"객체 갯수:\".s3.get_count())\n",
    "print(\"객체 갯수:\".Student.get_count())"
   ]
  },
  {
   "cell_type": "code",
   "execution_count": null,
   "metadata": {},
   "outputs": [],
   "source": []
  }
 ],
 "metadata": {
  "kernelspec": {
   "display_name": "Python 3",
   "language": "python",
   "name": "python3"
  },
  "language_info": {
   "codemirror_mode": {
    "name": "ipython",
    "version": 3
   },
   "file_extension": ".py",
   "mimetype": "text/x-python",
   "name": "python",
   "nbconvert_exporter": "python",
   "pygments_lexer": "ipython3",
   "version": "3.8.5"
  },
  "toc": {
   "base_numbering": 1,
   "nav_menu": {},
   "number_sections": false,
   "sideBar": true,
   "skip_h1_title": false,
   "title_cell": "Table of Contents",
   "title_sidebar": "Contents",
   "toc_cell": false,
   "toc_position": {},
   "toc_section_display": true,
   "toc_window_display": true
  },
  "varInspector": {
   "cols": {
    "lenName": 16,
    "lenType": 16,
    "lenVar": 40
   },
   "kernels_config": {
    "python": {
     "delete_cmd_postfix": "",
     "delete_cmd_prefix": "del ",
     "library": "var_list.py",
     "varRefreshCmd": "print(var_dic_list())"
    },
    "r": {
     "delete_cmd_postfix": ") ",
     "delete_cmd_prefix": "rm(",
     "library": "var_list.r",
     "varRefreshCmd": "cat(var_dic_list()) "
    }
   },
   "types_to_exclude": [
    "module",
    "function",
    "builtin_function_or_method",
    "instance",
    "_Feature"
   ],
   "window_display": false
  }
 },
 "nbformat": 4,
 "nbformat_minor": 4
}
