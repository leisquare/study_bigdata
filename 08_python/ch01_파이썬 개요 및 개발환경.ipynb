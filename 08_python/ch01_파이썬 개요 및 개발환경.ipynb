{
 "cells": [
  {
   "cell_type": "markdown",
   "metadata": {},
   "source": [
    "# ch01. 파이썬 개요 및 개발환경 구성"
   ]
  },
  {
   "cell_type": "markdown",
   "metadata": {},
   "source": [
    "## 파이썬 프로그램 실행방법\n",
    "shift+enter:포커스된 셀이 실행되고 포커스 이동, 다음 셀 이동<br/>\n",
    "alt+enter: 포커스된 셀이 실행되고 포커스 이동, 다음 셀 만듬<br/> \n",
    "ctrl+enter: 포커스된 셀이 실행되고 포커스이동없음<br/> \n",
    "\n",
    "### 마크다운\n",
    "#주석은 샵으로 처리.<br/>\n",
    "셀 하나하나 파이썬 프로그램을 입력, 실행한다.<br/>\n",
    "esc+A 누르면 위에 셀 추가<br/>\n",
    "esc+b 누르면 아래에 셀 추가<br/>\n",
    "esc+m 누르면 마크다운 셀화한다.<br/>\n",
    "\n",
    "### ESC키\n",
    "+m : 마크다운 셀로 변경<br/> \n",
    "+a: 윗셀 추가<br/> \n",
    "+b: 아래 셀 추가<br/> \n",
    "+dd: 셀 삭제<br/> \n",
    "\n",
    "### 확장팩 설치\n",
    "아나콘다 prompt를 켜고 pip install jupyter_contrib_nbextensions && jupyter contrib nbextension install 를 붙여넣기<br/> \n",
    "자주 사용하는 확장팩은….<br/> \n",
    "Edit > nbextensions config 에서.. (또는 http://localhost:8888/nbextensions)<br/> \n",
    "1. Code prettify : 코드를 예쁘게 정리. 불필요한 여백을 없애거나 공간 띄움<br/> \n",
    "2. Table on Contents(2) : 마크다운 해더 수준에 따른 목차 생성<br/> \n",
    "3. Variabel Inspector: 현재 변수와 변수값(변수들을 트래킹하는 익스텐션)<br/> \n",
    "4. Autopep8 : 자동 코드 정리기능(코드가 지저분한 경우, 망치모양 버튼을 클릭하면 PEP 8 스타일 가이드에 맞게 코드를 자동으로 정리)<br/> \n",
    "5. CodeFolding : 긴코드를 접을 수 있게 해줘서 함수나 반복문, 조건문 등에서 코드를 접어 놓을 수 있어 관리가 편함<br/> \n",
    "6. Execute Time : 셀이 돌아가는 시간 측정<br/> \n"
   ]
  },
  {
   "cell_type": "markdown",
   "metadata": {},
   "source": []
  },
  {
   "cell_type": "markdown",
   "metadata": {},
   "source": []
  },
  {
   "cell_type": "code",
   "execution_count": null,
   "metadata": {},
   "outputs": [],
   "source": []
  }
 ],
 "metadata": {
  "kernelspec": {
   "display_name": "Python 3",
   "language": "python",
   "name": "python3"
  },
  "language_info": {
   "codemirror_mode": {
    "name": "ipython",
    "version": 3
   },
   "file_extension": ".py",
   "mimetype": "text/x-python",
   "name": "python",
   "nbconvert_exporter": "python",
   "pygments_lexer": "ipython3",
   "version": "3.8.5"
  },
  "toc": {
   "base_numbering": 1,
   "nav_menu": {},
   "number_sections": true,
   "sideBar": true,
   "skip_h1_title": false,
   "title_cell": "Table of Contents",
   "title_sidebar": "Contents",
   "toc_cell": false,
   "toc_position": {},
   "toc_section_display": true,
   "toc_window_display": true
  },
  "varInspector": {
   "cols": {
    "lenName": 16,
    "lenType": 16,
    "lenVar": 40
   },
   "kernels_config": {
    "python": {
     "delete_cmd_postfix": "",
     "delete_cmd_prefix": "del ",
     "library": "var_list.py",
     "varRefreshCmd": "print(var_dic_list())"
    },
    "r": {
     "delete_cmd_postfix": ") ",
     "delete_cmd_prefix": "rm(",
     "library": "var_list.r",
     "varRefreshCmd": "cat(var_dic_list()) "
    }
   },
   "types_to_exclude": [
    "module",
    "function",
    "builtin_function_or_method",
    "instance",
    "_Feature"
   ],
   "window_display": false
  }
 },
 "nbformat": 4,
 "nbformat_minor": 4
}
