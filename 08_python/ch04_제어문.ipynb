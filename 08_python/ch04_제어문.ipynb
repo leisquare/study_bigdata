{
 "cells": [
  {
   "cell_type": "markdown",
   "metadata": {},
   "source": [
    "# 1절. 조건문"
   ]
  },
  {
   "cell_type": "code",
   "execution_count": 1,
   "metadata": {},
   "outputs": [
    {
     "name": "stdout",
     "output_type": "stream",
     "text": [
      "enter your score>80\n",
      "분발하세요\n",
      "점수 입력받아 잘한사람에게 메시지출력\n"
     ]
    }
   ],
   "source": [
    "score = int(input(\"enter your score>\"))\n",
    "if score>=90:\n",
    "    print('참 잘했어요')\n",
    "    print('다음에도 기대할게요')\n",
    "else :\n",
    "    print('분발하세요')\n",
    "\n",
    "print('점수 입력받아 잘한사람에게 메시지출력')"
   ]
  },
  {
   "cell_type": "code",
   "execution_count": 2,
   "metadata": {},
   "outputs": [
    {
     "name": "stdout",
     "output_type": "stream",
     "text": [
      "Enter your score>88\n",
      "입력한 점수는 88 등급은 B\n"
     ]
    }
   ],
   "source": [
    "score = int(input(\"Enter your score>\"))\n",
    "if 90<=score<=100:\n",
    "    grade=\"A\"\n",
    "elif 80<=score<90:\n",
    "    grade=\"B\"\n",
    "elif 70<=score<80:\n",
    "    grade=\"C\"\n",
    "elif 60<=score<70:\n",
    "    grade=\"D\"\n",
    "elif 0<=score<60:\n",
    "    grade=\"F\"\n",
    "else:\n",
    "    grade=\"유효하지 ㅇ낳은 점수\"\n",
    "\n",
    "print(\"입력한 점수는 {} 등급은 {}\".format(score,grade))\n"
   ]
  },
  {
   "cell_type": "markdown",
   "metadata": {},
   "source": [
    "# 2절. 반복문"
   ]
  },
  {
   "cell_type": "markdown",
   "metadata": {},
   "source": [
    "## 2.1 for-in\n",
    "-for 변수 in 나열가능한 자료 <br>\n",
    "    반복할문장1<br>\n",
    "    반복할문장2<br>\n",
    "    ..<br>\n",
    " else :<br>\n",
    "     변수에 값이 할당되지 않은 경우 한번 실행하는 문장.<br>\n",
    "else 구문은 선택사항<br>"
   ]
  },
  {
   "cell_type": "code",
   "execution_count": 5,
   "metadata": {},
   "outputs": [
    {
     "name": "stdout",
     "output_type": "stream",
     "text": [
      "1\t3\t5\t7\t9\tDONE\n"
     ]
    }
   ],
   "source": [
    "for i in range(1,10,2):\n",
    "    print(i, end=\"\\t\")\n",
    "else:\n",
    "    print(\"DONE\")"
   ]
  },
  {
   "cell_type": "markdown",
   "metadata": {},
   "source": [
    "## 2.2 while\n",
    "-while조건: <br>\n",
    "    반복할 문장1<br>\n",
    "    반복할 문장2 <br>\n",
    "    ...<br>\n",
    "else:<br>\n",
    "    조건이 거짓일 경우 실행할 문장<br>\n",
    "\n",
    "else구문은 선택사항<br>\n",
    "-무한반복문에 빠지지 않도록 조건식이 바뀔 수 있는 변수값을 수정하는 코드 필요.<br>"
   ]
  },
  {
   "cell_type": "code",
   "execution_count": 7,
   "metadata": {},
   "outputs": [
    {
     "name": "stdout",
     "output_type": "stream",
     "text": [
      "0\n",
      "1\n",
      "2\n",
      "3\n",
      "4\n",
      "5\n",
      "6\n",
      "7\n",
      "8\n",
      "9\n",
      "i값이 10라서 빠져나간다.\n"
     ]
    }
   ],
   "source": [
    "#i=0\n",
    "#while i<10;\n",
    "#print(i)    #무한 반복문이 된다.\n",
    "\n",
    "i=0\n",
    "while i<10:\n",
    "    print(i)\n",
    "    i+=1\n",
    "else:\n",
    "    print(\"i값이 {}라서 빠져나간다.\".format(i))\n"
   ]
  },
  {
   "cell_type": "code",
   "execution_count": null,
   "metadata": {},
   "outputs": [],
   "source": [
    "#1~100까지의 짝수의 합\n",
    "sum=0\n",
    "i=1\n",
    "while i<=100:\n",
    "    if i%2==0:\n",
    "        sum+=i\n",
    "    i+=1\n",
    "else:\n",
    "    print(\"1부터 100까지 짝수의 합은\",sum)"
   ]
  },
  {
   "cell_type": "markdown",
   "metadata": {},
   "source": [
    "## 2.3 break, continue"
   ]
  },
  {
   "cell_type": "code",
   "execution_count": 8,
   "metadata": {},
   "outputs": [
    {
     "name": "stdout",
     "output_type": "stream",
     "text": [
      "1 2 3 4 "
     ]
    }
   ],
   "source": [
    "num=0\n",
    "while num<=10:\n",
    "    num+=1\n",
    "    if num==5:\n",
    "        break; # 현재 반복문 빠져나감\n",
    "    print(num,end=' ')"
   ]
  },
  {
   "cell_type": "code",
   "execution_count": 9,
   "metadata": {},
   "outputs": [
    {
     "name": "stdout",
     "output_type": "stream",
     "text": [
      "1 2 3 4 6 7 8 9 10 11 "
     ]
    }
   ],
   "source": [
    "num=0\n",
    "while num<=10:\n",
    "    num+=1\n",
    "    if num==5:\n",
    "        continue; # 현재 반복문 빠져나감\n",
    "    print(num,end=' ')"
   ]
  },
  {
   "cell_type": "code",
   "execution_count": 15,
   "metadata": {},
   "outputs": [
    {
     "name": "stdout",
     "output_type": "stream",
     "text": [
      "1~100 어느 수일까요?55\n",
      "숫자가 작아요. 숫자는 56에서 100\n",
      "1~100 어느 수일까요?88\n",
      "숫자가 작아요. 숫자는 89에서 100\n",
      "1~100 어느 수일까요?99\n",
      "숫자가 커요. 숫자는 89에서 98\n",
      "1~100 어느 수일까요?95\n",
      "숫자가 작아요. 숫자는 96에서 98\n",
      "1~100 어느 수일까요?97\n",
      "숫자가 작아요. 숫자는 98에서 98\n",
      "1~100 어느 수일까요?98\n",
      "정답\n"
     ]
    }
   ],
   "source": [
    "# 숫자 찾기 게임\n",
    "'''\n",
    "1~100사이의 숫자를 맞추는 프로그램을 제작하시오.\n",
    "(프로그램 안에서 입의의 숫자가 만들어지고 입력숫자와 비교해 출력에서 up, down 알려줌.\n",
    "숫자가 틀리면 min~max 사이의 수라고 알려주고 숫자를 맞추면 종료한다.\n",
    "숫자를 맞출 때까지 반복.)\n",
    "'''\n",
    "import random\n",
    "answer=random.randint(1,100)\n",
    "min=1\n",
    "max=100\n",
    "while inputint!= answer:\n",
    "    inputint = int(input(\"1~100 어느 수일까요?\"))\n",
    "    if inputint<answer:\n",
    "        min=inputint+1\n",
    "        print(\"숫자가 작아요. 숫자는 {}에서 {}\".format(min,max))\n",
    "        continue;\n",
    "    elif inputint>answer:\n",
    "        max=inputint-1\n",
    "        print(\"숫자가 커요. 숫자는 {}에서 {}\".format(min,max))\n",
    "        continue;\n",
    "    if inputint==answer:\n",
    "        break;\n",
    "    \n",
    "print(\"정답\")\n"
   ]
  },
  {
   "cell_type": "markdown",
   "metadata": {},
   "source": [
    "# 3절. 중첩루프: 반복문 안 반복문\n",
    "-2이상의 데이터 구조의 모든 항목들을 처리하기 위해 사용\n"
   ]
  },
  {
   "cell_type": "code",
   "execution_count": 16,
   "metadata": {},
   "outputs": [
    {
     "name": "stdout",
     "output_type": "stream",
     "text": [
      "[[1, 2, 3, 4, 5], [10, 20, 30, 40], [11, 22, 33, 44]]\n"
     ]
    }
   ],
   "source": [
    "list_2d=[[1,2,3,4,5],\n",
    "        [10,20,30,40],\n",
    "        [11,22,33,44]]\n",
    "print(list_2d)"
   ]
  },
  {
   "cell_type": "code",
   "execution_count": 18,
   "metadata": {},
   "outputs": [
    {
     "name": "stdout",
     "output_type": "stream",
     "text": [
      "0행 0열: 1\n",
      "0행 1열: 2\n",
      "0행 2열: 3\n",
      "0행 3열: 4\n",
      "0행 4열: 5\n",
      "\n",
      "1행 0열: 10\n",
      "1행 1열: 20\n",
      "1행 2열: 30\n",
      "1행 3열: 40\n",
      "\n",
      "2행 0열: 11\n",
      "2행 1열: 22\n",
      "2행 2열: 33\n",
      "2행 3열: 44\n",
      "\n"
     ]
    }
   ],
   "source": [
    "for i in range(len(list_2d)):\n",
    "    for j in range(len(list_2d[i])):\n",
    "        print('{}행 {}열: {}'.format(i,j,list_2d[i][j],end='\\t'))\n",
    "    print()"
   ]
  },
  {
   "cell_type": "code",
   "execution_count": 19,
   "metadata": {},
   "outputs": [
    {
     "name": "stdout",
     "output_type": "stream",
     "text": [
      "0행 0열: 1\n",
      "0행 1열: 2\n",
      "0행 2열: 3\n",
      "0행 3열: 4\n",
      "0행 4열: 5\n",
      "\n",
      "1행 0열: 10\n",
      "1행 1열: 20\n",
      "1행 2열: 30\n",
      "1행 3열: 40\n",
      "\n",
      "2행 0열: 11\n",
      "2행 1열: 22\n",
      "2행 2열: 33\n",
      "2행 3열: 44\n",
      "\n"
     ]
    }
   ],
   "source": [
    "for i, row in enumerate(list_2d):\n",
    "    for j, data in enumerate(row):\n",
    "        print('{}행 {}열: {}'.format(i,j,list_2d[i][j],end='\\t'))\n",
    "    print()"
   ]
  },
  {
   "cell_type": "code",
   "execution_count": 35,
   "metadata": {},
   "outputs": [
    {
     "name": "stdout",
     "output_type": "stream",
     "text": [
      "2*1=2\t3*1=3\t4*1=4\t5*1=5\t6*1=6\t7*1=7\t8*1=8\t9*1=9\t\n",
      "2*2=4\t3*2=6\t4*2=8\t5*2=10\t6*2=12\t7*2=14\t8*2=16\t9*2=18\t\n",
      "2*3=6\t3*3=9\t4*3=12\t5*3=15\t6*3=18\t7*3=21\t8*3=24\t9*3=27\t\n",
      "2*4=8\t3*4=12\t4*4=16\t5*4=20\t6*4=24\t7*4=28\t8*4=32\t9*4=36\t\n",
      "2*5=10\t3*5=15\t4*5=20\t5*5=25\t6*5=30\t7*5=35\t8*5=40\t9*5=45\t\n",
      "2*6=12\t3*6=18\t4*6=24\t5*6=30\t6*6=36\t7*6=42\t8*6=48\t9*6=54\t\n",
      "2*7=14\t3*7=21\t4*7=28\t5*7=35\t6*7=42\t7*7=49\t8*7=56\t9*7=63\t\n",
      "2*8=16\t3*8=24\t4*8=32\t5*8=40\t6*8=48\t7*8=56\t8*8=64\t9*8=72\t\n",
      "2*9=18\t3*9=27\t4*9=36\t5*9=45\t6*9=54\t7*9=63\t8*9=72\t9*9=81\t\n"
     ]
    }
   ],
   "source": [
    "# 2~9단까지 구구단 전체 출력하시오\n",
    "\"\"\"\n",
    "2*1 3*1 \n",
    "\"\"\"\n",
    "for i in range (1,10):\n",
    "    for j in range(2,10):\n",
    "        print(\"{}*{}={}\".format(j,i,i*j),end=\"\\t\")\n",
    "    print()\n"
   ]
  },
  {
   "cell_type": "markdown",
   "metadata": {},
   "source": [
    "# 4절. 중첩루프 탈출\n"
   ]
  },
  {
   "cell_type": "code",
   "execution_count": 37,
   "metadata": {},
   "outputs": [
    {
     "name": "stdout",
     "output_type": "stream",
     "text": [
      "0 1\n",
      "0 2\n",
      "2 1\n"
     ]
    }
   ],
   "source": [
    "# break\n",
    "for a in range(0,3):\n",
    "    for b in range(1,3):\n",
    "        if a==b:\n",
    "            break;\n",
    "        print(a,b)"
   ]
  },
  {
   "cell_type": "code",
   "execution_count": 45,
   "metadata": {},
   "outputs": [
    {
     "name": "stdout",
     "output_type": "stream",
     "text": [
      "0 1\n",
      "0 2\n",
      "0 3\n"
     ]
    }
   ],
   "source": [
    "#break를 만나면 바깥쪽 반복문까지 탈출; 방법 1. 플래그 이용\n",
    "break_out_flag=False\n",
    "for a in range(3):\n",
    "    for b in range(1,4):\n",
    "        if a==b:\n",
    "            break_out_flag=True\n",
    "            break;\n",
    "        print(a,b)\n",
    "    if break_out_flag:\n",
    "        break;"
   ]
  },
  {
   "cell_type": "code",
   "execution_count": 47,
   "metadata": {},
   "outputs": [],
   "source": [
    "#break를 만나면 바깥쪽 반복문까지 탈출; 방법 2. exception\n",
    "class BreakOutLoop(Exception):\n",
    "    pass # 아무것도 추가하지 않겠다"
   ]
  },
  {
   "cell_type": "code",
   "execution_count": 53,
   "metadata": {},
   "outputs": [
    {
     "name": "stdout",
     "output_type": "stream",
     "text": [
      "0 1\n",
      "0 2\n"
     ]
    }
   ],
   "source": [
    "for a in range(3):\n",
    "    try:\n",
    "        for b in range(1,3):\n",
    "            if a==b:\n",
    "                raise BreakOutLoop\n",
    "            print(a,b)\n",
    "    except BreakOutLoop:\n",
    "        break;"
   ]
  },
  {
   "cell_type": "code",
   "execution_count": 55,
   "metadata": {},
   "outputs": [
    {
     "name": "stdout",
     "output_type": "stream",
     "text": [
      "0 1\n",
      "0 2\n"
     ]
    }
   ],
   "source": [
    "try:\n",
    "    for a in range(3):\n",
    "        for b in range(1,3):\n",
    "            if a == b:\n",
    "                raise BreakOutLoop\n",
    "            print(a,b)\n",
    "except BreakOutLoop:\n",
    "    pass"
   ]
  },
  {
   "cell_type": "code",
   "execution_count": 162,
   "metadata": {},
   "outputs": [
    {
     "name": "stdout",
     "output_type": "stream",
     "text": [
      "숫자?4555\n",
      "홀수입니다.\n"
     ]
    }
   ],
   "source": [
    "#1번 양의 정수를 입력 받아 홀수인지 짝수인지를 판별\n",
    "checkptn=False\n",
    "while checkptn==False:\n",
    "    inputint=int(input(\"숫자?\"))\n",
    "    if inputint<=0:\n",
    "        print(\"양의 정수를 입력할 것.\")\n",
    "    elif inputint%2==1:\n",
    "        print(\"홀수입니다.\")\n",
    "        checkptn=True\n",
    "    elif inputint%2==0:\n",
    "        print(\"짝수입니다.\")\n",
    "        checkptn=True"
   ]
  },
  {
   "cell_type": "code",
   "execution_count": 150,
   "metadata": {},
   "outputs": [
    {
     "name": "stdout",
     "output_type": "stream",
     "text": [
      "408\n"
     ]
    }
   ],
   "source": [
    "#2  1~50까지 자연수 중 3의 배수의 총합을 출력하는 프로그램을 작성\n",
    "sum=0\n",
    "for i in range(1,51):    \n",
    "    if i%3==0:\n",
    "        sum+=i\n",
    "        i+=1\n",
    "else:\n",
    "    print(sum)"
   ]
  },
  {
   "cell_type": "code",
   "execution_count": 113,
   "metadata": {},
   "outputs": [
    {
     "name": "stdout",
     "output_type": "stream",
     "text": [
      "★★★★★\n",
      "★★★★★\n",
      "★★★★★\n",
      "★★★★★\n",
      "★★★★★\n",
      "\n",
      "\n",
      "★\n",
      "★★\n",
      "★★★\n",
      "★★★★\n",
      "★★★★★\n",
      "\n",
      "★★★★★\n",
      "★★★★\n",
      "★★★\n",
      "★★\n",
      "★\n"
     ]
    }
   ],
   "source": [
    "#3 패턴의 별을 출력\n",
    "for i in range (5):\n",
    "    print(\"★★★★★\")\n",
    "\n",
    "print()\n",
    "for i in range (0,6):\n",
    "    for j in range (i):\n",
    "        print(\"★\", end=\"\")\n",
    "    print()\n",
    "\n",
    "print()\n",
    "for a in range (5,0,-1):\n",
    "    for b in range (a):\n",
    "        print(\"★\", end=\"\")\n",
    "    print()\n",
    "\n",
    "print()\n",
    "for i in range (0,6):\n",
    "    for j in range (i):\n",
    "        print(\"★\", end=\"\")\n",
    "    print()\n",
    "\n"
   ]
  },
  {
   "cell_type": "code",
   "execution_count": 117,
   "metadata": {},
   "outputs": [
    {
     "name": "stdout",
     "output_type": "stream",
     "text": [
      "165\n"
     ]
    }
   ],
   "source": [
    "sum = 0\n",
    "for i in range (0,31):\n",
    "    if i%3==0:\n",
    "        sum=sum+i\n",
    "    else:\n",
    "        pass\n",
    "print(sum)"
   ]
  },
  {
   "cell_type": "code",
   "execution_count": 119,
   "metadata": {},
   "outputs": [
    {
     "name": "stdout",
     "output_type": "stream",
     "text": [
      "1 3 5 7 9 "
     ]
    }
   ],
   "source": [
    "num = 0\n",
    "while num <=10:\n",
    "    if num%2==1:\n",
    "        print(num,end=' ')\n",
    "    num+=1"
   ]
  },
  {
   "cell_type": "code",
   "execution_count": 124,
   "metadata": {},
   "outputs": [
    {
     "name": "stdout",
     "output_type": "stream",
     "text": [
      "1 2 3 \n",
      "4 5 6 7 \n",
      "8 9 \n"
     ]
    }
   ],
   "source": [
    "list2d = [ [1,2,3],[4,5,6,7],[8,9]]\n",
    "for row in list2d:\n",
    "    for data in row:\n",
    "        print(data,end=\" \")\n",
    "    print()"
   ]
  },
  {
   "cell_type": "code",
   "execution_count": 128,
   "metadata": {},
   "outputs": [
    {
     "name": "stdout",
     "output_type": "stream",
     "text": [
      "0 apple\n",
      "1 banana\n"
     ]
    }
   ],
   "source": [
    "colors = {\"red\":'apple', \"yello\":'banana'}\n",
    "for i, k in enumerate(colors.values()):\n",
    "    print(i, k)"
   ]
  },
  {
   "cell_type": "code",
   "execution_count": 1,
   "metadata": {},
   "outputs": [
    {
     "name": "stdout",
     "output_type": "stream",
     "text": [
      "1 0\n"
     ]
    }
   ],
   "source": [
    "for i in range(0, 2):\n",
    "    for j in range(0,2):\n",
    "        if i==j:\n",
    "            break\n",
    "        print(i, j)\n",
    "        \n",
    "#실행결과...\n",
    "#1 0"
   ]
  },
  {
   "cell_type": "code",
   "execution_count": 142,
   "metadata": {},
   "outputs": [
    {
     "name": "stdout",
     "output_type": "stream",
     "text": [
      "0 0\n",
      "1 0\n",
      "1 1\n"
     ]
    }
   ],
   "source": [
    "for i in range(0, 2):\n",
    "    for j in range(0,2):\n",
    "        print(i, j)\n",
    "        if i==j:\n",
    "            break\n"
   ]
  },
  {
   "cell_type": "code",
   "execution_count": 140,
   "metadata": {},
   "outputs": [
    {
     "name": "stdout",
     "output_type": "stream",
     "text": [
      "0\n",
      "1\n",
      "2\n",
      "3\n",
      "4\n"
     ]
    }
   ],
   "source": [
    "for i in range(0,5):\n",
    "    print(i)"
   ]
  },
  {
   "cell_type": "code",
   "execution_count": 149,
   "metadata": {},
   "outputs": [
    {
     "name": "stdout",
     "output_type": "stream",
     "text": [
      "3 5 7 9 "
     ]
    }
   ],
   "source": [
    "L = [3, 4, 5, 6, 7, 8, 9, 10]\n",
    "for i, data in enumerate(L):\n",
    "    if (i%2 == 0):\n",
    "        print(data, end=' ')\n"
   ]
  }
 ],
 "metadata": {
  "kernelspec": {
   "display_name": "Python 3",
   "language": "python",
   "name": "python3"
  },
  "language_info": {
   "codemirror_mode": {
    "name": "ipython",
    "version": 3
   },
   "file_extension": ".py",
   "mimetype": "text/x-python",
   "name": "python",
   "nbconvert_exporter": "python",
   "pygments_lexer": "ipython3",
   "version": "3.8.5"
  },
  "toc": {
   "base_numbering": 1,
   "nav_menu": {},
   "number_sections": false,
   "sideBar": true,
   "skip_h1_title": false,
   "title_cell": "Table of Contents",
   "title_sidebar": "Contents",
   "toc_cell": false,
   "toc_position": {
    "height": "calc(100% - 180px)",
    "left": "10px",
    "top": "150px",
    "width": "203.188px"
   },
   "toc_section_display": true,
   "toc_window_display": true
  },
  "varInspector": {
   "cols": {
    "lenName": 16,
    "lenType": 16,
    "lenVar": 40
   },
   "kernels_config": {
    "python": {
     "delete_cmd_postfix": "",
     "delete_cmd_prefix": "del ",
     "library": "var_list.py",
     "varRefreshCmd": "print(var_dic_list())"
    },
    "r": {
     "delete_cmd_postfix": ") ",
     "delete_cmd_prefix": "rm(",
     "library": "var_list.r",
     "varRefreshCmd": "cat(var_dic_list()) "
    }
   },
   "types_to_exclude": [
    "module",
    "function",
    "builtin_function_or_method",
    "instance",
    "_Feature"
   ],
   "window_display": false
  }
 },
 "nbformat": 4,
 "nbformat_minor": 4
}
