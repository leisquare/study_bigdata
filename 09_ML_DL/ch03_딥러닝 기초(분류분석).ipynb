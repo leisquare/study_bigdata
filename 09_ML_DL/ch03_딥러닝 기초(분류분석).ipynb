{
 "cells": [
  {
   "cell_type": "code",
   "execution_count": 3,
   "metadata": {},
   "outputs": [],
   "source": [
    "import tensorflow.keras.utils as utils # 분류분석시 원핫인코딩시\n",
    "from tensorflow.keras.models import Sequential #모델 생성시\n",
    "from tensorflow.keras.layers import Dense\n",
    "import numpy as np"
   ]
  },
  {
   "cell_type": "markdown",
   "metadata": {},
   "source": [
    "# 1. 데이터 셋 준비"
   ]
  },
  {
   "cell_type": "code",
   "execution_count": 6,
   "metadata": {},
   "outputs": [],
   "source": [
    "# 학습데이터=훈련데이터, 검증데이터, 테스트데이터\n",
    "X_train = np.array([1,2,3,4,5,6,7,8,9]*10)\n",
    "Y_train = np.array([2,3,4,5,10,12,14,16,18]*10)\n",
    "# 검증 데이터, 테스트 데이터\n",
    "X_val = np.array([1,2,3,4,5,6,7,8,9])\n",
    "Y_val=np.array([2,3,4,5,10,12,14,16,18])"
   ]
  },
  {
   "cell_type": "code",
   "execution_count": 7,
   "metadata": {},
   "outputs": [],
   "source": [
    "#분류분석을 하기 위해 target데이터를 라벨링 전환(원 핫 인코딩)\n",
    "Y_train = utils.to_categorical(Y_train,19)\n",
    "Y_val= utils.to_categorical(Y_val,19)"
   ]
  },
  {
   "cell_type": "code",
   "execution_count": 8,
   "metadata": {},
   "outputs": [
    {
     "data": {
      "text/plain": [
       "array([[0., 0., 1., 0., 0., 0., 0., 0., 0., 0., 0., 0., 0., 0., 0., 0.,\n",
       "        0., 0., 0.],\n",
       "       [0., 0., 0., 1., 0., 0., 0., 0., 0., 0., 0., 0., 0., 0., 0., 0.,\n",
       "        0., 0., 0.],\n",
       "       [0., 0., 0., 0., 1., 0., 0., 0., 0., 0., 0., 0., 0., 0., 0., 0.,\n",
       "        0., 0., 0.],\n",
       "       [0., 0., 0., 0., 0., 1., 0., 0., 0., 0., 0., 0., 0., 0., 0., 0.,\n",
       "        0., 0., 0.],\n",
       "       [0., 0., 0., 0., 0., 0., 0., 0., 0., 0., 1., 0., 0., 0., 0., 0.,\n",
       "        0., 0., 0.],\n",
       "       [0., 0., 0., 0., 0., 0., 0., 0., 0., 0., 0., 0., 1., 0., 0., 0.,\n",
       "        0., 0., 0.],\n",
       "       [0., 0., 0., 0., 0., 0., 0., 0., 0., 0., 0., 0., 0., 0., 1., 0.,\n",
       "        0., 0., 0.],\n",
       "       [0., 0., 0., 0., 0., 0., 0., 0., 0., 0., 0., 0., 0., 0., 0., 0.,\n",
       "        1., 0., 0.],\n",
       "       [0., 0., 0., 0., 0., 0., 0., 0., 0., 0., 0., 0., 0., 0., 0., 0.,\n",
       "        0., 0., 1.]], dtype=float32)"
      ]
     },
     "execution_count": 8,
     "metadata": {},
     "output_type": "execute_result"
    }
   ],
   "source": [
    "Y_val"
   ]
  },
  {
   "cell_type": "markdown",
   "metadata": {},
   "source": [
    "# 2. 모델 구성하기"
   ]
  },
  {
   "cell_type": "code",
   "execution_count": 10,
   "metadata": {},
   "outputs": [],
   "source": [
    "model=Sequential()\n",
    "model.add(Dense(units=38,input_dim=1,activation=\"sigmoid\"))\n",
    "model.add(Dense(units=64,activation=\"elu\"))\n",
    "model.add(Dense(units=32,activation=\"elu\"))\n",
    "model.add(Dense(units=19,activation=\"softmax\")) #softmax: 모든 출력결과 합이 1"
   ]
  },
  {
   "cell_type": "markdown",
   "metadata": {},
   "source": [
    "# 3. 모델 학습과정 설정"
   ]
  },
  {
   "cell_type": "code",
   "execution_count": 12,
   "metadata": {},
   "outputs": [],
   "source": [
    "model.compile(loss=\"categorical_crossentropy\",optimizer=\"sgd\",\n",
    "             metrics=[\"accuracy\"])"
   ]
  },
  {
   "cell_type": "markdown",
   "metadata": {},
   "source": [
    "# 4. 모델 학습시키기\n"
   ]
  },
  {
   "cell_type": "code",
   "execution_count": 29,
   "metadata": {},
   "outputs": [
    {
     "name": "stdout",
     "output_type": "stream",
     "text": [
      "Epoch 1/300\n",
      "9/9 - 0s - loss: 0.4394 - accuracy: 0.9556 - val_loss: 0.4412 - val_accuracy: 1.0000\n",
      "Epoch 2/300\n",
      "9/9 - 0s - loss: 0.4490 - accuracy: 1.0000 - val_loss: 0.4176 - val_accuracy: 1.0000\n",
      "Epoch 3/300\n",
      "9/9 - 0s - loss: 0.4517 - accuracy: 0.9111 - val_loss: 0.4166 - val_accuracy: 1.0000\n",
      "Epoch 4/300\n",
      "9/9 - 0s - loss: 0.4397 - accuracy: 0.9778 - val_loss: 0.4245 - val_accuracy: 1.0000\n",
      "Epoch 5/300\n",
      "9/9 - 0s - loss: 0.4468 - accuracy: 0.9444 - val_loss: 0.4119 - val_accuracy: 1.0000\n",
      "Epoch 6/300\n",
      "9/9 - 0s - loss: 0.4352 - accuracy: 0.9444 - val_loss: 0.4119 - val_accuracy: 1.0000\n",
      "Epoch 7/300\n",
      "9/9 - 0s - loss: 0.4217 - accuracy: 0.9444 - val_loss: 0.4124 - val_accuracy: 1.0000\n",
      "Epoch 8/300\n",
      "9/9 - 0s - loss: 0.4277 - accuracy: 1.0000 - val_loss: 0.4071 - val_accuracy: 1.0000\n",
      "Epoch 9/300\n",
      "9/9 - 0s - loss: 0.4168 - accuracy: 0.9889 - val_loss: 0.4031 - val_accuracy: 1.0000\n",
      "Epoch 10/300\n",
      "9/9 - 0s - loss: 0.4139 - accuracy: 1.0000 - val_loss: 0.4019 - val_accuracy: 1.0000\n",
      "Epoch 11/300\n",
      "9/9 - 0s - loss: 0.4133 - accuracy: 1.0000 - val_loss: 0.4140 - val_accuracy: 1.0000\n",
      "Epoch 12/300\n",
      "9/9 - 0s - loss: 0.4185 - accuracy: 0.9222 - val_loss: 0.4031 - val_accuracy: 1.0000\n",
      "Epoch 13/300\n",
      "9/9 - 0s - loss: 0.4136 - accuracy: 0.9778 - val_loss: 0.3929 - val_accuracy: 1.0000\n",
      "Epoch 14/300\n",
      "9/9 - 0s - loss: 0.4303 - accuracy: 0.9667 - val_loss: 0.3890 - val_accuracy: 1.0000\n",
      "Epoch 15/300\n",
      "9/9 - 0s - loss: 0.4231 - accuracy: 0.9889 - val_loss: 0.3938 - val_accuracy: 1.0000\n",
      "Epoch 16/300\n",
      "9/9 - 0s - loss: 0.4214 - accuracy: 0.9667 - val_loss: 0.3980 - val_accuracy: 1.0000\n",
      "Epoch 17/300\n",
      "9/9 - 0s - loss: 0.4108 - accuracy: 1.0000 - val_loss: 0.3824 - val_accuracy: 1.0000\n",
      "Epoch 18/300\n",
      "9/9 - 0s - loss: 0.4149 - accuracy: 1.0000 - val_loss: 0.3898 - val_accuracy: 1.0000\n",
      "Epoch 19/300\n",
      "9/9 - 0s - loss: 0.4107 - accuracy: 1.0000 - val_loss: 0.3957 - val_accuracy: 1.0000\n",
      "Epoch 20/300\n",
      "9/9 - 0s - loss: 0.3951 - accuracy: 0.9556 - val_loss: 0.3854 - val_accuracy: 1.0000\n",
      "Epoch 21/300\n",
      "9/9 - 0s - loss: 0.4006 - accuracy: 0.9667 - val_loss: 0.3939 - val_accuracy: 0.8889\n",
      "Epoch 22/300\n",
      "9/9 - 0s - loss: 0.4317 - accuracy: 0.9000 - val_loss: 0.3751 - val_accuracy: 1.0000\n",
      "Epoch 23/300\n",
      "9/9 - 0s - loss: 0.3944 - accuracy: 0.9778 - val_loss: 0.3696 - val_accuracy: 1.0000\n",
      "Epoch 24/300\n",
      "9/9 - 0s - loss: 0.3971 - accuracy: 0.9667 - val_loss: 0.3800 - val_accuracy: 1.0000\n",
      "Epoch 25/300\n",
      "9/9 - 0s - loss: 0.4100 - accuracy: 1.0000 - val_loss: 0.3861 - val_accuracy: 1.0000\n",
      "Epoch 26/300\n",
      "9/9 - 0s - loss: 0.4022 - accuracy: 1.0000 - val_loss: 0.3892 - val_accuracy: 0.8889\n",
      "Epoch 27/300\n",
      "9/9 - 0s - loss: 0.3897 - accuracy: 0.9556 - val_loss: 0.4053 - val_accuracy: 0.8889\n",
      "Epoch 28/300\n",
      "9/9 - 0s - loss: 0.4011 - accuracy: 0.9444 - val_loss: 0.3573 - val_accuracy: 1.0000\n",
      "Epoch 29/300\n",
      "9/9 - 0s - loss: 0.3978 - accuracy: 0.9889 - val_loss: 0.3545 - val_accuracy: 1.0000\n",
      "Epoch 30/300\n",
      "9/9 - 0s - loss: 0.3616 - accuracy: 1.0000 - val_loss: 0.3776 - val_accuracy: 0.8889\n",
      "Epoch 31/300\n",
      "9/9 - 0s - loss: 0.4201 - accuracy: 0.9667 - val_loss: 0.3594 - val_accuracy: 1.0000\n",
      "Epoch 32/300\n",
      "9/9 - 0s - loss: 0.3785 - accuracy: 1.0000 - val_loss: 0.3626 - val_accuracy: 1.0000\n",
      "Epoch 33/300\n",
      "9/9 - 0s - loss: 0.3903 - accuracy: 0.9667 - val_loss: 0.3587 - val_accuracy: 1.0000\n",
      "Epoch 34/300\n",
      "9/9 - 0s - loss: 0.3774 - accuracy: 1.0000 - val_loss: 0.3505 - val_accuracy: 1.0000\n",
      "Epoch 35/300\n",
      "9/9 - 0s - loss: 0.3730 - accuracy: 0.9556 - val_loss: 0.3576 - val_accuracy: 1.0000\n",
      "Epoch 36/300\n",
      "9/9 - 0s - loss: 0.3739 - accuracy: 1.0000 - val_loss: 0.3502 - val_accuracy: 1.0000\n",
      "Epoch 37/300\n",
      "9/9 - 0s - loss: 0.3632 - accuracy: 1.0000 - val_loss: 0.3460 - val_accuracy: 1.0000\n",
      "Epoch 38/300\n",
      "9/9 - 0s - loss: 0.3839 - accuracy: 0.9556 - val_loss: 0.3493 - val_accuracy: 1.0000\n",
      "Epoch 39/300\n",
      "9/9 - 0s - loss: 0.3727 - accuracy: 0.9778 - val_loss: 0.3454 - val_accuracy: 1.0000\n",
      "Epoch 40/300\n",
      "9/9 - 0s - loss: 0.3900 - accuracy: 0.9667 - val_loss: 0.3337 - val_accuracy: 1.0000\n",
      "Epoch 41/300\n",
      "9/9 - 0s - loss: 0.3567 - accuracy: 0.9889 - val_loss: 0.3615 - val_accuracy: 1.0000\n",
      "Epoch 42/300\n",
      "9/9 - 0s - loss: 0.3578 - accuracy: 0.9889 - val_loss: 0.3413 - val_accuracy: 1.0000\n",
      "Epoch 43/300\n",
      "9/9 - 0s - loss: 0.3581 - accuracy: 0.9667 - val_loss: 0.3297 - val_accuracy: 1.0000\n",
      "Epoch 44/300\n",
      "9/9 - 0s - loss: 0.3865 - accuracy: 0.9333 - val_loss: 0.3495 - val_accuracy: 0.8889\n",
      "Epoch 45/300\n",
      "9/9 - 0s - loss: 0.3491 - accuracy: 0.9889 - val_loss: 0.3230 - val_accuracy: 1.0000\n",
      "Epoch 46/300\n",
      "9/9 - 0s - loss: 0.3514 - accuracy: 1.0000 - val_loss: 0.3263 - val_accuracy: 1.0000\n",
      "Epoch 47/300\n",
      "9/9 - 0s - loss: 0.3464 - accuracy: 0.9667 - val_loss: 0.3384 - val_accuracy: 1.0000\n",
      "Epoch 48/300\n",
      "9/9 - 0s - loss: 0.3465 - accuracy: 1.0000 - val_loss: 0.3274 - val_accuracy: 1.0000\n",
      "Epoch 49/300\n",
      "9/9 - 0s - loss: 0.3518 - accuracy: 1.0000 - val_loss: 0.3181 - val_accuracy: 1.0000\n",
      "Epoch 50/300\n",
      "9/9 - 0s - loss: 0.3308 - accuracy: 0.9667 - val_loss: 0.3437 - val_accuracy: 1.0000\n",
      "Epoch 51/300\n",
      "9/9 - 0s - loss: 0.3284 - accuracy: 1.0000 - val_loss: 0.3273 - val_accuracy: 1.0000\n",
      "Epoch 52/300\n",
      "9/9 - 0s - loss: 0.3454 - accuracy: 1.0000 - val_loss: 0.3290 - val_accuracy: 1.0000\n",
      "Epoch 53/300\n",
      "9/9 - 0s - loss: 0.3328 - accuracy: 1.0000 - val_loss: 0.3198 - val_accuracy: 1.0000\n",
      "Epoch 54/300\n",
      "9/9 - 0s - loss: 0.3272 - accuracy: 1.0000 - val_loss: 0.3233 - val_accuracy: 1.0000\n",
      "Epoch 55/300\n",
      "9/9 - 0s - loss: 0.3432 - accuracy: 1.0000 - val_loss: 0.3063 - val_accuracy: 1.0000\n",
      "Epoch 56/300\n",
      "9/9 - 0s - loss: 0.3221 - accuracy: 1.0000 - val_loss: 0.3090 - val_accuracy: 1.0000\n",
      "Epoch 57/300\n",
      "9/9 - 0s - loss: 0.3255 - accuracy: 1.0000 - val_loss: 0.3037 - val_accuracy: 1.0000\n",
      "Epoch 58/300\n",
      "9/9 - 0s - loss: 0.3263 - accuracy: 1.0000 - val_loss: 0.3289 - val_accuracy: 0.8889\n",
      "Epoch 59/300\n",
      "9/9 - 0s - loss: 0.3227 - accuracy: 0.9778 - val_loss: 0.3010 - val_accuracy: 1.0000\n",
      "Epoch 60/300\n",
      "9/9 - 0s - loss: 0.3249 - accuracy: 1.0000 - val_loss: 0.3053 - val_accuracy: 1.0000\n",
      "Epoch 61/300\n",
      "9/9 - 0s - loss: 0.3166 - accuracy: 1.0000 - val_loss: 0.3014 - val_accuracy: 1.0000\n",
      "Epoch 62/300\n",
      "9/9 - 0s - loss: 0.3139 - accuracy: 1.0000 - val_loss: 0.3001 - val_accuracy: 1.0000\n",
      "Epoch 63/300\n",
      "9/9 - 0s - loss: 0.3104 - accuracy: 1.0000 - val_loss: 0.2910 - val_accuracy: 1.0000\n",
      "Epoch 64/300\n",
      "9/9 - 0s - loss: 0.3060 - accuracy: 1.0000 - val_loss: 0.3085 - val_accuracy: 1.0000\n",
      "Epoch 65/300\n",
      "9/9 - 0s - loss: 0.3130 - accuracy: 0.9889 - val_loss: 0.2911 - val_accuracy: 1.0000\n",
      "Epoch 66/300\n",
      "9/9 - 0s - loss: 0.3098 - accuracy: 1.0000 - val_loss: 0.2918 - val_accuracy: 1.0000\n",
      "Epoch 67/300\n",
      "9/9 - 0s - loss: 0.3015 - accuracy: 0.9889 - val_loss: 0.3119 - val_accuracy: 1.0000\n",
      "Epoch 68/300\n",
      "9/9 - 0s - loss: 0.3337 - accuracy: 1.0000 - val_loss: 0.2920 - val_accuracy: 1.0000\n",
      "Epoch 69/300\n",
      "9/9 - 0s - loss: 0.2907 - accuracy: 0.9778 - val_loss: 0.2886 - val_accuracy: 1.0000\n",
      "Epoch 70/300\n",
      "9/9 - 0s - loss: 0.3179 - accuracy: 0.9889 - val_loss: 0.2789 - val_accuracy: 1.0000\n",
      "Epoch 71/300\n",
      "9/9 - 0s - loss: 0.3000 - accuracy: 1.0000 - val_loss: 0.3307 - val_accuracy: 1.0000\n",
      "Epoch 72/300\n",
      "9/9 - 0s - loss: 0.3004 - accuracy: 1.0000 - val_loss: 0.2826 - val_accuracy: 1.0000\n",
      "Epoch 73/300\n",
      "9/9 - 0s - loss: 0.3062 - accuracy: 1.0000 - val_loss: 0.2822 - val_accuracy: 1.0000\n",
      "Epoch 74/300\n",
      "9/9 - 0s - loss: 0.3091 - accuracy: 1.0000 - val_loss: 0.2808 - val_accuracy: 1.0000\n",
      "Epoch 75/300\n",
      "9/9 - 0s - loss: 0.2884 - accuracy: 1.0000 - val_loss: 0.2708 - val_accuracy: 1.0000\n",
      "Epoch 76/300\n",
      "9/9 - 0s - loss: 0.2940 - accuracy: 0.9778 - val_loss: 0.2861 - val_accuracy: 1.0000\n",
      "Epoch 77/300\n",
      "9/9 - 0s - loss: 0.2811 - accuracy: 1.0000 - val_loss: 0.2838 - val_accuracy: 1.0000\n",
      "Epoch 78/300\n",
      "9/9 - 0s - loss: 0.2984 - accuracy: 1.0000 - val_loss: 0.2705 - val_accuracy: 1.0000\n",
      "Epoch 79/300\n",
      "9/9 - 0s - loss: 0.2979 - accuracy: 0.9667 - val_loss: 0.2803 - val_accuracy: 1.0000\n",
      "Epoch 80/300\n",
      "9/9 - 0s - loss: 0.2789 - accuracy: 0.9778 - val_loss: 0.2625 - val_accuracy: 1.0000\n",
      "Epoch 81/300\n",
      "9/9 - 0s - loss: 0.2850 - accuracy: 1.0000 - val_loss: 0.2660 - val_accuracy: 1.0000\n",
      "Epoch 82/300\n",
      "9/9 - 0s - loss: 0.2800 - accuracy: 1.0000 - val_loss: 0.2686 - val_accuracy: 1.0000\n",
      "Epoch 83/300\n",
      "9/9 - 0s - loss: 0.2880 - accuracy: 1.0000 - val_loss: 0.2605 - val_accuracy: 1.0000\n",
      "Epoch 84/300\n",
      "9/9 - 0s - loss: 0.2758 - accuracy: 1.0000 - val_loss: 0.2854 - val_accuracy: 1.0000\n"
     ]
    },
    {
     "name": "stdout",
     "output_type": "stream",
     "text": [
      "Epoch 85/300\n",
      "9/9 - 0s - loss: 0.2899 - accuracy: 1.0000 - val_loss: 0.2536 - val_accuracy: 1.0000\n",
      "Epoch 86/300\n",
      "9/9 - 0s - loss: 0.2685 - accuracy: 1.0000 - val_loss: 0.2515 - val_accuracy: 1.0000\n",
      "Epoch 87/300\n",
      "9/9 - 0s - loss: 0.2712 - accuracy: 1.0000 - val_loss: 0.2581 - val_accuracy: 1.0000\n",
      "Epoch 88/300\n",
      "9/9 - 0s - loss: 0.2785 - accuracy: 1.0000 - val_loss: 0.2543 - val_accuracy: 1.0000\n",
      "Epoch 89/300\n",
      "9/9 - 0s - loss: 0.2606 - accuracy: 1.0000 - val_loss: 0.2639 - val_accuracy: 1.0000\n",
      "Epoch 90/300\n",
      "9/9 - 0s - loss: 0.2704 - accuracy: 0.9889 - val_loss: 0.2538 - val_accuracy: 1.0000\n",
      "Epoch 91/300\n",
      "9/9 - 0s - loss: 0.2598 - accuracy: 1.0000 - val_loss: 0.2555 - val_accuracy: 1.0000\n",
      "Epoch 92/300\n",
      "9/9 - 0s - loss: 0.2701 - accuracy: 1.0000 - val_loss: 0.2677 - val_accuracy: 1.0000\n",
      "Epoch 93/300\n",
      "9/9 - 0s - loss: 0.2528 - accuracy: 0.9889 - val_loss: 0.2421 - val_accuracy: 1.0000\n",
      "Epoch 94/300\n",
      "9/9 - 0s - loss: 0.2565 - accuracy: 1.0000 - val_loss: 0.2441 - val_accuracy: 1.0000\n",
      "Epoch 95/300\n",
      "9/9 - 0s - loss: 0.2450 - accuracy: 1.0000 - val_loss: 0.2570 - val_accuracy: 1.0000\n",
      "Epoch 96/300\n",
      "9/9 - 0s - loss: 0.2510 - accuracy: 1.0000 - val_loss: 0.2491 - val_accuracy: 1.0000\n",
      "Epoch 97/300\n",
      "9/9 - 0s - loss: 0.2820 - accuracy: 1.0000 - val_loss: 0.2403 - val_accuracy: 1.0000\n",
      "Epoch 98/300\n",
      "9/9 - 0s - loss: 0.2477 - accuracy: 0.9778 - val_loss: 0.2422 - val_accuracy: 1.0000\n",
      "Epoch 99/300\n",
      "9/9 - 0s - loss: 0.2444 - accuracy: 1.0000 - val_loss: 0.2356 - val_accuracy: 1.0000\n",
      "Epoch 100/300\n",
      "9/9 - 0s - loss: 0.2550 - accuracy: 1.0000 - val_loss: 0.2669 - val_accuracy: 1.0000\n",
      "Epoch 101/300\n",
      "9/9 - 0s - loss: 0.2679 - accuracy: 1.0000 - val_loss: 0.2338 - val_accuracy: 1.0000\n",
      "Epoch 102/300\n",
      "9/9 - 0s - loss: 0.2500 - accuracy: 1.0000 - val_loss: 0.2423 - val_accuracy: 1.0000\n",
      "Epoch 103/300\n",
      "9/9 - 0s - loss: 0.2597 - accuracy: 0.9889 - val_loss: 0.2303 - val_accuracy: 1.0000\n",
      "Epoch 104/300\n",
      "9/9 - 0s - loss: 0.2455 - accuracy: 1.0000 - val_loss: 0.2412 - val_accuracy: 1.0000\n",
      "Epoch 105/300\n",
      "9/9 - 0s - loss: 0.2503 - accuracy: 1.0000 - val_loss: 0.2461 - val_accuracy: 1.0000\n",
      "Epoch 106/300\n",
      "9/9 - 0s - loss: 0.2376 - accuracy: 1.0000 - val_loss: 0.2494 - val_accuracy: 1.0000\n",
      "Epoch 107/300\n",
      "9/9 - 0s - loss: 0.2558 - accuracy: 1.0000 - val_loss: 0.2219 - val_accuracy: 1.0000\n",
      "Epoch 108/300\n",
      "9/9 - 0s - loss: 0.2472 - accuracy: 1.0000 - val_loss: 0.2446 - val_accuracy: 1.0000\n",
      "Epoch 109/300\n",
      "9/9 - 0s - loss: 0.2339 - accuracy: 1.0000 - val_loss: 0.2375 - val_accuracy: 1.0000\n",
      "Epoch 110/300\n",
      "9/9 - 0s - loss: 0.2498 - accuracy: 1.0000 - val_loss: 0.2263 - val_accuracy: 1.0000\n",
      "Epoch 111/300\n",
      "9/9 - 0s - loss: 0.2252 - accuracy: 1.0000 - val_loss: 0.2194 - val_accuracy: 1.0000\n",
      "Epoch 112/300\n",
      "9/9 - 0s - loss: 0.2302 - accuracy: 1.0000 - val_loss: 0.2448 - val_accuracy: 1.0000\n",
      "Epoch 113/300\n",
      "9/9 - 0s - loss: 0.2340 - accuracy: 1.0000 - val_loss: 0.2190 - val_accuracy: 1.0000\n",
      "Epoch 114/300\n",
      "9/9 - 0s - loss: 0.2305 - accuracy: 1.0000 - val_loss: 0.2219 - val_accuracy: 1.0000\n",
      "Epoch 115/300\n",
      "9/9 - 0s - loss: 0.2297 - accuracy: 1.0000 - val_loss: 0.2094 - val_accuracy: 1.0000\n",
      "Epoch 116/300\n",
      "9/9 - 0s - loss: 0.2330 - accuracy: 1.0000 - val_loss: 0.2160 - val_accuracy: 1.0000\n",
      "Epoch 117/300\n",
      "9/9 - 0s - loss: 0.2145 - accuracy: 1.0000 - val_loss: 0.2256 - val_accuracy: 1.0000\n",
      "Epoch 118/300\n",
      "9/9 - 0s - loss: 0.2335 - accuracy: 1.0000 - val_loss: 0.2130 - val_accuracy: 1.0000\n",
      "Epoch 119/300\n",
      "9/9 - 0s - loss: 0.2199 - accuracy: 1.0000 - val_loss: 0.2174 - val_accuracy: 1.0000\n",
      "Epoch 120/300\n",
      "9/9 - 0s - loss: 0.2259 - accuracy: 1.0000 - val_loss: 0.2049 - val_accuracy: 1.0000\n",
      "Epoch 121/300\n",
      "9/9 - 0s - loss: 0.2143 - accuracy: 1.0000 - val_loss: 0.2408 - val_accuracy: 0.8889\n",
      "Epoch 122/300\n",
      "9/9 - 0s - loss: 0.2261 - accuracy: 0.9889 - val_loss: 0.2064 - val_accuracy: 1.0000\n",
      "Epoch 123/300\n",
      "9/9 - 0s - loss: 0.2327 - accuracy: 1.0000 - val_loss: 0.1986 - val_accuracy: 1.0000\n",
      "Epoch 124/300\n",
      "9/9 - 0s - loss: 0.2141 - accuracy: 1.0000 - val_loss: 0.2042 - val_accuracy: 1.0000\n",
      "Epoch 125/300\n",
      "9/9 - 0s - loss: 0.2216 - accuracy: 1.0000 - val_loss: 0.2055 - val_accuracy: 1.0000\n",
      "Epoch 126/300\n",
      "9/9 - 0s - loss: 0.2105 - accuracy: 1.0000 - val_loss: 0.2063 - val_accuracy: 1.0000\n",
      "Epoch 127/300\n",
      "9/9 - 0s - loss: 0.2024 - accuracy: 1.0000 - val_loss: 0.2009 - val_accuracy: 1.0000\n",
      "Epoch 128/300\n",
      "9/9 - 0s - loss: 0.2040 - accuracy: 1.0000 - val_loss: 0.2136 - val_accuracy: 1.0000\n",
      "Epoch 129/300\n",
      "9/9 - 0s - loss: 0.2257 - accuracy: 0.9889 - val_loss: 0.1919 - val_accuracy: 1.0000\n",
      "Epoch 130/300\n",
      "9/9 - 0s - loss: 0.2027 - accuracy: 1.0000 - val_loss: 0.1943 - val_accuracy: 1.0000\n",
      "Epoch 131/300\n",
      "9/9 - 0s - loss: 0.1965 - accuracy: 1.0000 - val_loss: 0.1969 - val_accuracy: 1.0000\n",
      "Epoch 132/300\n",
      "9/9 - 0s - loss: 0.2366 - accuracy: 0.9778 - val_loss: 0.2310 - val_accuracy: 1.0000\n",
      "Epoch 133/300\n",
      "9/9 - 0s - loss: 0.2010 - accuracy: 1.0000 - val_loss: 0.1949 - val_accuracy: 1.0000\n",
      "Epoch 134/300\n",
      "9/9 - 0s - loss: 0.1972 - accuracy: 1.0000 - val_loss: 0.2352 - val_accuracy: 1.0000\n",
      "Epoch 135/300\n",
      "9/9 - 0s - loss: 0.2186 - accuracy: 1.0000 - val_loss: 0.1946 - val_accuracy: 1.0000\n",
      "Epoch 136/300\n",
      "9/9 - 0s - loss: 0.1983 - accuracy: 1.0000 - val_loss: 0.1940 - val_accuracy: 1.0000\n",
      "Epoch 137/300\n",
      "9/9 - 0s - loss: 0.1999 - accuracy: 1.0000 - val_loss: 0.1906 - val_accuracy: 1.0000\n",
      "Epoch 138/300\n",
      "9/9 - 0s - loss: 0.1947 - accuracy: 1.0000 - val_loss: 0.1826 - val_accuracy: 1.0000\n",
      "Epoch 139/300\n",
      "9/9 - 0s - loss: 0.1882 - accuracy: 1.0000 - val_loss: 0.1803 - val_accuracy: 1.0000\n",
      "Epoch 140/300\n",
      "9/9 - 0s - loss: 0.2098 - accuracy: 0.9778 - val_loss: 0.2124 - val_accuracy: 1.0000\n",
      "Epoch 141/300\n",
      "9/9 - 0s - loss: 0.2197 - accuracy: 1.0000 - val_loss: 0.1829 - val_accuracy: 1.0000\n",
      "Epoch 142/300\n",
      "9/9 - 0s - loss: 0.1849 - accuracy: 1.0000 - val_loss: 0.1849 - val_accuracy: 1.0000\n",
      "Epoch 143/300\n",
      "9/9 - 0s - loss: 0.1987 - accuracy: 1.0000 - val_loss: 0.1811 - val_accuracy: 1.0000\n",
      "Epoch 144/300\n",
      "9/9 - 0s - loss: 0.2005 - accuracy: 1.0000 - val_loss: 0.1896 - val_accuracy: 1.0000\n",
      "Epoch 145/300\n",
      "9/9 - 0s - loss: 0.1933 - accuracy: 1.0000 - val_loss: 0.1940 - val_accuracy: 1.0000\n",
      "Epoch 146/300\n",
      "9/9 - 0s - loss: 0.1832 - accuracy: 1.0000 - val_loss: 0.1747 - val_accuracy: 1.0000\n",
      "Epoch 147/300\n",
      "9/9 - 0s - loss: 0.1836 - accuracy: 1.0000 - val_loss: 0.1760 - val_accuracy: 1.0000\n",
      "Epoch 148/300\n",
      "9/9 - 0s - loss: 0.1787 - accuracy: 1.0000 - val_loss: 0.1915 - val_accuracy: 1.0000\n",
      "Epoch 149/300\n",
      "9/9 - 0s - loss: 0.1865 - accuracy: 1.0000 - val_loss: 0.1800 - val_accuracy: 1.0000\n",
      "Epoch 150/300\n",
      "9/9 - 0s - loss: 0.1875 - accuracy: 1.0000 - val_loss: 0.1762 - val_accuracy: 1.0000\n",
      "Epoch 151/300\n",
      "9/9 - 0s - loss: 0.1838 - accuracy: 1.0000 - val_loss: 0.1735 - val_accuracy: 1.0000\n",
      "Epoch 152/300\n",
      "9/9 - 0s - loss: 0.1797 - accuracy: 1.0000 - val_loss: 0.1660 - val_accuracy: 1.0000\n",
      "Epoch 153/300\n",
      "9/9 - 0s - loss: 0.1747 - accuracy: 1.0000 - val_loss: 0.1660 - val_accuracy: 1.0000\n",
      "Epoch 154/300\n",
      "9/9 - 0s - loss: 0.1793 - accuracy: 1.0000 - val_loss: 0.1689 - val_accuracy: 1.0000\n",
      "Epoch 155/300\n",
      "9/9 - 0s - loss: 0.1740 - accuracy: 1.0000 - val_loss: 0.1740 - val_accuracy: 1.0000\n",
      "Epoch 156/300\n",
      "9/9 - 0s - loss: 0.1732 - accuracy: 1.0000 - val_loss: 0.1643 - val_accuracy: 1.0000\n",
      "Epoch 157/300\n",
      "9/9 - 0s - loss: 0.1729 - accuracy: 1.0000 - val_loss: 0.1625 - val_accuracy: 1.0000\n",
      "Epoch 158/300\n",
      "9/9 - 0s - loss: 0.1683 - accuracy: 1.0000 - val_loss: 0.1686 - val_accuracy: 1.0000\n",
      "Epoch 159/300\n",
      "9/9 - 0s - loss: 0.1758 - accuracy: 1.0000 - val_loss: 0.1752 - val_accuracy: 1.0000\n",
      "Epoch 160/300\n",
      "9/9 - 0s - loss: 0.1863 - accuracy: 1.0000 - val_loss: 0.1683 - val_accuracy: 1.0000\n",
      "Epoch 161/300\n",
      "9/9 - 0s - loss: 0.1725 - accuracy: 1.0000 - val_loss: 0.1596 - val_accuracy: 1.0000\n",
      "Epoch 162/300\n",
      "9/9 - 0s - loss: 0.1616 - accuracy: 1.0000 - val_loss: 0.1728 - val_accuracy: 1.0000\n",
      "Epoch 163/300\n",
      "9/9 - 0s - loss: 0.1870 - accuracy: 1.0000 - val_loss: 0.1613 - val_accuracy: 1.0000\n",
      "Epoch 164/300\n",
      "9/9 - 0s - loss: 0.1642 - accuracy: 1.0000 - val_loss: 0.1536 - val_accuracy: 1.0000\n",
      "Epoch 165/300\n",
      "9/9 - 0s - loss: 0.1661 - accuracy: 1.0000 - val_loss: 0.1530 - val_accuracy: 1.0000\n",
      "Epoch 166/300\n",
      "9/9 - 0s - loss: 0.1708 - accuracy: 1.0000 - val_loss: 0.1533 - val_accuracy: 1.0000\n",
      "Epoch 167/300\n",
      "9/9 - 0s - loss: 0.1642 - accuracy: 1.0000 - val_loss: 0.1552 - val_accuracy: 1.0000\n"
     ]
    },
    {
     "name": "stdout",
     "output_type": "stream",
     "text": [
      "Epoch 168/300\n",
      "9/9 - 0s - loss: 0.1760 - accuracy: 1.0000 - val_loss: 0.1595 - val_accuracy: 1.0000\n",
      "Epoch 169/300\n",
      "9/9 - 0s - loss: 0.1621 - accuracy: 1.0000 - val_loss: 0.1571 - val_accuracy: 1.0000\n",
      "Epoch 170/300\n",
      "9/9 - 0s - loss: 0.1651 - accuracy: 1.0000 - val_loss: 0.1521 - val_accuracy: 1.0000\n",
      "Epoch 171/300\n",
      "9/9 - 0s - loss: 0.1568 - accuracy: 1.0000 - val_loss: 0.1501 - val_accuracy: 1.0000\n",
      "Epoch 172/300\n",
      "9/9 - 0s - loss: 0.1565 - accuracy: 1.0000 - val_loss: 0.1542 - val_accuracy: 1.0000\n",
      "Epoch 173/300\n",
      "9/9 - 0s - loss: 0.1567 - accuracy: 1.0000 - val_loss: 0.1494 - val_accuracy: 1.0000\n",
      "Epoch 174/300\n",
      "9/9 - 0s - loss: 0.1551 - accuracy: 1.0000 - val_loss: 0.1548 - val_accuracy: 1.0000\n",
      "Epoch 175/300\n",
      "9/9 - 0s - loss: 0.1535 - accuracy: 1.0000 - val_loss: 0.1475 - val_accuracy: 1.0000\n",
      "Epoch 176/300\n",
      "9/9 - 0s - loss: 0.1469 - accuracy: 1.0000 - val_loss: 0.1481 - val_accuracy: 1.0000\n",
      "Epoch 177/300\n",
      "9/9 - 0s - loss: 0.1629 - accuracy: 1.0000 - val_loss: 0.1507 - val_accuracy: 1.0000\n",
      "Epoch 178/300\n",
      "9/9 - 0s - loss: 0.1532 - accuracy: 1.0000 - val_loss: 0.1539 - val_accuracy: 1.0000\n",
      "Epoch 179/300\n",
      "9/9 - 0s - loss: 0.1572 - accuracy: 1.0000 - val_loss: 0.1442 - val_accuracy: 1.0000\n",
      "Epoch 180/300\n",
      "9/9 - 0s - loss: 0.1491 - accuracy: 1.0000 - val_loss: 0.1422 - val_accuracy: 1.0000\n",
      "Epoch 181/300\n",
      "9/9 - 0s - loss: 0.1553 - accuracy: 1.0000 - val_loss: 0.1426 - val_accuracy: 1.0000\n",
      "Epoch 182/300\n",
      "9/9 - 0s - loss: 0.1450 - accuracy: 1.0000 - val_loss: 0.1429 - val_accuracy: 1.0000\n",
      "Epoch 183/300\n",
      "9/9 - 0s - loss: 0.1528 - accuracy: 1.0000 - val_loss: 0.1378 - val_accuracy: 1.0000\n",
      "Epoch 184/300\n",
      "9/9 - 0s - loss: 0.1426 - accuracy: 1.0000 - val_loss: 0.1372 - val_accuracy: 1.0000\n",
      "Epoch 185/300\n",
      "9/9 - 0s - loss: 0.1468 - accuracy: 1.0000 - val_loss: 0.1420 - val_accuracy: 1.0000\n",
      "Epoch 186/300\n",
      "9/9 - 0s - loss: 0.1652 - accuracy: 1.0000 - val_loss: 0.1412 - val_accuracy: 1.0000\n",
      "Epoch 187/300\n",
      "9/9 - 0s - loss: 0.1497 - accuracy: 1.0000 - val_loss: 0.1349 - val_accuracy: 1.0000\n",
      "Epoch 188/300\n",
      "9/9 - 0s - loss: 0.1442 - accuracy: 1.0000 - val_loss: 0.1366 - val_accuracy: 1.0000\n",
      "Epoch 189/300\n",
      "9/9 - 0s - loss: 0.1414 - accuracy: 1.0000 - val_loss: 0.1321 - val_accuracy: 1.0000\n",
      "Epoch 190/300\n",
      "9/9 - 0s - loss: 0.1373 - accuracy: 1.0000 - val_loss: 0.1375 - val_accuracy: 1.0000\n",
      "Epoch 191/300\n",
      "9/9 - 0s - loss: 0.1382 - accuracy: 1.0000 - val_loss: 0.1350 - val_accuracy: 1.0000\n",
      "Epoch 192/300\n",
      "9/9 - 0s - loss: 0.1455 - accuracy: 1.0000 - val_loss: 0.1388 - val_accuracy: 1.0000\n",
      "Epoch 193/300\n",
      "9/9 - 0s - loss: 0.1385 - accuracy: 1.0000 - val_loss: 0.1377 - val_accuracy: 1.0000\n",
      "Epoch 194/300\n",
      "9/9 - 0s - loss: 0.1456 - accuracy: 1.0000 - val_loss: 0.1290 - val_accuracy: 1.0000\n",
      "Epoch 195/300\n",
      "9/9 - 0s - loss: 0.1369 - accuracy: 1.0000 - val_loss: 0.1321 - val_accuracy: 1.0000\n",
      "Epoch 196/300\n",
      "9/9 - 0s - loss: 0.1485 - accuracy: 1.0000 - val_loss: 0.1308 - val_accuracy: 1.0000\n",
      "Epoch 197/300\n",
      "9/9 - 0s - loss: 0.1347 - accuracy: 1.0000 - val_loss: 0.1280 - val_accuracy: 1.0000\n",
      "Epoch 198/300\n",
      "9/9 - 0s - loss: 0.1397 - accuracy: 1.0000 - val_loss: 0.1256 - val_accuracy: 1.0000\n",
      "Epoch 199/300\n",
      "9/9 - 0s - loss: 0.1292 - accuracy: 1.0000 - val_loss: 0.1321 - val_accuracy: 1.0000\n",
      "Epoch 200/300\n",
      "9/9 - 0s - loss: 0.1433 - accuracy: 1.0000 - val_loss: 0.1249 - val_accuracy: 1.0000\n",
      "Epoch 201/300\n",
      "9/9 - 0s - loss: 0.1403 - accuracy: 1.0000 - val_loss: 0.1415 - val_accuracy: 1.0000\n",
      "Epoch 202/300\n",
      "9/9 - 0s - loss: 0.1382 - accuracy: 1.0000 - val_loss: 0.1584 - val_accuracy: 1.0000\n",
      "Epoch 203/300\n",
      "9/9 - 0s - loss: 0.1380 - accuracy: 1.0000 - val_loss: 0.1230 - val_accuracy: 1.0000\n",
      "Epoch 204/300\n",
      "9/9 - 0s - loss: 0.1331 - accuracy: 1.0000 - val_loss: 0.1259 - val_accuracy: 1.0000\n",
      "Epoch 205/300\n",
      "9/9 - 0s - loss: 0.1257 - accuracy: 1.0000 - val_loss: 0.1203 - val_accuracy: 1.0000\n",
      "Epoch 206/300\n",
      "9/9 - 0s - loss: 0.1268 - accuracy: 1.0000 - val_loss: 0.1187 - val_accuracy: 1.0000\n",
      "Epoch 207/300\n",
      "9/9 - 0s - loss: 0.1292 - accuracy: 1.0000 - val_loss: 0.1217 - val_accuracy: 1.0000\n",
      "Epoch 208/300\n",
      "9/9 - 0s - loss: 0.1238 - accuracy: 1.0000 - val_loss: 0.1188 - val_accuracy: 1.0000\n",
      "Epoch 209/300\n",
      "9/9 - 0s - loss: 0.1236 - accuracy: 1.0000 - val_loss: 0.1196 - val_accuracy: 1.0000\n",
      "Epoch 210/300\n",
      "9/9 - 0s - loss: 0.1264 - accuracy: 1.0000 - val_loss: 0.1260 - val_accuracy: 1.0000\n",
      "Epoch 211/300\n",
      "9/9 - 0s - loss: 0.1216 - accuracy: 1.0000 - val_loss: 0.1294 - val_accuracy: 1.0000\n",
      "Epoch 212/300\n",
      "9/9 - 0s - loss: 0.1285 - accuracy: 1.0000 - val_loss: 0.1396 - val_accuracy: 1.0000\n",
      "Epoch 213/300\n",
      "9/9 - 0s - loss: 0.1322 - accuracy: 1.0000 - val_loss: 0.1151 - val_accuracy: 1.0000\n",
      "Epoch 214/300\n",
      "9/9 - 0s - loss: 0.1201 - accuracy: 1.0000 - val_loss: 0.1171 - val_accuracy: 1.0000\n",
      "Epoch 215/300\n",
      "9/9 - 0s - loss: 0.1204 - accuracy: 1.0000 - val_loss: 0.1162 - val_accuracy: 1.0000\n",
      "Epoch 216/300\n",
      "9/9 - 0s - loss: 0.1221 - accuracy: 1.0000 - val_loss: 0.1154 - val_accuracy: 1.0000\n",
      "Epoch 217/300\n",
      "9/9 - 0s - loss: 0.1267 - accuracy: 1.0000 - val_loss: 0.1158 - val_accuracy: 1.0000\n",
      "Epoch 218/300\n",
      "9/9 - 0s - loss: 0.1197 - accuracy: 1.0000 - val_loss: 0.1128 - val_accuracy: 1.0000\n",
      "Epoch 219/300\n",
      "9/9 - 0s - loss: 0.1169 - accuracy: 1.0000 - val_loss: 0.1134 - val_accuracy: 1.0000\n",
      "Epoch 220/300\n",
      "9/9 - 0s - loss: 0.1247 - accuracy: 1.0000 - val_loss: 0.1133 - val_accuracy: 1.0000\n",
      "Epoch 221/300\n",
      "9/9 - 0s - loss: 0.1178 - accuracy: 1.0000 - val_loss: 0.1100 - val_accuracy: 1.0000\n",
      "Epoch 222/300\n",
      "9/9 - 0s - loss: 0.1163 - accuracy: 1.0000 - val_loss: 0.1082 - val_accuracy: 1.0000\n",
      "Epoch 223/300\n",
      "9/9 - 0s - loss: 0.1166 - accuracy: 1.0000 - val_loss: 0.1112 - val_accuracy: 1.0000\n",
      "Epoch 224/300\n",
      "9/9 - 0s - loss: 0.1163 - accuracy: 1.0000 - val_loss: 0.1202 - val_accuracy: 1.0000\n",
      "Epoch 225/300\n",
      "9/9 - 0s - loss: 0.1185 - accuracy: 1.0000 - val_loss: 0.1269 - val_accuracy: 1.0000\n",
      "Epoch 226/300\n",
      "9/9 - 0s - loss: 0.1180 - accuracy: 1.0000 - val_loss: 0.1093 - val_accuracy: 1.0000\n",
      "Epoch 227/300\n",
      "9/9 - 0s - loss: 0.1124 - accuracy: 1.0000 - val_loss: 0.1067 - val_accuracy: 1.0000\n",
      "Epoch 228/300\n",
      "9/9 - 0s - loss: 0.1166 - accuracy: 1.0000 - val_loss: 0.1203 - val_accuracy: 1.0000\n",
      "Epoch 229/300\n",
      "9/9 - 0s - loss: 0.1134 - accuracy: 1.0000 - val_loss: 0.1057 - val_accuracy: 1.0000\n",
      "Epoch 230/300\n",
      "9/9 - 0s - loss: 0.1084 - accuracy: 1.0000 - val_loss: 0.1036 - val_accuracy: 1.0000\n",
      "Epoch 231/300\n",
      "9/9 - 0s - loss: 0.1056 - accuracy: 1.0000 - val_loss: 0.1039 - val_accuracy: 1.0000\n",
      "Epoch 232/300\n",
      "9/9 - 0s - loss: 0.1108 - accuracy: 1.0000 - val_loss: 0.1065 - val_accuracy: 1.0000\n",
      "Epoch 233/300\n",
      "9/9 - 0s - loss: 0.1084 - accuracy: 1.0000 - val_loss: 0.1146 - val_accuracy: 1.0000\n",
      "Epoch 234/300\n",
      "9/9 - 0s - loss: 0.1071 - accuracy: 1.0000 - val_loss: 0.1026 - val_accuracy: 1.0000\n",
      "Epoch 235/300\n",
      "9/9 - 0s - loss: 0.1107 - accuracy: 1.0000 - val_loss: 0.1015 - val_accuracy: 1.0000\n",
      "Epoch 236/300\n",
      "9/9 - 0s - loss: 0.1106 - accuracy: 1.0000 - val_loss: 0.1001 - val_accuracy: 1.0000\n",
      "Epoch 237/300\n",
      "9/9 - 0s - loss: 0.1035 - accuracy: 1.0000 - val_loss: 0.1032 - val_accuracy: 1.0000\n",
      "Epoch 238/300\n",
      "9/9 - 0s - loss: 0.1063 - accuracy: 1.0000 - val_loss: 0.1050 - val_accuracy: 1.0000\n",
      "Epoch 239/300\n",
      "9/9 - 0s - loss: 0.1042 - accuracy: 1.0000 - val_loss: 0.0993 - val_accuracy: 1.0000\n",
      "Epoch 240/300\n",
      "9/9 - 0s - loss: 0.1025 - accuracy: 1.0000 - val_loss: 0.0989 - val_accuracy: 1.0000\n",
      "Epoch 241/300\n",
      "9/9 - 0s - loss: 0.1013 - accuracy: 1.0000 - val_loss: 0.0981 - val_accuracy: 1.0000\n",
      "Epoch 242/300\n",
      "9/9 - 0s - loss: 0.1024 - accuracy: 1.0000 - val_loss: 0.0982 - val_accuracy: 1.0000\n",
      "Epoch 243/300\n",
      "9/9 - 0s - loss: 0.1013 - accuracy: 1.0000 - val_loss: 0.1002 - val_accuracy: 1.0000\n",
      "Epoch 244/300\n",
      "9/9 - 0s - loss: 0.1032 - accuracy: 1.0000 - val_loss: 0.1048 - val_accuracy: 1.0000\n",
      "Epoch 245/300\n",
      "9/9 - 0s - loss: 0.1036 - accuracy: 1.0000 - val_loss: 0.1030 - val_accuracy: 1.0000\n",
      "Epoch 246/300\n",
      "9/9 - 0s - loss: 0.1004 - accuracy: 1.0000 - val_loss: 0.1001 - val_accuracy: 1.0000\n",
      "Epoch 247/300\n",
      "9/9 - 0s - loss: 0.0999 - accuracy: 1.0000 - val_loss: 0.0964 - val_accuracy: 1.0000\n",
      "Epoch 248/300\n",
      "9/9 - 0s - loss: 0.1000 - accuracy: 1.0000 - val_loss: 0.1031 - val_accuracy: 1.0000\n",
      "Epoch 249/300\n",
      "9/9 - 0s - loss: 0.0988 - accuracy: 1.0000 - val_loss: 0.0928 - val_accuracy: 1.0000\n",
      "Epoch 250/300\n",
      "9/9 - 0s - loss: 0.0961 - accuracy: 1.0000 - val_loss: 0.0927 - val_accuracy: 1.0000\n"
     ]
    },
    {
     "name": "stdout",
     "output_type": "stream",
     "text": [
      "Epoch 251/300\n",
      "9/9 - 0s - loss: 0.0973 - accuracy: 1.0000 - val_loss: 0.0926 - val_accuracy: 1.0000\n",
      "Epoch 252/300\n",
      "9/9 - 0s - loss: 0.0947 - accuracy: 1.0000 - val_loss: 0.0919 - val_accuracy: 1.0000\n",
      "Epoch 253/300\n",
      "9/9 - 0s - loss: 0.0987 - accuracy: 1.0000 - val_loss: 0.0902 - val_accuracy: 1.0000\n",
      "Epoch 254/300\n",
      "9/9 - 0s - loss: 0.0955 - accuracy: 1.0000 - val_loss: 0.0901 - val_accuracy: 1.0000\n",
      "Epoch 255/300\n",
      "9/9 - 0s - loss: 0.0951 - accuracy: 1.0000 - val_loss: 0.0905 - val_accuracy: 1.0000\n",
      "Epoch 256/300\n",
      "9/9 - 0s - loss: 0.0919 - accuracy: 1.0000 - val_loss: 0.0913 - val_accuracy: 1.0000\n",
      "Epoch 257/300\n",
      "9/9 - 0s - loss: 0.0973 - accuracy: 1.0000 - val_loss: 0.0914 - val_accuracy: 1.0000\n",
      "Epoch 258/300\n",
      "9/9 - 0s - loss: 0.0908 - accuracy: 1.0000 - val_loss: 0.0881 - val_accuracy: 1.0000\n",
      "Epoch 259/300\n",
      "9/9 - 0s - loss: 0.0886 - accuracy: 1.0000 - val_loss: 0.1020 - val_accuracy: 1.0000\n",
      "Epoch 260/300\n",
      "9/9 - 0s - loss: 0.0989 - accuracy: 1.0000 - val_loss: 0.0904 - val_accuracy: 1.0000\n",
      "Epoch 261/300\n",
      "9/9 - 0s - loss: 0.0940 - accuracy: 1.0000 - val_loss: 0.0873 - val_accuracy: 1.0000\n",
      "Epoch 262/300\n",
      "9/9 - 0s - loss: 0.0916 - accuracy: 1.0000 - val_loss: 0.0887 - val_accuracy: 1.0000\n",
      "Epoch 263/300\n",
      "9/9 - 0s - loss: 0.0918 - accuracy: 1.0000 - val_loss: 0.0861 - val_accuracy: 1.0000\n",
      "Epoch 264/300\n",
      "9/9 - 0s - loss: 0.0915 - accuracy: 1.0000 - val_loss: 0.0879 - val_accuracy: 1.0000\n",
      "Epoch 265/300\n",
      "9/9 - 0s - loss: 0.0910 - accuracy: 1.0000 - val_loss: 0.0848 - val_accuracy: 1.0000\n",
      "Epoch 266/300\n",
      "9/9 - 0s - loss: 0.0908 - accuracy: 1.0000 - val_loss: 0.0870 - val_accuracy: 1.0000\n",
      "Epoch 267/300\n",
      "9/9 - 0s - loss: 0.0934 - accuracy: 1.0000 - val_loss: 0.0836 - val_accuracy: 1.0000\n",
      "Epoch 268/300\n",
      "9/9 - 0s - loss: 0.0887 - accuracy: 1.0000 - val_loss: 0.0838 - val_accuracy: 1.0000\n",
      "Epoch 269/300\n",
      "9/9 - 0s - loss: 0.0860 - accuracy: 1.0000 - val_loss: 0.0839 - val_accuracy: 1.0000\n",
      "Epoch 270/300\n",
      "9/9 - 0s - loss: 0.0857 - accuracy: 1.0000 - val_loss: 0.0839 - val_accuracy: 1.0000\n",
      "Epoch 271/300\n",
      "9/9 - 0s - loss: 0.0892 - accuracy: 1.0000 - val_loss: 0.0895 - val_accuracy: 1.0000\n",
      "Epoch 272/300\n",
      "9/9 - 0s - loss: 0.0872 - accuracy: 1.0000 - val_loss: 0.0834 - val_accuracy: 1.0000\n",
      "Epoch 273/300\n",
      "9/9 - 0s - loss: 0.0894 - accuracy: 1.0000 - val_loss: 0.0831 - val_accuracy: 1.0000\n",
      "Epoch 274/300\n",
      "9/9 - 0s - loss: 0.0878 - accuracy: 1.0000 - val_loss: 0.0824 - val_accuracy: 1.0000\n",
      "Epoch 275/300\n",
      "9/9 - 0s - loss: 0.0896 - accuracy: 1.0000 - val_loss: 0.0801 - val_accuracy: 1.0000\n",
      "Epoch 276/300\n",
      "9/9 - 0s - loss: 0.0842 - accuracy: 1.0000 - val_loss: 0.0798 - val_accuracy: 1.0000\n",
      "Epoch 277/300\n",
      "9/9 - 0s - loss: 0.0883 - accuracy: 1.0000 - val_loss: 0.0804 - val_accuracy: 1.0000\n",
      "Epoch 278/300\n",
      "9/9 - 0s - loss: 0.0822 - accuracy: 1.0000 - val_loss: 0.0803 - val_accuracy: 1.0000\n",
      "Epoch 279/300\n",
      "9/9 - 0s - loss: 0.0830 - accuracy: 1.0000 - val_loss: 0.0805 - val_accuracy: 1.0000\n",
      "Epoch 280/300\n",
      "9/9 - 0s - loss: 0.0830 - accuracy: 1.0000 - val_loss: 0.0781 - val_accuracy: 1.0000\n",
      "Epoch 281/300\n",
      "9/9 - 0s - loss: 0.0813 - accuracy: 1.0000 - val_loss: 0.0819 - val_accuracy: 1.0000\n",
      "Epoch 282/300\n",
      "9/9 - 0s - loss: 0.0817 - accuracy: 1.0000 - val_loss: 0.0802 - val_accuracy: 1.0000\n",
      "Epoch 283/300\n",
      "9/9 - 0s - loss: 0.0914 - accuracy: 1.0000 - val_loss: 0.0798 - val_accuracy: 1.0000\n",
      "Epoch 284/300\n",
      "9/9 - 0s - loss: 0.0801 - accuracy: 1.0000 - val_loss: 0.0816 - val_accuracy: 1.0000\n",
      "Epoch 285/300\n",
      "9/9 - 0s - loss: 0.0814 - accuracy: 1.0000 - val_loss: 0.0778 - val_accuracy: 1.0000\n",
      "Epoch 286/300\n",
      "9/9 - 0s - loss: 0.0793 - accuracy: 1.0000 - val_loss: 0.0761 - val_accuracy: 1.0000\n",
      "Epoch 287/300\n",
      "9/9 - 0s - loss: 0.0788 - accuracy: 1.0000 - val_loss: 0.0758 - val_accuracy: 1.0000\n",
      "Epoch 288/300\n",
      "9/9 - 0s - loss: 0.0810 - accuracy: 1.0000 - val_loss: 0.0778 - val_accuracy: 1.0000\n",
      "Epoch 289/300\n",
      "9/9 - 0s - loss: 0.0794 - accuracy: 1.0000 - val_loss: 0.0769 - val_accuracy: 1.0000\n",
      "Epoch 290/300\n",
      "9/9 - 0s - loss: 0.0775 - accuracy: 1.0000 - val_loss: 0.0773 - val_accuracy: 1.0000\n",
      "Epoch 291/300\n",
      "9/9 - 0s - loss: 0.0748 - accuracy: 1.0000 - val_loss: 0.0750 - val_accuracy: 1.0000\n",
      "Epoch 292/300\n",
      "9/9 - 0s - loss: 0.0769 - accuracy: 1.0000 - val_loss: 0.0767 - val_accuracy: 1.0000\n",
      "Epoch 293/300\n",
      "9/9 - 0s - loss: 0.0792 - accuracy: 1.0000 - val_loss: 0.0748 - val_accuracy: 1.0000\n",
      "Epoch 294/300\n",
      "9/9 - 0s - loss: 0.0801 - accuracy: 1.0000 - val_loss: 0.0725 - val_accuracy: 1.0000\n",
      "Epoch 295/300\n",
      "9/9 - 0s - loss: 0.0763 - accuracy: 1.0000 - val_loss: 0.0722 - val_accuracy: 1.0000\n",
      "Epoch 296/300\n",
      "9/9 - 0s - loss: 0.0747 - accuracy: 1.0000 - val_loss: 0.0762 - val_accuracy: 1.0000\n",
      "Epoch 297/300\n",
      "9/9 - 0s - loss: 0.0773 - accuracy: 1.0000 - val_loss: 0.0727 - val_accuracy: 1.0000\n",
      "Epoch 298/300\n",
      "9/9 - 0s - loss: 0.0742 - accuracy: 1.0000 - val_loss: 0.0711 - val_accuracy: 1.0000\n",
      "Epoch 299/300\n",
      "9/9 - 0s - loss: 0.0741 - accuracy: 1.0000 - val_loss: 0.0709 - val_accuracy: 1.0000\n",
      "Epoch 300/300\n",
      "9/9 - 0s - loss: 0.0730 - accuracy: 1.0000 - val_loss: 0.0705 - val_accuracy: 1.0000\n"
     ]
    }
   ],
   "source": [
    "hist = model.fit(X_train,Y_train, epochs=300,batch_size=10,\n",
    "                 verbose = 2, validation_data=(X_val,Y_val))"
   ]
  },
  {
   "cell_type": "markdown",
   "metadata": {},
   "source": [
    "# 5. 모델 학습과정 살펴보기(hist, 평가)"
   ]
  },
  {
   "cell_type": "code",
   "execution_count": 24,
   "metadata": {},
   "outputs": [
    {
     "data": {
      "text/plain": [
       "dict_keys(['loss', 'accuracy', 'val_loss', 'val_accuracy'])"
      ]
     },
     "execution_count": 24,
     "metadata": {},
     "output_type": "execute_result"
    }
   ],
   "source": [
    "hist.history.keys()"
   ]
  },
  {
   "cell_type": "code",
   "execution_count": 30,
   "metadata": {},
   "outputs": [
    {
     "data": {
      "text/plain": [
       "<matplotlib.legend.Legend at 0x1fad8e308e0>"
      ]
     },
     "execution_count": 30,
     "metadata": {},
     "output_type": "execute_result"
    },
    {
     "data": {
      "image/png": "[encoded data removed]",
      "text/plain": [
       "<Figure size 432x288 with 2 Axes>"
      ]
     },
     "metadata": {
      "needs_background": "light"
     },
     "output_type": "display_data"
    }
   ],
   "source": [
    "#모델의 학습과정 표시하기 \n",
    "import matplotlib.pyplot as plt\n",
    "fig,loss_ax = plt.subplots()\n",
    "loss_ax.plot(hist.history['loss'],'y',label=\"train loss\")\n",
    "loss_ax.plot(hist.history['val_loss'],'r',label=\"val loss\")\n",
    "\n",
    "acc_ax=loss_ax.twinx() # loss_ax와 x축을 공유하는 acc_ax 생성\n",
    "acc_ax.plot(hist.history[\"accuracy\"],'g',label=\"train acc\")\n",
    "acc_ax.plot(hist.history[\"val_accuracy\"],'b',label=\"val_acc\")\n",
    "\n",
    "loss_ax.set_xlabel(\"epoch\")\n",
    "loss_ax.set_ylabel(\"loss\")\n",
    "acc_ax.set_ylabel(\"accuracy\")\n",
    "\n",
    "loss_ax.legend(loc='upper left')\n",
    "acc_ax.legend(loc=\"lower left\")"
   ]
  },
  {
   "cell_type": "code",
   "execution_count": 31,
   "metadata": {},
   "outputs": [
    {
     "name": "stdout",
     "output_type": "stream",
     "text": [
      "9/9 [==============================] - 0s 976us/step - loss: 0.0705 - accuracy: 1.0000\n"
     ]
    },
    {
     "data": {
      "text/plain": [
       "[0.07050196081399918, 1.0]"
      ]
     },
     "execution_count": 31,
     "metadata": {},
     "output_type": "execute_result"
    }
   ],
   "source": [
    "# 모델 평가\n",
    "score = model.evaluate(X_val,Y_val,batch_size=1)\n",
    "score"
   ]
  },
  {
   "cell_type": "code",
   "execution_count": 32,
   "metadata": {},
   "outputs": [
    {
     "name": "stdout",
     "output_type": "stream",
     "text": [
      "loss: 0.07050196081399918\n",
      "accuracy: 1.0\n"
     ]
    }
   ],
   "source": [
    "print('loss:',score[0])\n",
    "print('accuracy:',score[1])"
   ]
  },
  {
   "cell_type": "code",
   "execution_count": null,
   "metadata": {},
   "outputs": [],
   "source": [
    "# 6. 모델을 이용해서 예측하기"
   ]
  },
  {
   "cell_type": "code",
   "execution_count": 33,
   "metadata": {},
   "outputs": [
    {
     "name": "stderr",
     "output_type": "stream",
     "text": [
      "C:\\Users\\tjoeun\\anaconda3\\lib\\site-packages\\tensorflow\\python\\keras\\engine\\sequential.py:450: UserWarning: `model.predict_classes()` is deprecated and will be removed after 2021-01-01. Please use instead:* `np.argmax(model.predict(x), axis=-1)`,   if your model does multi-class classification   (e.g. if it uses a `softmax` last-layer activation).* `(model.predict(x) > 0.5).astype(\"int32\")`,   if your model does binary classification   (e.g. if it uses a `sigmoid` last-layer activation).\n",
      "  warnings.warn('`model.predict_classes()` is deprecated and '\n"
     ]
    },
    {
     "data": {
      "text/plain": [
       "array([3], dtype=int64)"
      ]
     },
     "execution_count": 33,
     "metadata": {},
     "output_type": "execute_result"
    }
   ],
   "source": [
    "model.predict_classes(np.array([2]))"
   ]
  },
  {
   "cell_type": "code",
   "execution_count": 35,
   "metadata": {},
   "outputs": [
    {
     "data": {
      "text/plain": [
       "array([[2.9178684e-36, 4.6418852e-37, 1.4129524e-02, 9.6812683e-01,\n",
       "        1.7743567e-02, 1.2980844e-07, 5.2217884e-34, 8.5411043e-26,\n",
       "        2.0646318e-36, 4.4988691e-27, 3.8542842e-13, 6.1556117e-26,\n",
       "        2.5413415e-22, 3.2994978e-29, 8.0948771e-36, 1.4585034e-27,\n",
       "        0.0000000e+00, 3.7740506e-25, 0.0000000e+00]], dtype=float32)"
      ]
     },
     "execution_count": 35,
     "metadata": {},
     "output_type": "execute_result"
    }
   ],
   "source": [
    "model.predict(np.array([2]))"
   ]
  },
  {
   "cell_type": "code",
   "execution_count": 37,
   "metadata": {},
   "outputs": [
    {
     "data": {
      "text/plain": [
       "3"
      ]
     },
     "execution_count": 37,
     "metadata": {},
     "output_type": "execute_result"
    }
   ],
   "source": [
    "model.predict(np.array([2])).argmax()"
   ]
  },
  {
   "cell_type": "code",
   "execution_count": null,
   "metadata": {},
   "outputs": [],
   "source": []
  },
  {
   "cell_type": "code",
   "execution_count": null,
   "metadata": {},
   "outputs": [],
   "source": []
  },
  {
   "cell_type": "code",
   "execution_count": null,
   "metadata": {},
   "outputs": [],
   "source": []
  },
  {
   "cell_type": "code",
   "execution_count": null,
   "metadata": {},
   "outputs": [],
   "source": []
  }
 ],
 "metadata": {
  "kernelspec": {
   "display_name": "Python 3",
   "language": "python",
   "name": "python3"
  },
  "language_info": {
   "codemirror_mode": {
    "name": "ipython",
    "version": 3
   },
   "file_extension": ".py",
   "mimetype": "text/x-python",
   "name": "python",
   "nbconvert_exporter": "python",
   "pygments_lexer": "ipython3",
   "version": "3.8.5"
  },
  "toc": {
   "base_numbering": 1,
   "nav_menu": {},
   "number_sections": false,
   "sideBar": true,
   "skip_h1_title": false,
   "title_cell": "Table of Contents",
   "title_sidebar": "Contents",
   "toc_cell": false,
   "toc_position": {
    "height": "747px",
    "left": "230px",
    "top": "361px",
    "width": "203.391px"
   },
   "toc_section_display": true,
   "toc_window_display": true
  },
  "varInspector": {
   "cols": {
    "lenName": 16,
    "lenType": 16,
    "lenVar": 40
   },
   "kernels_config": {
    "python": {
     "delete_cmd_postfix": "",
     "delete_cmd_prefix": "del ",
     "library": "var_list.py",
     "varRefreshCmd": "print(var_dic_list())"
    },
    "r": {
     "delete_cmd_postfix": ") ",
     "delete_cmd_prefix": "rm(",
     "library": "var_list.r",
     "varRefreshCmd": "cat(var_dic_list()) "
    }
   },
   "types_to_exclude": [
    "module",
    "function",
    "builtin_function_or_method",
    "instance",
    "_Feature"
   ],
   "window_display": false
  }
 },
 "nbformat": 4,
 "nbformat_minor": 4
}
