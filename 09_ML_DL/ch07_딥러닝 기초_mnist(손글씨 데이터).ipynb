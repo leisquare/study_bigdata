{
 "cells": [
  {
   "cell_type": "code",
   "execution_count": 4,
   "metadata": {},
   "outputs": [],
   "source": [
    "import matplotlib.pyplot as plt\n",
    "import tensorflow as tf"
   ]
  },
  {
   "cell_type": "code",
   "execution_count": 5,
   "metadata": {},
   "outputs": [],
   "source": [
    "from tensorflow.keras.datasets import mnist\n",
    "import tensorflow.keras.utils as utils # 원 핫 인코딩\n",
    "from tensorflow.keras.models import Sequential #모델 생성\n",
    "from tensorflow.keras.layers import Dense,Activation #레이어\n",
    "import numpy as np\n",
    "np.random.seed(3)"
   ]
  },
  {
   "cell_type": "code",
   "execution_count": 46,
   "metadata": {},
   "outputs": [],
   "source": [
    "# 데이터 셋 준비하기\n",
    "# 훈련용 세트, 검증용 세트 분리\n",
    "(X_train,Y_train),(X_test,Y_test)=mnist.load_data()"
   ]
  },
  {
   "cell_type": "code",
   "execution_count": 47,
   "metadata": {},
   "outputs": [
    {
     "data": {
      "text/plain": [
       "((60000, 28, 28), (60000,), (10000, 28, 28), (10000,))"
      ]
     },
     "execution_count": 47,
     "metadata": {},
     "output_type": "execute_result"
    }
   ],
   "source": [
    "X_train.shape,Y_train.shape,X_test.shape,Y_test.shape"
   ]
  },
  {
   "cell_type": "code",
   "execution_count": 48,
   "metadata": {},
   "outputs": [
    {
     "data": {
      "text/plain": [
       "<matplotlib.image.AxesImage at 0x2184dadfaf0>"
      ]
     },
     "execution_count": 48,
     "metadata": {},
     "output_type": "execute_result"
    },
    {
     "data": {
      "image/png": "[encoded data removed]",
      "text/plain": [
       "<Figure size 432x288 with 1 Axes>"
      ]
     },
     "metadata": {
      "needs_background": "light"
     },
     "output_type": "display_data"
    }
   ],
   "source": [
    "plt.imshow(X_train[0])"
   ]
  },
  {
   "cell_type": "code",
   "execution_count": 49,
   "metadata": {},
   "outputs": [],
   "source": [
    "#훈련셋과 검증셋 분리(X_train,Y_train을 검증셋과 훈련셋으로 분리)\n",
    "X_val=X_train[50000:]\n",
    "Y_val=Y_train[50000:]\n",
    "X_train=X_train[:50000]\n",
    "Y_train=Y_train[:50000]"
   ]
  },
  {
   "cell_type": "code",
   "execution_count": 50,
   "metadata": {},
   "outputs": [
    {
     "data": {
      "text/plain": [
       "((50000, 28, 28), (50000,))"
      ]
     },
     "execution_count": 50,
     "metadata": {},
     "output_type": "execute_result"
    }
   ],
   "source": [
    "# 훈련셋-model이 학습할 때 사용model이 학습할 때 사용\n",
    "X_train.shape, Y_train.shape"
   ]
  },
  {
   "cell_type": "code",
   "execution_count": 51,
   "metadata": {},
   "outputs": [
    {
     "data": {
      "text/plain": [
       "(10000, 10000)"
      ]
     },
     "execution_count": 51,
     "metadata": {},
     "output_type": "execute_result"
    }
   ],
   "source": [
    "# 검증셋\n",
    "len(X_val),len(Y_val)"
   ]
  },
  {
   "cell_type": "code",
   "execution_count": 52,
   "metadata": {},
   "outputs": [
    {
     "data": {
      "text/plain": [
       "(10000, 10000)"
      ]
     },
     "execution_count": 52,
     "metadata": {},
     "output_type": "execute_result"
    }
   ],
   "source": [
    "# 훈련셋\n",
    "len(X_test),len(Y_test)"
   ]
  },
  {
   "cell_type": "code",
   "execution_count": 53,
   "metadata": {},
   "outputs": [],
   "source": [
    "# normalrize 하기 위해 색상값으로 나누기\n",
    "X_train = X_train.reshape(50000,784).astype('float32')/255.0\n",
    "X_val=X_val.reshape(10000,784).astype('float32')/255.0\n",
    "X_test=X_val.reshape(10000,784).astype('float32')/255.0"
   ]
  },
  {
   "cell_type": "code",
   "execution_count": 54,
   "metadata": {},
   "outputs": [
    {
     "data": {
      "text/plain": [
       "((50000, 784), (10000, 784), (10000, 784))"
      ]
     },
     "execution_count": 54,
     "metadata": {},
     "output_type": "execute_result"
    }
   ],
   "source": [
    "X_train.shape, X_val.shape,X_test.shape"
   ]
  },
  {
   "cell_type": "code",
   "execution_count": 55,
   "metadata": {},
   "outputs": [],
   "source": [
    "# 훈련셋과 거ㅁ증셋 700개, 300씩만 가져옴\n",
    "train_rand_idxs=np.random.choice(50000,700)\n",
    "val_rand_idxs=np.random.choice(10000,300)\n",
    "\n",
    "X_train = X_train[train_rand_idxs]\n",
    "Y_train = Y_train[train_rand_idxs]\n",
    "X_val = X_val[val_rand_idxs]\n",
    "Y_val = Y_val[val_rand_idxs]\n",
    "\n"
   ]
  },
  {
   "cell_type": "code",
   "execution_count": 56,
   "metadata": {},
   "outputs": [
    {
     "data": {
      "text/plain": [
       "<matplotlib.image.AxesImage at 0x2184db3e550>"
      ]
     },
     "execution_count": 56,
     "metadata": {},
     "output_type": "execute_result"
    },
    {
     "data": {
      "image/png": "[encoded data removed]",
      "text/plain": [
       "<Figure size 432x288 with 1 Axes>"
      ]
     },
     "metadata": {
      "needs_background": "light"
     },
     "output_type": "display_data"
    }
   ],
   "source": [
    "plt.imshow(X_train[0].reshape(28,28))"
   ]
  },
  {
   "cell_type": "code",
   "execution_count": 57,
   "metadata": {},
   "outputs": [
    {
     "data": {
      "text/plain": [
       "2"
      ]
     },
     "execution_count": 57,
     "metadata": {},
     "output_type": "execute_result"
    }
   ],
   "source": [
    "Y_train[0]"
   ]
  },
  {
   "cell_type": "code",
   "execution_count": 58,
   "metadata": {},
   "outputs": [
    {
     "data": {
      "text/plain": [
       "((700,), (300,), (10000,))"
      ]
     },
     "execution_count": 58,
     "metadata": {},
     "output_type": "execute_result"
    }
   ],
   "source": [
    "Y_train.shape,Y_val.shape,Y_test.shape"
   ]
  },
  {
   "cell_type": "code",
   "execution_count": 59,
   "metadata": {},
   "outputs": [],
   "source": [
    "#원 핫 인코딩 = 라벨링 전환\n",
    "# 0 =>1 0 0 0 0 0 0 0 0 0\n",
    "# 3=> 0 0 0 1 0 0 0 0 0 0 \n",
    "Y_train = utils.to_categorical(Y_train)\n",
    "Y_val = utils.to_categorical(Y_val)\n",
    "Y_test = utils.to_categorical(Y_test)\n",
    "#categorical은 ydata가 숫자일때만 이용가능"
   ]
  },
  {
   "cell_type": "code",
   "execution_count": 60,
   "metadata": {},
   "outputs": [
    {
     "data": {
      "text/plain": [
       "((700, 10), (300, 10), (10000, 10))"
      ]
     },
     "execution_count": 60,
     "metadata": {},
     "output_type": "execute_result"
    }
   ],
   "source": [
    "Y_train.shape,Y_val.shape,Y_test.shape"
   ]
  },
  {
   "cell_type": "code",
   "execution_count": 12,
   "metadata": {},
   "outputs": [
    {
     "ename": "NameError",
     "evalue": "name 'X_train' is not defined",
     "output_type": "error",
     "traceback": [
      "\u001b[1;31m---------------------------------------------------------------------------\u001b[0m",
      "\u001b[1;31mNameError\u001b[0m                                 Traceback (most recent call last)",
      "\u001b[1;32m<ipython-input-12-12e178c9c8f8>\u001b[0m in \u001b[0;36m<module>\u001b[1;34m\u001b[0m\n\u001b[0;32m      8\u001b[0m \u001b[1;33m\u001b[0m\u001b[0m\n\u001b[0;32m      9\u001b[0m \u001b[1;31m# 4. 모델 학습시키기+검증하기\u001b[0m\u001b[1;33m\u001b[0m\u001b[1;33m\u001b[0m\u001b[1;33m\u001b[0m\u001b[0m\n\u001b[1;32m---> 10\u001b[1;33m hist = model.fit(X_train, Y_train, epochs=1000, batch_size=10, \n\u001b[0m\u001b[0;32m     11\u001b[0m                 validation_data=(X_val, Y_val))\n",
      "\u001b[1;31mNameError\u001b[0m: name 'X_train' is not defined"
     ]
    }
   ],
   "source": [
    "# 2. 모델 구성하기\n",
    "model = Sequential()\n",
    "model.add(Dense(units=2, input_dim=784, activation=\"relu\"))\n",
    "model.add(Dense(units=10, activation=\"softmax\"))\n",
    "\n",
    "# 3. 모델 학습과정 설정\n",
    "model.compile(loss=\"categorical_crossentropy\", optimizer=\"sgd\", metrics=['accuracy'])\n",
    "\n",
    "# 4. 모델 학습시키기+검증하기\n",
    "hist = model.fit(X_train, Y_train, epochs=1000, batch_size=10, \n",
    "                validation_data=(X_val, Y_val))"
   ]
  },
  {
   "cell_type": "code",
   "execution_count": 62,
   "metadata": {},
   "outputs": [
    {
     "data": {
      "text/plain": [
       "dict_keys(['loss', 'accuracy', 'val_loss', 'val_accuracy'])"
      ]
     },
     "execution_count": 62,
     "metadata": {},
     "output_type": "execute_result"
    }
   ],
   "source": [
    "# 5. 모델학습과정 표시하고 평가하기\n",
    "hist.history.keys()"
   ]
  },
  {
   "cell_type": "code",
   "execution_count": 63,
   "metadata": {},
   "outputs": [
    {
     "data": {
      "text/plain": [
       "<matplotlib.legend.Legend at 0x2184da1c910>"
      ]
     },
     "execution_count": 63,
     "metadata": {},
     "output_type": "execute_result"
    },
    {
     "data": {
      "image/png": "[encoded data removed]",
      "text/plain": [
       "<Figure size 432x288 with 2 Axes>"
      ]
     },
     "metadata": {
      "needs_background": "light"
     },
     "output_type": "display_data"
    }
   ],
   "source": [
    "# 학습과정 표시하기\n",
    "fig, loss_ax = plt.subplots()\n",
    "loss_ax.plot(hist.history['loss'], 'y', label=\"train loss\")\n",
    "loss_ax.plot(hist.history['val_loss'], 'g', label=\"val loss\")\n",
    "loss_ax.set_xlabel(\"epochs\")\n",
    "loss_ax.set_ylabel(\"loss\")\n",
    "\n",
    "acc_ax = loss_ax.twinx() # x축 공유하는 acc_ax\n",
    "acc_ax.plot(hist.history['accuracy'], 'b', label=\"train accuracy\")\n",
    "acc_ax.plot(hist.history['val_accuracy'], 'r', label=\"val accuracy\")\n",
    "acc_ax.set_ylabel(\"accuracy\")\n",
    "\n",
    "loss_ax.legend(loc=\"upper left\")\n",
    "acc_ax.legend(loc=\"lower left\")"
   ]
  },
  {
   "cell_type": "code",
   "execution_count": 64,
   "metadata": {},
   "outputs": [
    {
     "name": "stdout",
     "output_type": "stream",
     "text": [
      "313/313 [==============================] - 0s 909us/step - loss: 5.8039 - accuracy: 0.1028\n"
     ]
    }
   ],
   "source": [
    "# 모델 평가하기\n",
    "loss_and_metrics = model.evaluate(X_test, Y_test, batch_size=32)"
   ]
  },
  {
   "cell_type": "code",
   "execution_count": 65,
   "metadata": {},
   "outputs": [
    {
     "name": "stdout",
     "output_type": "stream",
     "text": [
      "loss : 5.803893089294434\n",
      "accuracy : 0.10279999673366547\n"
     ]
    }
   ],
   "source": [
    "print(\"loss :\", loss_and_metrics[0])\n",
    "print(\"accuracy :\", loss_and_metrics[1])"
   ]
  },
  {
   "cell_type": "code",
   "execution_count": 66,
   "metadata": {},
   "outputs": [],
   "source": [
    "# 6. 모델 저장 및 로드하기\n",
    "model.save(\"model/mnist.h5\")"
   ]
  },
  {
   "cell_type": "code",
   "execution_count": 67,
   "metadata": {},
   "outputs": [
    {
     "name": "stdout",
     "output_type": "stream",
     "text": [
      "Model: \"sequential_2\"\n",
      "_________________________________________________________________\n",
      "Layer (type)                 Output Shape              Param #   \n",
      "=================================================================\n",
      "dense_4 (Dense)              (None, 2)                 1570      \n",
      "_________________________________________________________________\n",
      "dense_5 (Dense)              (None, 10)                30        \n",
      "=================================================================\n",
      "Total params: 1,600\n",
      "Trainable params: 1,600\n",
      "Non-trainable params: 0\n",
      "_________________________________________________________________\n"
     ]
    }
   ],
   "source": [
    "model.summary()"
   ]
  },
  {
   "cell_type": "code",
   "execution_count": 68,
   "metadata": {},
   "outputs": [],
   "source": [
    "from tensorflow.keras.models import load_model\n",
    "model2 = load_model('model/mnist.h5')"
   ]
  },
  {
   "cell_type": "code",
   "execution_count": 78,
   "metadata": {},
   "outputs": [
    {
     "data": {
      "text/plain": [
       "<matplotlib.image.AxesImage at 0x2184ed46ee0>"
      ]
     },
     "execution_count": 78,
     "metadata": {},
     "output_type": "execute_result"
    },
    {
     "data": {
      "image/png": "[encoded data removed]",
      "text/plain": [
       "<Figure size 432x288 with 1 Axes>"
      ]
     },
     "metadata": {
      "needs_background": "light"
     },
     "output_type": "display_data"
    }
   ],
   "source": [
    "plt.imshow(X_val[0].reshape(28,28))"
   ]
  },
  {
   "cell_type": "code",
   "execution_count": 75,
   "metadata": {},
   "outputs": [
    {
     "data": {
      "text/plain": [
       "0"
      ]
     },
     "execution_count": 75,
     "metadata": {},
     "output_type": "execute_result"
    }
   ],
   "source": [
    "result = model2.predict(X_val[0].reshape(1,784))\n",
    "result.argmax()"
   ]
  },
  {
   "cell_type": "code",
   "execution_count": 76,
   "metadata": {},
   "outputs": [
    {
     "data": {
      "text/plain": [
       "0"
      ]
     },
     "execution_count": 76,
     "metadata": {},
     "output_type": "execute_result"
    }
   ],
   "source": [
    "Y_val[0].argmax()"
   ]
  },
  {
   "cell_type": "code",
   "execution_count": 74,
   "metadata": {},
   "outputs": [
    {
     "data": {
      "text/plain": [
       "array([0], dtype=int64)"
      ]
     },
     "execution_count": 74,
     "metadata": {},
     "output_type": "execute_result"
    }
   ],
   "source": [
    "model2.predict_classes(X_val[0].reshape(1,784))"
   ]
  },
  {
   "cell_type": "code",
   "execution_count": null,
   "metadata": {},
   "outputs": [],
   "source": [
    "# https://teddylee777.github.io/tensorflow/Python%EA%B3%BC-Tensorflow%EB%A1%9C-Mnist%EA%B8%80%EC%9E%90%EC%9D%B8%EC%8B%9D-%EA%B5%AC%ED%98%84%ED%95%98%EA%B8%B0"
   ]
  },
  {
   "cell_type": "code",
   "execution_count": null,
   "metadata": {},
   "outputs": [],
   "source": []
  },
  {
   "cell_type": "markdown",
   "metadata": {},
   "source": [
    "# 콜백함수"
   ]
  },
  {
   "cell_type": "code",
   "execution_count": 62,
   "metadata": {},
   "outputs": [],
   "source": [
    "np.random.seed(3)\n",
    "class CustomHistory(tf.keras.callbacks.Callback):\n",
    "    def __init__(self):\n",
    "        self.epoch = 0\n",
    "        self.train_loss = [] \n",
    "        self.val_loss =[]\n",
    "        self.train_acc=[]\n",
    "        self.val_acc=[]\n",
    "    def on_epoch_end(self, batch, logs={}):\n",
    "        self.train_loss.append(logs.get('loss'))\n",
    "        self.val_loss.append(logs.get('val_loss'))\n",
    "        self.train_acc.append(logs.get('accuracy'))\n",
    "        self.val_acc.append(logs.get('val_acc'))\n",
    "        if self.epoch % 10 ==0:\n",
    "            print(\"epoch:{}, loss:{}, val_loss:{}\".format(self.epoch,logs.get('loss').logs.get('val_loss')))\n",
    "        self.epoch += 1\n",
    "            \n",
    "# 데이터 셋 준비하기\n",
    "# 훈련용 세트, 검증용 세트 분리\n",
    "(X_train,Y_train),(X_test,Y_test)=mnist.load_data()  \n",
    "\n",
    "#훈련셋과 검증셋 분리(X_train,Y_train을 검증셋과 훈련셋으로 분리)\n",
    "X_val=X_train[50000:]\n",
    "Y_val=Y_train[50000:]\n",
    "X_train=X_train[:50000]\n",
    "Y_train=Y_train[:50000]\n",
    "\n",
    "# normalrize 하기 위해 색상값으로 나누기\n",
    "X_train = X_train.reshape(50000,784).astype('float32')/255.0\n",
    "X_val=X_val.reshape(10000,784).astype('float32')/255.0\n",
    "X_test=X_val.reshape(10000,784).astype('float32')/255.0\n",
    "\n",
    "# 훈련셋과 검증셋 700개, 300씩만 가져옴\n",
    "train_rand_idxs=np.random.choice(50000,700)\n",
    "val_rand_idxs=np.random.choice(10000,300)\n",
    "X_train = X_train[train_rand_idxs]\n",
    "Y_train = Y_train[train_rand_idxs]\n",
    "X_val = X_val[val_rand_idxs]\n",
    "Y_val = Y_val[val_rand_idxs]\n",
    "\n",
    "#원 핫 인코딩 = 라벨링 전환\n",
    "Y_train = utils.to_categorical(Y_train)\n",
    "Y_val = utils.to_categorical(Y_val)\n",
    "Y_test = utils.to_categorical(Y_test)"
   ]
  },
  {
   "cell_type": "code",
   "execution_count": 24,
   "metadata": {},
   "outputs": [
    {
     "ename": "AttributeError",
     "evalue": "'float' object has no attribute 'logs'",
     "output_type": "error",
     "traceback": [
      "\u001b[1;31m---------------------------------------------------------------------------\u001b[0m",
      "\u001b[1;31mAttributeError\u001b[0m                            Traceback (most recent call last)",
      "\u001b[1;32m<ipython-input-24-018f6a2813c7>\u001b[0m in \u001b[0;36m<module>\u001b[1;34m\u001b[0m\n\u001b[0;32m      9\u001b[0m \u001b[1;31m# 4. 모델 학습시키기+검증하기\u001b[0m\u001b[1;33m\u001b[0m\u001b[1;33m\u001b[0m\u001b[1;33m\u001b[0m\u001b[0m\n\u001b[0;32m     10\u001b[0m \u001b[0mcustom_hist\u001b[0m\u001b[1;33m=\u001b[0m\u001b[0mCustomHistory\u001b[0m\u001b[1;33m(\u001b[0m\u001b[1;33m)\u001b[0m\u001b[1;33m\u001b[0m\u001b[1;33m\u001b[0m\u001b[0m\n\u001b[1;32m---> 11\u001b[1;33m hist = model.fit(X_train, Y_train, epochs=1000, batch_size=10, \n\u001b[0m\u001b[0;32m     12\u001b[0m                 \u001b[0mvalidation_data\u001b[0m\u001b[1;33m=\u001b[0m\u001b[1;33m(\u001b[0m\u001b[0mX_val\u001b[0m\u001b[1;33m,\u001b[0m \u001b[0mY_val\u001b[0m\u001b[1;33m)\u001b[0m\u001b[1;33m,\u001b[0m\u001b[0mverbose\u001b[0m\u001b[1;33m=\u001b[0m\u001b[1;36m0\u001b[0m\u001b[1;33m,\u001b[0m\u001b[1;33m\u001b[0m\u001b[1;33m\u001b[0m\u001b[0m\n\u001b[0;32m     13\u001b[0m                 callbacks=[custom_hist])\n",
      "\u001b[1;32m~\\anaconda3\\lib\\site-packages\\tensorflow\\python\\keras\\engine\\training.py\u001b[0m in \u001b[0;36mfit\u001b[1;34m(self, x, y, batch_size, epochs, verbose, callbacks, validation_split, validation_data, shuffle, class_weight, sample_weight, initial_epoch, steps_per_epoch, validation_steps, validation_batch_size, validation_freq, max_queue_size, workers, use_multiprocessing)\u001b[0m\n\u001b[0;32m   1143\u001b[0m           \u001b[0mepoch_logs\u001b[0m\u001b[1;33m.\u001b[0m\u001b[0mupdate\u001b[0m\u001b[1;33m(\u001b[0m\u001b[0mval_logs\u001b[0m\u001b[1;33m)\u001b[0m\u001b[1;33m\u001b[0m\u001b[1;33m\u001b[0m\u001b[0m\n\u001b[0;32m   1144\u001b[0m \u001b[1;33m\u001b[0m\u001b[0m\n\u001b[1;32m-> 1145\u001b[1;33m         \u001b[0mcallbacks\u001b[0m\u001b[1;33m.\u001b[0m\u001b[0mon_epoch_end\u001b[0m\u001b[1;33m(\u001b[0m\u001b[0mepoch\u001b[0m\u001b[1;33m,\u001b[0m \u001b[0mepoch_logs\u001b[0m\u001b[1;33m)\u001b[0m\u001b[1;33m\u001b[0m\u001b[1;33m\u001b[0m\u001b[0m\n\u001b[0m\u001b[0;32m   1146\u001b[0m         \u001b[0mtraining_logs\u001b[0m \u001b[1;33m=\u001b[0m \u001b[0mepoch_logs\u001b[0m\u001b[1;33m\u001b[0m\u001b[1;33m\u001b[0m\u001b[0m\n\u001b[0;32m   1147\u001b[0m         \u001b[1;32mif\u001b[0m \u001b[0mself\u001b[0m\u001b[1;33m.\u001b[0m\u001b[0mstop_training\u001b[0m\u001b[1;33m:\u001b[0m\u001b[1;33m\u001b[0m\u001b[1;33m\u001b[0m\u001b[0m\n",
      "\u001b[1;32m~\\anaconda3\\lib\\site-packages\\tensorflow\\python\\keras\\callbacks.py\u001b[0m in \u001b[0;36mon_epoch_end\u001b[1;34m(self, epoch, logs)\u001b[0m\n\u001b[0;32m    430\u001b[0m         \u001b[1;32mif\u001b[0m \u001b[0mnumpy_logs\u001b[0m \u001b[1;32mis\u001b[0m \u001b[1;32mNone\u001b[0m\u001b[1;33m:\u001b[0m  \u001b[1;31m# Only convert once.\u001b[0m\u001b[1;33m\u001b[0m\u001b[1;33m\u001b[0m\u001b[0m\n\u001b[0;32m    431\u001b[0m           \u001b[0mnumpy_logs\u001b[0m \u001b[1;33m=\u001b[0m \u001b[0mtf_utils\u001b[0m\u001b[1;33m.\u001b[0m\u001b[0mto_numpy_or_python_type\u001b[0m\u001b[1;33m(\u001b[0m\u001b[0mlogs\u001b[0m\u001b[1;33m)\u001b[0m\u001b[1;33m\u001b[0m\u001b[1;33m\u001b[0m\u001b[0m\n\u001b[1;32m--> 432\u001b[1;33m         \u001b[0mcallback\u001b[0m\u001b[1;33m.\u001b[0m\u001b[0mon_epoch_end\u001b[0m\u001b[1;33m(\u001b[0m\u001b[0mepoch\u001b[0m\u001b[1;33m,\u001b[0m \u001b[0mnumpy_logs\u001b[0m\u001b[1;33m)\u001b[0m\u001b[1;33m\u001b[0m\u001b[1;33m\u001b[0m\u001b[0m\n\u001b[0m\u001b[0;32m    433\u001b[0m \u001b[1;33m\u001b[0m\u001b[0m\n\u001b[0;32m    434\u001b[0m   \u001b[1;32mdef\u001b[0m \u001b[0mon_train_batch_begin\u001b[0m\u001b[1;33m(\u001b[0m\u001b[0mself\u001b[0m\u001b[1;33m,\u001b[0m \u001b[0mbatch\u001b[0m\u001b[1;33m,\u001b[0m \u001b[0mlogs\u001b[0m\u001b[1;33m=\u001b[0m\u001b[1;32mNone\u001b[0m\u001b[1;33m)\u001b[0m\u001b[1;33m:\u001b[0m\u001b[1;33m\u001b[0m\u001b[1;33m\u001b[0m\u001b[0m\n",
      "\u001b[1;32m<ipython-input-23-29fde484bfae>\u001b[0m in \u001b[0;36mon_epoch_end\u001b[1;34m(self, batch, logs)\u001b[0m\n\u001b[0;32m     13\u001b[0m         \u001b[0mself\u001b[0m\u001b[1;33m.\u001b[0m\u001b[0mval_acc\u001b[0m\u001b[1;33m.\u001b[0m\u001b[0mappend\u001b[0m\u001b[1;33m(\u001b[0m\u001b[0mlogs\u001b[0m\u001b[1;33m.\u001b[0m\u001b[0mget\u001b[0m\u001b[1;33m(\u001b[0m\u001b[1;34m'val_acc'\u001b[0m\u001b[1;33m)\u001b[0m\u001b[1;33m)\u001b[0m\u001b[1;33m\u001b[0m\u001b[1;33m\u001b[0m\u001b[0m\n\u001b[0;32m     14\u001b[0m         \u001b[1;32mif\u001b[0m \u001b[0mself\u001b[0m\u001b[1;33m.\u001b[0m\u001b[0mepoch\u001b[0m \u001b[1;33m%\u001b[0m \u001b[1;36m10\u001b[0m \u001b[1;33m==\u001b[0m\u001b[1;36m0\u001b[0m\u001b[1;33m:\u001b[0m\u001b[1;33m\u001b[0m\u001b[1;33m\u001b[0m\u001b[0m\n\u001b[1;32m---> 15\u001b[1;33m             \u001b[0mprint\u001b[0m\u001b[1;33m(\u001b[0m\u001b[1;34m\"epoch:{}, loss:{}, val_loss:{}\"\u001b[0m\u001b[1;33m.\u001b[0m\u001b[0mformat\u001b[0m\u001b[1;33m(\u001b[0m\u001b[0mself\u001b[0m\u001b[1;33m.\u001b[0m\u001b[0mepoch\u001b[0m\u001b[1;33m,\u001b[0m\u001b[0mlogs\u001b[0m\u001b[1;33m.\u001b[0m\u001b[0mget\u001b[0m\u001b[1;33m(\u001b[0m\u001b[1;34m'loss'\u001b[0m\u001b[1;33m)\u001b[0m\u001b[1;33m.\u001b[0m\u001b[0mlogs\u001b[0m\u001b[1;33m.\u001b[0m\u001b[0mget\u001b[0m\u001b[1;33m(\u001b[0m\u001b[1;34m'val_loss'\u001b[0m\u001b[1;33m)\u001b[0m\u001b[1;33m)\u001b[0m\u001b[1;33m)\u001b[0m\u001b[1;33m\u001b[0m\u001b[1;33m\u001b[0m\u001b[0m\n\u001b[0m\u001b[0;32m     16\u001b[0m         \u001b[0mself\u001b[0m\u001b[1;33m.\u001b[0m\u001b[0mepoch\u001b[0m \u001b[1;33m+=\u001b[0m \u001b[1;36m1\u001b[0m\u001b[1;33m\u001b[0m\u001b[1;33m\u001b[0m\u001b[0m\n\u001b[0;32m     17\u001b[0m \u001b[1;33m\u001b[0m\u001b[0m\n",
      "\u001b[1;31mAttributeError\u001b[0m: 'float' object has no attribute 'logs'"
     ]
    }
   ],
   "source": [
    "# 2. 모델 구성하기\n",
    "model = Sequential()\n",
    "model.add(Dense(units=2, input_dim=784, activation=\"relu\"))\n",
    "model.add(Dense(units=10, activation=\"softmax\"))\n",
    "\n",
    "# 3. 모델 학습과정 설정\n",
    "model.compile(loss=\"categorical_crossentropy\", optimizer=\"sgd\", metrics=['accuracy'])\n",
    "\n",
    "# 4. 모델 학습시키기+검증하기\n",
    "custom_hist=CustomHistory()\n",
    "hist = model.fit(X_train, Y_train, epochs=1000, batch_size=10, \n",
    "                validation_data=(X_val, Y_val),verbose=0,\n",
    "                callbacks=[custom_hist])"
   ]
  },
  {
   "cell_type": "markdown",
   "metadata": {},
   "source": [
    "# Early Stopping\n",
    "- val loss값이 불어나면 epoch를 다 수행하지 않고 조기 종료"
   ]
  },
  {
   "cell_type": "code",
   "execution_count": 6,
   "metadata": {},
   "outputs": [
    {
     "name": "stdout",
     "output_type": "stream",
     "text": [
      "Epoch 1/1000\n",
      "70/70 [==============================] - 1s 4ms/step - loss: 2.3080 - accuracy: 0.1021 - val_loss: 2.3102 - val_accuracy: 0.0867\n",
      "Epoch 2/1000\n",
      "70/70 [==============================] - 0s 1ms/step - loss: 2.2901 - accuracy: 0.1161 - val_loss: 2.2980 - val_accuracy: 0.1033\n",
      "Epoch 3/1000\n",
      "70/70 [==============================] - 0s 1ms/step - loss: 2.2403 - accuracy: 0.1298 - val_loss: 2.1798 - val_accuracy: 0.1700\n",
      "Epoch 4/1000\n",
      "70/70 [==============================] - 0s 1ms/step - loss: 2.1032 - accuracy: 0.1984 - val_loss: 2.0976 - val_accuracy: 0.2600\n",
      "Epoch 5/1000\n",
      "70/70 [==============================] - 0s 1ms/step - loss: 2.0370 - accuracy: 0.2805 - val_loss: 2.0263 - val_accuracy: 0.2700\n",
      "Epoch 6/1000\n",
      "70/70 [==============================] - 0s 1ms/step - loss: 1.9466 - accuracy: 0.2987 - val_loss: 1.9806 - val_accuracy: 0.3100\n",
      "Epoch 7/1000\n",
      "70/70 [==============================] - 0s 1ms/step - loss: 1.9053 - accuracy: 0.3495 - val_loss: 1.9387 - val_accuracy: 0.2933\n",
      "Epoch 8/1000\n",
      "70/70 [==============================] - 0s 1ms/step - loss: 1.8741 - accuracy: 0.3200 - val_loss: 1.9075 - val_accuracy: 0.2933\n",
      "Epoch 9/1000\n",
      "70/70 [==============================] - 0s 1ms/step - loss: 1.8616 - accuracy: 0.3347 - val_loss: 1.8755 - val_accuracy: 0.3100\n",
      "Epoch 10/1000\n",
      "70/70 [==============================] - 0s 1ms/step - loss: 1.8014 - accuracy: 0.3571 - val_loss: 1.8493 - val_accuracy: 0.2967\n",
      "Epoch 11/1000\n",
      "70/70 [==============================] - 0s 1ms/step - loss: 1.7836 - accuracy: 0.3629 - val_loss: 1.8252 - val_accuracy: 0.3167\n",
      "Epoch 12/1000\n",
      "70/70 [==============================] - 0s 1ms/step - loss: 1.7650 - accuracy: 0.3753 - val_loss: 1.8032 - val_accuracy: 0.3200\n",
      "Epoch 13/1000\n",
      "70/70 [==============================] - 0s 1ms/step - loss: 1.7540 - accuracy: 0.3525 - val_loss: 1.7860 - val_accuracy: 0.3200\n",
      "Epoch 14/1000\n",
      "70/70 [==============================] - 0s 1ms/step - loss: 1.7199 - accuracy: 0.3668 - val_loss: 1.7638 - val_accuracy: 0.3200\n",
      "Epoch 15/1000\n",
      "70/70 [==============================] - 0s 1ms/step - loss: 1.7042 - accuracy: 0.3477 - val_loss: 1.7468 - val_accuracy: 0.3333\n",
      "Epoch 16/1000\n",
      "70/70 [==============================] - 0s 1ms/step - loss: 1.7046 - accuracy: 0.3597 - val_loss: 1.7343 - val_accuracy: 0.3333\n",
      "Epoch 17/1000\n",
      "70/70 [==============================] - 0s 1ms/step - loss: 1.6448 - accuracy: 0.3591 - val_loss: 1.7166 - val_accuracy: 0.3467\n",
      "Epoch 18/1000\n",
      "70/70 [==============================] - 0s 1ms/step - loss: 1.6610 - accuracy: 0.3517 - val_loss: 1.7018 - val_accuracy: 0.3500\n",
      "Epoch 19/1000\n",
      "70/70 [==============================] - 0s 1ms/step - loss: 1.6451 - accuracy: 0.3677 - val_loss: 1.6901 - val_accuracy: 0.3667\n",
      "Epoch 20/1000\n",
      "70/70 [==============================] - 0s 1ms/step - loss: 1.6154 - accuracy: 0.3629 - val_loss: 1.6832 - val_accuracy: 0.3767\n",
      "Epoch 21/1000\n",
      "70/70 [==============================] - 0s 1ms/step - loss: 1.6135 - accuracy: 0.3775 - val_loss: 1.6723 - val_accuracy: 0.3833\n",
      "Epoch 22/1000\n",
      "70/70 [==============================] - 0s 1ms/step - loss: 1.5775 - accuracy: 0.3947 - val_loss: 1.6619 - val_accuracy: 0.3433\n",
      "Epoch 23/1000\n",
      "70/70 [==============================] - 0s 1ms/step - loss: 1.5736 - accuracy: 0.3983 - val_loss: 1.6528 - val_accuracy: 0.3733\n",
      "Epoch 24/1000\n",
      "70/70 [==============================] - 0s 1ms/step - loss: 1.6024 - accuracy: 0.3841 - val_loss: 1.6409 - val_accuracy: 0.3733\n",
      "Epoch 25/1000\n",
      "70/70 [==============================] - 0s 1ms/step - loss: 1.5360 - accuracy: 0.4055 - val_loss: 1.6359 - val_accuracy: 0.3667\n",
      "Epoch 26/1000\n",
      "70/70 [==============================] - 0s 1ms/step - loss: 1.5237 - accuracy: 0.3912 - val_loss: 1.6334 - val_accuracy: 0.3733\n",
      "Epoch 27/1000\n",
      "70/70 [==============================] - 0s 1ms/step - loss: 1.5833 - accuracy: 0.3777 - val_loss: 1.6220 - val_accuracy: 0.3667\n",
      "Epoch 28/1000\n",
      "70/70 [==============================] - 0s 1ms/step - loss: 1.5201 - accuracy: 0.3930 - val_loss: 1.6087 - val_accuracy: 0.3800\n",
      "Epoch 29/1000\n",
      "70/70 [==============================] - 0s 1ms/step - loss: 1.4929 - accuracy: 0.4199 - val_loss: 1.6039 - val_accuracy: 0.3833\n",
      "Epoch 30/1000\n",
      "70/70 [==============================] - 0s 1ms/step - loss: 1.5058 - accuracy: 0.3961 - val_loss: 1.5975 - val_accuracy: 0.3867\n",
      "Epoch 31/1000\n",
      "70/70 [==============================] - 0s 1ms/step - loss: 1.5167 - accuracy: 0.4068 - val_loss: 1.5924 - val_accuracy: 0.3833\n",
      "Epoch 32/1000\n",
      "70/70 [==============================] - 0s 1ms/step - loss: 1.4959 - accuracy: 0.4424 - val_loss: 1.5955 - val_accuracy: 0.3700\n",
      "Epoch 33/1000\n",
      "70/70 [==============================] - 0s 1ms/step - loss: 1.4661 - accuracy: 0.4014 - val_loss: 1.5818 - val_accuracy: 0.3800\n",
      "Epoch 34/1000\n",
      "70/70 [==============================] - 0s 1ms/step - loss: 1.4827 - accuracy: 0.4047 - val_loss: 1.5800 - val_accuracy: 0.3833\n",
      "Epoch 35/1000\n",
      "70/70 [==============================] - 0s 1ms/step - loss: 1.4369 - accuracy: 0.4272 - val_loss: 1.5755 - val_accuracy: 0.3800\n",
      "Epoch 36/1000\n",
      "70/70 [==============================] - 0s 1ms/step - loss: 1.4702 - accuracy: 0.4468 - val_loss: 1.5677 - val_accuracy: 0.3833\n",
      "Epoch 37/1000\n",
      "70/70 [==============================] - 0s 1ms/step - loss: 1.4449 - accuracy: 0.4325 - val_loss: 1.5717 - val_accuracy: 0.3767\n",
      "Epoch 38/1000\n",
      "70/70 [==============================] - 0s 1ms/step - loss: 1.4651 - accuracy: 0.4108 - val_loss: 1.5634 - val_accuracy: 0.3800\n",
      "Epoch 39/1000\n",
      "70/70 [==============================] - 0s 1ms/step - loss: 1.4247 - accuracy: 0.4469 - val_loss: 1.5563 - val_accuracy: 0.3867\n",
      "Epoch 40/1000\n",
      "70/70 [==============================] - 0s 1ms/step - loss: 1.4318 - accuracy: 0.4245 - val_loss: 1.5496 - val_accuracy: 0.4000\n",
      "Epoch 41/1000\n",
      "70/70 [==============================] - 0s 1ms/step - loss: 1.4158 - accuracy: 0.4543 - val_loss: 1.5447 - val_accuracy: 0.4133\n",
      "Epoch 42/1000\n",
      "70/70 [==============================] - 0s 1ms/step - loss: 1.4275 - accuracy: 0.4542 - val_loss: 1.5502 - val_accuracy: 0.3900\n",
      "Epoch 43/1000\n",
      "70/70 [==============================] - 0s 1ms/step - loss: 1.4332 - accuracy: 0.4423 - val_loss: 1.5393 - val_accuracy: 0.4133\n",
      "Epoch 44/1000\n",
      "70/70 [==============================] - 0s 1ms/step - loss: 1.4323 - accuracy: 0.4478 - val_loss: 1.5346 - val_accuracy: 0.4100\n",
      "Epoch 45/1000\n",
      "70/70 [==============================] - 0s 1ms/step - loss: 1.3933 - accuracy: 0.4660 - val_loss: 1.5271 - val_accuracy: 0.4233\n",
      "Epoch 46/1000\n",
      "70/70 [==============================] - 0s 1ms/step - loss: 1.4119 - accuracy: 0.4565 - val_loss: 1.5245 - val_accuracy: 0.4100\n",
      "Epoch 47/1000\n",
      "70/70 [==============================] - 0s 1ms/step - loss: 1.3966 - accuracy: 0.4329 - val_loss: 1.5266 - val_accuracy: 0.4067\n",
      "Epoch 48/1000\n",
      "70/70 [==============================] - 0s 1ms/step - loss: 1.3668 - accuracy: 0.4960 - val_loss: 1.5326 - val_accuracy: 0.4233\n",
      "Epoch 49/1000\n",
      "70/70 [==============================] - 0s 1ms/step - loss: 1.3973 - accuracy: 0.4648 - val_loss: 1.5224 - val_accuracy: 0.4133\n",
      "Epoch 50/1000\n",
      "70/70 [==============================] - 0s 1ms/step - loss: 1.3797 - accuracy: 0.4941 - val_loss: 1.5127 - val_accuracy: 0.4467\n",
      "Epoch 51/1000\n",
      "70/70 [==============================] - 0s 1ms/step - loss: 1.3915 - accuracy: 0.4639 - val_loss: 1.5187 - val_accuracy: 0.4133\n",
      "Epoch 52/1000\n",
      "70/70 [==============================] - 0s 1ms/step - loss: 1.2999 - accuracy: 0.5210 - val_loss: 1.5079 - val_accuracy: 0.4500\n",
      "Epoch 53/1000\n",
      "70/70 [==============================] - 0s 1ms/step - loss: 1.3337 - accuracy: 0.5101 - val_loss: 1.5185 - val_accuracy: 0.4367\n",
      "Epoch 54/1000\n",
      "70/70 [==============================] - 0s 1ms/step - loss: 1.3569 - accuracy: 0.4620 - val_loss: 1.5223 - val_accuracy: 0.4433\n",
      "Epoch 55/1000\n",
      "70/70 [==============================] - 0s 1ms/step - loss: 1.3191 - accuracy: 0.4941 - val_loss: 1.5044 - val_accuracy: 0.4433\n",
      "Epoch 56/1000\n",
      "70/70 [==============================] - 0s 1ms/step - loss: 1.3202 - accuracy: 0.5159 - val_loss: 1.4967 - val_accuracy: 0.4333\n",
      "Epoch 57/1000\n",
      "70/70 [==============================] - 0s 1ms/step - loss: 1.3469 - accuracy: 0.4994 - val_loss: 1.4947 - val_accuracy: 0.4500\n",
      "Epoch 58/1000\n"
     ]
    },
    {
     "name": "stdout",
     "output_type": "stream",
     "text": [
      "70/70 [==============================] - 0s 1ms/step - loss: 1.3222 - accuracy: 0.5165 - val_loss: 1.4948 - val_accuracy: 0.4633\n",
      "Epoch 59/1000\n",
      "70/70 [==============================] - 0s 1ms/step - loss: 1.2917 - accuracy: 0.5364 - val_loss: 1.4931 - val_accuracy: 0.4600\n",
      "Epoch 60/1000\n",
      "70/70 [==============================] - 0s 1ms/step - loss: 1.2811 - accuracy: 0.5234 - val_loss: 1.4919 - val_accuracy: 0.4667\n",
      "Epoch 61/1000\n",
      "70/70 [==============================] - 0s 1ms/step - loss: 1.3342 - accuracy: 0.4949 - val_loss: 1.4902 - val_accuracy: 0.4700\n",
      "Epoch 62/1000\n",
      "70/70 [==============================] - 0s 1ms/step - loss: 1.3008 - accuracy: 0.5312 - val_loss: 1.4866 - val_accuracy: 0.4767\n",
      "Epoch 63/1000\n",
      "70/70 [==============================] - 0s 1ms/step - loss: 1.2649 - accuracy: 0.5321 - val_loss: 1.4843 - val_accuracy: 0.4667\n",
      "Epoch 64/1000\n",
      "70/70 [==============================] - 0s 1ms/step - loss: 1.3196 - accuracy: 0.5345 - val_loss: 1.4775 - val_accuracy: 0.4800\n",
      "Epoch 65/1000\n",
      "70/70 [==============================] - 0s 1ms/step - loss: 1.2807 - accuracy: 0.5258 - val_loss: 1.4825 - val_accuracy: 0.4733\n",
      "Epoch 66/1000\n",
      "70/70 [==============================] - 0s 1ms/step - loss: 1.3051 - accuracy: 0.5435 - val_loss: 1.4745 - val_accuracy: 0.4967\n",
      "Epoch 67/1000\n",
      "70/70 [==============================] - 0s 1ms/step - loss: 1.2732 - accuracy: 0.5389 - val_loss: 1.4799 - val_accuracy: 0.4867\n",
      "Epoch 68/1000\n",
      "70/70 [==============================] - 0s 1ms/step - loss: 1.2754 - accuracy: 0.5470 - val_loss: 1.4758 - val_accuracy: 0.4967\n",
      "Epoch 69/1000\n",
      "70/70 [==============================] - 0s 1ms/step - loss: 1.2357 - accuracy: 0.5156 - val_loss: 1.4725 - val_accuracy: 0.4933\n",
      "Epoch 70/1000\n",
      "70/70 [==============================] - 0s 1ms/step - loss: 1.2692 - accuracy: 0.5372 - val_loss: 1.4704 - val_accuracy: 0.5000\n",
      "Epoch 71/1000\n",
      "70/70 [==============================] - 0s 1ms/step - loss: 1.2487 - accuracy: 0.5569 - val_loss: 1.4784 - val_accuracy: 0.4867\n",
      "Epoch 72/1000\n",
      "70/70 [==============================] - 0s 1ms/step - loss: 1.2461 - accuracy: 0.5384 - val_loss: 1.4691 - val_accuracy: 0.5067\n",
      "Epoch 73/1000\n",
      "70/70 [==============================] - 0s 1ms/step - loss: 1.2171 - accuracy: 0.5404 - val_loss: 1.4628 - val_accuracy: 0.4933\n",
      "Epoch 74/1000\n",
      "70/70 [==============================] - 0s 1ms/step - loss: 1.2438 - accuracy: 0.5455 - val_loss: 1.4724 - val_accuracy: 0.5100\n",
      "Epoch 75/1000\n",
      "70/70 [==============================] - 0s 1ms/step - loss: 1.2709 - accuracy: 0.5305 - val_loss: 1.4702 - val_accuracy: 0.5033\n",
      "Epoch 76/1000\n",
      "70/70 [==============================] - 0s 1ms/step - loss: 1.2611 - accuracy: 0.5208 - val_loss: 1.4658 - val_accuracy: 0.4800\n",
      "Epoch 77/1000\n",
      "70/70 [==============================] - 0s 1ms/step - loss: 1.2698 - accuracy: 0.5293 - val_loss: 1.4678 - val_accuracy: 0.4933\n",
      "Epoch 78/1000\n",
      "70/70 [==============================] - 0s 1ms/step - loss: 1.2369 - accuracy: 0.5526 - val_loss: 1.4610 - val_accuracy: 0.5033\n",
      "Epoch 79/1000\n",
      "70/70 [==============================] - 0s 1ms/step - loss: 1.1785 - accuracy: 0.5657 - val_loss: 1.4537 - val_accuracy: 0.5033\n",
      "Epoch 80/1000\n",
      "70/70 [==============================] - 0s 1ms/step - loss: 1.2377 - accuracy: 0.5606 - val_loss: 1.4613 - val_accuracy: 0.5133\n",
      "Epoch 81/1000\n",
      "70/70 [==============================] - 0s 1ms/step - loss: 1.2255 - accuracy: 0.5599 - val_loss: 1.4531 - val_accuracy: 0.5033\n",
      "Epoch 82/1000\n",
      "70/70 [==============================] - 0s 1ms/step - loss: 1.2506 - accuracy: 0.5359 - val_loss: 1.4488 - val_accuracy: 0.4933\n",
      "Epoch 83/1000\n",
      "70/70 [==============================] - 0s 1ms/step - loss: 1.1954 - accuracy: 0.5548 - val_loss: 1.4468 - val_accuracy: 0.5067\n",
      "Epoch 84/1000\n",
      "70/70 [==============================] - 0s 1ms/step - loss: 1.2048 - accuracy: 0.5565 - val_loss: 1.4630 - val_accuracy: 0.5100\n",
      "Epoch 85/1000\n",
      "70/70 [==============================] - 0s 1ms/step - loss: 1.2340 - accuracy: 0.5170 - val_loss: 1.4548 - val_accuracy: 0.5067\n",
      "Epoch 86/1000\n",
      "70/70 [==============================] - 0s 1ms/step - loss: 1.2167 - accuracy: 0.5699 - val_loss: 1.4533 - val_accuracy: 0.5133\n",
      "Epoch 87/1000\n",
      "70/70 [==============================] - 0s 1ms/step - loss: 1.2143 - accuracy: 0.5486 - val_loss: 1.4433 - val_accuracy: 0.5033\n",
      "Epoch 88/1000\n",
      "70/70 [==============================] - 0s 1ms/step - loss: 1.2211 - accuracy: 0.5673 - val_loss: 1.4399 - val_accuracy: 0.4900\n",
      "Epoch 89/1000\n",
      "70/70 [==============================] - 0s 1ms/step - loss: 1.2047 - accuracy: 0.5654 - val_loss: 1.4441 - val_accuracy: 0.5033\n",
      "Epoch 90/1000\n",
      "70/70 [==============================] - 0s 1ms/step - loss: 1.1830 - accuracy: 0.5532 - val_loss: 1.4495 - val_accuracy: 0.5133\n",
      "Epoch 91/1000\n",
      "70/70 [==============================] - 0s 1ms/step - loss: 1.1805 - accuracy: 0.5683 - val_loss: 1.4403 - val_accuracy: 0.5133\n",
      "Epoch 92/1000\n",
      "70/70 [==============================] - 0s 1ms/step - loss: 1.1530 - accuracy: 0.5836 - val_loss: 1.4419 - val_accuracy: 0.5000\n",
      "Epoch 93/1000\n",
      "70/70 [==============================] - 0s 1ms/step - loss: 1.1993 - accuracy: 0.5604 - val_loss: 1.4383 - val_accuracy: 0.5000\n",
      "Epoch 94/1000\n",
      "70/70 [==============================] - 0s 1ms/step - loss: 1.1077 - accuracy: 0.6018 - val_loss: 1.4422 - val_accuracy: 0.5033\n",
      "Epoch 95/1000\n",
      "70/70 [==============================] - 0s 1ms/step - loss: 1.1967 - accuracy: 0.5479 - val_loss: 1.4450 - val_accuracy: 0.5067\n",
      "Epoch 96/1000\n",
      "70/70 [==============================] - 0s 1ms/step - loss: 1.1611 - accuracy: 0.5842 - val_loss: 1.4543 - val_accuracy: 0.5000\n",
      "Epoch 97/1000\n",
      "70/70 [==============================] - 0s 1ms/step - loss: 1.1446 - accuracy: 0.5723 - val_loss: 1.4402 - val_accuracy: 0.5000\n",
      "Epoch 98/1000\n",
      "70/70 [==============================] - 0s 1ms/step - loss: 1.2168 - accuracy: 0.5688 - val_loss: 1.4310 - val_accuracy: 0.4867\n",
      "Epoch 99/1000\n",
      "70/70 [==============================] - 0s 1ms/step - loss: 1.1626 - accuracy: 0.5531 - val_loss: 1.4393 - val_accuracy: 0.4967\n",
      "Epoch 100/1000\n",
      "70/70 [==============================] - 0s 1ms/step - loss: 1.1550 - accuracy: 0.5772 - val_loss: 1.4369 - val_accuracy: 0.5067\n",
      "Epoch 101/1000\n",
      "70/70 [==============================] - 0s 1ms/step - loss: 1.1379 - accuracy: 0.5799 - val_loss: 1.4344 - val_accuracy: 0.4967\n",
      "Epoch 102/1000\n",
      "70/70 [==============================] - 0s 1ms/step - loss: 1.1963 - accuracy: 0.5464 - val_loss: 1.4298 - val_accuracy: 0.4933\n",
      "Epoch 103/1000\n",
      "70/70 [==============================] - 0s 1ms/step - loss: 1.1560 - accuracy: 0.5485 - val_loss: 1.4299 - val_accuracy: 0.4933\n",
      "Epoch 104/1000\n",
      "70/70 [==============================] - 0s 1ms/step - loss: 1.1582 - accuracy: 0.5498 - val_loss: 1.4268 - val_accuracy: 0.4867\n",
      "Epoch 105/1000\n",
      "70/70 [==============================] - 0s 1ms/step - loss: 1.1282 - accuracy: 0.5786 - val_loss: 1.4426 - val_accuracy: 0.5033\n",
      "Epoch 106/1000\n",
      "70/70 [==============================] - 0s 1ms/step - loss: 1.1223 - accuracy: 0.5711 - val_loss: 1.4384 - val_accuracy: 0.4967\n",
      "Epoch 107/1000\n",
      "70/70 [==============================] - 0s 1ms/step - loss: 1.1161 - accuracy: 0.5744 - val_loss: 1.4270 - val_accuracy: 0.4933\n",
      "Epoch 108/1000\n",
      "70/70 [==============================] - 0s 1ms/step - loss: 1.0841 - accuracy: 0.6153 - val_loss: 1.4265 - val_accuracy: 0.4833\n",
      "Epoch 109/1000\n",
      "70/70 [==============================] - 0s 1ms/step - loss: 1.1222 - accuracy: 0.5791 - val_loss: 1.4203 - val_accuracy: 0.4767\n",
      "Epoch 110/1000\n",
      "70/70 [==============================] - 0s 1ms/step - loss: 1.1085 - accuracy: 0.5880 - val_loss: 1.4219 - val_accuracy: 0.4900\n",
      "Epoch 111/1000\n",
      "70/70 [==============================] - 0s 1ms/step - loss: 1.0880 - accuracy: 0.5851 - val_loss: 1.4264 - val_accuracy: 0.4900\n",
      "Epoch 112/1000\n",
      "70/70 [==============================] - 0s 1ms/step - loss: 1.1341 - accuracy: 0.6017 - val_loss: 1.4286 - val_accuracy: 0.4900\n",
      "Epoch 113/1000\n",
      "70/70 [==============================] - 0s 1ms/step - loss: 1.0756 - accuracy: 0.6120 - val_loss: 1.4281 - val_accuracy: 0.5000\n",
      "Epoch 114/1000\n",
      "70/70 [==============================] - 0s 1ms/step - loss: 1.1468 - accuracy: 0.5973 - val_loss: 1.4287 - val_accuracy: 0.4900\n",
      "Epoch 115/1000\n"
     ]
    },
    {
     "name": "stdout",
     "output_type": "stream",
     "text": [
      "70/70 [==============================] - 0s 1ms/step - loss: 1.1316 - accuracy: 0.5708 - val_loss: 1.4305 - val_accuracy: 0.4900\n",
      "Epoch 116/1000\n",
      "70/70 [==============================] - 0s 1ms/step - loss: 1.1088 - accuracy: 0.5824 - val_loss: 1.4221 - val_accuracy: 0.4933\n",
      "Epoch 117/1000\n",
      "70/70 [==============================] - 0s 1ms/step - loss: 1.1459 - accuracy: 0.5598 - val_loss: 1.4258 - val_accuracy: 0.4900\n",
      "Epoch 118/1000\n",
      "70/70 [==============================] - 0s 1ms/step - loss: 1.0842 - accuracy: 0.5966 - val_loss: 1.4268 - val_accuracy: 0.4967\n",
      "Epoch 119/1000\n",
      "70/70 [==============================] - 0s 1ms/step - loss: 1.0762 - accuracy: 0.6047 - val_loss: 1.4196 - val_accuracy: 0.4933\n",
      "Epoch 120/1000\n",
      "70/70 [==============================] - 0s 1ms/step - loss: 1.1504 - accuracy: 0.5699 - val_loss: 1.4270 - val_accuracy: 0.4967\n",
      "Epoch 121/1000\n",
      "70/70 [==============================] - 0s 1ms/step - loss: 1.0996 - accuracy: 0.6023 - val_loss: 1.4276 - val_accuracy: 0.4967\n",
      "Epoch 122/1000\n",
      "70/70 [==============================] - 0s 1ms/step - loss: 1.0998 - accuracy: 0.5888 - val_loss: 1.4152 - val_accuracy: 0.4967\n",
      "Epoch 123/1000\n",
      "70/70 [==============================] - 0s 1ms/step - loss: 1.0884 - accuracy: 0.5793 - val_loss: 1.4226 - val_accuracy: 0.4933\n",
      "Epoch 124/1000\n",
      "70/70 [==============================] - 0s 1ms/step - loss: 1.0901 - accuracy: 0.5821 - val_loss: 1.4150 - val_accuracy: 0.5000\n",
      "Epoch 125/1000\n",
      "70/70 [==============================] - 0s 1ms/step - loss: 1.0469 - accuracy: 0.6166 - val_loss: 1.4260 - val_accuracy: 0.5000\n",
      "Epoch 126/1000\n",
      "70/70 [==============================] - 0s 1ms/step - loss: 1.0516 - accuracy: 0.6203 - val_loss: 1.4295 - val_accuracy: 0.4900\n",
      "Epoch 127/1000\n",
      "70/70 [==============================] - 0s 1ms/step - loss: 1.1231 - accuracy: 0.5599 - val_loss: 1.4169 - val_accuracy: 0.4800\n",
      "Epoch 128/1000\n",
      "70/70 [==============================] - 0s 1ms/step - loss: 1.0700 - accuracy: 0.5760 - val_loss: 1.4435 - val_accuracy: 0.4767\n",
      "Epoch 129/1000\n",
      "70/70 [==============================] - 0s 1ms/step - loss: 1.0775 - accuracy: 0.5894 - val_loss: 1.4295 - val_accuracy: 0.4800\n",
      "Epoch 130/1000\n",
      "70/70 [==============================] - 0s 1ms/step - loss: 1.0769 - accuracy: 0.6007 - val_loss: 1.4340 - val_accuracy: 0.4833\n",
      "Epoch 131/1000\n",
      "70/70 [==============================] - 0s 1ms/step - loss: 1.0465 - accuracy: 0.6022 - val_loss: 1.4204 - val_accuracy: 0.4900\n",
      "Epoch 132/1000\n",
      "70/70 [==============================] - 0s 1ms/step - loss: 1.0276 - accuracy: 0.6174 - val_loss: 1.4250 - val_accuracy: 0.4867\n",
      "Epoch 133/1000\n",
      "70/70 [==============================] - 0s 1ms/step - loss: 1.0863 - accuracy: 0.6096 - val_loss: 1.4307 - val_accuracy: 0.4867\n",
      "Epoch 134/1000\n",
      "70/70 [==============================] - 0s 1ms/step - loss: 1.0573 - accuracy: 0.5979 - val_loss: 1.4361 - val_accuracy: 0.4900\n",
      "Epoch 135/1000\n",
      "70/70 [==============================] - 0s 1ms/step - loss: 1.0683 - accuracy: 0.6162 - val_loss: 1.4291 - val_accuracy: 0.4800\n",
      "Epoch 136/1000\n",
      "70/70 [==============================] - 0s 1ms/step - loss: 1.1159 - accuracy: 0.5776 - val_loss: 1.4198 - val_accuracy: 0.4800\n",
      "Epoch 137/1000\n",
      "70/70 [==============================] - 0s 1ms/step - loss: 1.0341 - accuracy: 0.6332 - val_loss: 1.4267 - val_accuracy: 0.4867\n",
      "Epoch 138/1000\n",
      "70/70 [==============================] - 0s 1ms/step - loss: 1.0935 - accuracy: 0.5946 - val_loss: 1.4247 - val_accuracy: 0.4833\n",
      "Epoch 139/1000\n",
      "70/70 [==============================] - 0s 1ms/step - loss: 1.0540 - accuracy: 0.6026 - val_loss: 1.4203 - val_accuracy: 0.4800\n",
      "Epoch 140/1000\n",
      "70/70 [==============================] - 0s 1ms/step - loss: 1.0653 - accuracy: 0.5860 - val_loss: 1.4262 - val_accuracy: 0.4700\n",
      "Epoch 141/1000\n",
      "70/70 [==============================] - 0s 1ms/step - loss: 1.0293 - accuracy: 0.6104 - val_loss: 1.4377 - val_accuracy: 0.4833\n",
      "Epoch 142/1000\n",
      "70/70 [==============================] - 0s 1ms/step - loss: 1.0332 - accuracy: 0.6088 - val_loss: 1.4304 - val_accuracy: 0.4767\n",
      "Epoch 143/1000\n",
      "70/70 [==============================] - 0s 1ms/step - loss: 1.0021 - accuracy: 0.6259 - val_loss: 1.4162 - val_accuracy: 0.4667\n",
      "Epoch 144/1000\n",
      "70/70 [==============================] - 0s 1ms/step - loss: 1.0992 - accuracy: 0.6169 - val_loss: 1.4315 - val_accuracy: 0.4767\n",
      "Epoch 145/1000\n",
      "70/70 [==============================] - 0s 1ms/step - loss: 1.0398 - accuracy: 0.6118 - val_loss: 1.4332 - val_accuracy: 0.4733\n",
      "Epoch 146/1000\n",
      "70/70 [==============================] - 0s 1ms/step - loss: 1.0470 - accuracy: 0.6230 - val_loss: 1.4207 - val_accuracy: 0.4733\n",
      "Epoch 147/1000\n",
      "70/70 [==============================] - 0s 1ms/step - loss: 1.0627 - accuracy: 0.6097 - val_loss: 1.4295 - val_accuracy: 0.4733\n",
      "Epoch 148/1000\n",
      "70/70 [==============================] - 0s 1ms/step - loss: 1.0735 - accuracy: 0.6030 - val_loss: 1.4254 - val_accuracy: 0.4767\n",
      "Epoch 149/1000\n",
      "70/70 [==============================] - 0s 1ms/step - loss: 1.0585 - accuracy: 0.6276 - val_loss: 1.4209 - val_accuracy: 0.4700\n",
      "Epoch 150/1000\n",
      "70/70 [==============================] - 0s 1ms/step - loss: 1.0226 - accuracy: 0.6496 - val_loss: 1.4319 - val_accuracy: 0.4700\n",
      "Epoch 151/1000\n",
      "70/70 [==============================] - 0s 1ms/step - loss: 1.0124 - accuracy: 0.6208 - val_loss: 1.4171 - val_accuracy: 0.4667\n",
      "Epoch 152/1000\n",
      "70/70 [==============================] - 0s 1ms/step - loss: 1.0238 - accuracy: 0.6213 - val_loss: 1.4203 - val_accuracy: 0.4600\n",
      "Epoch 153/1000\n",
      "70/70 [==============================] - 0s 1ms/step - loss: 0.9875 - accuracy: 0.6277 - val_loss: 1.4293 - val_accuracy: 0.4800\n",
      "Epoch 154/1000\n",
      "70/70 [==============================] - 0s 1ms/step - loss: 0.9983 - accuracy: 0.6340 - val_loss: 1.4306 - val_accuracy: 0.4800\n"
     ]
    }
   ],
   "source": [
    "np.random.seed(3)\n",
    "class CustomHistory(tf.keras.callbacks.Callback):\n",
    "    def __init__(self):\n",
    "        self.epoch = 0\n",
    "        self.train_loss = [] \n",
    "        self.val_loss =[]\n",
    "        self.train_acc=[]\n",
    "        self.val_acc=[]\n",
    "    def on_epoch_end(self, batch, logs={}):\n",
    "        self.train_loss.append(logs.get('loss'))\n",
    "        self.val_loss.append(logs.get('val_loss'))\n",
    "        self.train_acc.append(logs.get('accuracy'))\n",
    "        self.val_acc.append(logs.get('val_acc'))\n",
    "        if self.epoch % 10 ==0:\n",
    "            print(\"epoch:{}, loss:{}, val_loss:{}\".format(self.epoch,logs.get('loss').logs.get('val_loss')))\n",
    "        self.epoch += 1\n",
    "            \n",
    "# 데이터 셋 준비하기\n",
    "# 훈련용 세트, 검증용 세트 분리\n",
    "(X_train,Y_train),(X_test,Y_test)=mnist.load_data()  \n",
    "\n",
    "#훈련셋과 검증셋 분리(X_train,Y_train을 검증셋과 훈련셋으로 분리)\n",
    "X_val=X_train[50000:]\n",
    "Y_val=Y_train[50000:]\n",
    "X_train=X_train[:50000]\n",
    "Y_train=Y_train[:50000]\n",
    "\n",
    "# normalrize 하기 위해 색상값으로 나누기\n",
    "X_train = X_train.reshape(50000,784).astype('float32')/255.0\n",
    "X_val=X_val.reshape(10000,784).astype('float32')/255.0\n",
    "X_test=X_val.reshape(10000,784).astype('float32')/255.0\n",
    "\n",
    "# 훈련셋과 검증셋 700개, 300씩만 가져옴\n",
    "train_rand_idxs=np.random.choice(50000,700)\n",
    "val_rand_idxs=np.random.choice(10000,300)\n",
    "X_train = X_train[train_rand_idxs]\n",
    "Y_train = Y_train[train_rand_idxs]\n",
    "X_val = X_val[val_rand_idxs]\n",
    "Y_val = Y_val[val_rand_idxs]\n",
    "\n",
    "#원 핫 인코딩 = 라벨링 전환\n",
    "Y_train = utils.to_categorical(Y_train)\n",
    "Y_val = utils.to_categorical(Y_val)\n",
    "Y_test = utils.to_categorical(Y_test)\n",
    "\n",
    "# 2. 모델 구성하기\n",
    "model = Sequential()\n",
    "model.add(Dense(units=2, input_dim=784, activation=\"relu\"))\n",
    "model.add(Dense(units=10, activation=\"softmax\"))\n",
    "\n",
    "# 3. 모델 학습과정 설정\n",
    "model.compile(loss=\"categorical_crossentropy\", optimizer=\"sgd\", metrics=['accuracy'])\n",
    "\n",
    "# 4. 모델 학습시키기\n",
    "from tensorflow.keras.callbacks import EarlyStopping\n",
    "# early_stopping = EarlyStopping() # 성급한 조기 종료\n",
    "early_stopping = EarlyStopping(patience=30) # patience 인자 수만큼 loss가 오를 수 있음\n",
    "hist = model.fit(X_train, Y_train, epochs=1000, batch_size=10, \n",
    "                validation_data=(X_val, Y_val), verbose=1,\n",
    "                callbacks=[early_stopping])"
   ]
  },
  {
   "cell_type": "code",
   "execution_count": 19,
   "metadata": {},
   "outputs": [
    {
     "name": "stdout",
     "output_type": "stream",
     "text": [
      "Epoch 1/1000\n",
      "70/70 [==============================] - 1s 5ms/step - loss: 2.3045 - accuracy: 0.1258 - val_loss: 2.2768 - val_accuracy: 0.1267\n",
      "Epoch 2/1000\n",
      "70/70 [==============================] - 0s 1ms/step - loss: 2.2240 - accuracy: 0.1606 - val_loss: 2.2239 - val_accuracy: 0.1700\n",
      "Epoch 3/1000\n",
      "70/70 [==============================] - 0s 1ms/step - loss: 2.1499 - accuracy: 0.2138 - val_loss: 2.1827 - val_accuracy: 0.2333\n",
      "Epoch 4/1000\n",
      "70/70 [==============================] - 0s 1ms/step - loss: 2.1139 - accuracy: 0.2344 - val_loss: 2.1333 - val_accuracy: 0.2500\n",
      "Epoch 5/1000\n",
      "70/70 [==============================] - 0s 1ms/step - loss: 2.0447 - accuracy: 0.2645 - val_loss: 2.0892 - val_accuracy: 0.2667\n",
      "Epoch 6/1000\n",
      "70/70 [==============================] - 0s 1ms/step - loss: 2.0197 - accuracy: 0.2975 - val_loss: 2.0476 - val_accuracy: 0.2767\n",
      "Epoch 7/1000\n",
      "70/70 [==============================] - 0s 1ms/step - loss: 1.9503 - accuracy: 0.3281 - val_loss: 2.0093 - val_accuracy: 0.2900\n",
      "Epoch 8/1000\n",
      "70/70 [==============================] - 0s 1ms/step - loss: 1.8929 - accuracy: 0.3708 - val_loss: 1.9718 - val_accuracy: 0.2933\n",
      "Epoch 9/1000\n",
      "70/70 [==============================] - 0s 1ms/step - loss: 1.8931 - accuracy: 0.2968 - val_loss: 1.9366 - val_accuracy: 0.3133\n",
      "Epoch 10/1000\n",
      "70/70 [==============================] - 0s 1ms/step - loss: 1.8624 - accuracy: 0.3352 - val_loss: 1.9090 - val_accuracy: 0.3167\n",
      "Epoch 11/1000\n",
      "70/70 [==============================] - 0s 1ms/step - loss: 1.8589 - accuracy: 0.3337 - val_loss: 1.8765 - val_accuracy: 0.3233\n",
      "Epoch 12/1000\n",
      "70/70 [==============================] - 0s 1ms/step - loss: 1.7860 - accuracy: 0.3680 - val_loss: 1.8504 - val_accuracy: 0.3433\n",
      "Epoch 13/1000\n",
      "70/70 [==============================] - 0s 1ms/step - loss: 1.7888 - accuracy: 0.3575 - val_loss: 1.8209 - val_accuracy: 0.3500\n",
      "Epoch 14/1000\n",
      "70/70 [==============================] - 0s 1ms/step - loss: 1.7041 - accuracy: 0.3732 - val_loss: 1.7938 - val_accuracy: 0.3500\n",
      "Epoch 15/1000\n",
      "70/70 [==============================] - 0s 1ms/step - loss: 1.7056 - accuracy: 0.3850 - val_loss: 1.7750 - val_accuracy: 0.3533\n",
      "Epoch 16/1000\n",
      "70/70 [==============================] - 0s 1ms/step - loss: 1.6936 - accuracy: 0.3632 - val_loss: 1.7513 - val_accuracy: 0.3600\n",
      "Epoch 17/1000\n",
      "70/70 [==============================] - 0s 1ms/step - loss: 1.6393 - accuracy: 0.3899 - val_loss: 1.7262 - val_accuracy: 0.3600\n",
      "Epoch 18/1000\n",
      "70/70 [==============================] - 0s 1ms/step - loss: 1.6248 - accuracy: 0.3833 - val_loss: 1.7118 - val_accuracy: 0.3567\n",
      "Epoch 19/1000\n",
      "70/70 [==============================] - 0s 1ms/step - loss: 1.6216 - accuracy: 0.3941 - val_loss: 1.6930 - val_accuracy: 0.3700\n",
      "Epoch 20/1000\n",
      "70/70 [==============================] - 0s 1ms/step - loss: 1.5525 - accuracy: 0.3863 - val_loss: 1.6748 - val_accuracy: 0.3767\n",
      "Epoch 21/1000\n",
      "70/70 [==============================] - 0s 1ms/step - loss: 1.5315 - accuracy: 0.4290 - val_loss: 1.6613 - val_accuracy: 0.3733\n",
      "Epoch 22/1000\n",
      "70/70 [==============================] - 0s 1ms/step - loss: 1.5562 - accuracy: 0.4014 - val_loss: 1.6471 - val_accuracy: 0.3767\n",
      "Epoch 23/1000\n",
      "70/70 [==============================] - 0s 1ms/step - loss: 1.5250 - accuracy: 0.4239 - val_loss: 1.6320 - val_accuracy: 0.3800\n",
      "Epoch 24/1000\n",
      "70/70 [==============================] - 0s 1ms/step - loss: 1.5043 - accuracy: 0.4445 - val_loss: 1.6179 - val_accuracy: 0.4033\n",
      "Epoch 25/1000\n",
      "70/70 [==============================] - 0s 1ms/step - loss: 1.5162 - accuracy: 0.4124 - val_loss: 1.6078 - val_accuracy: 0.4067\n",
      "Epoch 26/1000\n",
      "70/70 [==============================] - 0s 1ms/step - loss: 1.4754 - accuracy: 0.4434 - val_loss: 1.5992 - val_accuracy: 0.4133\n",
      "Epoch 27/1000\n",
      "70/70 [==============================] - 0s 1ms/step - loss: 1.4816 - accuracy: 0.4263 - val_loss: 1.5878 - val_accuracy: 0.4200\n",
      "Epoch 28/1000\n",
      "70/70 [==============================] - 0s 1ms/step - loss: 1.4606 - accuracy: 0.4457 - val_loss: 1.5789 - val_accuracy: 0.4200\n",
      "Epoch 29/1000\n",
      "70/70 [==============================] - 0s 1ms/step - loss: 1.4665 - accuracy: 0.4140 - val_loss: 1.5725 - val_accuracy: 0.4367\n",
      "Epoch 30/1000\n",
      "70/70 [==============================] - 0s 1ms/step - loss: 1.4504 - accuracy: 0.4454 - val_loss: 1.5607 - val_accuracy: 0.4133\n",
      "Epoch 31/1000\n",
      "70/70 [==============================] - 0s 1ms/step - loss: 1.4592 - accuracy: 0.4218 - val_loss: 1.5542 - val_accuracy: 0.4133\n",
      "Epoch 32/1000\n",
      "70/70 [==============================] - 0s 1ms/step - loss: 1.4485 - accuracy: 0.4284 - val_loss: 1.5471 - val_accuracy: 0.4267\n",
      "Epoch 33/1000\n",
      "70/70 [==============================] - 0s 1ms/step - loss: 1.4883 - accuracy: 0.4225 - val_loss: 1.5411 - val_accuracy: 0.4533\n",
      "Epoch 34/1000\n",
      "70/70 [==============================] - 0s 1ms/step - loss: 1.3813 - accuracy: 0.4833 - val_loss: 1.5326 - val_accuracy: 0.4300\n",
      "Epoch 35/1000\n",
      "70/70 [==============================] - 0s 1ms/step - loss: 1.4178 - accuracy: 0.4526 - val_loss: 1.5293 - val_accuracy: 0.4467\n",
      "Epoch 36/1000\n",
      "70/70 [==============================] - 0s 1ms/step - loss: 1.4226 - accuracy: 0.4619 - val_loss: 1.5175 - val_accuracy: 0.4733\n",
      "Epoch 37/1000\n",
      "70/70 [==============================] - 0s 1ms/step - loss: 1.3707 - accuracy: 0.4963 - val_loss: 1.5108 - val_accuracy: 0.4633\n",
      "Epoch 38/1000\n",
      "70/70 [==============================] - 0s 1ms/step - loss: 1.4008 - accuracy: 0.4707 - val_loss: 1.5080 - val_accuracy: 0.4600\n",
      "Epoch 39/1000\n",
      "70/70 [==============================] - 0s 1ms/step - loss: 1.3539 - accuracy: 0.5010 - val_loss: 1.4948 - val_accuracy: 0.4667\n",
      "Epoch 40/1000\n",
      "70/70 [==============================] - 0s 1ms/step - loss: 1.3731 - accuracy: 0.4856 - val_loss: 1.4925 - val_accuracy: 0.4800\n",
      "Epoch 41/1000\n",
      "70/70 [==============================] - 0s 1ms/step - loss: 1.3695 - accuracy: 0.5026 - val_loss: 1.4932 - val_accuracy: 0.4733\n",
      "Epoch 42/1000\n",
      "70/70 [==============================] - 0s 1ms/step - loss: 1.3182 - accuracy: 0.5053 - val_loss: 1.4825 - val_accuracy: 0.4800\n",
      "Epoch 43/1000\n",
      "70/70 [==============================] - 0s 1ms/step - loss: 1.3506 - accuracy: 0.4969 - val_loss: 1.4806 - val_accuracy: 0.4833\n",
      "Epoch 44/1000\n",
      "70/70 [==============================] - 0s 1ms/step - loss: 1.3498 - accuracy: 0.5102 - val_loss: 1.4796 - val_accuracy: 0.4867\n",
      "Epoch 45/1000\n",
      "70/70 [==============================] - 0s 1ms/step - loss: 1.3550 - accuracy: 0.4948 - val_loss: 1.4670 - val_accuracy: 0.4833\n",
      "Epoch 46/1000\n",
      "70/70 [==============================] - 0s 1ms/step - loss: 1.2856 - accuracy: 0.5202 - val_loss: 1.4624 - val_accuracy: 0.4833\n",
      "Epoch 47/1000\n",
      "70/70 [==============================] - 0s 1ms/step - loss: 1.3011 - accuracy: 0.5187 - val_loss: 1.4644 - val_accuracy: 0.4767\n",
      "Epoch 48/1000\n",
      "70/70 [==============================] - 0s 1ms/step - loss: 1.3378 - accuracy: 0.4972 - val_loss: 1.4557 - val_accuracy: 0.5133\n",
      "Epoch 49/1000\n",
      "70/70 [==============================] - 0s 1ms/step - loss: 1.2953 - accuracy: 0.5045 - val_loss: 1.4549 - val_accuracy: 0.4967\n",
      "Epoch 50/1000\n",
      "70/70 [==============================] - 0s 1ms/step - loss: 1.2599 - accuracy: 0.5503 - val_loss: 1.4542 - val_accuracy: 0.4533\n",
      "Epoch 51/1000\n",
      "70/70 [==============================] - 0s 1ms/step - loss: 1.2627 - accuracy: 0.5185 - val_loss: 1.4460 - val_accuracy: 0.4533\n",
      "Epoch 52/1000\n",
      "70/70 [==============================] - 0s 1ms/step - loss: 1.2578 - accuracy: 0.5211 - val_loss: 1.4390 - val_accuracy: 0.4567\n",
      "Epoch 53/1000\n",
      "70/70 [==============================] - 0s 1ms/step - loss: 1.3163 - accuracy: 0.5095 - val_loss: 1.4335 - val_accuracy: 0.4567\n",
      "Epoch 54/1000\n",
      "70/70 [==============================] - 0s 1ms/step - loss: 1.2565 - accuracy: 0.5250 - val_loss: 1.4360 - val_accuracy: 0.4567\n",
      "Epoch 55/1000\n",
      "70/70 [==============================] - 0s 1ms/step - loss: 1.2134 - accuracy: 0.5550 - val_loss: 1.4305 - val_accuracy: 0.4733\n",
      "Epoch 56/1000\n",
      "70/70 [==============================] - 0s 1ms/step - loss: 1.2744 - accuracy: 0.5399 - val_loss: 1.4283 - val_accuracy: 0.4600\n",
      "Epoch 57/1000\n",
      "70/70 [==============================] - 0s 1ms/step - loss: 1.2273 - accuracy: 0.5415 - val_loss: 1.4125 - val_accuracy: 0.4667\n",
      "Epoch 58/1000\n"
     ]
    },
    {
     "name": "stdout",
     "output_type": "stream",
     "text": [
      "70/70 [==============================] - 0s 1ms/step - loss: 1.2718 - accuracy: 0.5525 - val_loss: 1.4217 - val_accuracy: 0.4767\n",
      "Epoch 59/1000\n",
      "70/70 [==============================] - 0s 1ms/step - loss: 1.1973 - accuracy: 0.5449 - val_loss: 1.4112 - val_accuracy: 0.4800\n",
      "Epoch 60/1000\n",
      "70/70 [==============================] - 0s 1ms/step - loss: 1.1971 - accuracy: 0.5452 - val_loss: 1.4060 - val_accuracy: 0.4700\n",
      "Epoch 61/1000\n",
      "70/70 [==============================] - 0s 1ms/step - loss: 1.1989 - accuracy: 0.5563 - val_loss: 1.4041 - val_accuracy: 0.4800\n",
      "Epoch 62/1000\n",
      "70/70 [==============================] - 0s 1ms/step - loss: 1.2314 - accuracy: 0.5251 - val_loss: 1.4066 - val_accuracy: 0.4667\n",
      "Epoch 63/1000\n",
      "70/70 [==============================] - 0s 1ms/step - loss: 1.2217 - accuracy: 0.5305 - val_loss: 1.4060 - val_accuracy: 0.4833\n",
      "Epoch 64/1000\n",
      "70/70 [==============================] - ETA: 0s - loss: 1.3041 - accuracy: 0.60 - 0s 1ms/step - loss: 1.1921 - accuracy: 0.5536 - val_loss: 1.3941 - val_accuracy: 0.4933\n",
      "Epoch 65/1000\n",
      "70/70 [==============================] - 0s 1ms/step - loss: 1.2139 - accuracy: 0.5330 - val_loss: 1.3901 - val_accuracy: 0.4733\n",
      "Epoch 66/1000\n",
      "70/70 [==============================] - 0s 1ms/step - loss: 1.1713 - accuracy: 0.5759 - val_loss: 1.3900 - val_accuracy: 0.4867\n",
      "Epoch 67/1000\n",
      "70/70 [==============================] - 0s 1ms/step - loss: 1.1598 - accuracy: 0.5545 - val_loss: 1.3912 - val_accuracy: 0.4833\n",
      "Epoch 68/1000\n",
      "70/70 [==============================] - 0s 1ms/step - loss: 1.1880 - accuracy: 0.5467 - val_loss: 1.3964 - val_accuracy: 0.4933\n",
      "Epoch 69/1000\n",
      "70/70 [==============================] - 0s 1ms/step - loss: 1.1813 - accuracy: 0.5440 - val_loss: 1.3848 - val_accuracy: 0.4967\n",
      "Epoch 70/1000\n",
      "70/70 [==============================] - 0s 1ms/step - loss: 1.1474 - accuracy: 0.5551 - val_loss: 1.3754 - val_accuracy: 0.5000\n",
      "Epoch 71/1000\n",
      "70/70 [==============================] - 0s 1ms/step - loss: 1.1322 - accuracy: 0.5703 - val_loss: 1.3832 - val_accuracy: 0.4767\n",
      "Epoch 72/1000\n",
      "70/70 [==============================] - 0s 1ms/step - loss: 1.2026 - accuracy: 0.5583 - val_loss: 1.3795 - val_accuracy: 0.4867\n",
      "Epoch 73/1000\n",
      "70/70 [==============================] - 0s 1ms/step - loss: 1.1591 - accuracy: 0.5644 - val_loss: 1.3768 - val_accuracy: 0.4967\n",
      "Epoch 74/1000\n",
      "70/70 [==============================] - 0s 1ms/step - loss: 1.1372 - accuracy: 0.5692 - val_loss: 1.3878 - val_accuracy: 0.4933\n",
      "Epoch 75/1000\n",
      "70/70 [==============================] - 0s 1ms/step - loss: 1.1565 - accuracy: 0.5724 - val_loss: 1.3857 - val_accuracy: 0.4900\n",
      "Epoch 76/1000\n",
      "70/70 [==============================] - 0s 1ms/step - loss: 1.1044 - accuracy: 0.5847 - val_loss: 1.3671 - val_accuracy: 0.4900\n",
      "Epoch 77/1000\n",
      "70/70 [==============================] - 0s 1ms/step - loss: 1.1895 - accuracy: 0.5455 - val_loss: 1.3772 - val_accuracy: 0.4900\n",
      "Epoch 78/1000\n",
      "70/70 [==============================] - 0s 1ms/step - loss: 1.1784 - accuracy: 0.5515 - val_loss: 1.3753 - val_accuracy: 0.4900\n",
      "Epoch 79/1000\n",
      "70/70 [==============================] - 0s 1ms/step - loss: 1.1297 - accuracy: 0.5641 - val_loss: 1.3665 - val_accuracy: 0.4933\n",
      "Epoch 80/1000\n",
      "70/70 [==============================] - 0s 1ms/step - loss: 1.1589 - accuracy: 0.5635 - val_loss: 1.3731 - val_accuracy: 0.4900\n",
      "Epoch 81/1000\n",
      "70/70 [==============================] - 0s 1ms/step - loss: 1.1063 - accuracy: 0.5980 - val_loss: 1.3727 - val_accuracy: 0.4933\n",
      "Epoch 82/1000\n",
      "70/70 [==============================] - 0s 1ms/step - loss: 1.0893 - accuracy: 0.5741 - val_loss: 1.3699 - val_accuracy: 0.5033\n",
      "Epoch 83/1000\n",
      "70/70 [==============================] - 0s 1ms/step - loss: 1.1397 - accuracy: 0.5577 - val_loss: 1.3670 - val_accuracy: 0.4867\n",
      "Epoch 84/1000\n",
      "70/70 [==============================] - 0s 1ms/step - loss: 1.0692 - accuracy: 0.5757 - val_loss: 1.3581 - val_accuracy: 0.5033\n",
      "Epoch 85/1000\n",
      "70/70 [==============================] - 0s 1ms/step - loss: 1.1126 - accuracy: 0.5677 - val_loss: 1.3642 - val_accuracy: 0.4967\n",
      "Epoch 86/1000\n",
      "70/70 [==============================] - 0s 1ms/step - loss: 1.1262 - accuracy: 0.5768 - val_loss: 1.3591 - val_accuracy: 0.4867\n",
      "Epoch 87/1000\n",
      "70/70 [==============================] - 0s 1ms/step - loss: 1.0829 - accuracy: 0.6037 - val_loss: 1.3669 - val_accuracy: 0.5033\n",
      "Epoch 88/1000\n",
      "70/70 [==============================] - 0s 1ms/step - loss: 1.1092 - accuracy: 0.5819 - val_loss: 1.3589 - val_accuracy: 0.5000\n",
      "Epoch 89/1000\n",
      "70/70 [==============================] - 0s 1ms/step - loss: 1.1339 - accuracy: 0.5727 - val_loss: 1.3631 - val_accuracy: 0.4867\n",
      "Epoch 90/1000\n",
      "70/70 [==============================] - 0s 1ms/step - loss: 1.1115 - accuracy: 0.5609 - val_loss: 1.3655 - val_accuracy: 0.4967\n",
      "Epoch 91/1000\n",
      "70/70 [==============================] - 0s 1ms/step - loss: 1.1869 - accuracy: 0.5418 - val_loss: 1.3661 - val_accuracy: 0.4933\n",
      "Epoch 92/1000\n",
      "70/70 [==============================] - 0s 1ms/step - loss: 1.1098 - accuracy: 0.5685 - val_loss: 1.3747 - val_accuracy: 0.5000\n",
      "Epoch 93/1000\n",
      "70/70 [==============================] - 0s 1ms/step - loss: 1.1030 - accuracy: 0.5785 - val_loss: 1.3646 - val_accuracy: 0.4900\n",
      "Epoch 94/1000\n",
      "70/70 [==============================] - 0s 1ms/step - loss: 1.0818 - accuracy: 0.6018 - val_loss: 1.3628 - val_accuracy: 0.5000\n",
      "Epoch 95/1000\n",
      "70/70 [==============================] - 0s 1ms/step - loss: 1.0809 - accuracy: 0.5890 - val_loss: 1.3655 - val_accuracy: 0.5033\n",
      "Epoch 96/1000\n",
      "70/70 [==============================] - 0s 1ms/step - loss: 1.0533 - accuracy: 0.6206 - val_loss: 1.3668 - val_accuracy: 0.4967\n",
      "Epoch 97/1000\n",
      "70/70 [==============================] - 0s 1ms/step - loss: 1.0877 - accuracy: 0.5800 - val_loss: 1.3651 - val_accuracy: 0.5000\n",
      "Epoch 98/1000\n",
      "70/70 [==============================] - 0s 1ms/step - loss: 1.0747 - accuracy: 0.5811 - val_loss: 1.3562 - val_accuracy: 0.5100\n",
      "Epoch 99/1000\n",
      "70/70 [==============================] - 0s 1ms/step - loss: 1.0896 - accuracy: 0.5868 - val_loss: 1.3617 - val_accuracy: 0.5000\n",
      "Epoch 100/1000\n",
      "70/70 [==============================] - 0s 1ms/step - loss: 1.0261 - accuracy: 0.6155 - val_loss: 1.3599 - val_accuracy: 0.5000\n",
      "Epoch 101/1000\n",
      "70/70 [==============================] - 0s 1ms/step - loss: 1.0654 - accuracy: 0.6223 - val_loss: 1.3565 - val_accuracy: 0.4933\n",
      "Epoch 102/1000\n",
      "70/70 [==============================] - 0s 1ms/step - loss: 1.0531 - accuracy: 0.5940 - val_loss: 1.3695 - val_accuracy: 0.5133\n",
      "Epoch 103/1000\n",
      "70/70 [==============================] - 0s 1ms/step - loss: 1.0963 - accuracy: 0.5809 - val_loss: 1.3598 - val_accuracy: 0.4967\n",
      "Epoch 104/1000\n",
      "70/70 [==============================] - 0s 1ms/step - loss: 1.0749 - accuracy: 0.5572 - val_loss: 1.3580 - val_accuracy: 0.5000\n",
      "Epoch 105/1000\n",
      "70/70 [==============================] - 0s 1ms/step - loss: 1.0613 - accuracy: 0.6048 - val_loss: 1.3656 - val_accuracy: 0.4967\n",
      "Epoch 106/1000\n",
      "70/70 [==============================] - 0s 1ms/step - loss: 1.0530 - accuracy: 0.6035 - val_loss: 1.3622 - val_accuracy: 0.4967\n",
      "Epoch 107/1000\n",
      "70/70 [==============================] - 0s 1ms/step - loss: 1.0099 - accuracy: 0.6065 - val_loss: 1.3546 - val_accuracy: 0.5000\n",
      "Epoch 108/1000\n",
      "70/70 [==============================] - 0s 1ms/step - loss: 1.0612 - accuracy: 0.5999 - val_loss: 1.3669 - val_accuracy: 0.5033\n",
      "Epoch 109/1000\n",
      "70/70 [==============================] - 0s 1ms/step - loss: 1.0740 - accuracy: 0.5760 - val_loss: 1.3661 - val_accuracy: 0.5100\n",
      "Epoch 110/1000\n",
      "70/70 [==============================] - 0s 1ms/step - loss: 1.0740 - accuracy: 0.5847 - val_loss: 1.3662 - val_accuracy: 0.5033\n",
      "Epoch 111/1000\n",
      "70/70 [==============================] - 0s 1ms/step - loss: 1.0262 - accuracy: 0.6032 - val_loss: 1.3514 - val_accuracy: 0.5033\n",
      "Epoch 112/1000\n",
      "70/70 [==============================] - 0s 1ms/step - loss: 1.0191 - accuracy: 0.6023 - val_loss: 1.3597 - val_accuracy: 0.5133\n",
      "Epoch 113/1000\n",
      "70/70 [==============================] - 0s 1ms/step - loss: 1.0124 - accuracy: 0.6308 - val_loss: 1.3591 - val_accuracy: 0.5100\n",
      "Epoch 114/1000\n",
      "70/70 [==============================] - 0s 1ms/step - loss: 1.0177 - accuracy: 0.6042 - val_loss: 1.3604 - val_accuracy: 0.5067\n"
     ]
    },
    {
     "name": "stdout",
     "output_type": "stream",
     "text": [
      "Epoch 115/1000\n",
      "70/70 [==============================] - 0s 1ms/step - loss: 1.0249 - accuracy: 0.6251 - val_loss: 1.3608 - val_accuracy: 0.5000\n",
      "Epoch 116/1000\n",
      "70/70 [==============================] - 0s 1ms/step - loss: 1.0275 - accuracy: 0.5851 - val_loss: 1.3597 - val_accuracy: 0.5000\n",
      "Epoch 117/1000\n",
      "70/70 [==============================] - 0s 1ms/step - loss: 1.0332 - accuracy: 0.5942 - val_loss: 1.3562 - val_accuracy: 0.5067\n",
      "Epoch 118/1000\n",
      "70/70 [==============================] - 0s 1ms/step - loss: 1.0411 - accuracy: 0.6020 - val_loss: 1.3694 - val_accuracy: 0.5000\n",
      "Epoch 119/1000\n",
      "70/70 [==============================] - 0s 1ms/step - loss: 1.0163 - accuracy: 0.6153 - val_loss: 1.3602 - val_accuracy: 0.5067\n",
      "Epoch 120/1000\n",
      "70/70 [==============================] - 0s 1ms/step - loss: 1.0676 - accuracy: 0.6033 - val_loss: 1.3701 - val_accuracy: 0.5067\n",
      "Epoch 121/1000\n",
      "70/70 [==============================] - 0s 1ms/step - loss: 1.0050 - accuracy: 0.6116 - val_loss: 1.3640 - val_accuracy: 0.5000\n",
      "Epoch 122/1000\n",
      "70/70 [==============================] - 0s 1ms/step - loss: 1.0176 - accuracy: 0.5923 - val_loss: 1.3609 - val_accuracy: 0.5200\n",
      "Epoch 123/1000\n",
      "70/70 [==============================] - 0s 1ms/step - loss: 0.9941 - accuracy: 0.6138 - val_loss: 1.3629 - val_accuracy: 0.5133\n",
      "Epoch 124/1000\n",
      "70/70 [==============================] - 0s 1ms/step - loss: 1.0053 - accuracy: 0.6329 - val_loss: 1.3655 - val_accuracy: 0.5033\n",
      "Epoch 125/1000\n",
      "70/70 [==============================] - 0s 1ms/step - loss: 1.0283 - accuracy: 0.6015 - val_loss: 1.3747 - val_accuracy: 0.5000\n",
      "Epoch 126/1000\n",
      "70/70 [==============================] - 0s 1ms/step - loss: 0.9665 - accuracy: 0.6004 - val_loss: 1.3622 - val_accuracy: 0.5033\n",
      "Epoch 127/1000\n",
      "70/70 [==============================] - 0s 1ms/step - loss: 1.0450 - accuracy: 0.6022 - val_loss: 1.3695 - val_accuracy: 0.5100\n",
      "Epoch 128/1000\n",
      "70/70 [==============================] - 0s 1ms/step - loss: 0.9966 - accuracy: 0.6329 - val_loss: 1.3633 - val_accuracy: 0.5233\n",
      "Epoch 129/1000\n",
      "70/70 [==============================] - 0s 1ms/step - loss: 1.0585 - accuracy: 0.6091 - val_loss: 1.3807 - val_accuracy: 0.5000\n",
      "Epoch 130/1000\n",
      "70/70 [==============================] - 0s 1ms/step - loss: 0.9966 - accuracy: 0.6124 - val_loss: 1.3807 - val_accuracy: 0.5100\n",
      "Epoch 131/1000\n",
      "70/70 [==============================] - 0s 1ms/step - loss: 0.9334 - accuracy: 0.6583 - val_loss: 1.3729 - val_accuracy: 0.5067\n",
      "Epoch 132/1000\n",
      "70/70 [==============================] - 0s 1ms/step - loss: 1.0323 - accuracy: 0.6075 - val_loss: 1.3766 - val_accuracy: 0.5067\n",
      "Epoch 133/1000\n",
      "70/70 [==============================] - 0s 1ms/step - loss: 0.9827 - accuracy: 0.6366 - val_loss: 1.3742 - val_accuracy: 0.5133\n",
      "Epoch 134/1000\n",
      "70/70 [==============================] - 0s 1ms/step - loss: 0.9727 - accuracy: 0.6300 - val_loss: 1.3646 - val_accuracy: 0.5033\n",
      "Epoch 135/1000\n",
      "70/70 [==============================] - 0s 1ms/step - loss: 0.9718 - accuracy: 0.6338 - val_loss: 1.3748 - val_accuracy: 0.5200\n",
      "Epoch 136/1000\n",
      "70/70 [==============================] - 0s 1ms/step - loss: 0.9860 - accuracy: 0.6373 - val_loss: 1.3799 - val_accuracy: 0.5167\n",
      "Epoch 137/1000\n",
      "70/70 [==============================] - 0s 1ms/step - loss: 0.9752 - accuracy: 0.6340 - val_loss: 1.3826 - val_accuracy: 0.5133\n",
      "Epoch 138/1000\n",
      "70/70 [==============================] - 0s 1ms/step - loss: 1.0063 - accuracy: 0.6111 - val_loss: 1.3816 - val_accuracy: 0.5000\n",
      "Epoch 139/1000\n",
      "70/70 [==============================] - 0s 1ms/step - loss: 0.9594 - accuracy: 0.6298 - val_loss: 1.3763 - val_accuracy: 0.5133\n",
      "Epoch 140/1000\n",
      "70/70 [==============================] - 0s 1ms/step - loss: 1.0039 - accuracy: 0.5969 - val_loss: 1.3790 - val_accuracy: 0.5133\n",
      "Epoch 141/1000\n",
      "70/70 [==============================] - 0s 1ms/step - loss: 1.0094 - accuracy: 0.6130 - val_loss: 1.3976 - val_accuracy: 0.4967\n"
     ]
    }
   ],
   "source": [
    "from tensorflow.keras.datasets import mnist # mnist 데이터셋\n",
    "import tensorflow.keras.utils as utils # 원핫인코딩\n",
    "from tensorflow.keras.models import Sequential # 모델\n",
    "from tensorflow.keras.layers import Dense, Activation # model.add시\n",
    "from matplotlib import pyplot as plt\n",
    "import numpy as np\n",
    "np.random.seed(3)\n",
    "# 1. 데이터 셋\n",
    "# 훈련셋, 검증 셋 분리\n",
    "(X_train, Y_train), (X_test, Y_test) = mnist.load_data()\n",
    "# 훈련셋과 검증셋 분리(X_train, Y_train을 검증셋과 훈련셋으로 분리)\n",
    "X_val = X_train[50000:]\n",
    "Y_val = Y_train[50000:]\n",
    "X_train = X_train[:50000]\n",
    "Y_train = Y_train[:50000]\n",
    "# normalize 하기 위해 색상값으로 나눠\n",
    "X_train = X_train.reshape(50000,784).astype('float32') / 255.0\n",
    "X_val   = X_val.reshape(10000,784).astype('float32')/255.0\n",
    "X_test = X_test.reshape(10000,784).astype('float32')/255.0\n",
    "# 훈련셋과 검증셋 700개, 300개씩만 가져옴\n",
    "train_rand_idxs = np.random.choice(50000,700)\n",
    "val_rand_idxs   = np.random.choice(10000,300)\n",
    "X_train = X_train[train_rand_idxs]\n",
    "Y_train = Y_train[train_rand_idxs]\n",
    "X_val = X_val[val_rand_idxs]\n",
    "Y_val = Y_val[val_rand_idxs]\n",
    "# 원 핫 인코딩 = 라벨링 전환 \n",
    "Y_train = utils.to_categorical(Y_train)\n",
    "Y_val   = utils.to_categorical(Y_val)\n",
    "Y_test  = utils.to_categorical(Y_test)\n",
    "\n",
    "# 2. 모델 구성하기\n",
    "model = Sequential()\n",
    "model.add(Dense(units=2, input_dim=784, activation=\"relu\"))\n",
    "model.add(Dense(units=10, activation=\"softmax\"))\n",
    "\n",
    "# 3. 모델 학습과정 설정\n",
    "model.compile(loss=\"categorical_crossentropy\", optimizer=\"sgd\", \n",
    "              metrics=['accuracy'])\n",
    "\n",
    "# 4. 모델 학습시키기\n",
    "from tensorflow.keras.callbacks import EarlyStopping\n",
    "# early_stopping = EarlyStopping() # 성급한 조기 종료\n",
    "early_stopping = EarlyStopping(patience=30) # patience 인자 수만큼 loss가 오를 수 있음\n",
    "hist = model.fit(X_train, Y_train, epochs=1000, batch_size=10, \n",
    "                validation_data=(X_val, Y_val), verbose=1,\n",
    "                callbacks=[early_stopping])"
   ]
  },
  {
   "cell_type": "code",
   "execution_count": 20,
   "metadata": {},
   "outputs": [
    {
     "data": {
      "text/plain": [
       "<matplotlib.legend.Legend at 0x2dcaa14e0a0>"
      ]
     },
     "execution_count": 20,
     "metadata": {},
     "output_type": "execute_result"
    },
    {
     "data": {
      "image/png": "[encoded data removed]",
      "text/plain": [
       "<Figure size 432x288 with 2 Axes>"
      ]
     },
     "metadata": {
      "needs_background": "light"
     },
     "output_type": "display_data"
    }
   ],
   "source": [
    "# 학습과정 표시하기\n",
    "fig, loss_ax = plt.subplots()\n",
    "loss_ax.plot(hist.history['loss'], 'y', label=\"train loss\")\n",
    "loss_ax.plot(hist.history['val_loss'], 'g', label=\"val loss\")\n",
    "loss_ax.set_xlabel(\"epochs\")\n",
    "loss_ax.set_ylabel(\"loss\")\n",
    "\n",
    "acc_ax = loss_ax.twinx() # x축 공유하는 acc_ax\n",
    "acc_ax.plot(hist.history['accuracy'], 'b', label=\"train accuracy\")\n",
    "acc_ax.plot(hist.history['val_accuracy'], 'r', label=\"val accuracy\")\n",
    "acc_ax.set_ylabel(\"accuracy\")\n",
    "\n",
    "loss_ax.legend(loc=\"upper left\")\n",
    "acc_ax.legend(loc=\"lower left\")\n",
    "\n",
    "#너무 조기종료되었을 가능성도있다."
   ]
  },
  {
   "cell_type": "code",
   "execution_count": 39,
   "metadata": {},
   "outputs": [
    {
     "name": "stdout",
     "output_type": "stream",
     "text": [
      "313/313 [==============================] - 0s 873us/step - loss: 1.4212 - accuracy: 0.4987\n",
      "\n",
      "loss_and_metrics : [1.421190619468689, 0.49869999289512634]\n"
     ]
    }
   ],
   "source": [
    "# 6. 모델 평가하기\n",
    "loss_and_metrics = model.evaluate(X_test, Y_test, batch_size=32)\n",
    "print()\n",
    "print('loss_and_metrics :', loss_and_metrics)"
   ]
  },
  {
   "cell_type": "code",
   "execution_count": 40,
   "metadata": {},
   "outputs": [],
   "source": [
    "# 7. 모델 사용하기\n",
    "idx=np.random.choice(X_test.shape[0],5)"
   ]
  },
  {
   "cell_type": "code",
   "execution_count": 41,
   "metadata": {},
   "outputs": [
    {
     "data": {
      "text/plain": [
       "array([[0., 0., 0., ..., 0., 0., 0.],\n",
       "       [0., 0., 0., ..., 0., 0., 0.],\n",
       "       [0., 0., 0., ..., 0., 0., 0.],\n",
       "       [0., 0., 0., ..., 0., 0., 0.],\n",
       "       [0., 0., 0., ..., 0., 0., 0.]], dtype=float32)"
      ]
     },
     "execution_count": 41,
     "metadata": {},
     "output_type": "execute_result"
    }
   ],
   "source": [
    "xhat=X_test[idx]\n",
    "xhat"
   ]
  },
  {
   "cell_type": "code",
   "execution_count": 42,
   "metadata": {},
   "outputs": [
    {
     "data": {
      "text/plain": [
       "array([4, 1, 7, 6, 8], dtype=int64)"
      ]
     },
     "execution_count": 42,
     "metadata": {},
     "output_type": "execute_result"
    }
   ],
   "source": [
    "np.argmax(Y_test[idx],axis=1) #실제값"
   ]
  },
  {
   "cell_type": "code",
   "execution_count": 43,
   "metadata": {},
   "outputs": [
    {
     "data": {
      "text/plain": [
       "array([4, 1, 0, 6, 8], dtype=int64)"
      ]
     },
     "execution_count": 43,
     "metadata": {},
     "output_type": "execute_result"
    }
   ],
   "source": [
    "yhat=model.predict(xhat) \n",
    "yhat=np.argmax(yhat,axis=1)\n",
    "yhat"
   ]
  },
  {
   "cell_type": "code",
   "execution_count": 44,
   "metadata": {},
   "outputs": [
    {
     "name": "stdout",
     "output_type": "stream",
     "text": [
      "0 번째 실제값 : 4 \t예측값 : 4\n",
      "1 번째 실제값 : 1 \t예측값 : 1\n",
      "2 번째 실제값 : 7 \t예측값 : 0\n",
      "3 번째 실제값 : 6 \t예측값 : 6\n",
      "4 번째 실제값 : 8 \t예측값 : 8\n"
     ]
    }
   ],
   "source": [
    "for i in range(5):\n",
    "    print(i,\"번째 실제값 :\", np.argmax(Y_test[idx[i]]), \"\\t예측값 :\",\n",
    "         yhat[i])"
   ]
  },
  {
   "cell_type": "code",
   "execution_count": 45,
   "metadata": {},
   "outputs": [],
   "source": [
    "# 8. 모델 저장하기\n",
    "model.save('model.mnist.h5')"
   ]
  },
  {
   "cell_type": "code",
   "execution_count": 46,
   "metadata": {},
   "outputs": [
    {
     "name": "stdout",
     "output_type": "stream",
     "text": [
      "WARNING:tensorflow:5 out of the last 10 calls to <function Model.make_predict_function.<locals>.predict_function at 0x000002DCABD54670> triggered tf.function retracing. Tracing is expensive and the excessive number of tracings could be due to (1) creating @tf.function repeatedly in a loop, (2) passing tensors with different shapes, (3) passing Python objects instead of tensors. For (1), please define your @tf.function outside of the loop. For (2), @tf.function has experimental_relax_shapes=True option that relaxes argument shapes that can avoid unnecessary retracing. For (3), please refer to https://www.tensorflow.org/guide/function#controlling_retracing and https://www.tensorflow.org/api_docs/python/tf/function for  more details.\n"
     ]
    },
    {
     "data": {
      "text/plain": [
       "array([4, 1, 8, 1, 9], dtype=int64)"
      ]
     },
     "execution_count": 46,
     "metadata": {},
     "output_type": "execute_result"
    }
   ],
   "source": [
    "# 9. 모델 재사용하기\n",
    "from tensorflow.keras.models import load_model\n",
    "model2 = load_model(\"model/mnist.h5\")\n",
    "model2.predict_classes(xhat)"
   ]
  },
  {
   "cell_type": "code",
   "execution_count": null,
   "metadata": {},
   "outputs": [],
   "source": []
  },
  {
   "cell_type": "markdown",
   "metadata": {},
   "source": [
    "# 위 모델(DNN)의 accuracy 늘리기\n",
    "- 데이터 확보\n",
    "- 레이어 층 잘 쌓기 \n",
    "- 활성화 함수 : relu(은닉층은 주로 relu. elu도 가끔 사용)\n",
    "    - output lay에서는 sigmoid(이진분류), softmax(다중분류\n",
    "- optimizer, epoch조정"
   ]
  },
  {
   "cell_type": "code",
   "execution_count": null,
   "metadata": {},
   "outputs": [],
   "source": [
    "from tensorflow.keras.datasets import mnist # mnist 데이터셋\n",
    "import tensorflow.keras.utils as utils # 원핫인코딩\n",
    "from tensorflow.keras.models import Sequential # 모델\n",
    "from tensorflow.keras.layers import Dense, Activation # model.add시\n",
    "from matplotlib import pyplot as plt\n",
    "import numpy as np\n",
    "np.random.seed(3)\n",
    "# 1. 데이터 셋\n",
    "# 훈련셋, 검증 셋 분리\n",
    "(X_train, Y_train), (X_test, Y_test) = mnist.load_data()\n",
    "# 훈련셋과 검증셋 분리(X_train, Y_train을 검증셋과 훈련셋으로 분리)\n",
    "X_val = X_train[50000:]\n",
    "Y_val = Y_train[50000:]\n",
    "X_train = X_train[:50000]\n",
    "Y_train = Y_train[:50000]\n",
    "# normalize 하기 위해 색상값으로 나눠\n",
    "X_train = X_train.reshape(50000,784).astype('float32') / 255.0\n",
    "X_val   = X_val.reshape(10000,784).astype('float32')/255.0\n",
    "X_test = X_test.reshape(10000,784).astype('float32')/255.0\n",
    "# 수를 늘리기 위해 세트 수 줄이는 걸 없앤다\n",
    "#train_rand_idxs = np.random.choice(50000,700)\n",
    "#val_rand_idxs   = np.random.choice(10000,300)\n",
    "#X_train = X_train[train_rand_idxs]\n",
    "#Y_train = Y_train[train_rand_idxs]\n",
    "#X_val = X_val[val_rand_idxs]\n",
    "#Y_val = Y_val[val_rand_idxs]\n",
    "# 원 핫 인코딩 = 라벨링 전환 \n",
    "Y_train = utils.to_categorical(Y_train)\n",
    "Y_val   = utils.to_categorical(Y_val)\n",
    "Y_test  = utils.to_categorical(Y_test)\n",
    "\n",
    "# 2. 모델 구성하기\n",
    "model = Sequential()\n",
    "model.add(Dense(units=512, input_dim=784, activation=\"relu\"))\n",
    "model.add(Dense(units=1024, activation=\"relu\"))\n",
    "model.add(Dense(units=256, activation=\"relu\"))\n",
    "model.add(Dense(units=10, activation=\"softmax\"))\n",
    "\n",
    "# 3. 모델 학습과정 설정\n",
    "model.compile(loss=\"categorical_crossentropy\", optimizer=\"sgd\", \n",
    "              metrics=['accuracy'])\n",
    "\n",
    "# 4. 모델 학습시키기\n",
    "from tensorflow.keras.callbacks import EarlyStopping\n",
    "# early_stopping = EarlyStopping() # 성급한 조기 종료\n",
    "early_stopping = EarlyStopping(patience=20) # patience 인자 수만큼 loss가 오를 수 있음\n",
    "hist = model.fit(X_train, Y_train, epochs=300, batch_size=10, \n",
    "                validation_data=(X_val, Y_val), verbose=1,\n",
    "                callbacks=[early_stopping])"
   ]
  },
  {
   "cell_type": "code",
   "execution_count": null,
   "metadata": {},
   "outputs": [],
   "source": []
  },
  {
   "cell_type": "code",
   "execution_count": null,
   "metadata": {},
   "outputs": [],
   "source": []
  },
  {
   "cell_type": "code",
   "execution_count": null,
   "metadata": {},
   "outputs": [],
   "source": []
  },
  {
   "cell_type": "code",
   "execution_count": null,
   "metadata": {},
   "outputs": [],
   "source": []
  }
 ],
 "metadata": {
  "kernelspec": {
   "display_name": "Python 3",
   "language": "python",
   "name": "python3"
  },
  "language_info": {
   "codemirror_mode": {
    "name": "ipython",
    "version": 3
   },
   "file_extension": ".py",
   "mimetype": "text/x-python",
   "name": "python",
   "nbconvert_exporter": "python",
   "pygments_lexer": "ipython3",
   "version": "3.8.5"
  },
  "toc": {
   "base_numbering": 1,
   "nav_menu": {},
   "number_sections": true,
   "sideBar": true,
   "skip_h1_title": false,
   "title_cell": "Table of Contents",
   "title_sidebar": "Contents",
   "toc_cell": false,
   "toc_position": {},
   "toc_section_display": true,
   "toc_window_display": false
  },
  "varInspector": {
   "cols": {
    "lenName": 16,
    "lenType": 16,
    "lenVar": 40
   },
   "kernels_config": {
    "python": {
     "delete_cmd_postfix": "",
     "delete_cmd_prefix": "del ",
     "library": "var_list.py",
     "varRefreshCmd": "print(var_dic_list())"
    },
    "r": {
     "delete_cmd_postfix": ") ",
     "delete_cmd_prefix": "rm(",
     "library": "var_list.r",
     "varRefreshCmd": "cat(var_dic_list()) "
    }
   },
   "types_to_exclude": [
    "module",
    "function",
    "builtin_function_or_method",
    "instance",
    "_Feature"
   ],
   "window_display": false
  }
 },
 "nbformat": 4,
 "nbformat_minor": 4
}
