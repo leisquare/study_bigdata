{
 "cells": [
  {
   "cell_type": "markdown",
   "metadata": {},
   "source": [
    "# 1. Tensorflow v2.x에서 v1버전 사용하기"
   ]
  },
  {
   "cell_type": "code",
   "execution_count": 1,
   "metadata": {},
   "outputs": [
    {
     "data": {
      "text/plain": [
       "'2.4.1'"
      ]
     },
     "execution_count": 1,
     "metadata": {},
     "output_type": "execute_result"
    }
   ],
   "source": [
    "import tensorflow as tf\n",
    "tf.__version__"
   ]
  },
  {
   "cell_type": "code",
   "execution_count": 2,
   "metadata": {},
   "outputs": [
    {
     "name": "stdout",
     "output_type": "stream",
     "text": [
      "WARNING:tensorflow:From C:\\Users\\tjoeun\\anaconda3\\lib\\site-packages\\tensorflow\\python\\compat\\v2_compat.py:96: disable_resource_variables (from tensorflow.python.ops.variable_scope) is deprecated and will be removed in a future version.\n",
      "Instructions for updating:\n",
      "non-resource variables are not supported in the long term\n"
     ]
    }
   ],
   "source": [
    "import tensorflow.compat.v1 as tf\n",
    "tf.disable_v2_behavior()\n",
    "#경고는 나오지만 그냥 실행합시다.\n",
    "#버전 2를 비활성화했으니 1로 사용 가능해졌다!\n"
   ]
  },
  {
   "cell_type": "code",
   "execution_count": 3,
   "metadata": {},
   "outputs": [
    {
     "name": "stdout",
     "output_type": "stream",
     "text": [
      "b'Hello,Tensorflow'\n",
      "Hello,Tensorflow\n"
     ]
    }
   ],
   "source": [
    "#tensor = data, 연산. 데이터는 상수일수도, 변수일수도 있다.\n",
    "# node1 상수 tensor 선언\n",
    "node1=tf.constant(\"Hello,Tensorflow\")\n",
    "#graph(computational graph를 생성)\n",
    "sess=tf.Session()\n",
    "#print(nodel)\n",
    "print(sess.run(node1)) # b가 의미하는 것은 byte literals\n",
    "# http://stackoverflow.com/questions/6269765\n",
    "print(sess.run(node1).decode())"
   ]
  },
  {
   "cell_type": "code",
   "execution_count": 4,
   "metadata": {},
   "outputs": [
    {
     "name": "stdout",
     "output_type": "stream",
     "text": [
      "[10.0, 20.0, 30.0]\n"
     ]
    }
   ],
   "source": [
    "# 간단한 수학 연산 수행(computational graph)\n",
    "node1 = tf.constant(10, dtype=tf.float32)\n",
    "node2 = tf.constant(20, dtype=tf.float32)\n",
    "# node3 = node1 + node2\n",
    "node3 = tf.add(node1, node2)\n",
    "# computational graph 실행\n",
    "sess = tf.Session()\n",
    "print(sess.run([node1, node2, node3]))"
   ]
  },
  {
   "cell_type": "markdown",
   "metadata": {},
   "source": [
    "# tensorflow\n",
    "- 그래프 정의\n",
    "- tf.Session()을 실행\n",
    "- sess.run()을 통해 값을 확인할 수 있음."
   ]
  },
  {
   "cell_type": "code",
   "execution_count": 5,
   "metadata": {},
   "outputs": [
    {
     "name": "stdout",
     "output_type": "stream",
     "text": [
      "[1 2 3]\n",
      "[1. 2. 3.]\n"
     ]
    }
   ],
   "source": [
    "import numpy as np\n",
    "node1 = tf.constant(np.array([1,2,3]), dtype=tf.int16)\n",
    "node2 = tf.cast(node1, dtype=tf.float32)\n",
    "sess = tf.Session()\n",
    "print(sess.run(node1))\n",
    "print(sess.run(node2))"
   ]
  },
  {
   "cell_type": "code",
   "execution_count": 6,
   "metadata": {},
   "outputs": [
    {
     "name": "stdout",
     "output_type": "stream",
     "text": [
      "2.5\n"
     ]
    }
   ],
   "source": [
    "data = [1.,2.,3.,4.]\n",
    "m = tf.reduce_mean(data) # reduce_mean 평균값 연산\n",
    "sess = tf.Session()\n",
    "print(sess.run(m))"
   ]
  },
  {
   "cell_type": "markdown",
   "metadata": {},
   "source": [
    "#  v1을 이용한 linear regression을 구현"
   ]
  },
  {
   "cell_type": "markdown",
   "metadata": {},
   "source": [
    "## 2.1 독립변수 x가 한개"
   ]
  },
  {
   "cell_type": "code",
   "execution_count": 7,
   "metadata": {},
   "outputs": [
    {
     "name": "stdout",
     "output_type": "stream",
     "text": [
      "200번째 cost:0.010188550688326359, W값:[0.8830482], b값:[0.265859]\n",
      "400번째 cost:0.0038904882967472076, W값:[0.9277309], b값:[0.16428469]\n",
      "600번째 cost:0.0014855748740956187, W값:[0.9553421], b값:[0.10151782]\n",
      "800번째 cost:0.0005672649131156504, W값:[0.9724042], b값:[0.06273179]\n",
      "1000번째 cost:0.00021660754282493144, W값:[0.98294747], b값:[0.03876433]\n",
      "1200번째 cost:8.271255501313135e-05, W값:[0.98946244], b값:[0.02395406]\n",
      "1400번째 cost:3.1582963856635615e-05, W값:[0.99348855], b값:[0.01480209]\n",
      "1600번째 cost:1.2060066183039453e-05, W값:[0.9959763], b값:[0.00914677]\n",
      "1800번째 cost:4.604971309163375e-06, W값:[0.9975136], b값:[0.00565213]\n",
      "2000번째 cost:1.7584810620974167e-06, W값:[0.9984635], b값:[0.00349271]\n",
      "2200번째 cost:6.716065854561748e-07, W값:[0.99905044], b값:[0.00215845]\n",
      "2400번째 cost:2.565503791629453e-07, W값:[0.9994131], b값:[0.0013341]\n",
      "2600번째 cost:9.8066465170632e-08, W값:[0.9996371], b값:[0.00082484]\n",
      "2800번째 cost:3.752963095848827e-08, W값:[0.9997754], b값:[0.00051015]\n",
      "3000번째 cost:1.4369356371446429e-08, W값:[0.9998611], b값:[0.0003158]\n",
      "3200번째 cost:5.5110778163225405e-09, W값:[0.99991393], b값:[0.00019557]\n",
      "3400번째 cost:2.1225585733475327e-09, W값:[0.9999465], b값:[0.00012129]\n",
      "3600번째 cost:8.142713170400384e-10, W값:[0.9999669], b값:[7.5082e-05]\n",
      "3800번째 cost:3.192312247879414e-10, W값:[0.9999795], b값:[4.706821e-05]\n",
      "4000번째 cost:1.1734023475096222e-10, W값:[0.9999874], b값:[2.8583154e-05]\n",
      "4200번째 cost:4.6769383504896567e-11, W값:[0.99999195], b값:[1.8014396e-05]\n",
      "4400번째 cost:2.079068341098722e-11, W값:[0.9999946], b값:[1.19844435e-05]\n",
      "4600번째 cost:1.0831627261786991e-11, W값:[0.999996], b값:[8.553058e-06]\n",
      "4800번째 cost:6.576293763022045e-12, W값:[0.9999969], b값:[6.6052403e-06]\n",
      "5000번째 cost:4.6588206382980335e-12, W값:[0.9999974], b값:[5.510808e-06]\n",
      "5200번째 cost:3.800521095748133e-12, W값:[0.9999976], b값:[4.8709685e-06]\n",
      "5400번째 cost:3.2466893756799564e-12, W값:[0.99999774], b값:[4.5478346e-06]\n",
      "5600번째 cost:3.243234023356245e-12, W값:[0.99999774], b값:[4.4912313e-06]\n",
      "5800번째 cost:3.243232722313638e-12, W값:[0.99999774], b값:[4.4902354e-06]\n",
      "6000번째 cost:3.243232722313638e-12, W값:[0.99999774], b값:[4.4902276e-06]\n"
     ]
    }
   ],
   "source": [
    "# tensor graph 정의\n",
    "\n",
    "# train data set\n",
    "# x = np.array([1,2,3])\n",
    "# y = np.array([1,2,3])\n",
    "x = [1,2,3]\n",
    "y = [1,2,3]\n",
    "\n",
    "#Weight & Bias (처음에는 랜덤값을 셋팅했다가 학습과정에서 변경)\n",
    "W = tf.Variable(tf.random.normal([1]), name=\"weight\")\n",
    "b = tf.Variable(tf.random.normal([1]), name=\"bias\")\n",
    "\n",
    "# Hypothesis\n",
    "H = W*x + b\n",
    "\n",
    "# cost function(최소제곱법)\n",
    "cost = tf.reduce_mean(tf.square(H - y))\n",
    "\n",
    "# 우리의 목적은 cost함수가 최소가 되는 W와 b를 찾는 것\n",
    "'''\n",
    "cost함수는 제곱의 평균인 2차 함수이므로 곡선. 곡선위 미분값이 줄어드는 방향으로 학습\n",
    "'''\n",
    "optimizer = tf.train.GradientDescentOptimizer(learning_rate=0.01)\n",
    "train = optimizer.minimize(cost)\n",
    "\n",
    "# Session \n",
    "sess = tf.Session()\n",
    "\n",
    "# Variable 노드 초기화\n",
    "sess.run(tf.global_variables_initializer())\n",
    "\n",
    "# 6000번 학습 (tensorflow v2. fit()함수)\n",
    "'''\n",
    "for step in range(1, 6001):\n",
    "    sess.run(train)\n",
    "    if step%300 == 0:\n",
    "        print(\"{}번째 cost:{}, W값:{}, b값:{}\".format(step, \n",
    "                        sess.run(cost), sess.run(W), sess.run(b)))\n",
    "'''\n",
    "for step in range(1, 6001):\n",
    "    _, cost_val, W_val, b_val = sess.run([train, cost, W, b])\n",
    "    if step%200 == 0:\n",
    "        print(\"{}번째 cost:{}, W값:{}, b값:{}\".format(step,\n",
    "                        cost_val, W_val, b_val))"
   ]
  },
  {
   "cell_type": "code",
   "execution_count": 8,
   "metadata": {},
   "outputs": [
    {
     "data": {
      "text/plain": [
       "[array([0.99999774], dtype=float32), array([4.4902276e-06], dtype=float32)]"
      ]
     },
     "execution_count": 8,
     "metadata": {},
     "output_type": "execute_result"
    }
   ],
   "source": [
    "sess.run([W,b])"
   ]
  },
  {
   "cell_type": "code",
   "execution_count": 9,
   "metadata": {},
   "outputs": [],
   "source": [
    "w_, b_ = sess.run([W,b])"
   ]
  },
  {
   "cell_type": "code",
   "execution_count": 10,
   "metadata": {},
   "outputs": [
    {
     "name": "stdout",
     "output_type": "stream",
     "text": [
      "최종적으로 나온 회귀식 : H=0.9999977350234985*x + 4.490227638598299e-06\n"
     ]
    }
   ],
   "source": [
    "print(\"최종적으로 나온 회귀식 : H={}*x + {}\".format(w_[0], b_[0]))"
   ]
  },
  {
   "cell_type": "code",
   "execution_count": 11,
   "metadata": {},
   "outputs": [
    {
     "name": "stdout",
     "output_type": "stream",
     "text": [
      "1번째 cost:3.243232722313638e-12, W값:100.0, b값:0.9731490612030029\n",
      "201번째 cost:3.243232722313638e-12, W값:10.697290420532227, b값:-22.044218063354492\n",
      "401번째 cost:3.243232722313638e-12, W값:6.992336273193359, b값:-13.621989250183105\n",
      "601번째 cost:3.243232722313638e-12, W값:4.702901840209961, b값:-8.417566299438477\n",
      "801번째 cost:3.243232722313638e-12, W값:3.2881667613983154, b값:-5.201540470123291\n",
      "1001번째 cost:3.243232722313638e-12, W값:2.4139480590820312, b값:-3.2142364978790283\n",
      "1201번째 cost:3.243232722313638e-12, W값:1.8737339973449707, b값:-1.9862028360366821\n",
      "1401번째 cost:3.243232722313638e-12, W값:1.5399144887924194, b값:-1.2273527383804321\n",
      "1601번째 cost:3.243232722313638e-12, W값:1.3336344957351685, b값:-0.7584295272827148\n",
      "1801번째 cost:3.243232722313638e-12, W값:1.2061657905578613, b값:-0.46866321563720703\n",
      "2001번째 cost:3.243232722313638e-12, W값:1.127397894859314, b값:-0.28960514068603516\n",
      "2201번째 cost:3.243232722313638e-12, W값:1.0787240266799927, b값:-0.17895829677581787\n",
      "2401번째 cost:3.243232722313638e-12, W값:1.0486469268798828, b값:-0.11058565229177475\n",
      "2601번째 cost:3.243232722313638e-12, W값:1.0300607681274414, b값:-0.0683353915810585\n",
      "2801번째 cost:3.243232722313638e-12, W값:1.0185757875442505, b값:-0.04222707450389862\n",
      "3001번째 cost:3.243232722313638e-12, W값:1.0114786624908447, b값:-0.026093697175383568\n",
      "3201번째 cost:3.243232722313638e-12, W값:1.0070931911468506, b값:-0.01612435095012188\n",
      "3401번째 cost:3.243232722313638e-12, W값:1.0043830871582031, b값:-0.00996391475200653\n",
      "3601번째 cost:3.243232722313638e-12, W값:1.0027086734771729, b값:-0.006157306954264641\n",
      "3801번째 cost:3.243232722313638e-12, W값:1.0016740560531616, b값:-0.0038052403833717108\n"
     ]
    }
   ],
   "source": [
    "# tensor graph 정의\n",
    "\n",
    "# train data set\n",
    "# x = np.array([1,2,3])\n",
    "# y = np.array([1,2,3])\n",
    "x = [1,2,3]\n",
    "y = [1,2,3]\n",
    "\n",
    "#Weight & Bias (처음에는 랜덤값을 셋팅했다가 학습과정에서 변경)\n",
    "W = tf.Variable(100.0, name=\"weight\")\n",
    "b = tf.Variable(tf.random.normal([1]), name=\"bias\")\n",
    "\n",
    "# Hypothesis\n",
    "H = W*x + b\n",
    "\n",
    "# cost function(최소제곱법)\n",
    "cost = tf.reduce_mean(tf.square(H - y))\n",
    "\n",
    "# 우리의 목적은 cost함수가 최소가 되는 W와 b를 찾는 것\n",
    "'''\n",
    "cost함수는 제곱의 평균인 2차 함수이므로 곡선. 곡선위 미분값이 줄어드는 방향으로 학습\n",
    "'''\n",
    "optimizer = tf.train.GradientDescentOptimizer(learning_rate=0.01)\n",
    "train = optimizer.minimize(cost)\n",
    "\n",
    "# Session \n",
    "sess = tf.Session()\n",
    "\n",
    "# Variable 노드 초기화\n",
    "sess.run(tf.global_variables_initializer())\n",
    "\n",
    "# 4000번 학습 (tensorflow v2. fit()함수)\n",
    "for step in range(1, 4001):\n",
    "    W_val, b_val = sess.run([W, b])\n",
    "    if step%200 == 1:\n",
    "        print(\"{}번째 cost:{}, W값:{}, b값:{}\".format(step,\n",
    "                        cost_val, W_val, b_val[0]))\n",
    "    sess.run(train)"
   ]
  },
  {
   "cell_type": "markdown",
   "metadata": {},
   "source": [
    "## 2.1 predict를 하기 위한 placeholder 노드"
   ]
  },
  {
   "cell_type": "code",
   "execution_count": 12,
   "metadata": {},
   "outputs": [
    {
     "data": {
      "text/plain": [
       "30.0"
      ]
     },
     "execution_count": 12,
     "metadata": {},
     "output_type": "execute_result"
    }
   ],
   "source": [
    "# placeholder 이용\n",
    "a = tf.placeholder(tf.float32)\n",
    "b = tf.placeholder(tf.float32)\n",
    "#ab = tf.add(a+b)\n",
    "ab = a + b\n",
    "sess = tf.Session()\n",
    "sess.run(ab, feed_dict={a:10, b:20})"
   ]
  },
  {
   "cell_type": "code",
   "execution_count": 13,
   "metadata": {},
   "outputs": [
    {
     "data": {
      "text/plain": [
       "array([11., 12., 13.], dtype=float32)"
      ]
     },
     "execution_count": 13,
     "metadata": {},
     "output_type": "execute_result"
    }
   ],
   "source": [
    "sess.run(ab, feed_dict={a : [1,2,3],\n",
    "                        b : [10,10,10]})"
   ]
  },
  {
   "cell_type": "code",
   "execution_count": 14,
   "metadata": {},
   "outputs": [
    {
     "data": {
      "text/plain": [
       "array([11., 12., 13.], dtype=float32)"
      ]
     },
     "execution_count": 14,
     "metadata": {},
     "output_type": "execute_result"
    }
   ],
   "source": [
    "sess.run(ab, feed_dict={a : np.array([1,2,3]),\n",
    "                        b : np.array([10,10,10])})"
   ]
  },
  {
   "cell_type": "code",
   "execution_count": 15,
   "metadata": {},
   "outputs": [
    {
     "name": "stdout",
     "output_type": "stream",
     "text": [
      "200번째:cost-0.36940088868141174, W-[2.704206], b-[1.3991745]\n",
      "400번째:cost-0.14105521142482758, W-[2.4351566], b-[2.010787]\n",
      "600번째:cost-0.053862065076828, W-[2.2689006], b-[2.3887255]\n",
      "800번째:cost-0.020567193627357483, W-[2.1661646], b-[2.622269]\n",
      "1000번째:cost-0.007853571325540543, W-[2.1026797], b-[2.766585]\n",
      "1200번째:cost-0.002998870564624667, W-[2.0634496], b-[2.8557642]\n",
      "1400번째:cost-0.0011451252503320575, W-[2.0392082], b-[2.9108706]\n",
      "1600번째:cost-0.0004372670082375407, W-[2.0242286], b-[2.944923]\n",
      "1800번째:cost-0.00016697606770321727, W-[2.014972], b-[2.9659653]\n",
      "2000번째:cost-6.376473174896091e-05, W-[2.0092518], b-[2.9789684]\n",
      "2200번째:cost-2.434770249237772e-05, W-[2.005717], b-[2.987004]\n",
      "2400번째:cost-9.298728400608525e-06, W-[2.0035334], b-[2.9919684]\n",
      "2600번째:cost-3.5519244647730375e-06, W-[2.0021842], b-[2.9950356]\n",
      "2800번째:cost-1.358426402475743e-06, W-[2.0013504], b-[2.9969301]\n",
      "3000번째:cost-5.19796856224275e-07, W-[2.0008357], b-[2.9981005]\n",
      "3200번째:cost-1.9955200514232274e-07, W-[2.0005183], b-[2.9988232]\n",
      "3400번째:cost-7.652162281601704e-08, W-[2.0003211], b-[2.9992712]\n",
      "3600번째:cost-2.9765715225948952e-08, W-[2.0002005], b-[2.9995458]\n",
      "3800번째:cost-1.1620310935711586e-08, W-[2.0001254], b-[2.999716]\n",
      "4000번째:cost-4.665404507164794e-09, W-[2.0000784], b-[2.99982]\n",
      "4200번째:cost-1.8624177755555138e-09, W-[2.00005], b-[2.9998863]\n",
      "4400번째:cost-6.410421637959018e-10, W-[2.0000296], b-[2.999934]\n",
      "4600번째:cost-4.848364487664014e-10, W-[2.000026], b-[2.999942]\n",
      "4800번째:cost-4.848364487664014e-10, W-[2.000026], b-[2.999942]\n",
      "5000번째:cost-4.848364487664014e-10, W-[2.000026], b-[2.999942]\n",
      "5200번째:cost-4.848364487664014e-10, W-[2.000026], b-[2.999942]\n",
      "5400번째:cost-4.848364487664014e-10, W-[2.000026], b-[2.999942]\n",
      "5600번째:cost-4.848364487664014e-10, W-[2.000026], b-[2.999942]\n",
      "5800번째:cost-4.848364487664014e-10, W-[2.000026], b-[2.999942]\n",
      "6000번째:cost-4.848364487664014e-10, W-[2.000026], b-[2.999942]\n"
     ]
    }
   ],
   "source": [
    "# training data set (H = 2x + 3)\n",
    "x_data = [1, 2, 3]\n",
    "y_data = [5, 7, 9]\n",
    "\n",
    "# placeholder 설정\n",
    "x = tf.placeholder(dtype=tf.float32)\n",
    "y = tf.placeholder(dtype=tf.float32)\n",
    "\n",
    "# Weight & bias\n",
    "W = tf.Variable(tf.random_normal([1]), name=\"weight\")\n",
    "b = tf.Variable(tf.random_normal([1]), name=\"bias\")\n",
    "# Hypothesis\n",
    "H = W*x + b\n",
    "\n",
    "# cost function\n",
    "cost = tf.reduce_mean(tf.square(H - y))\n",
    "\n",
    "# 경사하강법\n",
    "optimizer = tf.train.GradientDescentOptimizer(learning_rate=0.01)\n",
    "train = optimizer.minimize(cost)\n",
    "\n",
    "# Session & Variable 초기화\n",
    "sess = tf.Session()\n",
    "sess.run(tf.global_variables_initializer())\n",
    "# 학습\n",
    "for step in range(1, 6001):\n",
    "    _, cost_val, W_val, b_val = sess.run([train, cost, W, b], \n",
    "                                feed_dict={x:x_data, y:y_data})\n",
    "    if step%200==0:\n",
    "        print(\"{}번째:cost-{}, W-{}, b-{}\".format(step, \n",
    "                                                cost_val, W_val, b_val))"
   ]
  },
  {
   "cell_type": "code",
   "execution_count": 16,
   "metadata": {},
   "outputs": [
    {
     "data": {
      "text/plain": [
       "[array([2.000026], dtype=float32), array([2.999942], dtype=float32)]"
      ]
     },
     "execution_count": 16,
     "metadata": {},
     "output_type": "execute_result"
    }
   ],
   "source": [
    "sess.run([W, b])"
   ]
  },
  {
   "cell_type": "code",
   "execution_count": 17,
   "metadata": {},
   "outputs": [
    {
     "data": {
      "text/plain": [
       "array([13.000072], dtype=float32)"
      ]
     },
     "execution_count": 17,
     "metadata": {},
     "output_type": "execute_result"
    }
   ],
   "source": [
    "# 예측해보기(predict)\n",
    "sess.run(H, feed_dict={x:5})"
   ]
  },
  {
   "cell_type": "code",
   "execution_count": 18,
   "metadata": {},
   "outputs": [
    {
     "data": {
      "text/plain": [
       "array([ 4.999968, 23.000202, 43.00046 ], dtype=float32)"
      ]
     },
     "execution_count": 18,
     "metadata": {},
     "output_type": "execute_result"
    }
   ],
   "source": [
    "sess.run(H, feed_dict={x: np.array([1,10,20])})"
   ]
  },
  {
   "cell_type": "markdown",
   "metadata": {},
   "source": [
    "## 2.2 scale이 다른 데이터들의 linear regression을 구현"
   ]
  },
  {
   "cell_type": "code",
   "execution_count": 19,
   "metadata": {},
   "outputs": [
    {
     "name": "stdout",
     "output_type": "stream",
     "text": [
      "200번째 cost-79.26947784423828, W-[10.071943]\n",
      "400번째 cost-79.15138244628906, W-[10.133233]\n",
      "600번째 cost-79.14055633544922, W-[10.151798]\n",
      "800번째 cost-79.13954162597656, W-[10.157421]\n",
      "1000번째 cost-79.13948059082031, W-[10.159123]\n",
      "1200번째 cost-79.13945007324219, W-[10.159639]\n",
      "1400번째 cost-79.13944244384766, W-[10.159796]\n",
      "1600번째 cost-79.13946533203125, W-[10.159843]\n",
      "1800번째 cost-79.13946533203125, W-[10.159858]\n",
      "2000번째 cost-79.13945007324219, W-[10.159862]\n",
      "2200번째 cost-79.13944244384766, W-[10.1598625]\n",
      "2400번째 cost-79.13945770263672, W-[10.1598625]\n",
      "2600번째 cost-79.13945770263672, W-[10.1598625]\n",
      "2800번째 cost-79.13945770263672, W-[10.1598625]\n",
      "3000번째 cost-79.13945770263672, W-[10.1598625]\n",
      "3200번째 cost-79.13945770263672, W-[10.1598625]\n",
      "3400번째 cost-79.13945770263672, W-[10.1598625]\n",
      "3600번째 cost-79.13945770263672, W-[10.1598625]\n",
      "3800번째 cost-79.13945770263672, W-[10.1598625]\n",
      "4000번째 cost-79.13945770263672, W-[10.1598625]\n",
      "4200번째 cost-79.13945770263672, W-[10.1598625]\n",
      "4400번째 cost-79.13945770263672, W-[10.1598625]\n",
      "4600번째 cost-79.13945770263672, W-[10.1598625]\n",
      "4800번째 cost-79.13945770263672, W-[10.1598625]\n",
      "5000번째 cost-79.13945770263672, W-[10.1598625]\n",
      "5200번째 cost-79.13945770263672, W-[10.1598625]\n",
      "5400번째 cost-79.13945770263672, W-[10.1598625]\n",
      "5600번째 cost-79.13945770263672, W-[10.1598625]\n",
      "5800번째 cost-79.13945770263672, W-[10.1598625]\n",
      "6000번째 cost-79.13945770263672, W-[10.1598625]\n"
     ]
    }
   ],
   "source": [
    "\n",
    "# training data set (datadml scale이 다르면 학습 결과가 ?)\n",
    "x_data = [1, 2, 5, 8,10]\n",
    "y_data = [5,15,68,80,95]\n",
    "\n",
    "# placeholder를 설정\n",
    "x = tf.placeholder(dtype=tf.float32, shape=None)\n",
    "y = tf.placeholder(dtype=tf.float32, shape=None)\n",
    "#shape:어떤게 들어올지 지정. none면 아무거나 들어올 것. \n",
    "\n",
    "# Weight & bias\n",
    "W = tf.Variable(tf.random_normal([1]), name=\"weight\")\n",
    "b = tf.Variable(tf.random_normal([1]), name=\"bias\")\n",
    "\n",
    "# Hypothesis\n",
    "H = W * x + b\n",
    "\n",
    "# cost function\n",
    "cost = tf.reduce_mean(tf.square(H - y))\n",
    "\n",
    "# train\n",
    "train = tf.train.GradientDescentOptimizer(learning_rate=0.01).minimize(cost)\n",
    "\n",
    "# optimizer = tf.train.GradientDescentOptimizer(learning_rate=0.01)\n",
    "# train     = optimizer.minimize(cost)\n",
    "\n",
    "# session & Variable 초기화\n",
    "sess = tf.Session()\n",
    "sess.run(tf.global_variables_initializer())\n",
    "\n",
    "# 학습\n",
    "for step in range(1, 6001):\n",
    "    _, cost_val, W_val = sess.run([train, cost, W], feed_dict={x:x_data,\n",
    "                                                              y:y_data})\n",
    "    if step%200 == 0 :\n",
    "        print(\"{}번째 cost-{}, W-{}\".format(step, cost_val, W_val))\n"
   ]
  },
  {
   "cell_type": "code",
   "execution_count": 20,
   "metadata": {},
   "outputs": [
    {
     "data": {
      "text/plain": [
       "[array([10.1598625], dtype=float32), array([-0.23128414], dtype=float32)]"
      ]
     },
     "execution_count": 20,
     "metadata": {},
     "output_type": "execute_result"
    }
   ],
   "source": [
    "sess.run([W,b])"
   ]
  },
  {
   "cell_type": "code",
   "execution_count": 21,
   "metadata": {},
   "outputs": [
    {
     "data": {
      "text/plain": [
       "array([101.36734], dtype=float32)"
      ]
     },
     "execution_count": 21,
     "metadata": {},
     "output_type": "execute_result"
    }
   ],
   "source": [
    "#예측은 할 수 있지만 cost가 너무 커서 믿을수없어.\n",
    "sess.run(H, feed_dict={x:10})"
   ]
  },
  {
   "cell_type": "code",
   "execution_count": 22,
   "metadata": {},
   "outputs": [],
   "source": [
    "#예측잘안되는 이유: local min에서 멈춰서.\n",
    "#global min을 구하려면? "
   ]
  },
  {
   "cell_type": "markdown",
   "metadata": {},
   "source": [
    "# 3. 독립변수 x가 여러개인 linear regression\n",
    "- scale이 다른 x,y값(교안 pt 28)"
   ]
  },
  {
   "cell_type": "code",
   "execution_count": 23,
   "metadata": {},
   "outputs": [
    {
     "name": "stdout",
     "output_type": "stream",
     "text": [
      "3000번째 cost:3.106980323791504\n",
      "6000번째 cost:2.192689895629883\n",
      "9000번째 cost:1.814903974533081\n",
      "12000번째 cost:1.5694506168365479\n",
      "15000번째 cost:1.373277187347412\n",
      "18000번째 cost:1.2067763805389404\n",
      "21000번째 cost:1.0634634494781494\n",
      "24000번째 cost:0.9396953582763672\n",
      "27000번째 cost:0.8326910734176636\n",
      "30000번째 cost:0.7401959896087646\n",
      "33000번째 cost:0.6602194905281067\n",
      "36000번째 cost:0.5911039113998413\n",
      "39000번째 cost:0.5313214659690857\n",
      "42000번째 cost:0.47965317964553833\n",
      "45000번째 cost:0.4349750876426697\n",
      "48000번째 cost:0.3963364064693451\n",
      "51000번째 cost:0.3629487156867981\n",
      "54000번째 cost:0.33406469225883484\n",
      "57000번째 cost:0.309099406003952\n",
      "60000번째 cost:0.28751641511917114\n"
     ]
    }
   ],
   "source": [
    "# training data set\n",
    "# x_data = [[73,80,75],\n",
    "#           [93,88,93],\n",
    "#           [89,91,90],\n",
    "#           [96,98,100],\n",
    "#           [73,66,70]]\n",
    "# y_data = [[152],[185],[180],[196],[142]]\n",
    "x_data = np.array([[73,80,75],\n",
    "                   [93,88,93],\n",
    "                   [89,91,90],\n",
    "                   [96,98,100],\n",
    "                   [73,66,70]])\n",
    "y_data = np.array([[152],\n",
    "                   [185],\n",
    "                   [180],\n",
    "                   [196],\n",
    "                   [142]])\n",
    "\n",
    "# placeholder \n",
    "X = tf.placeholder(shape=[None, 3], dtype=tf.float32)\n",
    "Y = tf.placeholder(shape=[None, 1], dtype=tf.float32)\n",
    "\n",
    "# Weight & bias\n",
    "W = tf.Variable(tf.random_normal([3,1]), name=\"weight\")\n",
    "b = tf.Variable(tf.random_normal([1]), name=\"bias\")\n",
    "\n",
    "# Hypothesis\n",
    "# H = X @ W + b\n",
    "H = tf.matmul(X, W) + b\n",
    "\n",
    "# cost function\n",
    "cost = tf.reduce_mean(tf.square(H - Y))\n",
    "\n",
    "# train\n",
    "train = tf.train.GradientDescentOptimizer(learning_rate=1e-5).minimize(cost)\n",
    "\n",
    "# session & Variable 초기화\n",
    "sess = tf.Session()\n",
    "sess.run(tf.global_variables_initializer())\n",
    "\n",
    "# 학습\n",
    "for step in range(1, 60001):\n",
    "    _, cost_val = sess.run([train, cost], feed_dict={X:x_data, \n",
    "                                                    Y : y_data})\n",
    "    if step%3000 == 0 :\n",
    "        print(\"{}번째 cost:{}\".format(step, cost_val))"
   ]
  },
  {
   "cell_type": "markdown",
   "metadata": {},
   "source": [
    "## 4. 오존량 예측 예제\n",
    "- 독립변수 x가 3 => Multi-variable Linear Regression"
   ]
  },
  {
   "cell_type": "code",
   "execution_count": 24,
   "metadata": {},
   "outputs": [],
   "source": [
    "import tensorflow.compat.v1 as tf\n",
    "tf.disable_v2_behavior()\n",
    "import numpy as np\n",
    "import pandas as pd"
   ]
  },
  {
   "cell_type": "code",
   "execution_count": 25,
   "metadata": {},
   "outputs": [
    {
     "name": "stdout",
     "output_type": "stream",
     "text": [
      "3000번째 cost 529.0515747070312\n",
      "6000번째 cost 471.0494079589844\n",
      "9000번째 cost 464.23199462890625\n",
      "12000번째 cost 463.4087829589844\n",
      "15000번째 cost 463.2874755859375\n",
      "18000번째 cost 463.2484436035156\n",
      "21000번째 cost 463.21917724609375\n",
      "24000번째 cost 463.1909484863281\n",
      "27000번째 cost 463.1629638671875\n",
      "30000번째 cost 463.1350402832031\n",
      "33000번째 cost 463.1070556640625\n",
      "36000번째 cost 463.07904052734375\n",
      "39000번째 cost 463.05108642578125\n",
      "42000번째 cost 463.023193359375\n",
      "45000번째 cost 462.9952392578125\n",
      "48000번째 cost 462.96734619140625\n",
      "51000번째 cost 462.93939208984375\n",
      "54000번째 cost 462.9115295410156\n",
      "57000번째 cost 462.8836975097656\n",
      "60000번째 cost 462.8558654785156\n"
     ]
    }
   ],
   "source": [
    "# training data set 생성\n",
    "# data load -> 결측치 처리 -> 독립변수, 종속변수 분리\n",
    "data = pd.read_csv('./data/ozone.csv', sep=\",\")\n",
    "\n",
    "# data를 바로 학습할 수 없음. 데이터 정제 작업 필요.\n",
    "data = data.dropna(how='any') # 결측치가 한열이라도 있는 행 모두 제거\n",
    "\n",
    "# 필요한 columns만 추출\n",
    "data = data[['Ozone','Solar.R','Wind','Temp']]\n",
    "\n",
    "# training data set\n",
    "x_data = data[['Solar.R','Wind','Temp']].values # DataFrame을 numpy 배열로\n",
    "y_data = data[['Ozone']].values.reshape(-1, 1)\n",
    "x_data.shape, y_data.shape\n",
    "\n",
    "# tensorflow 구현\n",
    "# 1.placeholder\n",
    "X = tf.placeholder(shape=[None,3], dtype=tf.float32)\n",
    "Y = tf.placeholder(shape=[None, 1], dtype=tf.float32)\n",
    "\n",
    "# 2. Weight & bias 설정\n",
    "W = tf.Variable(tf.random_normal([3,1]), name=\"weight\")\n",
    "b = tf.Variable(tf.random_normal([1]), name=\"bias\")\n",
    "\n",
    "# 3. Hypothesis\n",
    "# H = X @ W + b\n",
    "H = tf.matmul(X, W) + b\n",
    "\n",
    "# 4. cost 함수\n",
    "cost = tf.reduce_mean(tf.square(H - Y))\n",
    "\n",
    "# 5. train\n",
    "train = tf.train.GradientDescentOptimizer(learning_rate=1e-5).minimize(cost)\n",
    "\n",
    "# 6. session & 초기화\n",
    "sess = tf.Session()\n",
    "sess.run(tf.global_variables_initializer())\n",
    "\n",
    "# 7. 학습\n",
    "for step in range(1, 60001):\n",
    "    _, cost_val = sess.run([train, cost], feed_dict={X:x_data,\n",
    "                                                    Y:y_data})\n",
    "    if step%3000 == 0:\n",
    "        print(\"{}번째 cost {}\".format(step, cost_val))"
   ]
  },
  {
   "cell_type": "code",
   "execution_count": 26,
   "metadata": {},
   "outputs": [
    {
     "data": {
      "text/html": [
       "<div>\n",
       "<style scoped>\n",
       "    .dataframe tbody tr th:only-of-type {\n",
       "        vertical-align: middle;\n",
       "    }\n",
       "\n",
       "    .dataframe tbody tr th {\n",
       "        vertical-align: top;\n",
       "    }\n",
       "\n",
       "    .dataframe thead th {\n",
       "        text-align: right;\n",
       "    }\n",
       "</style>\n",
       "<table border=\"1\" class=\"dataframe\">\n",
       "  <thead>\n",
       "    <tr style=\"text-align: right;\">\n",
       "      <th></th>\n",
       "      <th>Ozone</th>\n",
       "      <th>Solar.R</th>\n",
       "      <th>Wind</th>\n",
       "      <th>Temp</th>\n",
       "    </tr>\n",
       "  </thead>\n",
       "  <tbody>\n",
       "    <tr>\n",
       "      <th>1</th>\n",
       "      <td>36.0</td>\n",
       "      <td>118.0</td>\n",
       "      <td>8.0</td>\n",
       "      <td>72</td>\n",
       "    </tr>\n",
       "  </tbody>\n",
       "</table>\n",
       "</div>"
      ],
      "text/plain": [
       "   Ozone  Solar.R  Wind  Temp\n",
       "1   36.0    118.0   8.0    72"
      ]
     },
     "execution_count": 26,
     "metadata": {},
     "output_type": "execute_result"
    }
   ],
   "source": [
    "data[1:2]"
   ]
  },
  {
   "cell_type": "code",
   "execution_count": 27,
   "metadata": {},
   "outputs": [
    {
     "data": {
      "text/plain": [
       "array([[41.47469]], dtype=float32)"
      ]
     },
     "execution_count": 27,
     "metadata": {},
     "output_type": "execute_result"
    }
   ],
   "source": [
    "sess.run(H, feed_dict={X:np.array([[118,8,72]])})"
   ]
  },
  {
   "cell_type": "code",
   "execution_count": 28,
   "metadata": {},
   "outputs": [],
   "source": [
    "\n",
    "# scale 맞추는 방법 : normalization(많이 씀), standardization(표준화)\n",
    "#                   X - Xmin\n",
    "# normalization = ──────────────\n",
    "#                  Xmax - Xmin\n",
    "# 위의 식을 써도 되지만 라이브러리를 씀(sklearn.preprocessing.MinMaxScaler 이용)\n",
    "#                    x - Xmean(평균)\n",
    "# standardization = ────────────────\n",
    "#                     Xstd(표준편차)\n",
    "# 의 식을 써도 되지만 라이브러리 씀(sklearn.preprocessing.StandardScaler 이용)"
   ]
  },
  {
   "cell_type": "code",
   "execution_count": 29,
   "metadata": {},
   "outputs": [
    {
     "name": "stdout",
     "output_type": "stream",
     "text": [
      " 3000번째 cost 3.665651321411133\n",
      " 6000번째 cost 3.2864339351654053\n",
      " 9000번째 cost 2.9518892765045166\n",
      "12000번째 cost 2.656644582748413\n",
      "15000번째 cost 2.3959689140319824\n",
      "18000번째 cost 2.1657209396362305\n",
      "21000번째 cost 1.9622740745544434\n",
      "24000번째 cost 1.7824524641036987\n",
      "27000번째 cost 1.6234549283981323\n",
      "30000번째 cost 1.48283851146698\n",
      "33000번째 cost 1.3584333658218384\n",
      "36000번째 cost 1.2483429908752441\n",
      "39000번째 cost 1.1508973836898804\n",
      "42000번째 cost 1.0646220445632935\n",
      "45000번째 cost 0.9882211685180664\n",
      "48000번째 cost 0.9205489754676819\n",
      "51000번째 cost 0.8606023192405701\n",
      "54000번째 cost 0.8074817657470703\n",
      "57000번째 cost 0.7604063153266907\n",
      "60000번째 cost 0.7186822891235352\n"
     ]
    }
   ],
   "source": [
    "# training data set 생성\n",
    "# data load -> 결측치 처리 -> 독립변수, 종속변수 분리\n",
    "data = pd.read_csv('./data/ozone.csv', sep=\",\")\n",
    "\n",
    "# data를 바로 학습할 수 없음. 데이터 정제 작업 필요.\n",
    "data = data.dropna(how='any') # 결측치가 한열이라도 있는 행 모두 제거\n",
    "\n",
    "# 필요한 columns만 추출\n",
    "data = data[['Ozone','Solar.R','Wind','Temp']]\n",
    "\n",
    "# scale 조정(standardization)\n",
    "#                    x - Xmean(평균)\n",
    "# standardization = ────────────────\n",
    "#                     Xstd(표준편차)\n",
    "data['Ozone'] = (data['Ozone']- data['Ozone'].mean())/data['Ozone'].std()\n",
    "data['Solar.R'] = (data['Solar.R']- data['Solar.R'].mean()) / data['Solar.R'].std()\n",
    "data['Wind'] = (data['Wind']- data['Wind'].mean())/data['Wind'].std()\n",
    "data['Temp'] = (data['Temp']- data['Temp'].mean())/data['Temp'].std()\n",
    "\n",
    "# training data set\n",
    "x_data = data[['Solar.R','Wind','Temp']].values # DataFrame을 numpy 배열로\n",
    "y_data = data[['Ozone']].values.reshape(-1, 1)\n",
    "x_data.shape, y_data.shape\n",
    "\n",
    "# tensorflow 구현\n",
    "# 1.placeholder\n",
    "X = tf.placeholder(shape=[None,3], dtype=tf.float32)\n",
    "Y = tf.placeholder(shape=[None, 1], dtype=tf.float32)\n",
    "\n",
    "# 2. Weight & bias 설정\n",
    "W = tf.Variable(tf.random_normal([3,1]), name=\"weight\")\n",
    "b = tf.Variable(tf.random_normal([1]), name=\"bias\")\n",
    "\n",
    "# 3. Hypothesis\n",
    "# H = X @ W + b\n",
    "H = tf.matmul(X, W) + b\n",
    "\n",
    "# 4. cost 함수\n",
    "cost = tf.reduce_mean(tf.square(H - Y))\n",
    "\n",
    "# 5. train\n",
    "train = tf.train.GradientDescentOptimizer(learning_rate=1e-5).minimize(cost)\n",
    "\n",
    "# 6. session & 초기화\n",
    "sess = tf.Session()\n",
    "sess.run(tf.global_variables_initializer())\n",
    "\n",
    "# 7. 학습\n",
    "for step in range(1, 60001):\n",
    "    _, cost_val = sess.run([train, cost], feed_dict={X:x_data,\n",
    "                                                    Y:y_data})\n",
    "    if step%3000 == 0:\n",
    "        print(\"{:5d}번째 cost {}\".format(step, cost_val))"
   ]
  },
  {
   "cell_type": "code",
   "execution_count": 30,
   "metadata": {},
   "outputs": [],
   "source": [
    "# predict 하려면 scale이 맞춰진 데이터로 predict를 하고 결과를 다시 scale조정"
   ]
  },
  {
   "cell_type": "code",
   "execution_count": 31,
   "metadata": {},
   "outputs": [
    {
     "name": "stdout",
     "output_type": "stream",
     "text": [
      "scale 조정 전 데이터 : \n",
      " [[190.    7.4  67.   41. ]\n",
      " [118.    8.   72.   36. ]\n",
      " [149.   12.6  74.   12. ]]\n",
      "scale 조정된 데이터 :\n",
      " [[0.55963303 0.27717391 0.25       0.23952096]\n",
      " [0.33944954 0.30978261 0.375      0.20958084]\n",
      " [0.43425076 0.55978261 0.425      0.06586826]]\n",
      " 3000번째 cost 0.7461623549461365\n",
      " 6000번째 cost 0.618114173412323\n",
      " 9000번째 cost 0.5143833756446838\n",
      "12000번째 cost 0.4303322732448578\n",
      "15000번째 cost 0.36220911145210266\n",
      "18000번째 cost 0.3069766163825989\n",
      "21000번째 cost 0.26217710971832275\n",
      "24000번째 cost 0.2258211225271225\n",
      "27000번째 cost 0.19630081951618195\n",
      "30000번째 cost 0.17231197655200958\n",
      "33000번째 cost 0.15280240774154663\n",
      "36000번째 cost 0.13691529631614685\n",
      "39000번째 cost 0.12396369129419327\n",
      "42000번째 cost 0.11338749527931213\n",
      "45000번째 cost 0.10473453253507614\n",
      "48000번째 cost 0.09763950854539871\n",
      "51000번째 cost 0.09180513024330139\n",
      "54000번째 cost 0.08699236810207367\n",
      "57000번째 cost 0.08300714194774628\n",
      "60000번째 cost 0.07969272881746292\n"
     ]
    }
   ],
   "source": [
    "# training data set 생성\n",
    "# data load -> 결측치 처리 -> 독립변수, 종속변수 분리\n",
    "data = pd.read_csv('./data/ozone.csv', sep=\",\")\n",
    "\n",
    "# data를 바로 학습할 수 없음. 데이터 정제 작업 필요.\n",
    "data = data.dropna(how='any') # 결측치가 한열이라도 있는 행 모두 제거\n",
    "\n",
    "# 필요한 columns만 추출\n",
    "data = data[['Ozone','Solar.R','Wind','Temp']]\n",
    "\n",
    "# training data set\n",
    "x_data = data[['Solar.R','Wind','Temp']].values # DataFrame을 numpy 배열로\n",
    "y_data = data[['Ozone']].values.reshape(-1, 1)\n",
    "\n",
    "print('scale 조정 전 데이터 : \\n', np.c_[x_data[:3], y_data[:3]])\n",
    "# scale 조정(1) sklearn.preprocessing.MinMaxScaler\n",
    "from sklearn.preprocessing import MinMaxScaler\n",
    "scale_x = MinMaxScaler() # scale_x : x_data를 scale조정할 객체\n",
    "# x_data에 대한 설정을 잡는 부분 ; x_data 3개 컬럼에 대한 max, min 설정\n",
    "scale_x.fit(x_data) \n",
    "x_data = scale_x.transform(x_data) # scale 조정된 x_data\n",
    "\n",
    "scale_y = MinMaxScaler()\n",
    "scale_y.fit(y_data)\n",
    "y_data = scale_y.transform(y_data) # scale 조정된 y_data\n",
    "print('scale 조정된 데이터 :\\n', np.c_[x_data[:3], y_data[:3]])\n",
    "\n",
    "# tensorflow 구현\n",
    "# 1.placeholder\n",
    "X = tf.placeholder(shape=[None,3], dtype=tf.float32)\n",
    "Y = tf.placeholder(shape=[None, 1], dtype=tf.float32)\n",
    "\n",
    "# 2. Weight & bias 설정\n",
    "W = tf.Variable(tf.random_normal([3,1]), name=\"weight\")\n",
    "b = tf.Variable(tf.random_normal([1]), name=\"bias\")\n",
    "\n",
    "# 3. Hypothesis\n",
    "# H = X @ W + b\n",
    "H = tf.matmul(X, W) + b\n",
    "\n",
    "# 4. cost 함수\n",
    "cost = tf.reduce_mean(tf.square(H - Y))\n",
    "\n",
    "# 5. train\n",
    "train = tf.train.GradientDescentOptimizer(learning_rate=1e-5).minimize(cost)\n",
    "\n",
    "# 6. session & 초기화\n",
    "sess = tf.Session()\n",
    "sess.run(tf.global_variables_initializer())\n",
    "\n",
    "# 7. 학습\n",
    "for step in range(1, 60001):\n",
    "    _, cost_val = sess.run([train, cost], feed_dict={X:x_data,\n",
    "                                                    Y:y_data})\n",
    "    if step%3000 == 0:\n",
    "        print(\"{:5d}번째 cost {}\".format(step, cost_val))"
   ]
  },
  {
   "cell_type": "code",
   "execution_count": 32,
   "metadata": {},
   "outputs": [],
   "source": [
    "# 8. prediction\n",
    "input_data = np.array([[118., 8.,72.]])"
   ]
  },
  {
   "cell_type": "code",
   "execution_count": 33,
   "metadata": {},
   "outputs": [
    {
     "name": "stdout",
     "output_type": "stream",
     "text": [
      "원 데이터 :  [[118.   8.  72.]]\n",
      "scale 조정된 데이터 : [[0.33944954 0.30978261 0.375     ]]\n"
     ]
    }
   ],
   "source": [
    "scale_input_data = scale_x.transform(input_data)\n",
    "print('원 데이터 : ', input_data)\n",
    "print('scale 조정된 데이터 :', scale_input_data)"
   ]
  },
  {
   "cell_type": "code",
   "execution_count": 34,
   "metadata": {},
   "outputs": [
    {
     "data": {
      "text/plain": [
       "array([[67.23968]], dtype=float32)"
      ]
     },
     "execution_count": 34,
     "metadata": {},
     "output_type": "execute_result"
    }
   ],
   "source": [
    "predict_value = sess.run(H, feed_dict={X:scale_input_data})\n",
    "scale_y.inverse_transform(predict_value)"
   ]
  },
  {
   "cell_type": "code",
   "execution_count": 35,
   "metadata": {},
   "outputs": [
    {
     "name": "stdout",
     "output_type": "stream",
     "text": [
      "조정전\n",
      " [[190.    7.4  67.   41. ]\n",
      " [118.    8.   72.   36. ]]\n",
      "조정후\n",
      " [[ 0.05728624 -0.71707784 -1.13764691 -0.03317961]\n",
      " [-0.73618283 -0.54766534 -0.61060682 -0.18411965]]\n",
      " 3000번째 cost 2.9512012004852295\n",
      " 6000번째 cost 2.6608684062957764\n",
      " 9000번째 cost 2.4042627811431885\n",
      "12000번째 cost 2.1773722171783447\n",
      "15000번째 cost 1.9766675233840942\n",
      "18000번째 cost 1.799068570137024\n",
      "21000번째 cost 1.6418483257293701\n",
      "24000번째 cost 1.5026202201843262\n",
      "27000번째 cost 1.3792812824249268\n",
      "30000번째 cost 1.2699828147888184\n",
      "33000번째 cost 1.1730953454971313\n",
      "36000번째 cost 1.0871796607971191\n",
      "39000번째 cost 1.010970950126648\n",
      "42000번째 cost 0.9433571100234985\n",
      "45000번째 cost 0.8833332657814026\n",
      "48000번째 cost 0.8300508260726929\n",
      "51000번째 cost 0.7827309966087341\n",
      "54000번째 cost 0.7406808137893677\n",
      "57000번째 cost 0.7033111453056335\n",
      "60000번째 cost 0.6700924038887024\n"
     ]
    }
   ],
   "source": [
    "# training data set 생성\n",
    "# data load -> 결측치 처리 -> 독립변수, 종속변수 분리\n",
    "data = pd.read_csv('./data/ozone.csv', sep=\",\")\n",
    "\n",
    "# data를 바로 학습할 수 없음. 데이터 정제 작업 필요.\n",
    "data = data.dropna(how='any') # 결측치가 한열이라도 있는 행 모두 제거\n",
    "\n",
    "# 필요한 columns만 추출\n",
    "data = data[['Ozone','Solar.R','Wind','Temp']]\n",
    "\n",
    "# scale 조정 : data를 한꺼번에 scale 조정 시 prediction 힘듦\n",
    "# from sklearn.preprocessing import StandardScaler\n",
    "# scaler = StandardScaler()\n",
    "# scaler.fit(data)\n",
    "# data = pd.DataFrame(scaler.transform(data),\n",
    "#                     columns=['Ozone','Solar.R','Wind','Temp'])\n",
    "\n",
    "# training data set\n",
    "x_data = data[['Solar.R','Wind','Temp']].values # DataFrame을 numpy 배열로\n",
    "y_data = data[['Ozone']].values.reshape(-1, 1)\n",
    "\n",
    "print('조정전\\n', np.c_[x_data[:2], y_data[:2]])\n",
    "# scale 조정 : x_data, y_data scale을 따로 따로 - prediction 가능\n",
    "from sklearn.preprocessing import StandardScaler\n",
    "scaler_x = StandardScaler()\n",
    "scaler_x.fit(x_data)\n",
    "x_data = scaler_x.transform(x_data)\n",
    "\n",
    "scaler_y = StandardScaler()\n",
    "scaler_y.fit(y_data)\n",
    "y_data = scaler_y.transform(y_data)\n",
    "print('조정후\\n', np.c_[x_data[:2], y_data[:2]])\n",
    "\n",
    "# tensorflow 구현\n",
    "# 1.placeholder\n",
    "X = tf.placeholder(shape=[None,3], dtype=tf.float32)\n",
    "Y = tf.placeholder(shape=[None, 1], dtype=tf.float32)\n",
    "\n",
    "# 2. Weight & bias 설정\n",
    "W = tf.Variable(tf.random_normal([3,1]), name=\"weight\")\n",
    "b = tf.Variable(tf.random_normal([1]), name=\"bias\")\n",
    "\n",
    "# 3. Hypothesis\n",
    "# H = X @ W + b\n",
    "H = tf.matmul(X, W) + b\n",
    "\n",
    "# 4. cost 함수\n",
    "cost = tf.reduce_mean(tf.square(H - Y))\n",
    "\n",
    "# 5. train\n",
    "train = tf.train.GradientDescentOptimizer(learning_rate=1e-5).minimize(cost)\n",
    "\n",
    "# 6. session & 초기화\n",
    "sess = tf.Session()\n",
    "sess.run(tf.global_variables_initializer())\n",
    "\n",
    "# 7. 학습\n",
    "for step in range(1, 60001):\n",
    "    _, cost_val = sess.run([train, cost], feed_dict={X:x_data,\n",
    "                                                    Y:y_data})\n",
    "    if step%3000 == 0:\n",
    "        print(\"{:5d}번째 cost {}\".format(step, cost_val))"
   ]
  },
  {
   "cell_type": "code",
   "execution_count": 36,
   "metadata": {},
   "outputs": [
    {
     "data": {
      "text/plain": [
       "array([[25.418083]], dtype=float32)"
      ]
     },
     "execution_count": 36,
     "metadata": {},
     "output_type": "execute_result"
    }
   ],
   "source": [
    "input_data = np.array([[118.,8.,72.]])\n",
    "scaled_input_data = scale_x.transform(input_data)\n",
    "scaler_y.inverse_transform(sess.run(H, feed_dict={X:scaled_input_data}))"
   ]
  },
  {
   "cell_type": "code",
   "execution_count": 37,
   "metadata": {},
   "outputs": [
    {
     "data": {
      "text/plain": [
       "[array([[ 0.13812561],\n",
       "        [-0.5339741 ],\n",
       "        [ 0.2699776 ]], dtype=float32),\n",
       " array([-0.48627904], dtype=float32)]"
      ]
     },
     "execution_count": 37,
     "metadata": {},
     "output_type": "execute_result"
    }
   ],
   "source": [
    "\n",
    "sess.run([W, b])"
   ]
  },
  {
   "cell_type": "code",
   "execution_count": null,
   "metadata": {},
   "outputs": [],
   "source": []
  },
  {
   "cell_type": "code",
   "execution_count": null,
   "metadata": {},
   "outputs": [],
   "source": []
  },
  {
   "cell_type": "code",
   "execution_count": null,
   "metadata": {},
   "outputs": [],
   "source": []
  },
  {
   "cell_type": "markdown",
   "metadata": {},
   "source": [
    "# 5 logistic Regression= Binary classification(P/F) 로지스틱 회귀분석. 2개 그룹"
   ]
  },
  {
   "cell_type": "code",
   "execution_count": 38,
   "metadata": {},
   "outputs": [
    {
     "name": "stdout",
     "output_type": "stream",
     "text": [
      "w값은  0.12925170068027214 ,b값은  -0.27210884353741516\n"
     ]
    },
    {
     "data": {
      "text/plain": [
       "[<matplotlib.lines.Line2D at 0x1d23a159df0>]"
      ]
     },
     "execution_count": 38,
     "metadata": {},
     "output_type": "execute_result"
    },
    {
     "data": {
      "image/png": "[encoded data removed]",
      "text/plain": [
       "<Figure size 432x288 with 1 Axes>"
      ]
     },
     "metadata": {
      "needs_background": "light"
     },
     "output_type": "display_data"
    }
   ],
   "source": [
    "# logistic Regression이 필요한 이유( 기존의 linear regression으로는 안되는 이유)\n",
    "import numpy as np\n",
    "import matplotlib.pyplot as plt\n",
    "from scipy import stats #회귀식 도출가능\n",
    "\n",
    "x=np.array([1,2,5,8,10])\n",
    "y=np.array([0,0,0,1,1])\n",
    "lm=stats.linregress(x,y)\n",
    "print('w값은 ', lm[0],',b값은 ', lm[1])\n",
    "plt.scatter(x,y)\n",
    "plt.plot(x,x*lm[0]+lm[1],'r')"
   ]
  },
  {
   "cell_type": "code",
   "execution_count": 39,
   "metadata": {},
   "outputs": [
    {
     "name": "stdout",
     "output_type": "stream",
     "text": [
      "w값은  0.03500583430571762 ,b값은  0.1732788798133022\n"
     ]
    },
    {
     "data": {
      "text/plain": [
       "[<matplotlib.lines.Line2D at 0x1d23a2497f0>]"
      ]
     },
     "execution_count": 39,
     "metadata": {},
     "output_type": "execute_result"
    },
    {
     "data": {
      "image/png": "[encoded data removed]",
      "text/plain": [
       "<Figure size 432x288 with 1 Axes>"
      ]
     },
     "metadata": {
      "needs_background": "light"
     },
     "output_type": "display_data"
    }
   ],
   "source": [
    "x=np.array([1,2,5,8,10,30])\n",
    "y=np.array([0,0,0,1,1,1])\n",
    "lm=stats.linregress(x,y)\n",
    "print('w값은 ', lm[0],',b값은 ', lm[1])\n",
    "plt.scatter(x,y)\n",
    "plt.plot(x,x*lm[0]+lm[1],'r')"
   ]
  },
  {
   "cell_type": "code",
   "execution_count": null,
   "metadata": {},
   "outputs": [],
   "source": []
  },
  {
   "cell_type": "code",
   "execution_count": null,
   "metadata": {},
   "outputs": [],
   "source": []
  },
  {
   "cell_type": "code",
   "execution_count": 40,
   "metadata": {},
   "outputs": [],
   "source": [
    "# 6 logistic RegressionRegression= multinomial classification(3개 이상 그룹으로 분류로 분류)"
   ]
  },
  {
   "cell_type": "markdown",
   "metadata": {},
   "source": [
    "# 교안 51p부터."
   ]
  },
  {
   "cell_type": "code",
   "execution_count": 3,
   "metadata": {},
   "outputs": [
    {
     "name": "stdout",
     "output_type": "stream",
     "text": [
      "WARNING:tensorflow:From C:\\Users\\tjoeun\\anaconda3\\lib\\site-packages\\tensorflow\\python\\compat\\v2_compat.py:96: disable_resource_variables (from tensorflow.python.ops.variable_scope) is deprecated and will be removed in a future version.\n",
      "Instructions for updating:\n",
      "non-resource variables are not supported in the long term\n"
     ]
    }
   ],
   "source": [
    "import tensorflow.compat.v1 as tf\n",
    "tf.disable_v2_behavior()\n",
    "import numpy as np\n"
   ]
  },
  {
   "cell_type": "code",
   "execution_count": 8,
   "metadata": {},
   "outputs": [
    {
     "name": "stdout",
     "output_type": "stream",
     "text": [
      "300,0.3093104958534241\n",
      "600,0.23701895773410797\n",
      "900,0.2060544341802597\n",
      "1200,0.1863814741373062\n",
      "1500,0.17169418931007385\n",
      "1800,0.1598099172115326\n",
      "2100,0.1497507095336914\n",
      "2400,0.14100097119808197\n",
      "2700,0.13325510919094086\n",
      "3000,0.1263149082660675\n"
     ]
    }
   ],
   "source": [
    "\n",
    "#training data set\n",
    "x_data = np.array([[10,0],\n",
    "                   [8,1],\n",
    "                   [3,3],\n",
    "                   [2,3],\n",
    "                   [5,1],\n",
    "                   [2,0],\n",
    "                   [1,0]])\n",
    "y_data = np.array([[1],\n",
    "                   [1],\n",
    "                   [1],\n",
    "                   [1],\n",
    "                   [0],\n",
    "                   [0],\n",
    "                   [0]])\n",
    "#placeholder\n",
    "X=tf.placeholder(shape=[None,2],dtype=tf.float32)\n",
    "Y=tf.placeholder(shape=[None,1],dtype=tf.float32)\n",
    "#7행 2열로 잡아버리면 predict도 반드시 7,2를 넣어야하니 None으로 한다.\n",
    "\n",
    "# Weight(2행 1열) & bias(1개)\n",
    "W=tf.Variable(tf.random_normal([2,1]),name=\"weight\")\n",
    "b=tf.Variable(tf.random_normal([1]),name='bias')\n",
    "\n",
    "# hypothesis\n",
    "# Logits=X@W+b 아래 식도 이것과 같다.\n",
    "logits=tf.matmul(X,W)+b\n",
    "H=tf.sigmoid(logits)\n",
    "\n",
    "# cast function\n",
    "cost=tf.reduce_mean(tf.square(H-Y))\n",
    "cost=tf.reduce_mean(tf.nn.sigmoid_cross_entropy_with_logits(logits=logits,labels=Y))\n",
    "\n",
    "# train\n",
    "train = tf.train.GradientDescentOptimizer(learning_rate=0.1).minimize(cost)\n",
    "\n",
    "# session & 초기화\n",
    "sess=tf.Session()\n",
    "sess.run(tf.global_variables_initializer())\n",
    "\n",
    "# 학습\n",
    "for step in range(1,3001):\n",
    "    _, cost_val = sess.run([train, cost], feed_dict={X:x_data, Y:y_data})\n",
    "    if step%300==0:\n",
    "        print(\"{},{}\".format(step,cost_val))\n",
    "\n",
    "        \n"
   ]
  },
  {
   "cell_type": "code",
   "execution_count": 13,
   "metadata": {},
   "outputs": [
    {
     "data": {
      "text/plain": [
       "array([[1.],\n",
       "       [1.],\n",
       "       [1.],\n",
       "       [1.],\n",
       "       [0.],\n",
       "       [0.],\n",
       "       [0.]], dtype=float32)"
      ]
     },
     "execution_count": 13,
     "metadata": {},
     "output_type": "execute_result"
    }
   ],
   "source": [
    "# 학습이 잘 되었는지 확인\n",
    "# Accuracy\n",
    "predict = tf.cast(H>0.5,dtype=tf.float32)\n",
    "correct=tf.equal(predict,Y)\n",
    "accuracy=tf.reduce_mean(tf.cast(correct,dtype=tf.float32))\n",
    "sess.run(predict,feed_dict={X:x_data, Y:y_data})\n"
   ]
  },
  {
   "cell_type": "code",
   "execution_count": 15,
   "metadata": {},
   "outputs": [
    {
     "name": "stdout",
     "output_type": "stream",
     "text": [
      "1.0\n"
     ]
    }
   ],
   "source": [
    "print(sess.run(accuracy,feed_dict={X:x_data, Y:y_data}))"
   ]
  },
  {
   "cell_type": "code",
   "execution_count": 16,
   "metadata": {},
   "outputs": [
    {
     "name": "stdout",
     "output_type": "stream",
     "text": [
      "h결과:  [[0.96429783]]\n",
      "predict결과:  [[1.]]\n"
     ]
    }
   ],
   "source": [
    "# 예측\n",
    "print(\"h결과: \",sess.run(H,feed_dict={X:[[3,3]]}))\n",
    "print(\"predict결과: \",sess.run(predict,feed_dict={X:[[3,3]]}))"
   ]
  },
  {
   "cell_type": "markdown",
   "metadata": {},
   "source": [
    "# 6. multinomial classification(3개이상 그룹)\n",
    "-퀴즈 1,2,3 성적과 출석에 따른 등급 붐류"
   ]
  },
  {
   "cell_type": "code",
   "execution_count": 18,
   "metadata": {},
   "outputs": [
    {
     "name": "stdout",
     "output_type": "stream",
     "text": [
      "300,1.171482801437378\n",
      "600,0.9479263424873352\n",
      "900,0.6730166077613831\n",
      "1200,0.5540671944618225\n",
      "1500,0.5014704465866089\n",
      "1800,0.44643259048461914\n",
      "2100,0.050498269498348236\n",
      "2400,0.045994509011507034\n",
      "2700,0.042675238102674484\n",
      "3000,0.0399901382625103\n",
      "3300,0.037721388041973114\n",
      "3600,0.03575257584452629\n",
      "3900,0.034012939780950546\n",
      "4200,0.032455869019031525\n",
      "4500,0.03104877471923828\n",
      "4800,0.029767658561468124\n",
      "5100,0.028594186529517174\n",
      "5400,0.02751391939818859\n",
      "5700,0.02651527337729931\n",
      "6000,0.02558857575058937\n"
     ]
    }
   ],
   "source": [
    "#training data set(rydks ㅔ 54)\n",
    "x_data=[[10,7,8,5],\n",
    "       [8,8,9,4],\n",
    "       [7,8,2,3],\n",
    "       [6,3,9,3],\n",
    "       [7,5,7,4],\n",
    "       [3,5,6,2],\n",
    "       [2,4,3,1]]\n",
    "#종속변수는 multinomial classfication에서는 원핫인코딩! \n",
    "y_data = [[1,0,0],\n",
    "         [1,0,0],\n",
    "         [0,1,0],\n",
    "         [0,1,0],\n",
    "         [0,1,0],\n",
    "         [0,0,1],\n",
    "         [0,0,1],]\n",
    "\n",
    "#placeholder\n",
    "X=tf.placeholder(shape=[None,4],dtype=tf.float32)\n",
    "Y=tf.placeholder(shape=[None,3],dtype=tf.float32)\n",
    "#7행 2열로 잡아버리면 predict도 반드시 7,2를 넣어야하니 None으로 한다.\n",
    "\n",
    "# Weight(4행 3열) & bias(3개)\n",
    "W=tf.Variable(tf.random_normal([4,3]),name=\"weight\")\n",
    "b=tf.Variable(tf.random_normal([3]),name='bias')\n",
    "\n",
    "# hypothesis\n",
    "# Logits=X@W+b \n",
    "logits=tf.matmul(X,W)+b\n",
    "#H=tf.nn.sigmoid(logits) 이렇게 했을때 깔끔하게 떨어지지 않는 것이 생겨서 softmax를 사용한다.\n",
    "#즉, 분류분석 최종단계에서 결과의 합이 1이 되도록 한다.\n",
    "H=tf.nn.softmax(logits) \n",
    "\n",
    "\n",
    "\n",
    "# cast function\n",
    "cost=tf.reduce_mean(tf.square(H-Y))\n",
    "cost=tf.reduce_mean(tf.nn.softmax_cross_entropy_with_logits_v2(logits=logits,labels=Y))\n",
    "\n",
    "# train\n",
    "train = tf.train.GradientDescentOptimizer(learning_rate=0.1).minimize(cost)\n",
    "\n",
    "# session & 초기화\n",
    "sess=tf.Session()\n",
    "sess.run(tf.global_variables_initializer())\n",
    "\n",
    "# 학습\n",
    "for step in range(1,6001):\n",
    "    _, cost_val = sess.run([train, cost], feed_dict={X:x_data, Y:y_data})\n",
    "    if step%300==0:\n",
    "        print(\"{},{}\".format(step,cost_val))"
   ]
  },
  {
   "cell_type": "code",
   "execution_count": 24,
   "metadata": {},
   "outputs": [
    {
     "name": "stdout",
     "output_type": "stream",
     "text": [
      "[[0.9777385  0.01957264 0.00268883]]\n",
      "[0]\n"
     ]
    }
   ],
   "source": [
    "# 예측\n",
    "result=sess.run(H,feed_dict={X:[[8,8,9,4]]})\n",
    "print(result)\n",
    "print(result.argmax(axis=1)) #0번째 열만 1"
   ]
  },
  {
   "cell_type": "code",
   "execution_count": 30,
   "metadata": {},
   "outputs": [
    {
     "name": "stdout",
     "output_type": "stream",
     "text": [
      "100.0 %\n"
     ]
    }
   ],
   "source": [
    "##accuracy 측정\n",
    "# H= 0.97 0.19 0.002 일 경우 H.argmax = 0\n",
    "# Y= 1   0    0     일 경우 Y.argmax=0\n",
    "predict = tf.argmax(H,axis=1) # 어떤 열의 값이 제일 큰지 index 반환\n",
    "correct = tf.equal(predict,tf.argmax(Y,1)) \n",
    "#print(sess.run(correct,feed_dict={X:x_data,Y:y_data}))\n",
    "accuracy=tf.reduce_mean(tf.cast(correct,dtype=tf.float32))\n",
    "print(sess.run(accuracy,feed_dict={X:x_data,Y:y_data})*100,'%')"
   ]
  },
  {
   "cell_type": "markdown",
   "metadata": {},
   "source": [
    "# XOR 교안 77\n"
   ]
  },
  {
   "cell_type": "code",
   "execution_count": 38,
   "metadata": {},
   "outputs": [
    {
     "name": "stdout",
     "output_type": "stream",
     "text": [
      "300,0.693179726600647\n",
      "600,0.6931487917900085\n",
      "900,0.6931473016738892\n",
      "1200,0.6931472420692444\n",
      "1500,0.6931471824645996\n",
      "1800,0.6931472420692444\n",
      "2100,0.6931471824645996\n",
      "2400,0.6931471824645996\n",
      "2700,0.6931471824645996\n",
      "3000,0.6931471824645996\n",
      "정확도: 0.25\n"
     ]
    }
   ],
   "source": [
    "#training data set\n",
    "x_data=[[0,0],\n",
    "       [0,1],\n",
    "       [1,0],\n",
    "       [1,1]]\n",
    "y_data=[[0],[1],[1],[0]]\n",
    "#placeholder\n",
    "X=tf.placeholder(shape=[None,2],dtype=tf.float32)\n",
    "Y=tf.placeholder(shape=[None,1],dtype=tf.float32)\n",
    "# Weight & bias \n",
    "W=tf.Variable(tf.random_normal([2,1]),name=\"weight\")\n",
    "b=tf.Variable(tf.random_normal([1]),name='bias')\n",
    "\n",
    "# hypothesis\n",
    "# Logits=X@W+b \n",
    "logits=tf.matmul(X,W)+b\n",
    "#다중분류아니고 이중분류이므로 sigmoid\n",
    "H=tf.sigmoid(logits) \n",
    "\n",
    "# cast function\n",
    "cost=tf.reduce_mean(tf.nn.sigmoid_cross_entropy_with_logits(logits=logits,labels=Y))\n",
    "\n",
    "# train\n",
    "train = tf.train.GradientDescentOptimizer(learning_rate=0.1).minimize(cost)\n",
    "\n",
    "# session & 초기화\n",
    "sess=tf.Session()\n",
    "sess.run(tf.global_variables_initializer())\n",
    "\n",
    "# 학습\n",
    "for step in range(1,3001):\n",
    "    _, cost_val = sess.run([train, cost], feed_dict={X:x_data, Y:y_data})\n",
    "    if step%300==0:\n",
    "        print(\"{},{}\".format(step,cost_val))\n",
    "\n",
    "# predict\n",
    "predict = tf.cast(H>0.5,dtype=tf.float32)\n",
    "correct=tf.equal(predict,Y) #F,T,F,T\n",
    "accuracy = tf.reduce_mean(tf.cast(correct,dtype=tf.float32))\n",
    "print('정확도:',sess.run(accuracy, feed_dict={X:x_data,Y:y_data}))"
   ]
  },
  {
   "cell_type": "code",
   "execution_count": 34,
   "metadata": {},
   "outputs": [
    {
     "name": "stdout",
     "output_type": "stream",
     "text": [
      "[[0.50000215]]\n"
     ]
    }
   ],
   "source": [
    "# predict\n",
    "predict = tf.cast(H>0.5,dtype=tf.float32)\n",
    "correct=tf.equal(predict,Y) #F,T,F,T\n",
    "accuracy = tf.reduce_mean(tf.cast(correct,dtype=tf.float32))\n",
    "print(sess.run(H,feed_dict={X:[[0,0]]}))"
   ]
  },
  {
   "cell_type": "code",
   "execution_count": null,
   "metadata": {},
   "outputs": [],
   "source": []
  },
  {
   "cell_type": "markdown",
   "metadata": {},
   "source": [
    "# Deep learning XOR 예제"
   ]
  },
  {
   "cell_type": "code",
   "execution_count": 47,
   "metadata": {},
   "outputs": [
    {
     "name": "stdout",
     "output_type": "stream",
     "text": [
      "몇회째: 300, 코스트:0.0014476418728008866\n",
      "몇회째: 600, 코스트:0.0006298384978435934\n",
      "몇회째: 900, 코스트:0.0003887788625434041\n",
      "몇회째: 1200, 코스트:0.00027688179397955537\n",
      "몇회째: 1500, 코스트:0.000213260151213035\n",
      "몇회째: 1800, 코스트:0.0001729787909425795\n",
      "몇회째: 2100, 코스트:0.0001450979762012139\n",
      "몇회째: 2400, 코스트:0.00012458348646759987\n",
      "몇회째: 2700, 코스트:0.00010897005995502695\n",
      "몇회째: 3000, 코스트:9.653124288888648e-05\n",
      "정확도: 1.0\n"
     ]
    }
   ],
   "source": [
    "#training data set\n",
    "x_data=[[0,0],\n",
    "       [0,1],\n",
    "       [1,0],\n",
    "       [1,1]]\n",
    "y_data=[[0],[1],[1],[0]]\n",
    "#placeholder\n",
    "X=tf.placeholder(shape=[None,2],dtype=tf.float32)\n",
    "Y=tf.placeholder(shape=[None,1],dtype=tf.float32)\n",
    "\n",
    "# 레이어 추가\n",
    "\n",
    "\n",
    "# Weight & bias (layer1 = 입력 2개 출력 10개) #바이어스는 출력 수를 따름\n",
    "W1=tf.Variable(tf.random_normal([2,10]),name=\"weight1\")\n",
    "b1=tf.Variable(tf.random_normal([10]),name='bias1') \n",
    "layer1=tf.nn.relu(tf.matmul(X,W1)+b1)\n",
    "\n",
    "# Weight & bias (layer2 = 입력 10개 출력 20개) #바이어스는 출력 수를 따름\n",
    "W2=tf.Variable(tf.random_normal([10,20]),name=\"weight2\")\n",
    "b2=tf.Variable(tf.random_normal([20]),name='bias2') \n",
    "layer2=tf.nn.relu(tf.matmul(layer1,W2)+b2)\n",
    "\n",
    "# Weight & bias (layer3 = 입력 20개 출력 10개) #바이어스는 출력 수를 따름\n",
    "W3=tf.Variable(tf.random_normal([20,10]),name=\"weight3\")\n",
    "b3=tf.Variable(tf.random_normal([10]),name='bias4') \n",
    "layer3=tf.nn.relu(tf.matmul(layer2,W3)+b3)\n",
    "\n",
    "# Weight & bias (layer4 (아웃풋 레이어)= 입력 10개 출력 1개) #바이어스는 출력 수를 따름\n",
    "W4=tf.Variable(tf.random_normal([10,1]),name=\"weight2\")\n",
    "b4=tf.Variable(tf.random_normal([1]),name='bias2') \n",
    "\n",
    "#은닉층은 relu 넣는것이 일반적\n",
    "\n",
    "\n",
    "# hypothesis\n",
    "# Logits=X@W+b \n",
    "logits=tf.matmul(layer3,W4)+b4\n",
    "#다중분류아니고 이중분류이므로 sigmoid\n",
    "H=tf.sigmoid(logits) \n",
    "\n",
    "# cast function\n",
    "cost=tf.reduce_mean(tf.nn.sigmoid_cross_entropy_with_logits(logits=logits,labels=Y))\n",
    "\n",
    "# train\n",
    "train = tf.train.GradientDescentOptimizer(learning_rate=0.1).minimize(cost)\n",
    "\n",
    "# session & 초기화\n",
    "sess=tf.Session()\n",
    "sess.run(tf.global_variables_initializer())\n",
    "\n",
    "# 학습\n",
    "for step in range(1,3001):\n",
    "    _, cost_val = sess.run([train, cost], feed_dict={X:x_data, Y:y_data})\n",
    "    if step%300==0:\n",
    "        print(\"몇회째: {}, 코스트:{}\".format(step,cost_val))\n",
    "\n",
    "# predict\n",
    "predict = tf.cast(H>0.5,dtype=tf.float32)\n",
    "correct=tf.equal(predict,Y) #F,T,F,T\n",
    "accuracy = tf.reduce_mean(tf.cast(correct,dtype=tf.float32))\n",
    "print('정확도:',sess.run(accuracy, feed_dict={X:x_data,Y:y_data}))"
   ]
  },
  {
   "cell_type": "code",
   "execution_count": null,
   "metadata": {},
   "outputs": [],
   "source": []
  },
  {
   "cell_type": "code",
   "execution_count": null,
   "metadata": {},
   "outputs": [],
   "source": []
  },
  {
   "cell_type": "code",
   "execution_count": null,
   "metadata": {},
   "outputs": [],
   "source": []
  },
  {
   "cell_type": "code",
   "execution_count": null,
   "metadata": {},
   "outputs": [],
   "source": []
  },
  {
   "cell_type": "code",
   "execution_count": null,
   "metadata": {},
   "outputs": [],
   "source": []
  },
  {
   "cell_type": "code",
   "execution_count": null,
   "metadata": {},
   "outputs": [],
   "source": []
  },
  {
   "cell_type": "code",
   "execution_count": null,
   "metadata": {},
   "outputs": [],
   "source": []
  },
  {
   "cell_type": "code",
   "execution_count": null,
   "metadata": {},
   "outputs": [],
   "source": []
  },
  {
   "cell_type": "code",
   "execution_count": null,
   "metadata": {},
   "outputs": [],
   "source": []
  },
  {
   "cell_type": "code",
   "execution_count": null,
   "metadata": {},
   "outputs": [],
   "source": []
  },
  {
   "cell_type": "code",
   "execution_count": null,
   "metadata": {},
   "outputs": [],
   "source": []
  },
  {
   "cell_type": "code",
   "execution_count": null,
   "metadata": {},
   "outputs": [],
   "source": []
  },
  {
   "cell_type": "code",
   "execution_count": null,
   "metadata": {},
   "outputs": [],
   "source": []
  },
  {
   "cell_type": "code",
   "execution_count": null,
   "metadata": {},
   "outputs": [],
   "source": []
  },
  {
   "cell_type": "code",
   "execution_count": null,
   "metadata": {},
   "outputs": [],
   "source": []
  },
  {
   "cell_type": "code",
   "execution_count": null,
   "metadata": {},
   "outputs": [],
   "source": []
  },
  {
   "cell_type": "code",
   "execution_count": null,
   "metadata": {},
   "outputs": [],
   "source": []
  },
  {
   "cell_type": "code",
   "execution_count": null,
   "metadata": {},
   "outputs": [],
   "source": []
  },
  {
   "cell_type": "code",
   "execution_count": null,
   "metadata": {},
   "outputs": [],
   "source": []
  },
  {
   "cell_type": "code",
   "execution_count": null,
   "metadata": {},
   "outputs": [],
   "source": []
  },
  {
   "cell_type": "code",
   "execution_count": null,
   "metadata": {},
   "outputs": [],
   "source": []
  },
  {
   "cell_type": "code",
   "execution_count": null,
   "metadata": {},
   "outputs": [],
   "source": []
  },
  {
   "cell_type": "code",
   "execution_count": null,
   "metadata": {},
   "outputs": [],
   "source": [
    ",  "
   ]
  }
 ],
 "metadata": {
  "kernelspec": {
   "display_name": "Python 3",
   "language": "python",
   "name": "python3"
  },
  "language_info": {
   "codemirror_mode": {
    "name": "ipython",
    "version": 3
   },
   "file_extension": ".py",
   "mimetype": "text/x-python",
   "name": "python",
   "nbconvert_exporter": "python",
   "pygments_lexer": "ipython3",
   "version": "3.8.5"
  },
  "toc": {
   "base_numbering": 1,
   "nav_menu": {},
   "number_sections": true,
   "sideBar": true,
   "skip_h1_title": false,
   "title_cell": "Table of Contents",
   "title_sidebar": "Contents",
   "toc_cell": false,
   "toc_position": {},
   "toc_section_display": true,
   "toc_window_display": false
  },
  "varInspector": {
   "cols": {
    "lenName": 16,
    "lenType": 16,
    "lenVar": 40
   },
   "kernels_config": {
    "python": {
     "delete_cmd_postfix": "",
     "delete_cmd_prefix": "del ",
     "library": "var_list.py",
     "varRefreshCmd": "print(var_dic_list())"
    },
    "r": {
     "delete_cmd_postfix": ") ",
     "delete_cmd_prefix": "rm(",
     "library": "var_list.r",
     "varRefreshCmd": "cat(var_dic_list()) "
    }
   },
   "types_to_exclude": [
    "module",
    "function",
    "builtin_function_or_method",
    "instance",
    "_Feature"
   ],
   "window_display": false
  }
 },
 "nbformat": 4,
 "nbformat_minor": 4
}
