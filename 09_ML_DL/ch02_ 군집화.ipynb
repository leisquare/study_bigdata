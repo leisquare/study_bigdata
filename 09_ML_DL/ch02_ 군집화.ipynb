{
 "cells": [
  {
   "cell_type": "code",
   "execution_count": 1,
   "metadata": {},
   "outputs": [],
   "source": [
    "import random \n",
    "import numpy as np\n",
    "import matplotlib.pyplot as plt\n",
    "\n",
    "data=[]\n",
    "for i in range(50):\n",
    "    data.append([random.randint(40,70),random.randint(140,180)])\n",
    "    data.append([random.randint(60,90),random.randint(170,200)])\n",
    "    "
   ]
  },
  {
   "cell_type": "code",
   "execution_count": 2,
   "metadata": {},
   "outputs": [
    {
     "data": {
      "text/plain": [
       "[[63, 178],\n",
       " [64, 169],\n",
       " [69, 162],\n",
       " [49, 180],\n",
       " [50, 154],\n",
       " [69, 180],\n",
       " [68, 177],\n",
       " [43, 166],\n",
       " [56, 141],\n",
       " [68, 149],\n",
       " [62, 159],\n",
       " [65, 178],\n",
       " [40, 172],\n",
       " [45, 151],\n",
       " [52, 146],\n",
       " [42, 174],\n",
       " [49, 177],\n",
       " [52, 144],\n",
       " [49, 179],\n",
       " [62, 144],\n",
       " [43, 145],\n",
       " [48, 173],\n",
       " [49, 165],\n",
       " [42, 166],\n",
       " [48, 180],\n",
       " [50, 170],\n",
       " [43, 180],\n",
       " [69, 144],\n",
       " [57, 166],\n",
       " [43, 147],\n",
       " [61, 162],\n",
       " [58, 151],\n",
       " [49, 142],\n",
       " [64, 157],\n",
       " [66, 165],\n",
       " [58, 157],\n",
       " [62, 148],\n",
       " [60, 165],\n",
       " [60, 147],\n",
       " [45, 176],\n",
       " [42, 180],\n",
       " [55, 156],\n",
       " [66, 159],\n",
       " [41, 168],\n",
       " [62, 155],\n",
       " [44, 147],\n",
       " [45, 175],\n",
       " [44, 168],\n",
       " [51, 140],\n",
       " [61, 151]]"
      ]
     },
     "execution_count": 2,
     "metadata": {},
     "output_type": "execute_result"
    }
   ],
   "source": [
    "# 여자\n",
    "data[0:100:2]"
   ]
  },
  {
   "cell_type": "code",
   "execution_count": 3,
   "metadata": {},
   "outputs": [
    {
     "data": {
      "text/plain": [
       "[[60, 197],\n",
       " [80, 193],\n",
       " [86, 198],\n",
       " [65, 172],\n",
       " [71, 175],\n",
       " [75, 189],\n",
       " [80, 182],\n",
       " [72, 185],\n",
       " [61, 186],\n",
       " [72, 184],\n",
       " [77, 186],\n",
       " [69, 185],\n",
       " [89, 200],\n",
       " [67, 184],\n",
       " [72, 195],\n",
       " [79, 183],\n",
       " [71, 178],\n",
       " [69, 184],\n",
       " [75, 176],\n",
       " [76, 180],\n",
       " [71, 194],\n",
       " [69, 193],\n",
       " [79, 174],\n",
       " [65, 176],\n",
       " [69, 185],\n",
       " [68, 171],\n",
       " [70, 193],\n",
       " [72, 195],\n",
       " [65, 188],\n",
       " [87, 190],\n",
       " [60, 183],\n",
       " [60, 181],\n",
       " [67, 191],\n",
       " [76, 193],\n",
       " [77, 194],\n",
       " [67, 184],\n",
       " [73, 184],\n",
       " [85, 188],\n",
       " [90, 197],\n",
       " [86, 174],\n",
       " [72, 191],\n",
       " [79, 185],\n",
       " [82, 183],\n",
       " [62, 200],\n",
       " [64, 193],\n",
       " [69, 200],\n",
       " [88, 198],\n",
       " [72, 190],\n",
       " [64, 184],\n",
       " [60, 197]]"
      ]
     },
     "execution_count": 3,
     "metadata": {},
     "output_type": "execute_result"
    }
   ],
   "source": [
    "# 남자\n",
    "data[1:100:2]"
   ]
  },
  {
   "cell_type": "code",
   "execution_count": 4,
   "metadata": {},
   "outputs": [
    {
     "name": "stdout",
     "output_type": "stream",
     "text": [
      "[63, 178] [64, 169] [69, 162] [49, 180] [50, 154] [69, 180] [68, 177] [43, 166] [56, 141] [68, 149] [62, 159] [65, 178] [40, 172] [45, 151] [52, 146] [42, 174] [49, 177] [52, 144] [49, 179] [62, 144] [43, 145] [48, 173] [49, 165] [42, 166] [48, 180] [50, 170] [43, 180] [69, 144] [57, 166] [43, 147] [61, 162] [58, 151] [49, 142] [64, 157] [66, 165] [58, 157] [62, 148] [60, 165] [60, 147] [45, 176] [42, 180] [55, 156] [66, 159] [41, 168] [62, 155] [44, 147] [45, 175] [44, 168] [51, 140] [61, 151] \n",
      "=============\n",
      "[60, 197] [80, 193] [86, 198] [65, 172] [71, 175] [75, 189] [80, 182] [72, 185] [61, 186] [72, 184] [77, 186] [69, 185] [89, 200] [67, 184] [72, 195] [79, 183] [71, 178] [69, 184] [75, 176] [76, 180] [71, 194] [69, 193] [79, 174] [65, 176] [69, 185] [68, 171] [70, 193] [72, 195] [65, 188] [87, 190] [60, 183] [60, 181] [67, 191] [76, 193] [77, 194] [67, 184] [73, 184] [85, 188] [90, 197] [86, 174] [72, 191] [79, 185] [82, 183] [62, 200] [64, 193] [69, 200] [88, 198] [72, 190] [64, 184] [60, 197] "
     ]
    }
   ],
   "source": [
    "# 여자\n",
    "for female in data[0:100:2]:\n",
    "    print(female,end=\" \")\n",
    "print(\"\\n=============\")\n",
    "#남자\n",
    "for male in data[1:100:2]:\n",
    "    print(male,end=\" \")"
   ]
  },
  {
   "cell_type": "code",
   "execution_count": 5,
   "metadata": {},
   "outputs": [
    {
     "data": {
      "text/plain": [
       "[<matplotlib.lines.Line2D at 0x1be8b8af610>]"
      ]
     },
     "execution_count": 5,
     "metadata": {},
     "output_type": "execute_result"
    },
    {
     "data": {
      "image/png": "[encoded data removed]",
      "text/plain": [
       "<Figure size 432x288 with 1 Axes>"
      ]
     },
     "metadata": {
      "needs_background": "light"
     },
     "output_type": "display_data"
    }
   ],
   "source": [
    "#여자 몸무게\n",
    "[d[0] for d in data[0:100:2]]\n",
    "#여자 키\n",
    "[d[1] for d in data[0:100:2]]\n",
    "#남자 몸무게\n",
    "[d[0] for d in data[1:100:2]]\n",
    "#남자 키\n",
    "[d[1] for d in data[1:100:2]]\n",
    "plt.plot([d[0] for d in data[0:100:2]],[d[1] for d in data[0:100:2]],\"o\",color=\"red\")\n",
    "plt.plot([d[0] for d in data[1:100:2]],[d[1] for d in data[1:100:2]],\"o\",color=\"blue\")"
   ]
  },
  {
   "cell_type": "code",
   "execution_count": 6,
   "metadata": {},
   "outputs": [
    {
     "data": {
      "image/png": "[encoded data removed]",
      "text/plain": [
       "<Figure size 432x288 with 1 Axes>"
      ]
     },
     "metadata": {
      "needs_background": "light"
     },
     "output_type": "display_data"
    }
   ],
   "source": [
    "for x in data:\n",
    "    plt.plot(x[0],x[1],'o',color='k')"
   ]
  },
  {
   "cell_type": "code",
   "execution_count": 7,
   "metadata": {},
   "outputs": [
    {
     "name": "stdout",
     "output_type": "stream",
     "text": [
      "초기 랜덤 기준점 : [[55, 192], [78, 184]]\n"
     ]
    }
   ],
   "source": [
    "#초기 랜덤 지점 2개\n",
    "random_points = [[random.randint(40,90),random.randint(140,200)],\n",
    "                [random.randint(40,90),random.randint(140,200)]]\n",
    "print('초기 랜덤 기준점 :', random_points)"
   ]
  },
  {
   "cell_type": "code",
   "execution_count": 8,
   "metadata": {},
   "outputs": [
    {
     "data": {
      "text/plain": [
       "(78, 184)"
      ]
     },
     "execution_count": 8,
     "metadata": {},
     "output_type": "execute_result"
    }
   ],
   "source": [
    "#기준점1\n",
    "random_points[0][0],random_points[0][1]\n",
    "# 기준점 2\n",
    "random_points[1][0],random_points[1][1]"
   ]
  },
  {
   "cell_type": "code",
   "execution_count": 9,
   "metadata": {},
   "outputs": [
    {
     "data": {
      "text/plain": [
       "[<matplotlib.lines.Line2D at 0x1be8be5ba00>]"
      ]
     },
     "execution_count": 9,
     "metadata": {},
     "output_type": "execute_result"
    },
    {
     "data": {
      "image/png": "[encoded data removed]",
      "text/plain": [
       "<Figure size 432x288 with 1 Axes>"
      ]
     },
     "metadata": {
      "needs_background": "light"
     },
     "output_type": "display_data"
    }
   ],
   "source": [
    "for x in data:\n",
    "    plt.plot(x[0],x[1],'o',color='k')\n",
    "plt.plot(random_points[0][0],random_points[0][1],'x',color='r') #기준점 1\n",
    "plt.plot(random_points[1][0],random_points[1][1],'x',color='b') #기준점 1"
   ]
  },
  {
   "cell_type": "code",
   "execution_count": 10,
   "metadata": {},
   "outputs": [],
   "source": [
    "# 두 영역으로 나눌 빈 리스트 생성두 영역으로 나눌 빈 리스트 생성\n",
    "group1=[]\n",
    "group2=[]"
   ]
  },
  {
   "cell_type": "code",
   "execution_count": 11,
   "metadata": {},
   "outputs": [],
   "source": [
    "# 영역을 나누기 위해 두 점 사이의 거리를 구하는 함수를 만든다.\n",
    "def dist(a,b):\n",
    "    return np.sqrt((a[0]-b[0])**2+(a[1]-b[1])**2)"
   ]
  },
  {
   "cell_type": "code",
   "execution_count": 12,
   "metadata": {},
   "outputs": [
    {
     "data": {
      "text/plain": [
       "5.0"
      ]
     },
     "execution_count": 12,
     "metadata": {},
     "output_type": "execute_result"
    }
   ],
   "source": [
    "a=[0,0]\n",
    "b=[3,4]\n",
    "dist(a,b)"
   ]
  },
  {
   "cell_type": "code",
   "execution_count": 13,
   "metadata": {},
   "outputs": [],
   "source": [
    "for d in data:\n",
    "    if dist(random_points[0],d)<dist(random_points[1],d): \n",
    "        group1.append(d)# 빨간 x랑 더 가까운 그룹\n",
    "    else:\n",
    "        group2.append(d)# 파란 x랑 더 가까운 그룹"
   ]
  },
  {
   "cell_type": "code",
   "execution_count": 15,
   "metadata": {},
   "outputs": [
    {
     "data": {
      "text/plain": [
       "[<matplotlib.lines.Line2D at 0x1be8c264a00>]"
      ]
     },
     "execution_count": 15,
     "metadata": {},
     "output_type": "execute_result"
    },
    {
     "data": {
      "image/png": "[encoded data removed]",
      "text/plain": [
       "<Figure size 432x288 with 1 Axes>"
      ]
     },
     "metadata": {
      "needs_background": "light"
     },
     "output_type": "display_data"
    }
   ],
   "source": [
    "#새로운 영역과 랜덤점 그래프\n",
    "for d in group1:\n",
    "    plt.plot(d[0],d[1],'o',color='r')\n",
    "for d in group2:\n",
    "    plt.plot(d[0],d[1],'o',color='b')\n",
    "plt.plot(random_points[0][0],random_points[0][1],'x',color='r') #기준점 1\n",
    "plt.plot(random_points[1][0],random_points[1][1],'x',color='b') #기준점 2"
   ]
  },
  {
   "cell_type": "code",
   "execution_count": 17,
   "metadata": {},
   "outputs": [
    {
     "name": "stdout",
     "output_type": "stream",
     "text": [
      "[[51.62162162162162, 173.9189189189189]]\n",
      "[[55, 192], [78, 184]]\n",
      "[[51.62162162162162, 173.9189189189189], [70.26984126984127, 174.77777777777777]]\n"
     ]
    }
   ],
   "source": [
    "#기준점 이동\n",
    "sumX=0;sumY=0\n",
    "for g in group1:\n",
    "    sumX+=g[0] #x축값 누적\n",
    "    sumY+=g[1] #x축값 누적\n",
    "#새로운 기준점 1\n",
    "new_points =[]\n",
    "new_points.append([sumX/len(group1),sumY/len(group1)])\n",
    "print(new_points)\n",
    "\n",
    "sumX=0;sumY=0\n",
    "for g in group2:\n",
    "    sumX+=g[0] #x축값 누적\n",
    "    sumY+=g[1] #x축값 누적\n",
    "new_points.append([sumX/len(group2),sumY/len(group2)])   \n",
    "print(random_points)\n",
    "print(new_points)"
   ]
  },
  {
   "cell_type": "code",
   "execution_count": 19,
   "metadata": {},
   "outputs": [],
   "source": [
    "group1=[]\n",
    "group2=[]\n",
    "for d in data:\n",
    "    if dist(new_points[0],d)<dist(new_points[1],d): \n",
    "        group1.append(d)# 빨간 x랑 더 가까운 그룹\n",
    "    else:\n",
    "        group2.append(d)# 파란 x랑 더 가까운 그룹"
   ]
  },
  {
   "cell_type": "code",
   "execution_count": 20,
   "metadata": {},
   "outputs": [
    {
     "data": {
      "text/plain": [
       "[<matplotlib.lines.Line2D at 0x1be8be907f0>]"
      ]
     },
     "execution_count": 20,
     "metadata": {},
     "output_type": "execute_result"
    },
    {
     "data": {
      "image/png": "[encoded data removed]",
      "text/plain": [
       "<Figure size 432x288 with 1 Axes>"
      ]
     },
     "metadata": {
      "needs_background": "light"
     },
     "output_type": "display_data"
    }
   ],
   "source": [
    "for d in group1:\n",
    "    plt.plot(d[0],d[1],'o',color='r')\n",
    "for d in group2:\n",
    "    plt.plot(d[0],d[1],'o',color='b')\n",
    "plt.plot(new_points[0][0],new_points[0][1],'x',color='r') #기준점 1\n",
    "plt.plot(new_points[1][0],new_points[1][1],'x',color='b') #기준점 2"
   ]
  },
  {
   "cell_type": "markdown",
   "metadata": {},
   "source": [
    "# 전체코드"
   ]
  },
  {
   "cell_type": "code",
   "execution_count": 23,
   "metadata": {},
   "outputs": [
    {
     "name": "stdout",
     "output_type": "stream",
     "text": [
      "초기기준점: [[60, 173], [75, 174]]\n",
      "1 번째 기준: [[55.48275862068966, 163.1206896551724], [77.21428571428571, 185.8095238095238]]\n",
      "2 번째 기준: [[54.18, 159.26], [75.04, 186.04]]\n",
      "3 번째 기준: [[53.41304347826087, 157.8913043478261], [74.14814814814815, 185.22222222222223]]\n",
      "4 번째 기준: [[52.674418604651166, 156.90697674418604], [73.6140350877193, 184.52631578947367]]\n",
      "5 번째 기준: [[52.69047619047619, 156.35714285714286], [73.24137931034483, 184.44827586206895]]\n",
      "6 번째 기준: [[52.69047619047619, 156.35714285714286], [73.24137931034483, 184.44827586206895]]\n",
      "7 번째 기준: [[52.69047619047619, 156.35714285714286], [73.24137931034483, 184.44827586206895]]\n",
      "8 번째 기준: [[52.69047619047619, 156.35714285714286], [73.24137931034483, 184.44827586206895]]\n",
      "9 번째 기준: [[52.69047619047619, 156.35714285714286], [73.24137931034483, 184.44827586206895]]\n",
      "10 번째 기준: [[52.69047619047619, 156.35714285714286], [73.24137931034483, 184.44827586206895]]\n"
     ]
    }
   ],
   "source": [
    "import random \n",
    "import numpy as np\n",
    "import matplotlib.pyplot as plt\n",
    "\n",
    "# 영역을 나누기 위해 두 점 사이의 거리를 구하는 함수를 만든다.\n",
    "def dist(a,b):\n",
    "    return np.sqrt((a[0]-b[0])**2+(a[1]-b[1])**2)\n",
    "\n",
    "data=[]\n",
    "for i in range(50):\n",
    "    data.append([random.randint(40,70),random.randint(140,180)])\n",
    "    data.append([random.randint(60,90),random.randint(170,200)])\n",
    "    \n",
    "new_points =[[random.randint(40,70),random.randint(140,180)],\n",
    "             [random.randint(60,90),random.randint(170,200)]]\n",
    "\n",
    "print('초기기준점:', new_points)\n",
    "for i in range(1,11):\n",
    "    group1=[]\n",
    "    group2=[]\n",
    "    for d in data:\n",
    "        if dist(new_points[0],d)<dist(new_points[1],d):\n",
    "            group1.append(d)\n",
    "        else:\n",
    "            group2.append(d)\n",
    "    #group1, 2 중간지점에 새로 기준점 놓기\n",
    "    sumX=0;sumY=0\n",
    "    for g in group1:\n",
    "        sumX+=g[0] #x축값 누적\n",
    "        sumY+=g[1] #x축값 누적\n",
    "    new_points=[]\n",
    "    new_points.append([sumX/len(group1),sumY/len(group1)])\n",
    "    sumX=0;sumY=0\n",
    "    for g in group2:\n",
    "        sumX+=g[0] #x축값 누적\n",
    "        sumY+=g[1] #x축값 누적\n",
    "    new_points.append([sumX/len(group2),sumY/len(group2)]) \n",
    "    print(i,'번째 기준:',new_points)"
   ]
  },
  {
   "cell_type": "code",
   "execution_count": 25,
   "metadata": {},
   "outputs": [
    {
     "data": {
      "text/plain": [
       "[<matplotlib.lines.Line2D at 0x1be8d9ad430>]"
      ]
     },
     "execution_count": 25,
     "metadata": {},
     "output_type": "execute_result"
    },
    {
     "data": {
      "image/png": "[encoded data removed]",
      "text/plain": [
       "<Figure size 432x288 with 1 Axes>"
      ]
     },
     "metadata": {
      "needs_background": "light"
     },
     "output_type": "display_data"
    }
   ],
   "source": [
    "#여자 몸무게\n",
    "[d[0] for d in data[0:100:2]]\n",
    "#여자 키\n",
    "[d[1] for d in data[0:100:2]]\n",
    "# 남자 몸무게\n",
    "[d[0] for d in data[0:100:2]]\n",
    "#남자 키\n",
    "[d[1] for d in data[0:100:2]]\n",
    "\n",
    "plt.plot([d[0] for d in data[0:100:2]],[d[1] for d in data[0:100:2]],'o',color='r')\n",
    "plt.plot([d[0]for d in data [1:100:2]],[d[1] for d in data[1:100:2]],'o',color='b')"
   ]
  },
  {
   "cell_type": "code",
   "execution_count": 27,
   "metadata": {},
   "outputs": [
    {
     "data": {
      "image/png": "[encoded data removed]",
      "text/plain": [
       "<Figure size 432x288 with 1 Axes>"
      ]
     },
     "metadata": {
      "needs_background": "light"
     },
     "output_type": "display_data"
    }
   ],
   "source": [
    "for g in group1:\n",
    "    plt.plot(g[0],g[1],'o',color='r')\n",
    "for g in group2:\n",
    "    plt.plot(g[0],g[1],'o',color='b')"
   ]
  },
  {
   "cell_type": "code",
   "execution_count": null,
   "metadata": {},
   "outputs": [],
   "source": []
  },
  {
   "cell_type": "code",
   "execution_count": null,
   "metadata": {},
   "outputs": [],
   "source": []
  },
  {
   "cell_type": "code",
   "execution_count": null,
   "metadata": {},
   "outputs": [],
   "source": []
  },
  {
   "cell_type": "code",
   "execution_count": null,
   "metadata": {},
   "outputs": [],
   "source": []
  }
 ],
 "metadata": {
  "kernelspec": {
   "display_name": "Python 3",
   "language": "python",
   "name": "python3"
  },
  "language_info": {
   "codemirror_mode": {
    "name": "ipython",
    "version": 3
   },
   "file_extension": ".py",
   "mimetype": "text/x-python",
   "name": "python",
   "nbconvert_exporter": "python",
   "pygments_lexer": "ipython3",
   "version": "3.8.5"
  },
  "toc": {
   "base_numbering": 1,
   "nav_menu": {},
   "number_sections": true,
   "sideBar": true,
   "skip_h1_title": false,
   "title_cell": "Table of Contents",
   "title_sidebar": "Contents",
   "toc_cell": false,
   "toc_position": {},
   "toc_section_display": true,
   "toc_window_display": false
  },
  "varInspector": {
   "cols": {
    "lenName": 16,
    "lenType": 16,
    "lenVar": 40
   },
   "kernels_config": {
    "python": {
     "delete_cmd_postfix": "",
     "delete_cmd_prefix": "del ",
     "library": "var_list.py",
     "varRefreshCmd": "print(var_dic_list())"
    },
    "r": {
     "delete_cmd_postfix": ") ",
     "delete_cmd_prefix": "rm(",
     "library": "var_list.r",
     "varRefreshCmd": "cat(var_dic_list()) "
    }
   },
   "types_to_exclude": [
    "module",
    "function",
    "builtin_function_or_method",
    "instance",
    "_Feature"
   ],
   "window_display": false
  }
 },
 "nbformat": 4,
 "nbformat_minor": 4
}
